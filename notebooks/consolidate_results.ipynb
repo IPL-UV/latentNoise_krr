{
 "cells": [
  {
   "cell_type": "code",
   "execution_count": 12,
   "metadata": {},
   "outputs": [
    {
     "data": {
      "text/plain": [
       "9.0"
      ]
     },
     "execution_count": 12,
     "metadata": {},
     "output_type": "execute_result"
    }
   ],
   "source": [
    "135/15"
   ]
  },
  {
   "cell_type": "code",
   "execution_count": 13,
   "metadata": {},
   "outputs": [
    {
     "name": "stdout",
     "output_type": "stream",
     "text": [
      "['/home/emiliano/Documents/ISP/proyectos/causality/latentNoise_krr/notebooks', './ITE-1.1_code', '/home/emiliano/Documents/ISP/proyectos/causality/latentNoise_krr/src/', '/home/emiliano/Documents/ISP/proyectos/causality/latentNoise_krr/src/ITE-1.1_code', '/home/emiliano/anaconda3/lib/python37.zip', '/home/emiliano/anaconda3/lib/python3.7', '/home/emiliano/anaconda3/lib/python3.7/lib-dynload', '', '/home/emiliano/anaconda3/lib/python3.7/site-packages', '/home/emiliano/anaconda3/lib/python3.7/site-packages/locket-0.2.1-py3.7.egg', '/home/emiliano/anaconda3/lib/python3.7/site-packages/IPython/extensions', '/home/emiliano/.ipython']\n",
      "The autoreload extension is already loaded. To reload it, use:\n",
      "  %reload_ext autoreload\n"
     ]
    }
   ],
   "source": [
    "import sys\n",
    "print(sys.path)\n",
    "sys.path.insert(1,'/home/emiliano/Documents/ISP/proyectos/causality/latentNoise_krr/src/ITE-1.1_code')\n",
    "sys.path.insert(1,'/home/emiliano/Documents/ISP/proyectos/causality/latentNoise_krr/src/')\n",
    "from latentNoise_funcs_gen import *\n",
    "from ANLSMN_genfuncs import *\n",
    "from processResults import *\n",
    "\n",
    "\n",
    "\n",
    "\n",
    "%load_ext autoreload\n",
    "%autoreload 2\n"
   ]
  },
  {
   "cell_type": "code",
   "execution_count": 14,
   "metadata": {},
   "outputs": [],
   "source": [
    "import jax.numpy as np\n",
    "import numpy as onp \n",
    "import pandas as pd\n",
    "import pickle5 as pickle5\n",
    "import pickle \n",
    "import time\n",
    "import json\n",
    "from sklearn import metrics\n",
    "import matplotlib.pyplot as plt\n",
    "import seaborn as sns\n",
    "import bisect\n",
    "import itertools\n",
    "from scipy.spatial import distance\n",
    "\n",
    "from sklearn.preprocessing import PolynomialFeatures\n",
    "from sklearn.linear_model import LogisticRegression\n",
    "from sklearn.ensemble import RandomForestClassifier\n",
    "from sklearn.metrics import balanced_accuracy_score\n",
    "\n",
    "from fairlearn.reductions import ExponentiatedGradient, DemographicParity \n",
    "from sklearn.tree import DecisionTreeClassifier\n",
    "from fairlearn.metrics import MetricFrame, selection_rate, count\n",
    "import sklearn.metrics as skm\n",
    "\n",
    "from sklearn.utils import check_random_state\n",
    "\n"
   ]
  },
  {
   "cell_type": "code",
   "execution_count": 15,
   "metadata": {},
   "outputs": [
    {
     "data": {
      "text/plain": [
       "'0.24.1'"
      ]
     },
     "execution_count": 15,
     "metadata": {},
     "output_type": "execute_result"
    }
   ],
   "source": [
    "import sklearn as sk\n",
    "sk.__version__"
   ]
  },
  {
   "cell_type": "markdown",
   "metadata": {},
   "source": [
    "# Benchmark"
   ]
  },
  {
   "cell_type": "code",
   "execution_count": 4,
   "metadata": {},
   "outputs": [],
   "source": [
    "\n",
    "\n",
    "\n",
    "correctMse = True\n",
    "readIn = False\n",
    "\n",
    "correctMse = False\n",
    "readIn = False\n",
    "\n",
    "correctMse = False\n",
    "readIn = False"
   ]
  },
  {
   "cell_type": "code",
   "execution_count": 5,
   "metadata": {},
   "outputs": [],
   "source": [
    "\n",
    "\n",
    "version = \"v1_benchmark\"\n",
    "version = \"v2_benchmark\"\n",
    "version = \"v3_benchmark\"\n",
    "version = \"v4_benchmark\"\n",
    "version = \"v5_benchmark\"\n",
    "version = \"v6_benchmark\"\n",
    "version = \"v7_benchmark\"\n",
    "version = \"v8_benchmark\"\n",
    "version = \"v9_benchmark\"\n",
    "version = \"v10_benchmark\"\n",
    "version = \"v11_benchmark\"\n",
    "version = \"v12_benchmark\"\n",
    "version = \"v13_benchmark\"\n",
    "version = \"v14_benchmark\"\n",
    "\n",
    "\n",
    "file =  \"latent_noise_van\"\n",
    "num_data = 1002\n",
    "\n",
    "reposData = \"/home/emiliano/Documents/ISP/proyectos/causality/causaLearner_R_pkg/causaLearner/data/\"\n",
    "fileDict = {\"SIM-1000_withZ\":['SIMc'], \"ANLSMN_withZ\":['AN', 'LS-s']}\n",
    "fileDict = {\"TCEP-all\":['tcep'], \"SIM-1000_withZ\":['SIM', 'SIMc', 'SIMG', 'SIMln'], \"ANLSMN_withZ\":['AN', 'AN-s', 'LS', 'LS-s',\n",
    "       'MN-U']}\n",
    "\n",
    "\n",
    "\n",
    "pars = {\"lambda\": [0.0001, 0.001, 0.01, 0.1],\n",
    "            \"sig\": [0.01, 0.1, 0.3, 0.5, 0.7, 0.9, 0.99]}\n",
    "\n",
    "pars = {\"lambda\":[0.01, 0.1, 1]}\n",
    "pars = {\"lambda\":[0.0001, 0.001, 0.01, 0.1, 1, 10]}\n",
    "\n"
   ]
  },
  {
   "cell_type": "code",
   "execution_count": null,
   "metadata": {},
   "outputs": [],
   "source": [
    "36*1002"
   ]
  },
  {
   "cell_type": "code",
   "execution_count": null,
   "metadata": {},
   "outputs": [],
   "source": [
    "if readIn:\n",
    "    df_bnch = get_df_fromFile(readGetMsrs_bnch, reposData, version, file, num_data, fileDict,  pars, func_dict)"
   ]
  },
  {
   "cell_type": "code",
   "execution_count": null,
   "metadata": {},
   "outputs": [],
   "source": [
    "version = \"v14_benchmark_GP\"\n",
    "pars = {\"lambda\":[-1.0]}\n",
    "if readIn:\n",
    "    df_bnch_GP = get_df_fromFile(readGetMsrs_bnch, reposData, version, file, num_data, fileDict,  pars, func_dict)"
   ]
  },
  {
   "cell_type": "code",
   "execution_count": null,
   "metadata": {},
   "outputs": [],
   "source": [
    "#df_bnch= pd.concat([df_bnch, df_bnch_GP])"
   ]
  },
  {
   "cell_type": "code",
   "execution_count": null,
   "metadata": {},
   "outputs": [],
   "source": [
    "if readIn & correctMse:\n",
    "    df_bnch[\"errs_xy\"]=onp.sqrt(df_bnch[\"errs_xy\"]/df_bnch[\"num\"])\n",
    "    df_bnch[\"errs_yx\"]=onp.sqrt(df_bnch[\"errs_yx\"]/df_bnch[\"num\"])"
   ]
  },
  {
   "cell_type": "code",
   "execution_count": null,
   "metadata": {},
   "outputs": [],
   "source": [
    "if readIn:\n",
    "    df_bnch = getPvals_bnch(df_bnch)"
   ]
  },
  {
   "cell_type": "code",
   "execution_count": null,
   "metadata": {
    "scrolled": true
   },
   "outputs": [],
   "source": [
    "#pars = {\"lambda\":[-1.0,0.0001, 0.001, 0.01, 0.1, 1, 10]}\n",
    "if readIn: \n",
    "    df_long_bnch = getLongFormat(df_bnch, pars)\n",
    "    res_bnch_long, res_bnch, res_bnch2 = getResBnch(df_long_bnch, conf=True, n_smpls=100) #"
   ]
  },
  {
   "cell_type": "code",
   "execution_count": null,
   "metadata": {},
   "outputs": [],
   "source": [
    "# save \n",
    "repos = \"/home/emiliano/Documents/ISP/proyectos/causality/latentNoise_krr/results/\"\n",
    "suffix= \"_v2_optType.pkl\"\n",
    "suffix= \"_v3_optType.pkl\"\n",
    "suffix= \"_v3_real_optType.pkl\"\n",
    "suffix= \"_v4_optType.pkl\"\n",
    "suffix= \"_v5_optType.pkl\"\n",
    "suffix= \"_v6_optType.pkl\"\n",
    "suffix= \"_v7_optType.pkl\"\n",
    "suffix= \"_v8_optType.pkl\"\n",
    "suffix= \"_v9_optType.pkl\"\n",
    "suffix= \"_v10_optType.pkl\"\n",
    "suffix= \"_v11_optType.pkl\"\n",
    "suffix= \"_v12_optType.pkl\"\n",
    "suffix= \"_v13_optType.pkl\"\n",
    "suffix= \"_v14_optType.pkl\"\n",
    "suffix= \"_v14_GP_optType.pkl\"\n",
    "suffix= \"_v14_both_optType.pkl\"\n",
    "if readIn:\n",
    "    with open(repos+\"df_bnch\"+suffix, 'wb') as output:  # Overwrites any existing file.\n",
    "        pickle.dump(df_bnch, output, pickle.HIGHEST_PROTOCOL)\n",
    "    with open(repos+\"df_long_bnch\"+suffix, 'wb') as output:    \n",
    "        pickle.dump(df_long_bnch, output, pickle.HIGHEST_PROTOCOL)\n",
    "    with open(repos+\"res_bnch_long\"+suffix, 'wb') as output:    \n",
    "        pickle.dump(res_bnch_long, output, pickle.HIGHEST_PROTOCOL)\n",
    "    with open(repos+\"res_bnch\"+suffix, 'wb') as output:    \n",
    "        pickle.dump(res_bnch, output, pickle.HIGHEST_PROTOCOL)\n",
    "    with open(repos+\"res_bnch2\"+suffix, 'wb') as output:    \n",
    "        pickle.dump(res_bnch2, output, pickle.HIGHEST_PROTOCOL)"
   ]
  },
  {
   "cell_type": "code",
   "execution_count": null,
   "metadata": {},
   "outputs": [],
   "source": [
    "repos = \"/home/emiliano/Documents/ISP/proyectos/causality/latentNoise_krr/results/\"\n",
    "suffix= \"_v2_optType.pkl\"\n",
    "suffix= \"_v3_optType.pkl\"\n",
    "suffix= \"_v3_real_optType.pkl\"\n",
    "suffix= \"_v4_optType.pkl\"\n",
    "suffix= \"_v5_optType.pkl\"\n",
    "suffix= \"_v6_optType.pkl\"\n",
    "suffix= \"_v7_optType.pkl\"\n",
    "suffix= \"_v8_optType.pkl\"\n",
    "suffix= \"_v9_optType.pkl\"\n",
    "suffix= \"_v10_optType.pkl\"\n",
    "suffix= \"_v11_optType.pkl\"\n",
    "suffix= \"_v12_optType.pkl\"\n",
    "suffix= \"_v13_optType.pkl\"\n",
    "suffix= \"_v14_optType.pkl\"\n",
    "suffix= \"_v14_both_optType.pkl\"\n",
    "\n",
    "if not readIn:\n",
    "    df_bnch = pickle5.load( open( repos+\"df_bnch\"+suffix, \"rb\" ) )\n",
    "    df_long_bnch = pickle5.load( open( repos+\"df_long_bnch\"+suffix, \"rb\" ) )\n",
    "    res_bnch_long = pickle5.load( open( repos+\"res_bnch_long\"+suffix, \"rb\" ) )\n",
    "    res_bnch = pickle5.load( open( repos+\"res_bnch\"+suffix, \"rb\" ) )\n",
    "    res_bnch2 = pickle5.load( open( repos+\"res_bnch2\"+suffix, \"rb\" ) ) "
   ]
  },
  {
   "cell_type": "code",
   "execution_count": null,
   "metadata": {},
   "outputs": [],
   "source": [
    "df_bnch[\"argMinPval\"] = onp.apply_along_axis(onp.argmin, 1,df_bnch[[\"hsicPval_xy\",\"hsicPval_yx\"]])\n",
    "def sumArgMinPval(x):\n",
    "    return onp.sum(x.argMinPval)/x.shape[0]\n",
    "df_bnch[[\"type\",\"argMinPval\"]].groupby(\"type\").apply(sumArgMinPval)"
   ]
  },
  {
   "cell_type": "code",
   "execution_count": null,
   "metadata": {},
   "outputs": [],
   "source": [
    "res_bnch[\"maxHsicMaxBnch\"]=res_bnch[\"minHsicMaxBnch\"]+res_bnch[\"difHsicMaxBnch\"]\n",
    "res_bnch[\"meanHsicMaxBnch\"]=(res_bnch[\"minHsicMaxBnch\"]+res_bnch[\"minHsicMaxBnch\"])/2"
   ]
  },
  {
   "cell_type": "code",
   "execution_count": null,
   "metadata": {},
   "outputs": [],
   "source": [
    "plt.scatter(onp.log10(res_bnch.loc[res_bnch[\"type\"]==\"SIMc\"][\"maxHsicMaxBnch\"]),onp.log10(res_bnch.loc[res_bnch[\"type\"]==\"SIMc\"][\"minHsicMaxBnch\"]))\n",
    "plt.scatter(onp.log10(res_bnch.loc[res_bnch[\"type\"]==\"LS-s\"][\"maxHsicMaxBnch\"]),onp.log10(res_bnch.loc[res_bnch[\"type\"]==\"LS-s\"][\"minHsicMaxBnch\"]))\n",
    "thrs = -1.5\n",
    "plt.hlines(y=thrs, xmin=-2, xmax=-0.25)"
   ]
  },
  {
   "cell_type": "code",
   "execution_count": null,
   "metadata": {},
   "outputs": [],
   "source": [
    "res_bnch[\"wmeanHsicMaxBnch\"]=res_bnch[\"meanHsicMaxBnch\"]\n",
    "res_bnch.loc[onp.log10(res_bnch[\"minHsicMaxBnch\"])<thrs,\"wmeanHsicMaxBnch\"]=res_bnch.loc[onp.log10(res_bnch[\"minHsicMaxBnch\"])<thrs,\"minHsicMaxBnch\"]"
   ]
  },
  {
   "cell_type": "code",
   "execution_count": null,
   "metadata": {},
   "outputs": [],
   "source": [
    "sns.distplot(onp.log10(res_bnch.loc[res_bnch[\"type\"]==\"SIM\"][\"wmeanHsicMaxBnch\"]))\n",
    "sns.distplot(onp.log10(res_bnch.loc[res_bnch[\"type\"]==\"LS-s\"][\"wmeanHsicMaxBnch\"]))\n"
   ]
  },
  {
   "cell_type": "code",
   "execution_count": null,
   "metadata": {},
   "outputs": [],
   "source": [
    "thrs2 = -1.9\n",
    "print(onp.sum(onp.log10(res_bnch.loc[res_bnch[\"type\"]==\"SIM\"][\"wmeanHsicMaxBnch\"])>thrs2))\n",
    "print(onp.sum(onp.log10(res_bnch.loc[res_bnch[\"type\"]==\"LS-s\"][\"wmeanHsicMaxBnch\"])<thrs2))"
   ]
  },
  {
   "cell_type": "code",
   "execution_count": null,
   "metadata": {},
   "outputs": [],
   "source": [
    "sig = 0.01\n",
    "res_add = res_bnch.groupby([\"type\"]).apply(nonRejAdd, sig=sig)\n",
    "\n",
    "with pd.option_context('display.max_rows', None, 'display.max_columns', None):  # more options can be specified also\n",
    "    print(res_add)\n"
   ]
  },
  {
   "cell_type": "code",
   "execution_count": null,
   "metadata": {
    "scrolled": false
   },
   "outputs": [],
   "source": [
    "tabAcc = getAccuracyBnch(res_bnch2)\n",
    "with pd.option_context('display.max_rows', None, 'display.max_columns', None):  # more options can be specified also\n",
    "    print(pd.pivot_table(tabAcc, index=[\"type\"], columns=[\"variable\"], values=\"value\", aggfunc=onp.sum))\n",
    "\n"
   ]
  },
  {
   "cell_type": "code",
   "execution_count": null,
   "metadata": {},
   "outputs": [],
   "source": [
    "\n",
    "res_add = res_bnch.groupby([\"type\"]).apply(nonRejAdd, sig=sig)\n",
    "\n",
    "with pd.option_context('display.max_rows', None, 'display.max_columns', None):  # more options can be specified also\n",
    "    print(res_add)\n"
   ]
  },
  {
   "cell_type": "code",
   "execution_count": null,
   "metadata": {
    "scrolled": false
   },
   "outputs": [],
   "source": [
    "tabAcc = getAccuracyBnch(res_bnch2)\n",
    "with pd.option_context('display.max_rows', None, 'display.max_columns', None):  # more options can be specified also\n",
    "    print(pd.pivot_table(tabAcc, index=[\"type\"], columns=[\"variable\"], values=\"value\", aggfunc=onp.sum))\n",
    "\n"
   ]
  },
  {
   "cell_type": "markdown",
   "metadata": {},
   "source": [
    "# Read in Experiments"
   ]
  },
  {
   "cell_type": "code",
   "execution_count": 16,
   "metadata": {},
   "outputs": [],
   "source": [
    "readIn = False\n",
    "correctMse = True\n",
    "\n",
    "readIn = True\n",
    "correctMse = False"
   ]
  },
  {
   "cell_type": "code",
   "execution_count": 17,
   "metadata": {},
   "outputs": [],
   "source": [
    "file =  \"latent_noise\"\n",
    "num_data = 1002\n",
    "#num_data = 100\n",
    "num_data = 300\n",
    "reposData = \"/home/emiliano/Documents/ISP/proyectos/causality/causaLearner_R_pkg/causaLearner/data/\"\n",
    "fileDict = {\"SIM-1000_withZ\":['SIMc'], \"ANLSMN_withZ\":['AN', 'LS-s']}\n",
    "fileDict = {\"TCEP-all\":['tcep'], \"SIM-1000_withZ\":['SIM', 'SIMc', 'SIMG', 'SIMln'], \"ANLSMN_withZ\":['AN', 'AN-s', 'LS', 'LS-s',\n",
    "       'MN-U']}\n",
    "\n",
    "fileDict = {\"ANLSMN_withZ\": ['LS', 'LS-s','MN-U']}\n",
    "#fileDict = {\"ANLSMN_withZ\":['LS-s']}"
   ]
  },
  {
   "cell_type": "code",
   "execution_count": 18,
   "metadata": {},
   "outputs": [],
   "source": [
    "version = \"v3_optType\"\n",
    "pars= {\"lambda\":[0.01, 0.1, 1],\n",
    "       \"eta\":[0.01],\n",
    "    \"beta\":[0.1, 1.0, 10.0],\n",
    "       \"neta\":[0.001, 0.01, 0.1],\n",
    "        \"nu\":[10.0],\n",
    "        \"lu\":[0.0, 1.0],\n",
    "        \"lr\":[0.1],\n",
    "        \"ot\":[\"freeZ\"]}\n",
    "\n",
    "version = \"v10_UAI\"\n",
    "version = \"v0_UAI_cons_800\"\n",
    "pars = {\"lambda\": [0.001, 0.01, 0.1, 1.0],\n",
    "            \"sig\":[0.5],\n",
    "            \"eta\": [0.1],\n",
    "            \"beta\": [0.1, 1.0, 10.0],\n",
    "            \"neta\": [0.1, 1.0, 10.0],\n",
    "            \"nu\": [1000.0],\n",
    "            \"lu\": [0.0],\n",
    "            \"lr\": [0.1],\n",
    "            \"ot\": [\"freeZ\"],\n",
    "            \"epchs\": [500],\n",
    "            \"bs\":[100],\n",
    "            \"reps\":[7]}\n"
   ]
  },
  {
   "cell_type": "code",
   "execution_count": 19,
   "metadata": {},
   "outputs": [
    {
     "name": "stdout",
     "output_type": "stream",
     "text": [
      "num_files 10800\n",
      "folder:  /home/emiliano/Documents/ISP/proyectos/causality/latentNoise_krr/results/v0_UAI_cons_800/\n",
      "162.90382525200002\n",
      "create datasetTab\n",
      "Index(['errs_xy', 'hsic_xy', 'hsicc_xy', 'ent_xy', 'entx_xy', 'hsicx_xy',\n",
      "       'hsicz_xy', 'hsiczz_xy', 'mmd_xy', 'errs_yx', 'hsic_yx', 'hsicc_yx',\n",
      "       'ent_yx', 'entx_yx', 'hsicx_yx', 'hsicz_yx', 'hsiczz_yx', 'mmd_yx',\n",
      "       'job', 'rep', 'lambda', 'sig', 'eta', 'beta', 'neta', 'nu', 'lu', 'lr',\n",
      "       'ot', 'epchs', 'bs', 'reps', 'type', 'dataset'],\n",
      "      dtype='object')\n",
      "get df2\n"
     ]
    }
   ],
   "source": [
    "if readIn:\n",
    "    df1 = get_df_fromFile(readGetMsrs, reposData, version, file,  num_data, fileDict, pars, func_dict)"
   ]
  },
  {
   "cell_type": "code",
   "execution_count": null,
   "metadata": {},
   "outputs": [],
   "source": [
    "version = \"v4_optType\"\n",
    "pars= {\"lambda\":[0.01, 0.1, 1],\n",
    "       \"eta\":[0.01],\n",
    "    \"beta\":[0.1, 1.0, 10.0],\n",
    "       \"neta\":[0.001, 0.01, 0.1],\n",
    "        \"nu\":[10.0],\n",
    "        \"lu\":[0.0, 1.0],\n",
    "        \"lr\":[0.1],\n",
    "        \"ot\":[\"freeZ-iniMani\"]}"
   ]
  },
  {
   "cell_type": "code",
   "execution_count": null,
   "metadata": {},
   "outputs": [],
   "source": [
    "if readIn:\n",
    "    df2 = get_df_fromFile(readGetMsrs, reposData, version, file,  num_data, fileDict, pars, func_dict)"
   ]
  },
  {
   "cell_type": "code",
   "execution_count": null,
   "metadata": {},
   "outputs": [],
   "source": [
    "36*300"
   ]
  },
  {
   "cell_type": "code",
   "execution_count": null,
   "metadata": {},
   "outputs": [],
   "source": [
    "version = \"v5_optType\"\n",
    "pars= {\"lambda\":[0.01, 0.1, 1],\n",
    "       \"eta\":[0.01],\n",
    "    \"beta\":[0.1, 1.0, 10.0],\n",
    "       \"neta\":[0.001, 0.01, 0.1],\n",
    "        \"nu\":[10.0],\n",
    "        \"lu\":[0.0, 1.0],\n",
    "        \"lr\":[0.1],\n",
    "        \"ot\":[\"freeZ-iniR\"]}"
   ]
  },
  {
   "cell_type": "code",
   "execution_count": null,
   "metadata": {},
   "outputs": [],
   "source": [
    "if readIn: \n",
    "    df3 = get_df_fromFile(readGetMsrs, reposData, version, file,  num_data, fileDict, pars, func_dict)"
   ]
  },
  {
   "cell_type": "code",
   "execution_count": null,
   "metadata": {},
   "outputs": [],
   "source": [
    "if readIn:\n",
    "    print(df1.shape)\n",
    "    print(df2.shape)\n",
    "    print(df3.shape)"
   ]
  },
  {
   "cell_type": "code",
   "execution_count": null,
   "metadata": {},
   "outputs": [],
   "source": [
    "if readIn:\n",
    "    df = pd.concat([df1, df2, df3], axis=0)\n",
    "    print(df.shape)"
   ]
  },
  {
   "cell_type": "code",
   "execution_count": 20,
   "metadata": {},
   "outputs": [
    {
     "name": "stdout",
     "output_type": "stream",
     "text": [
      "(75600, 36)\n"
     ]
    }
   ],
   "source": [
    "if readIn:\n",
    "    df = df1\n",
    "    print(df.shape)"
   ]
  },
  {
   "cell_type": "code",
   "execution_count": null,
   "metadata": {},
   "outputs": [],
   "source": [
    "if readIn: \n",
    "    del(df1)\n",
    "    del(df2)\n",
    "    del(df3)"
   ]
  },
  {
   "cell_type": "code",
   "execution_count": null,
   "metadata": {},
   "outputs": [],
   "source": [
    "# correct v3 and v4 mse: sum((y-yhat)^2) -> sqrt(mean((y-yhat)^2))\n",
    "if readIn & correctMse:\n",
    "    #delVars = [\"mmd_pval_xy\",\"mmd_pval_yx\",\"hsicc_pval_xy\",\"hsicc_pval_yx\",\"hsic_pval_xy\",\"hsic_pval_yx\",\"errRef1\",\"errRef2\"]\n",
    "    #df= df.drop(delVars, axis=1)\n",
    "    df.loc[df[\"ot\"].isin([\"freeZ\",\"freeZ-iniMani\"]),\"errs_xy\"]=onp.sqrt(df.loc[df[\"ot\"].isin([\"freeZ\",\"freeZ-iniMani\"]),\"errs_xy\"]/df.loc[df[\"ot\"].isin([\"freeZ\",\"freeZ-iniMani\"]),\"num\"])\n",
    "    df.loc[df[\"ot\"].isin([\"freeZ\",\"freeZ-iniMani\"]),\"errs_yx\"]=onp.sqrt(df.loc[df[\"ot\"].isin([\"freeZ\",\"freeZ-iniMani\"]),\"errs_yx\"]/df.loc[df[\"ot\"].isin([\"freeZ\",\"freeZ-iniMani\"]),\"num\"])"
   ]
  },
  {
   "cell_type": "code",
   "execution_count": null,
   "metadata": {},
   "outputs": [],
   "source": [
    "if readIn:\n",
    "    df_long_full = getLongFormat(df, pars)\n",
    "    df = getPvals(df, df_long_full, res_bnch)\n",
    "    df_long_full = getLongFormat(df, pars)"
   ]
  },
  {
   "cell_type": "code",
   "execution_count": 21,
   "metadata": {},
   "outputs": [],
   "source": [
    "# save \n",
    "repos = \"/home/emiliano/Documents/ISP/proyectos/causality/latentNoise_krr/results/\"\n",
    "#filename= \"df_v3-5_optType_vhsicx.pkl\"\n",
    "filename= \"df_v10_UAI.pkl\"\n",
    "filename= \"df_v0_sens_800_UAI.pkl\"\n",
    "if readIn:\n",
    "    with open(repos+filename, 'wb') as output:  # Overwrites any existing file.\n",
    "        pickle.dump(df, output, pickle.HIGHEST_PROTOCOL)"
   ]
  },
  {
   "cell_type": "code",
   "execution_count": null,
   "metadata": {},
   "outputs": [],
   "source": [
    "repos = \"/home/emiliano/Documents/ISP/proyectos/causality/latentNoise_krr/results/\"\n",
    "#filename= \"df_v3-5_optType_vhsicx.pkl\"\n",
    "filename= \"df_v10_UAI.pkl\"\n",
    "if not readIn:\n",
    "    df = pickle5.load( open( repos+filename, \"rb\" ) )"
   ]
  },
  {
   "cell_type": "code",
   "execution_count": null,
   "metadata": {},
   "outputs": [],
   "source": [
    "print(df.shape)\n",
    "df.head()"
   ]
  },
  {
   "cell_type": "code",
   "execution_count": null,
   "metadata": {},
   "outputs": [],
   "source": [
    "#df = df.loc[((df[\"type\"]==\"LS-s\")|(df[\"type\"]==\"LS\"))&(df[\"ot\"]==\"freeZ\")]"
   ]
  },
  {
   "cell_type": "markdown",
   "metadata": {},
   "source": [
    "# Compare hsic(r_anm, x) to hsic(r_ln, c)"
   ]
  },
  {
   "cell_type": "code",
   "execution_count": null,
   "metadata": {},
   "outputs": [],
   "source": [
    "reposWeightedDF = \"/home/emiliano/Documents/ISP/proyectos/causality/latentNoise_krr/results/post/dfsWeighted/\"\n",
    "fileWeightedDF = \"310_weightedDf_initStrat:freeZ*NN:varsss_['hsic', 'hsicc', 'errs']-numPts_10*lowestHsic:var_hsic-sig_10.pkl\"\n",
    "df_plt3_nonAdd = pickle5.load( open( reposWeightedDF+fileWeightedDF, \"rb\" ) )\n",
    "df_plt3_nonAdd.head()"
   ]
  },
  {
   "cell_type": "code",
   "execution_count": null,
   "metadata": {},
   "outputs": [],
   "source": [
    "df_plt1 = df[[\"type\",\"dataset\",\"hsicx_xy\",\"hsicx_yx\"]]\n",
    "df_plt1 = df[[\"type\",\"dataset\",\"hsic_xy\",\"hsic_yx\"]]\n",
    "\n",
    "df_plt1 = df[[\"type\",\"dataset\",\"hsicx_xy\",\"hsicx_yx\",\"hsic_xy\",\"hsic_yx\"]]\n",
    "df_plt1[\"weight\"] = 1#df_nn[\"w_lowestHsic\"]\n",
    "\n",
    "df_plt1 = pd.melt(df_plt1, id_vars=[\"type\",\"dataset\",\"weight\"])\n",
    "df_plt1[\"meth\"] = \"LN\"\n",
    "df_plt2 = df_bnch[[\"type\",\"dataset\",\"hsic_xy\",\"hsic_yx\"]]\n",
    "df_plt2[\"weight\"] = 1\n",
    "df_plt2 = pd.melt(df_plt2, id_vars=[\"type\",\"dataset\",\"weight\"])\n",
    "df_plt2[\"meth\"] = \"ANM\"\n",
    "df_plt = pd.concat([df_plt1, df_plt2], axis=0)\n",
    "df_plt=df_plt.reset_index()\n",
    "df_plt.head()"
   ]
  },
  {
   "cell_type": "code",
   "execution_count": null,
   "metadata": {},
   "outputs": [],
   "source": [
    "df_plt[\"var\"]=[var.split(\"_\")[0] for var in df_plt[\"variable\"]]\n",
    "df_plt[\"dir\"]=[var.split(\"_\")[1] for var in df_plt[\"variable\"]]"
   ]
  },
  {
   "cell_type": "code",
   "execution_count": null,
   "metadata": {},
   "outputs": [],
   "source": [
    "df_test = df_plt.loc[df_plt[\"var\"]==\"hsicx\"]\n",
    "df_test.head()"
   ]
  },
  {
   "cell_type": "code",
   "execution_count": null,
   "metadata": {},
   "outputs": [],
   "source": [
    "#onp.unique(df_plt[\"var\"])"
   ]
  },
  {
   "cell_type": "code",
   "execution_count": null,
   "metadata": {},
   "outputs": [],
   "source": [
    "df_plt[\"meth2\"] = [mth+var.split(\"hsic\")[1] for mth,var in zip(df_plt[\"meth\"],df_plt[\"var\"])]\n",
    "#onp.unique(df_plt[\"meth2\"])"
   ]
  },
  {
   "cell_type": "code",
   "execution_count": null,
   "metadata": {},
   "outputs": [],
   "source": [
    "\n",
    "df_plt[\"ln_value\"] = onp.log(df_plt[\"value\"])\n",
    "df_plt[\"meth_dir\"] = df_plt[\"meth2\"]+\"_\"+df_plt[\"dir\"]"
   ]
  },
  {
   "cell_type": "code",
   "execution_count": null,
   "metadata": {},
   "outputs": [],
   "source": [
    "#sns.boxplot(x=\"type\",hue=\"meth_dir\", y=\"ln_value\", data=df_plt)\n",
    "#plt.legend(bbox_to_anchor=(1.01, 1),borderaxespad=0)"
   ]
  },
  {
   "cell_type": "code",
   "execution_count": null,
   "metadata": {},
   "outputs": [],
   "source": [
    "#onp.unique(df_plt[\"var\"])"
   ]
  },
  {
   "cell_type": "code",
   "execution_count": null,
   "metadata": {},
   "outputs": [],
   "source": [
    "df_plt"
   ]
  },
  {
   "cell_type": "code",
   "execution_count": null,
   "metadata": {},
   "outputs": [],
   "source": [
    "def meanVal(x):\n",
    "    ws = x.weight/onp.sum(x.weight)\n",
    "    #print(x.iloc[0][\"meth2\"])\n",
    "    if x.iloc[0][\"meth2\"]==\"ANM\":\n",
    "        res = onp.min(x.value)\n",
    "    else: \n",
    "        res = onp.sum(x.value*ws)\n",
    "        #res = onp.quantile(x.value,0.7)\n",
    "    return res\n",
    "df_plt2 = df_plt.groupby([\"type\",\"dataset\",\"variable\",\"var\",\"dir\",\"meth2\",\"meth_dir\"]).apply(meanVal)\n",
    "df_plt2 = df_plt2.reset_index()\n",
    "df_plt2[\"ln_value\"] = onp.log(df_plt2[0])"
   ]
  },
  {
   "cell_type": "code",
   "execution_count": null,
   "metadata": {},
   "outputs": [],
   "source": [
    "#sns.boxplot(x=\"type\",hue=\"meth_dir\", y=\"ln_value\", data=df_plt2)#, order=[\"LNxy\",\"LNyx\",\"ANMxy\",\"ANMyx\"])\n",
    "#plt.legend(bbox_to_anchor=(1.01, 1),borderaxespad=0)"
   ]
  },
  {
   "cell_type": "code",
   "execution_count": null,
   "metadata": {},
   "outputs": [],
   "source": [
    "df_plt2.head()"
   ]
  },
  {
   "cell_type": "code",
   "execution_count": null,
   "metadata": {},
   "outputs": [],
   "source": [
    "df_test = df_plt2.loc[(df_plt2[\"meth2\"]==\"LNx\")| (df_plt2[\"meth2\"]==\"ANM\")]\n",
    "df_test.head()\n",
    "df_test = pd.pivot_table(df_test, index=[\"type\",\"dataset\"], columns=[\"meth2\",\"dir\"], values=0)\n",
    "df_test.columns = ['_'.join(col) for col in df_test.columns.values]\n",
    "df_test = df_test.reset_index()\n",
    "df_test[\"min_ANM\"] = onp.apply_along_axis(onp.min, 1, df_test[[\"ANM_xy\",\"ANM_yx\"]])\n",
    "df_test[\"argmin_ANM\"] = onp.apply_along_axis(onp.argmin, 1, df_test[[\"ANM_xy\",\"ANM_yx\"]])\n",
    "df_test[\"max_ANM\"] = onp.apply_along_axis(onp.max, 1, df_test[[\"ANM_xy\",\"ANM_yx\"]])\n",
    "df_test[\"argmax_ANM\"] = onp.apply_along_axis(onp.argmax, 1, df_test[[\"ANM_xy\",\"ANM_yx\"]])\n",
    "df_test[\"min_LN\"] = onp.apply_along_axis(onp.min, 1, df_test[[\"LNx_xy\",\"LNx_yx\"]])\n",
    "df_test[\"argmin_LN\"] = onp.apply_along_axis(onp.argmin, 1, df_test[[\"LNx_xy\",\"LNx_yx\"]])\n",
    "df_test[\"same\"]=(df_test[\"argmin_ANM\"]==df_test[\"argmin_LN\"])*1\n",
    "\n",
    "\n",
    "df_test[\"improv\"] = df_test[\"min_ANM\"]/df_test[\"min_LN\"]\n",
    "df_test[\"min_LN2\"] = [df_test[[\"LNx_xy\",\"LNx_yx\"]].iloc[i,j] for i,j in zip(onp.linspace(0,df_test.shape[0]-1, df_test.shape[0], dtype=int),df_test[\"argmin_ANM\"])]\n",
    "df_test[\"max_LN2\"] = [df_test[[\"LNx_xy\",\"LNx_yx\"]].iloc[i,j] for i,j in zip(onp.linspace(0,df_test.shape[0]-1, df_test.shape[0], dtype=int),df_test[\"argmax_ANM\"])]\n",
    "df_test[\"improv2\"] = df_test[\"min_ANM\"]/df_test[\"min_LN2\"]\n",
    "df_test[\"improv3\"] = df_test[\"min_ANM\"]/df_test[\"max_LN2\"]\n",
    "df_test[\"improv4\"] = df_test[\"max_ANM\"]/df_test[\"min_LN2\"]\n",
    "plt.scatter(df_test.loc[df_test[\"type\"]==\"SIM\"][\"same\"],onp.log10(df_test.loc[df_test[\"type\"]==\"SIM\"][\"improv2\"]))\n",
    "plt.scatter(df_test.loc[df_test[\"type\"]==\"LS-s\"][\"same\"], onp.log10(df_test.loc[df_test[\"type\"]==\"LS-s\"][\"min_ANM\"]),onp.log10(df_test.loc[df_test[\"type\"]==\"LS\"][\"improv2\"]))\n",
    "#sns.distplot(onp.log10(df_test.loc[df_test[\"type\"]==\"SIM\"][\"improv4\"]))\n",
    "#sns.distplot(onp.log10(df_test.loc[df_test[\"type\"]==\"LS\"][\"improv4\"]))\n",
    "thrs = 0.0\n",
    "print(onp.sum(onp.log10(df_test.loc[df_test[\"type\"]==\"SIM\"][\"improv\"])>thrs))\n",
    "print(onp.sum(onp.log10(df_test.loc[df_test[\"type\"]==\"LS-s\"][\"improv\"])<thrs))\n",
    "\n"
   ]
  },
  {
   "cell_type": "code",
   "execution_count": null,
   "metadata": {},
   "outputs": [],
   "source": [
    "#df_test[[\"argmin_ANM\",\"argmin_LN\",\"type\",\"improv\"]].groupby([\"argmin_ANM\",\"argmin_LN\",\"type\"]).count()\n",
    "df_test[[\"same\",\"type\",\"improv\"]].groupby([\"same\",\"type\"]).count()"
   ]
  },
  {
   "cell_type": "code",
   "execution_count": null,
   "metadata": {},
   "outputs": [],
   "source": [
    "sns.distplot(onp.log10(df_test.loc[(df_test[\"type\"]==\"SIM\")&(df_test[\"same\"]==0)][\"improv2\"]))\n",
    "sns.distplot(onp.log10(df_test.loc[(df_test[\"type\"]==\"LS-s\")&(df_test[\"same\"]==0)][\"improv2\"]))\n"
   ]
  },
  {
   "cell_type": "code",
   "execution_count": null,
   "metadata": {},
   "outputs": [],
   "source": [
    "sns.distplot(onp.log10(df_test.loc[df_test[\"type\"]==\"SIM\"][\"min_LN\"]))\n",
    "sns.distplot(onp.log10(df_test.loc[df_test[\"type\"]==\"LS\"][\"min_LN\"]))\n"
   ]
  },
  {
   "cell_type": "code",
   "execution_count": null,
   "metadata": {},
   "outputs": [],
   "source": []
  },
  {
   "cell_type": "code",
   "execution_count": null,
   "metadata": {},
   "outputs": [],
   "source": [
    "# take min accross directions\n",
    "def minVal(x):\n",
    "    return onp.min(x[0])\n",
    "df_plt3 = df_plt2.groupby([\"type\",\"dataset\",\"var\",\"meth2\"]).apply(minVal)\n",
    "df_plt3 = df_plt3.reset_index()\n",
    "df_plt3.head()"
   ]
  },
  {
   "cell_type": "code",
   "execution_count": null,
   "metadata": {},
   "outputs": [],
   "source": [
    "df_plt3.shape"
   ]
  },
  {
   "cell_type": "code",
   "execution_count": null,
   "metadata": {},
   "outputs": [],
   "source": [
    "#df_plt3_nonAdd.shape"
   ]
  },
  {
   "cell_type": "code",
   "execution_count": null,
   "metadata": {},
   "outputs": [],
   "source": [
    "#df_plt3 = pd.concat([df_plt3_add, df_plt3_nonAdd])"
   ]
  },
  {
   "cell_type": "code",
   "execution_count": null,
   "metadata": {},
   "outputs": [],
   "source": [
    "df_plt4 = pd.pivot_table(df_plt3, index=[\"type\",\"dataset\"], columns=[\"meth2\"], values=0)\n",
    "df_plt4 = df_plt4.reset_index()"
   ]
  },
  {
   "cell_type": "code",
   "execution_count": null,
   "metadata": {},
   "outputs": [],
   "source": [
    "df_plt4.head()"
   ]
  },
  {
   "cell_type": "code",
   "execution_count": null,
   "metadata": {},
   "outputs": [],
   "source": [
    "df_plt4[\"ln_dif\"] = onp.log(df_plt4[\"ANM\"])-onp.log(df_plt4[\"LN\"])\n",
    "df_plt4[\"ln_difx\"] = onp.log(df_plt4[\"ANM\"])-onp.log(df_plt4[\"LNx\"])\n",
    "df_plt4.head()"
   ]
  },
  {
   "cell_type": "code",
   "execution_count": null,
   "metadata": {},
   "outputs": [],
   "source": [
    "sns.distplot(df_plt4[\"ln_dif\"])\n",
    "sns.distplot(df_plt4[\"ln_difx\"])"
   ]
  },
  {
   "cell_type": "code",
   "execution_count": null,
   "metadata": {},
   "outputs": [],
   "source": [
    "sns.boxplot(x=\"type\", y=\"ln_dif\", data=df_plt4)\n",
    "plt.legend(bbox_to_anchor=(1.01, 1),borderaxespad=0)"
   ]
  },
  {
   "cell_type": "code",
   "execution_count": null,
   "metadata": {},
   "outputs": [],
   "source": [
    "sns.boxplot(x=\"type\", y=\"ln_difx\", data=df_plt4)\n",
    "plt.legend(bbox_to_anchor=(1.01, 1),borderaxespad=0)"
   ]
  },
  {
   "cell_type": "code",
   "execution_count": null,
   "metadata": {},
   "outputs": [],
   "source": [
    "def aggAd(x):\n",
    "    return onp.sum(x[\"ln_dif\"]<0)/x.shape[0]\n",
    "df_plt4.groupby([\"type\"]).apply(aggAd)"
   ]
  },
  {
   "cell_type": "code",
   "execution_count": null,
   "metadata": {},
   "outputs": [],
   "source": [
    "def aggAd(x):\n",
    "    return onp.sum(x[\"ln_difx\"]<0)/x.shape[0]\n",
    "df_plt4.groupby([\"type\"]).apply(aggAd)"
   ]
  },
  {
   "cell_type": "code",
   "execution_count": null,
   "metadata": {},
   "outputs": [],
   "source": [
    "# save \n",
    "save = True\n",
    "repos = \"/home/emiliano/Documents/ISP/proyectos/causality/latentNoise_krr/results/\"\n",
    "filename= \"df_comp_hsic_v3-5_optType_vhsicx_vs_v3_real_bnch.pkl\"\n",
    "filename= \"df_comp_hsic_v3-5_optType_vhsicx_vs_v4_bnch.pkl\"\n",
    "filename= \"df_comp_hsic_v3-5_optType_vhsicx_vs_v5_bnch.pkl\"\n",
    "filename= \"df_comp_hsic_v3-5_optType_vhsicx_vs_v6_bnch.pkl\"\n",
    "filename= \"df_comp_hsic_v3-5_optType_vs_v6_bnch.pkl\"\n",
    "filename= \"df_comp_hsic_v3-5_optType_vboth_vs_v6_bnch.pkl\"\n",
    "filename= \"df_comp_hsic_v3-5_optType_vboth_vs_v14_bnch.pkl\"\n",
    "filename= \"df_comp_hsic_v10_UAI_vboth_vs_v14_bnch.pkl\"\n",
    "if save:\n",
    "    with open(repos+filename, 'wb') as output:  # Overwrites any existing file.\n",
    "        pickle.dump(df_plt4, output, pickle.HIGHEST_PROTOCOL)"
   ]
  },
  {
   "cell_type": "markdown",
   "metadata": {},
   "source": [
    "#  Pair up"
   ]
  },
  {
   "cell_type": "markdown",
   "metadata": {},
   "source": [
    "Pair up \n",
    "\n",
    "1. by param: as is - df- DONE\n",
    "2. intersection -  df_intsc - DONE\n",
    "3. NNs - df_nn - DONE\n",
    "4. Random - df_rnd - DONE\n",
    "\n"
   ]
  },
  {
   "cell_type": "markdown",
   "metadata": {},
   "source": [
    "## pair-up: by-param/as-is"
   ]
  },
  {
   "cell_type": "code",
   "execution_count": null,
   "metadata": {},
   "outputs": [],
   "source": [
    "# as-is"
   ]
  },
  {
   "cell_type": "code",
   "execution_count": null,
   "metadata": {},
   "outputs": [],
   "source": [
    "ds = \"5\"\n",
    "st = \"LS-s\""
   ]
  },
  {
   "cell_type": "code",
   "execution_count": null,
   "metadata": {},
   "outputs": [],
   "source": [
    "hsic_xy =  onp.array(df.loc[(df[\"dataset\"]==st+\".\"+ds), \"hsic_xy\"])\n",
    "hsic_yx =  onp.array(df.loc[(df[\"dataset\"]==st+\".\"+ds),\"hsic_yx\"])\n",
    "hsic = onp.hstack([hsic_xy, hsic_yx])\n",
    "hsicc_xy =  onp.array(df.loc[(df[\"dataset\"]==st+\".\"+ds),\"hsicc_xy\"])\n",
    "hsicc_yx =  onp.array(df.loc[(df[\"dataset\"]==st+\".\"+ds), \"hsicc_yx\"])\n",
    "hsicc = onp.hstack([hsicc_xy, hsicc_yx])\n",
    "\n",
    "#hsic_yx= hsic_yx[0:(hsic_yx.shape[0]-1)]\n",
    "#hsicc_yx= hsicc_yx[0:(hsicc_yx.shape[0]-1)]\n",
    "print(hsic_xy.shape)\n",
    "print(hsic_yx.shape)"
   ]
  },
  {
   "cell_type": "code",
   "execution_count": null,
   "metadata": {},
   "outputs": [],
   "source": [
    "plt.scatter(onp.log10(hsic_xy), onp.log10(hsicc_xy))\n",
    "plt.scatter(onp.log10(hsic_yx), onp.log10(hsicc_yx))"
   ]
  },
  {
   "cell_type": "code",
   "execution_count": null,
   "metadata": {},
   "outputs": [],
   "source": [
    "df_xy = pd.DataFrame(onp.vstack([onp.log10(hsic_xy), onp.log10(hsicc_xy)]).T, columns=[\"hsic\", \"hsicc\"])\n",
    "df_xy[\"dir\"] = \"xy\"\n",
    "df_yx = pd.DataFrame(onp.vstack([onp.log10(hsic_yx), onp.log10(hsicc_yx)]).T, columns=[\"hsic\", \"hsicc\"])\n",
    "df_yx[\"dir\"] = \"yx\"\n",
    "\n",
    "df_plt = pd.concat([df_xy, df_yx])\n",
    "df_plt"
   ]
  },
  {
   "cell_type": "code",
   "execution_count": null,
   "metadata": {},
   "outputs": [],
   "source": [
    "sns.scatterplot(data=df_plt, x=\"hsic\", y=\"hsicc\", hue=\"dir\")"
   ]
  },
  {
   "cell_type": "code",
   "execution_count": null,
   "metadata": {},
   "outputs": [],
   "source": [
    "#sns.kdeplot(data=df_plt, x=\"hsic\", y=\"hsicc\", hue=\"dir\")\n",
    "#sns.jointplot(data=df_plt, x=\"hsic\", y=\"hsicc\",kind=\"hex\")"
   ]
  },
  {
   "cell_type": "code",
   "execution_count": null,
   "metadata": {},
   "outputs": [],
   "source": [
    "#sns.jointplot(data=df_plt, x=\"hsic\", y=\"hsicc\", hue=\"dir\",kind=\"kde\")"
   ]
  },
  {
   "cell_type": "code",
   "execution_count": null,
   "metadata": {},
   "outputs": [],
   "source": [
    "m = 1\n",
    "varss = ['errs','hsic','hsicc','ent','hsicz','hsiczz','mmd']"
   ]
  },
  {
   "cell_type": "code",
   "execution_count": null,
   "metadata": {},
   "outputs": [],
   "source": [
    "df_parm = df.groupby(['type',\"dataset\"]).apply(pairup,varss=varss, funct=smplParm, getParsFunct=getParsParm, pars=(m,))"
   ]
  },
  {
   "cell_type": "code",
   "execution_count": null,
   "metadata": {
    "scrolled": true
   },
   "outputs": [],
   "source": [
    "df_parm = df_parm.reset_index()\n",
    "df_parm.head()"
   ]
  },
  {
   "cell_type": "code",
   "execution_count": null,
   "metadata": {},
   "outputs": [],
   "source": [
    "df_parm = df_parm.rename(columns={\"level_2\": \"smpl\"})"
   ]
  },
  {
   "cell_type": "code",
   "execution_count": null,
   "metadata": {},
   "outputs": [],
   "source": [
    "print(df.shape)\n",
    "print(df_parm.shape)"
   ]
  },
  {
   "cell_type": "code",
   "execution_count": null,
   "metadata": {},
   "outputs": [],
   "source": [
    "cols = list(set(list(df_parm.columns)).intersection(list(df.columns)))\n",
    "cols"
   ]
  },
  {
   "cell_type": "markdown",
   "metadata": {},
   "source": [
    "## pair-up: random"
   ]
  },
  {
   "cell_type": "code",
   "execution_count": null,
   "metadata": {},
   "outputs": [],
   "source": [
    "# random"
   ]
  },
  {
   "cell_type": "code",
   "execution_count": null,
   "metadata": {},
   "outputs": [],
   "source": [
    "ds = \"5\"\n",
    "st = \"LS-s\""
   ]
  },
  {
   "cell_type": "code",
   "execution_count": null,
   "metadata": {},
   "outputs": [],
   "source": [
    "hsic_xy =  onp.array(df.loc[(df[\"dataset\"]==st+\".\"+ds), \"hsic_xy\"])\n",
    "hsic_yx =  onp.array(df.loc[(df[\"dataset\"]==st+\".\"+ds),\"hsic_yx\"])\n",
    "hsic = onp.hstack([hsic_xy, hsic_yx])\n",
    "hsicc_xy =  onp.array(df.loc[(df[\"dataset\"]==st+\".\"+ds),\"hsicc_xy\"])\n",
    "hsicc_yx =  onp.array(df.loc[(df[\"dataset\"]==st+\".\"+ds), \"hsicc_yx\"])\n",
    "hsicc = onp.hstack([hsicc_xy, hsicc_yx])\n",
    "\n",
    "#hsic_yx= hsic_yx[0:(hsic_yx.shape[0]-1)]\n",
    "#hsicc_yx= hsicc_yx[0:(hsicc_yx.shape[0]-1)]\n",
    "print(hsic_xy.shape)\n",
    "print(hsic_yx.shape)"
   ]
  },
  {
   "cell_type": "code",
   "execution_count": null,
   "metadata": {},
   "outputs": [],
   "source": [
    "plt.scatter(onp.log10(hsic_xy), onp.log10(hsicc_xy))\n",
    "plt.scatter(onp.log10(hsic_yx), onp.log10(hsicc_yx))"
   ]
  },
  {
   "cell_type": "code",
   "execution_count": null,
   "metadata": {},
   "outputs": [],
   "source": []
  },
  {
   "cell_type": "code",
   "execution_count": null,
   "metadata": {},
   "outputs": [],
   "source": [
    "n = hsic_xy.shape[0]\n",
    "m = 10\n",
    "indxSmpl_xy, indxSmpl_yx = smplRand(n, m)\n"
   ]
  },
  {
   "cell_type": "code",
   "execution_count": null,
   "metadata": {},
   "outputs": [],
   "source": [
    "hsic_xy3 = hsic_xy[indxSmpl_xy]\n",
    "hsicc_xy3 = hsicc_xy[indxSmpl_xy]\n",
    "hsic_yx3 = hsic_yx[indxSmpl_yx]\n",
    "hsicc_yx3 = hsicc_yx[indxSmpl_yx]"
   ]
  },
  {
   "cell_type": "code",
   "execution_count": null,
   "metadata": {},
   "outputs": [],
   "source": [
    "df_xy = pd.DataFrame(onp.vstack([onp.log10(hsic_xy3), onp.log10(hsicc_xy3)]).T, columns=[\"hsic\", \"hsicc\"])\n",
    "df_xy[\"dir\"] = \"xy\"\n",
    "df_yx = pd.DataFrame(onp.vstack([onp.log10(hsic_yx3), onp.log10(hsicc_yx3)]).T, columns=[\"hsic\", \"hsicc\"])\n",
    "df_yx[\"dir\"] = \"yx\"\n",
    "\n",
    "df_plt = pd.concat([df_xy, df_yx])\n",
    "df_plt"
   ]
  },
  {
   "cell_type": "code",
   "execution_count": null,
   "metadata": {},
   "outputs": [],
   "source": [
    "sns.scatterplot(data=df_plt, x=\"hsic\", y=\"hsicc\", hue=\"dir\")"
   ]
  },
  {
   "cell_type": "code",
   "execution_count": null,
   "metadata": {},
   "outputs": [],
   "source": [
    "#sns.kdeplot(data=df_plt, x=\"hsic\", y=\"hsicc\", hue=\"dir\")\n",
    "#sns.jointplot(data=df_plt, x=\"hsic\", y=\"hsicc\",kind=\"hex\")"
   ]
  },
  {
   "cell_type": "code",
   "execution_count": null,
   "metadata": {},
   "outputs": [],
   "source": [
    "#sns.jointplot(data=df_plt, x=\"hsic\", y=\"hsicc\", hue=\"dir\",kind=\"kde\")"
   ]
  },
  {
   "cell_type": "code",
   "execution_count": null,
   "metadata": {},
   "outputs": [],
   "source": [
    "df"
   ]
  },
  {
   "cell_type": "code",
   "execution_count": null,
   "metadata": {},
   "outputs": [],
   "source": [
    "varss = ['errs','hsic','hsicc','ent','hsicz','hsiczz','mmd']"
   ]
  },
  {
   "cell_type": "code",
   "execution_count": null,
   "metadata": {},
   "outputs": [],
   "source": [
    "m = 1000"
   ]
  },
  {
   "cell_type": "code",
   "execution_count": null,
   "metadata": {},
   "outputs": [],
   "source": [
    "df_rand = df.groupby(['type',\"dataset\"]).apply(pairup,varss=varss, funct=smplRand, getParsFunct=getParsRand, pars=(m,))"
   ]
  },
  {
   "cell_type": "code",
   "execution_count": null,
   "metadata": {
    "scrolled": true
   },
   "outputs": [],
   "source": [
    "df_rand = df_rand.reset_index()\n",
    "df_rand.head()"
   ]
  },
  {
   "cell_type": "code",
   "execution_count": null,
   "metadata": {},
   "outputs": [],
   "source": [
    "df_rand = df_rand.rename(columns={\"level_2\": \"smpl\"})"
   ]
  },
  {
   "cell_type": "code",
   "execution_count": null,
   "metadata": {},
   "outputs": [],
   "source": [
    "df_rand_long_full = getLongFormat2(df_rand, [\"type\",\"dataset\",\"smpl\"])"
   ]
  },
  {
   "cell_type": "code",
   "execution_count": null,
   "metadata": {},
   "outputs": [],
   "source": [
    "print(df_rand.shape)\n"
   ]
  },
  {
   "cell_type": "code",
   "execution_count": null,
   "metadata": {},
   "outputs": [],
   "source": [
    "df.shape[0]+1002*m"
   ]
  },
  {
   "cell_type": "code",
   "execution_count": null,
   "metadata": {},
   "outputs": [],
   "source": [
    "df.shape[0]/df_rand.shape[0]"
   ]
  },
  {
   "cell_type": "code",
   "execution_count": null,
   "metadata": {},
   "outputs": [],
   "source": [
    "1002*m/df_rand.shape[0]"
   ]
  },
  {
   "cell_type": "markdown",
   "metadata": {},
   "source": [
    "## pair-up: Intersection"
   ]
  },
  {
   "cell_type": "code",
   "execution_count": null,
   "metadata": {},
   "outputs": [],
   "source": [
    "# intersection"
   ]
  },
  {
   "cell_type": "code",
   "execution_count": null,
   "metadata": {},
   "outputs": [],
   "source": [
    "ds = \"2\"\n",
    "st = \"LS-s\""
   ]
  },
  {
   "cell_type": "code",
   "execution_count": null,
   "metadata": {},
   "outputs": [],
   "source": [
    "hsic_xy =  onp.array(df.loc[(df[\"dataset\"]==st+\".\"+ds), \"hsic_xy\"])\n",
    "hsic_yx =  onp.array(df.loc[(df[\"dataset\"]==st+\".\"+ds),\"hsic_yx\"])\n",
    "hsic = onp.hstack([hsic_xy, hsic_yx])\n",
    "hsicc_xy =  onp.array(df.loc[(df[\"dataset\"]==st+\".\"+ds),\"hsicc_xy\"])\n",
    "hsicc_yx =  onp.array(df.loc[(df[\"dataset\"]==st+\".\"+ds), \"hsicc_yx\"])\n",
    "hsicc = onp.hstack([hsicc_xy, hsicc_yx])\n",
    "\n",
    "#hsic_yx= hsic_yx[0:(hsic_yx.shape[0]-1)]\n",
    "#hsicc_yx= hsicc_yx[0:(hsicc_yx.shape[0]-1)]\n",
    "print(hsic_xy.shape)\n",
    "print(hsic_yx.shape)"
   ]
  },
  {
   "cell_type": "code",
   "execution_count": null,
   "metadata": {},
   "outputs": [],
   "source": [
    "plt.scatter(onp.log10(hsic_xy), onp.log10(hsicc_xy))\n",
    "plt.scatter(onp.log10(hsic_yx), onp.log10(hsicc_yx))"
   ]
  },
  {
   "cell_type": "code",
   "execution_count": null,
   "metadata": {},
   "outputs": [],
   "source": [
    "varss = ['errs','hsic','hsicc','ent','slopes','slopeskrr','hsicz','hsiczz','mmd']"
   ]
  },
  {
   "cell_type": "code",
   "execution_count": null,
   "metadata": {},
   "outputs": [],
   "source": [
    "sig = 100.0\n",
    "m = 10000"
   ]
  },
  {
   "cell_type": "code",
   "execution_count": null,
   "metadata": {},
   "outputs": [],
   "source": [
    "x = df.loc[(df[\"dataset\"]==st+\".\"+ds)]\n",
    "x.head()"
   ]
  },
  {
   "cell_type": "code",
   "execution_count": null,
   "metadata": {},
   "outputs": [],
   "source": [
    "varsss = [\"hsic\", \"hsicc\",\"errs\"]"
   ]
  },
  {
   "cell_type": "code",
   "execution_count": null,
   "metadata": {},
   "outputs": [],
   "source": [
    "X_xy, X_yx, sig, m = getParsIntersection(x, varsss, sig, m)"
   ]
  },
  {
   "cell_type": "code",
   "execution_count": null,
   "metadata": {},
   "outputs": [],
   "source": [
    "indxSmpl_row, indxSmpl_col = smplFromIntersection(X_xy, X_yx, sig, m)"
   ]
  },
  {
   "cell_type": "code",
   "execution_count": null,
   "metadata": {},
   "outputs": [],
   "source": [
    "hsic_xy3 = hsic_xy[indxSmpl_row]\n",
    "hsicc_xy3 = hsicc_xy[indxSmpl_row]\n",
    "hsic_yx3 = hsic_yx[indxSmpl_col]\n",
    "hsicc_yx3 = hsicc_yx[indxSmpl_col]"
   ]
  },
  {
   "cell_type": "code",
   "execution_count": null,
   "metadata": {},
   "outputs": [],
   "source": [
    "df_xy = pd.DataFrame(onp.vstack([onp.log10(hsic_xy3), onp.log10(hsicc_xy3)]).T, columns=[\"hsic\", \"hsicc\"])\n",
    "df_xy[\"dir\"] = \"xy\"\n",
    "df_yx = pd.DataFrame(onp.vstack([onp.log10(hsic_yx3), onp.log10(hsicc_yx3)]).T, columns=[\"hsic\", \"hsicc\"])\n",
    "df_yx[\"dir\"] = \"yx\"\n",
    "\n",
    "df_plt = pd.concat([df_xy, df_yx])\n",
    "print(df_plt.shape)\n",
    "df_plt"
   ]
  },
  {
   "cell_type": "code",
   "execution_count": null,
   "metadata": {},
   "outputs": [],
   "source": [
    "sns.scatterplot(data=df_plt, x=\"hsic\", y=\"hsicc\", hue=\"dir\")"
   ]
  },
  {
   "cell_type": "code",
   "execution_count": null,
   "metadata": {},
   "outputs": [],
   "source": [
    "#sns.kdeplot(data=df_plt, x=\"hsic\", y=\"hsicc\", hue=\"dir\")\n",
    "#sns.jointplot(data=df_plt, x=\"hsic\", y=\"hsicc\",kind=\"hex\")"
   ]
  },
  {
   "cell_type": "code",
   "execution_count": null,
   "metadata": {},
   "outputs": [],
   "source": [
    "#sns.jointplot(data=df_plt, x=\"hsic\", y=\"hsicc\", hue=\"dir\",kind=\"kde\")"
   ]
  },
  {
   "cell_type": "code",
   "execution_count": null,
   "metadata": {},
   "outputs": [],
   "source": [
    "m = 100\n",
    "sig = 100.0"
   ]
  },
  {
   "cell_type": "code",
   "execution_count": null,
   "metadata": {},
   "outputs": [],
   "source": [
    "df_intsc = df.groupby(['type',\"dataset\"]).apply(pairup,varss=varss, funct=smplFromIntersection, getParsFunct=getParsIntersection, pars=(varsss,sig,m))"
   ]
  },
  {
   "cell_type": "code",
   "execution_count": null,
   "metadata": {
    "scrolled": true
   },
   "outputs": [],
   "source": [
    "df_intsc = df_intsc.reset_index()\n",
    "df_intsc.head()"
   ]
  },
  {
   "cell_type": "code",
   "execution_count": null,
   "metadata": {},
   "outputs": [],
   "source": [
    "df_intsc = df_intsc.rename(columns={\"level_2\": \"smpl\"})"
   ]
  },
  {
   "cell_type": "code",
   "execution_count": null,
   "metadata": {},
   "outputs": [],
   "source": [
    "df_intsc.shape"
   ]
  },
  {
   "cell_type": "markdown",
   "metadata": {},
   "source": [
    "## pair-up: nearest neigbors"
   ]
  },
  {
   "cell_type": "code",
   "execution_count": null,
   "metadata": {},
   "outputs": [],
   "source": [
    "ds = \"3\"\n",
    "st = \"LS-s\""
   ]
  },
  {
   "cell_type": "code",
   "execution_count": null,
   "metadata": {},
   "outputs": [],
   "source": [
    "hsic_xy =  onp.array(df.loc[(df[\"dataset\"]==st+\".\"+ds), \"hsic_xy\"])\n",
    "hsic_yx =  onp.array(df.loc[(df[\"dataset\"]==st+\".\"+ds),\"hsic_yx\"])\n",
    "hsicc_xy =  onp.array(df.loc[(df[\"dataset\"]==st+\".\"+ds),\"hsicc_xy\"])\n",
    "hsicc_yx =  onp.array(df.loc[(df[\"dataset\"]==st+\".\"+ds), \"hsicc_yx\"])\n",
    "\n",
    "\n",
    "#hsic_yx= hsic_yx[0:(hsic_yx.shape[0]-1)]\n",
    "#hsicc_yx= hsicc_yx[0:(hsicc_yx.shape[0]-1)]\n",
    "print(hsic_xy.shape)\n",
    "print(hsic_yx.shape)\n",
    "\n",
    "\n",
    "    "
   ]
  },
  {
   "cell_type": "code",
   "execution_count": null,
   "metadata": {},
   "outputs": [],
   "source": [
    "plt.scatter(onp.log10(hsic_xy), onp.log10(hsicc_xy))\n",
    "plt.scatter(onp.log10(hsic_yx), onp.log10(hsicc_yx))"
   ]
  },
  {
   "cell_type": "code",
   "execution_count": null,
   "metadata": {},
   "outputs": [],
   "source": [
    "varss = ['errs','hsic','hsicx','hsicc','ent','hsicz','hsiczz','mmd'] #'slopes','slopeskrr',\n",
    "numPts = 10"
   ]
  },
  {
   "cell_type": "code",
   "execution_count": null,
   "metadata": {},
   "outputs": [],
   "source": [
    "x = df.loc[(df[\"dataset\"]==st+\".\"+ds)]\n",
    "x.head()"
   ]
  },
  {
   "cell_type": "code",
   "execution_count": null,
   "metadata": {},
   "outputs": [],
   "source": [
    "varsss = [\"hsic\", \"hsicc\",\"errs\"]"
   ]
  },
  {
   "cell_type": "code",
   "execution_count": null,
   "metadata": {},
   "outputs": [],
   "source": [
    "X_xy, X_yx, numPts = getParsNN(x, varsss, numPts)"
   ]
  },
  {
   "cell_type": "code",
   "execution_count": null,
   "metadata": {},
   "outputs": [],
   "source": [
    "indx_xy2, indx_yx2 = nearestNeighbors(X_xy, X_yx, numPts)"
   ]
  },
  {
   "cell_type": "code",
   "execution_count": null,
   "metadata": {},
   "outputs": [],
   "source": [
    "hsic_xy3 = hsic_xy[indx_xy2]\n",
    "hsicc_xy3 = hsicc_xy[indx_xy2]\n",
    "hsic_yx3 = hsic_yx[indx_yx2]\n",
    "hsicc_yx3 = hsicc_yx[indx_yx2]\n",
    "\n",
    "hsic3 = onp.hstack([hsic_xy3, hsic_yx3])\n",
    "hsicc3 = onp.hstack([hsicc_xy3, hsicc_yx3])"
   ]
  },
  {
   "cell_type": "code",
   "execution_count": null,
   "metadata": {},
   "outputs": [],
   "source": [
    "df_xy = pd.DataFrame(onp.vstack([onp.log10(hsic_xy3), onp.log10(hsicc_xy3)]).T, columns=[\"hsic\", \"hsicc\"])\n",
    "df_xy[\"dir\"] = \"xy\"\n",
    "df_yx = pd.DataFrame(onp.vstack([onp.log10(hsic_yx3), onp.log10(hsicc_yx3)]).T, columns=[\"hsic\", \"hsicc\"])\n",
    "df_yx[\"dir\"] = \"yx\"\n",
    "\n",
    "df_plt = pd.concat([df_xy, df_yx])\n",
    "df_plt"
   ]
  },
  {
   "cell_type": "code",
   "execution_count": null,
   "metadata": {},
   "outputs": [],
   "source": [
    "plt.scatter(onp.log10(hsic_xy), onp.log10(hsicc_xy))\n",
    "plt.scatter(onp.log10(hsic_yx), onp.log10(hsicc_yx))"
   ]
  },
  {
   "cell_type": "code",
   "execution_count": null,
   "metadata": {},
   "outputs": [],
   "source": [
    "sns.scatterplot(data=df_plt, x=\"hsic\", y=\"hsicc\", hue=\"dir\")"
   ]
  },
  {
   "cell_type": "code",
   "execution_count": null,
   "metadata": {},
   "outputs": [],
   "source": [
    "#sns.kdeplot(data=df_plt, x=\"hsic\", y=\"hsicc\", hue=\"dir\")\n",
    "#sns.jointplot(data=df_plt, x=\"hsic\", y=\"hsicc\",kind=\"hex\")"
   ]
  },
  {
   "cell_type": "code",
   "execution_count": null,
   "metadata": {},
   "outputs": [],
   "source": [
    "#sns.jointplot(data=df_plt, x=\"hsic\", y=\"hsicc\", hue=\"dir\",kind=\"kde\")"
   ]
  },
  {
   "cell_type": "code",
   "execution_count": null,
   "metadata": {},
   "outputs": [],
   "source": [
    "numPts=1"
   ]
  },
  {
   "cell_type": "code",
   "execution_count": null,
   "metadata": {},
   "outputs": [],
   "source": [
    "df_nn = df.groupby(['type',\"dataset\"]).apply(pairup,varss=varss, funct=nearestNeighbors, getParsFunct=getParsNN, pars=(varsss,numPts,))"
   ]
  },
  {
   "cell_type": "code",
   "execution_count": null,
   "metadata": {
    "scrolled": true
   },
   "outputs": [],
   "source": [
    "df_nn = df_nn.reset_index()\n",
    "df_nn.head()"
   ]
  },
  {
   "cell_type": "code",
   "execution_count": null,
   "metadata": {},
   "outputs": [],
   "source": [
    "print(df_nn.shape)"
   ]
  },
  {
   "cell_type": "code",
   "execution_count": null,
   "metadata": {},
   "outputs": [],
   "source": [
    "df_nn = df_nn.rename(columns={\"level_2\": \"smpl\"})"
   ]
  },
  {
   "cell_type": "markdown",
   "metadata": {},
   "source": [
    "# Filtering/ weighting pairs"
   ]
  },
  {
   "cell_type": "markdown",
   "metadata": {},
   "source": [
    "Filter/weight\n",
    "1. uniform - DONE\n",
    "2. best hsic(r,c) - DONE\n",
    "3. non-domminant efficient frontier - DONE\n",
    "4. model simple- simple logistic regression model \n",
    "5. model complex -  \"fair learning\" where sensitive vars are model classes"
   ]
  },
  {
   "cell_type": "markdown",
   "metadata": {},
   "source": [
    "## uniform: weighting"
   ]
  },
  {
   "cell_type": "code",
   "execution_count": null,
   "metadata": {},
   "outputs": [],
   "source": [
    "ds = \"5\"\n",
    "st = \"LS-s\""
   ]
  },
  {
   "cell_type": "code",
   "execution_count": null,
   "metadata": {},
   "outputs": [],
   "source": [
    "hsic_xy =  onp.array(df.loc[(df[\"dataset\"]==st+\".\"+ds), \"hsic_xy\"])\n",
    "hsic_yx =  onp.array(df.loc[(df[\"dataset\"]==st+\".\"+ds),\"hsic_yx\"])\n",
    "hsic = onp.hstack([hsic_xy, hsic_yx])\n",
    "hsicc_xy =  onp.array(df.loc[(df[\"dataset\"]==st+\".\"+ds),\"hsicc_xy\"])\n",
    "hsicc_yx =  onp.array(df.loc[(df[\"dataset\"]==st+\".\"+ds), \"hsicc_yx\"])\n",
    "hsicc = onp.hstack([hsicc_xy, hsicc_yx])\n",
    "\n",
    "#hsic_yx= hsic_yx[0:(hsic_yx.shape[0]-1)]\n",
    "#hsicc_yx= hsicc_yx[0:(hsicc_yx.shape[0]-1)]\n",
    "print(hsic_xy.shape)\n",
    "print(hsic_yx.shape)"
   ]
  },
  {
   "cell_type": "code",
   "execution_count": null,
   "metadata": {},
   "outputs": [],
   "source": [
    "plt.scatter(onp.log10(hsic_xy), onp.log10(hsicc_xy))\n",
    "plt.scatter(onp.log10(hsic_yx), onp.log10(hsicc_yx))"
   ]
  },
  {
   "cell_type": "code",
   "execution_count": null,
   "metadata": {},
   "outputs": [],
   "source": [
    "st+\".\"+ds"
   ]
  },
  {
   "cell_type": "code",
   "execution_count": null,
   "metadata": {},
   "outputs": [],
   "source": [
    "x = df.loc[(df[\"dataset\"]==st+\".\"+ds)]\n",
    "x.head()"
   ]
  },
  {
   "cell_type": "code",
   "execution_count": null,
   "metadata": {},
   "outputs": [],
   "source": [
    "x.shape"
   ]
  },
  {
   "cell_type": "code",
   "execution_count": null,
   "metadata": {},
   "outputs": [],
   "source": [
    "n = getParsUnifW(x)\n",
    "print(n)"
   ]
  },
  {
   "cell_type": "code",
   "execution_count": null,
   "metadata": {},
   "outputs": [],
   "source": [
    "ws = unifo(n)"
   ]
  },
  {
   "cell_type": "code",
   "execution_count": null,
   "metadata": {},
   "outputs": [],
   "source": [
    "df_intsc.groupby(['type',\"dataset\"]).apply(getWeights, nm=\"w_unif\", funct=unifo, getParsFunct=getParsUnifW, pars=())"
   ]
  },
  {
   "cell_type": "code",
   "execution_count": null,
   "metadata": {},
   "outputs": [],
   "source": [
    "#df[\"smpl\"] = 1\n",
    "#df = getWeightsWrapper(df, getModMatVan, None, getModVan, None, \"w_unif\", unifo, getParsUnifW, [])\n",
    "df_parm = getWeightsWrapper(df_parm, getModMatVan, None, getModVan, None, \"w_unif\", unifo, getParsUnifW, [])\n",
    "#df_rand = getWeightsWrapper(df_rand, getModMatVan, None, getModVan, None, \"w_unif\", unifo, getParsUnifW, [])\n",
    "#df_intsc = getWeightsWrapper(df_intsc, getModMatVan, None, getModVan, None, \"w_unif\", unifo, getParsUnifW, [])\n",
    "#df_nn = getWeightsWrapper(df_nn, getModMatVan, None, getModVan, None, \"w_unif\", unifo, getParsUnifW, [])"
   ]
  },
  {
   "cell_type": "code",
   "execution_count": null,
   "metadata": {},
   "outputs": [],
   "source": [
    "df_parm.shape"
   ]
  },
  {
   "cell_type": "code",
   "execution_count": null,
   "metadata": {},
   "outputs": [],
   "source": [
    "print(onp.max(df_parm[\"w_unif\"]))\n",
    "print(onp.min(df_parm[\"w_unif\"]))"
   ]
  },
  {
   "cell_type": "code",
   "execution_count": null,
   "metadata": {},
   "outputs": [],
   "source": [
    "df[\"w_unif\"]=df_parm[\"w_unif\"]"
   ]
  },
  {
   "cell_type": "markdown",
   "metadata": {},
   "source": [
    "## best hsic(r,c) : weighting"
   ]
  },
  {
   "cell_type": "code",
   "execution_count": null,
   "metadata": {},
   "outputs": [],
   "source": [
    "ds = \"2\"\n",
    "st = \"LS-s\""
   ]
  },
  {
   "cell_type": "code",
   "execution_count": null,
   "metadata": {},
   "outputs": [],
   "source": [
    "hsic_xy =  onp.array(df.loc[(df[\"dataset\"]==st+\".\"+ds), \"hsic_xy\"])\n",
    "hsic_yx =  onp.array(df.loc[(df[\"dataset\"]==st+\".\"+ds),\"hsic_yx\"])\n",
    "hsic = onp.hstack([hsic_xy, hsic_yx])\n",
    "hsicc_xy =  onp.array(df.loc[(df[\"dataset\"]==st+\".\"+ds),\"hsicc_xy\"])\n",
    "hsicc_yx =  onp.array(df.loc[(df[\"dataset\"]==st+\".\"+ds), \"hsicc_yx\"])\n",
    "hsicc = onp.hstack([hsicc_xy, hsicc_yx])\n",
    "\n",
    "#hsic_yx= hsic_yx[0:(hsic_yx.shape[0]-1)]\n",
    "#hsicc_yx= hsicc_yx[0:(hsicc_yx.shape[0]-1)]\n",
    "print(hsic_xy.shape)\n",
    "print(hsic_yx.shape)"
   ]
  },
  {
   "cell_type": "code",
   "execution_count": null,
   "metadata": {},
   "outputs": [],
   "source": [
    "plt.scatter(onp.log10(hsic_xy), onp.log10(hsicc_xy))\n",
    "plt.scatter(onp.log10(hsic_yx), onp.log10(hsicc_yx))"
   ]
  },
  {
   "cell_type": "code",
   "execution_count": null,
   "metadata": {},
   "outputs": [],
   "source": []
  },
  {
   "cell_type": "code",
   "execution_count": null,
   "metadata": {},
   "outputs": [],
   "source": [
    "x = df.loc[(df[\"dataset\"]==st+\".\"+ds)]\n",
    "x.head()"
   ]
  },
  {
   "cell_type": "code",
   "execution_count": null,
   "metadata": {},
   "outputs": [],
   "source": [
    "sig = 10.0\n",
    "var = \"hsic\""
   ]
  },
  {
   "cell_type": "code",
   "execution_count": null,
   "metadata": {},
   "outputs": [],
   "source": [
    "X_xy, X_yx, sig = getParsHsicW(x, var, sig)"
   ]
  },
  {
   "cell_type": "code",
   "execution_count": null,
   "metadata": {},
   "outputs": [],
   "source": [
    "ws = lowestHsic(X_xy, X_yx, sig)"
   ]
  },
  {
   "cell_type": "code",
   "execution_count": null,
   "metadata": {},
   "outputs": [],
   "source": [
    "#df = df.groupby(['type',\"dataset\"]).apply(getWeights, nm=\"w_lowestHsic\", funct=lowestHsic, getParsFunct=getParsHsicW, pars=(var,sig))\n",
    "#df_rand = df_rand.groupby(['type',\"dataset\"]).apply(getWeights, nm=\"w_lowestHsic\", funct=lowestHsic, getParsFunct=getParsHsicW, pars=(var,sig))\n",
    "#df_intsc = df_intsc.groupby(['type',\"dataset\"]).apply(getWeights, nm=\"w_lowestHsic\", funct=lowestHsic, getParsFunct=getParsHsicW, pars=(var,sig))\n",
    "#df_nn = df_nn.groupby(['type',\"dataset\"]).apply(getWeights, nm=\"w_lowestHsic\", funct=lowestHsic, getParsFunct=getParsHsicW, pars=(var,sig))"
   ]
  },
  {
   "cell_type": "code",
   "execution_count": null,
   "metadata": {},
   "outputs": [],
   "source": [
    "#df = getWeightsWrapper(df, getModMatVan, None, getModVan, None, \"w_lowestHsic\", lowestHsic, getParsHsicW, [\"var\",\"sig\"], var=var, sig=sig)\n",
    "#df_parm = getWeightsWrapper(df_parm, getModMatVan, None, getModVan, None, \"w_lowestHsic\", lowestHsic, getParsHsicW, [\"var\",\"sig\"], var=var, sig=sig)\n",
    "#df_rand = getWeightsWrapper(df_rand, getModMatVan, None, getModVan, None, \"w_lowestHsic\", lowestHsic, getParsHsicW, [\"var\",\"sig\"], var=var, sig=sig)\n",
    "#df_intsc = getWeightsWrapper(df_intsc, getModMatVan, None, getModVan, None, \"w_lowestHsic\", lowestHsic, getParsHsicW, [\"var\",\"sig\"], var=var, sig=sig)\n",
    "df_nn = getWeightsWrapper(df_nn, getModMatVan, None, getModVan, None, \"w_lowestHsic\", lowestHsic, getParsHsicW, [\"var\",\"sig\"], var=var, sig=sig)"
   ]
  },
  {
   "cell_type": "code",
   "execution_count": null,
   "metadata": {},
   "outputs": [],
   "source": [
    "df_nn"
   ]
  },
  {
   "cell_type": "code",
   "execution_count": null,
   "metadata": {},
   "outputs": [],
   "source": [
    "wghts = df_nn[\"w_lowestHsic\"]\n",
    "wghts = onp.log10(wghts)\n",
    "wghts[wghts==-onp.inf]  = onp.min(wghts[wghts>-onp.inf] )\n",
    "onp.min(wghts)\n",
    "sns.distplot(wghts)"
   ]
  },
  {
   "cell_type": "code",
   "execution_count": null,
   "metadata": {},
   "outputs": [],
   "source": [
    "def maxWeight(x):\n",
    "    return onp.max(x.w_lowestHsic)\n",
    "df_nn[[\"type\",\"dataset\",\"w_lowestHsic\"]].groupby([\"type\",\"dataset\"]).apply(maxWeight)"
   ]
  },
  {
   "cell_type": "markdown",
   "metadata": {},
   "source": [
    "## efficient-frontier : weighting"
   ]
  },
  {
   "cell_type": "code",
   "execution_count": null,
   "metadata": {},
   "outputs": [],
   "source": [
    "ds = \"3\"\n",
    "st = \"LS-s\""
   ]
  },
  {
   "cell_type": "code",
   "execution_count": null,
   "metadata": {},
   "outputs": [],
   "source": [
    "hsic_xy =  onp.array(df.loc[(df[\"dataset\"]==st+\".\"+ds), \"hsic_xy\"])\n",
    "hsic_yx =  onp.array(df.loc[(df[\"dataset\"]==st+\".\"+ds),\"hsic_yx\"])\n",
    "hsic = onp.hstack([hsic_xy, hsic_yx])\n",
    "hsicc_xy =  onp.array(df.loc[(df[\"dataset\"]==st+\".\"+ds),\"hsicc_xy\"])\n",
    "hsicc_yx =  onp.array(df.loc[(df[\"dataset\"]==st+\".\"+ds), \"hsicc_yx\"])\n",
    "hsicc = onp.hstack([hsicc_xy, hsicc_yx])\n",
    "\n",
    "#hsic_yx= hsic_yx[0:(hsic_yx.shape[0]-1)]\n",
    "#hsicc_yx= hsicc_yx[0:(hsicc_yx.shape[0]-1)]\n",
    "print(hsic_xy.shape)\n",
    "print(hsic_yx.shape)"
   ]
  },
  {
   "cell_type": "code",
   "execution_count": null,
   "metadata": {
    "scrolled": true
   },
   "outputs": [],
   "source": [
    "plt.scatter(onp.log10(hsic_xy), onp.log10(hsicc_xy))\n",
    "plt.scatter(onp.log10(hsic_yx), onp.log10(hsicc_yx))"
   ]
  },
  {
   "cell_type": "code",
   "execution_count": null,
   "metadata": {},
   "outputs": [],
   "source": []
  },
  {
   "cell_type": "code",
   "execution_count": null,
   "metadata": {},
   "outputs": [],
   "source": [
    "x = df_intsc.loc[(df_intsc[\"dataset\"]==st+\".\"+ds)]\n",
    "x.head()"
   ]
  },
  {
   "cell_type": "code",
   "execution_count": null,
   "metadata": {},
   "outputs": [],
   "source": [
    "sig = 0.1\n",
    "varsss = [\"hsic\",\"hsicc\"]"
   ]
  },
  {
   "cell_type": "code",
   "execution_count": null,
   "metadata": {},
   "outputs": [],
   "source": [
    "X_xy, X_yx, sig = getParsEffFrontW(x, varsss, sig)"
   ]
  },
  {
   "cell_type": "code",
   "execution_count": null,
   "metadata": {},
   "outputs": [],
   "source": [
    "start = time.process_time()\n",
    "aux = getWeights(x, nm=\"w_effFront\", funct=effFront, getParsFunct=getParsEffFrontW, pars=(varsss,sig))\n",
    "timePerUnit = time.process_time() - start\n",
    "print(timePerUnit) \n"
   ]
  },
  {
   "cell_type": "code",
   "execution_count": null,
   "metadata": {},
   "outputs": [],
   "source": [
    "numUnits = df_intsc[[\"type\",\"dataset\",\"smpl\"]].groupby([\"type\",\"dataset\"]).count().shape[0]\n",
    "estimatedTime = timePerUnit*numUnits\n",
    "print(\"estimated time for model application:\", estimatedTime/60, \" mins\")"
   ]
  },
  {
   "cell_type": "code",
   "execution_count": null,
   "metadata": {},
   "outputs": [],
   "source": [
    "#df_intsc = df_intsc.groupby(['type',\"dataset\"]).apply(getWeights, nm=\"w_effFront\", funct=effFront, getParsFunct=getParsEffFrontW, pars=(varsss,sig))"
   ]
  },
  {
   "cell_type": "code",
   "execution_count": null,
   "metadata": {},
   "outputs": [],
   "source": [
    "start = time.process_time()\n",
    "df = getWeightsWrapper(df, getModMatVan, None, getModVan, None, \"w_effFront\", effFront, getParsEffFrontW, [\"varsss\",\"sig\"], varsss=varsss, sig=sig)\n",
    "df_rand = getWeightsWrapper(df_rand, getModMatVan, None, getModVan, None, \"w_effFront\", effFront, getParsEffFrontW, [\"varsss\",\"sig\"], varsss=varsss, sig=sig)\n",
    "df_intsc = getWeightsWrapper(df_intsc, getModMatVan, None, getModVan, None, \"w_effFront\", effFront, getParsEffFrontW, [\"varsss\",\"sig\"], varsss=varsss, sig=sig)\n",
    "df_nn = getWeightsWrapper(df_nn, getModMatVan, None, getModVan, None, \"w_effFront\", effFront, getParsEffFrontW, [\"varsss\",\"sig\"], varsss=varsss, sig=sig)\n",
    "print(\"actual time \",(time.process_time() - start)/60, \" mins\") #518 secs secs\n",
    "\n"
   ]
  },
  {
   "cell_type": "code",
   "execution_count": null,
   "metadata": {},
   "outputs": [],
   "source": [
    "df_intsc"
   ]
  },
  {
   "cell_type": "markdown",
   "metadata": {},
   "source": [
    "## model-simple-logistic : weighting"
   ]
  },
  {
   "cell_type": "code",
   "execution_count": null,
   "metadata": {},
   "outputs": [],
   "source": [
    "varsExpl = [\"dif_err\",\"dif_hsic\",\"dif_hsicc\",\"dif_mmd\",\"dif_hsicz\",\"min_err\",\"min_hsic\",\"min_hsicc\",\"min_mmd\",\"min_hsicz\",\"max_err\",\"max_hsic\",\"max_hsicc\",\"max_mmd\",\"max_hsicz\"]\n",
    "var_smpl_nm = \"smpld\"\n",
    "m = 5000"
   ]
  },
  {
   "cell_type": "code",
   "execution_count": null,
   "metadata": {},
   "outputs": [],
   "source": [
    "debug = False"
   ]
  },
  {
   "cell_type": "code",
   "execution_count": null,
   "metadata": {},
   "outputs": [],
   "source": [
    "if debug: \n",
    "    m =5000\n",
    "    modMat_intsc= getModMat(df_intsc, m)\n",
    "    print(modMat_intsc.columns)"
   ]
  },
  {
   "cell_type": "code",
   "execution_count": null,
   "metadata": {},
   "outputs": [],
   "source": [
    "if debug: \n",
    "    mod = getModSimp_logis(modMat_intsc, varsExpl)"
   ]
  },
  {
   "cell_type": "code",
   "execution_count": null,
   "metadata": {},
   "outputs": [],
   "source": [
    "if debug:\n",
    "    x = modMat_intsc.loc[(df_intsc[\"dataset\"]==st+\".\"+ds)]\n",
    "    X, mod, var_smpl = getParsModSimp_logisW(x, varsExpl, var_smpl_nm, mod)\n"
   ]
  },
  {
   "cell_type": "code",
   "execution_count": null,
   "metadata": {},
   "outputs": [],
   "source": [
    "if debug: \n",
    "    print(modMat_intsc.groupby(['type',\"dataset\"]).apply(getWeights, nm=\"w_modSimpLogis\", funct=modSimp_logis, getParsFunct=getParsModSimp_logisW, pars=(varsExpl, var_smpl_nm, mod)))"
   ]
  },
  {
   "cell_type": "code",
   "execution_count": null,
   "metadata": {},
   "outputs": [],
   "source": [
    "df_intsc = getWeightsWrapper(df_intsc, getModMat,m, getModSimp_logis, varsExpl,  \"w_modSimpLogis\", modSimp_logis, getParsModSimp_logisW, [\"varsExpl\", \"var_smpl_nm\", \"mod\"], var_smpl_nm=var_smpl_nm)"
   ]
  },
  {
   "cell_type": "code",
   "execution_count": null,
   "metadata": {},
   "outputs": [],
   "source": [
    "df_intsc"
   ]
  },
  {
   "cell_type": "markdown",
   "metadata": {},
   "source": [
    "## model-simple-random Forest : weighting"
   ]
  },
  {
   "cell_type": "code",
   "execution_count": null,
   "metadata": {},
   "outputs": [],
   "source": [
    "varsExpl = [\"dif_err\",\"dif_hsic\",\"dif_hsicc\",\"dif_mmd\",\"dif_hsicz\",\"min_err\",\"min_hsic\",\"min_hsicc\",\"min_mmd\",\"min_hsicz\",\"max_err\",\"max_hsic\",\"max_hsicc\",\"max_mmd\",\"max_hsicz\"]\n",
    "var_smpl_nm = \"smpld\"\n",
    "m = 5000"
   ]
  },
  {
   "cell_type": "code",
   "execution_count": null,
   "metadata": {},
   "outputs": [],
   "source": [
    "debug = False"
   ]
  },
  {
   "cell_type": "code",
   "execution_count": null,
   "metadata": {},
   "outputs": [],
   "source": [
    "if debug: \n",
    "    m =5000\n",
    "    modMat_intsc= getModMat(df_intsc, m)\n",
    "    modMat_intsc.columns"
   ]
  },
  {
   "cell_type": "code",
   "execution_count": null,
   "metadata": {},
   "outputs": [],
   "source": [
    "if debug: \n",
    "    df = modMat_intsc\n",
    "    X = df[varsExpl]\n",
    "    # set -inf to min and inf to max columns wise\n",
    "    minsX = (onp.ones([X.shape[0], 1]) * onp.min(X * onp.logical_not(onp.isinf(X)))[:, None].T)\n",
    "    X = onp.amax(onp.stack([X, minsX], axis=-1), axis=2)\n",
    "    X = pd.DataFrame(X, columns=varsExpl)\n",
    "    maxsX = (onp.ones([X.shape[0], 1]) * onp.max(X * onp.logical_not(onp.isinf(X)))[:, None].T)\n",
    "    X = onp.amin(onp.stack([X, maxsX], axis=-1), axis=2)\n",
    "    X = pd.DataFrame(X, columns=varsExpl)\n",
    "    y = df[\"resp_ent\"]\n",
    "\n",
    "    num_trees = 100\n",
    "    max_depth = 50\n",
    "    mod = RandomForestClassifier(max_depth=max_depth, random_state=0, n_estimators=num_trees, bootstrap=True,\n",
    "                                 class_weight=\"balanced\")\n",
    "    smpl = onp.where(df[\"smpld\"])\n",
    "    smpl_pred = onp.where(df[\"smpld\"] == 0)\n",
    "    mod.fit(X.iloc[smpl], y.iloc[smpl])\n",
    "\n",
    "\n",
    "    print(\"on all\", balanced_accuracy_score(y, mod.predict(X)))\n",
    "    print(\"on pred\", balanced_accuracy_score(y.iloc[smpl_pred], mod.predict(X.iloc[smpl_pred])))\n",
    "\n",
    "    df2 = df.copy()\n",
    "    df2[\"probRight\"] = mod.predict_proba(X)[:, 1]\n",
    "    df2[\"right\"] = mod.predict(X)\n",
    "    df2_pred = df2.iloc[smpl_pred]\n",
    "\n",
    "    def accuracy(x):\n",
    "        return balanced_accuracy_score(x.resp_ent, x.right)\n",
    "\n",
    "    res_acc = df2_pred.groupby([\"type\"]).apply(accuracy)\n",
    "\n",
    "    print(\"pred by type\")\n",
    "    with pd.option_context('display.max_rows', None, 'display.max_columns', None):  # more options can be specified also\n",
    "        print(res_acc)\n"
   ]
  },
  {
   "cell_type": "code",
   "execution_count": null,
   "metadata": {},
   "outputs": [],
   "source": [
    "if debug: \n",
    "    n_samples_bootstrap = onp.sum(df[\"smpld\"])\n",
    "    random_instance = check_random_state(0)\n",
    "    boots = np.array([random_instance.randint(0, n_samples_bootstrap, n_samples_bootstrap) for i in range(num_trees)]).T\n"
   ]
  },
  {
   "cell_type": "code",
   "execution_count": null,
   "metadata": {},
   "outputs": [],
   "source": [
    "if debug: \n",
    "    Xtr = X.iloc[smpl]\n",
    "    ytr = y.iloc[smpl]\n",
    "    Xpr = X\n",
    "    Leaves_tr = mod.apply(Xtr)\n",
    "    Leaves_pr = mod.apply(Xpr)\n",
    "    n_classes = 2\n",
    "    n_samples = Xtr.shape[0]\n",
    "    ws = n_samples / (n_classes * onp.bincount(ytr))\n",
    "\n",
    "    i = 42\n",
    "    tab = getTreeProbs(Leaves_tr[boots[:, i], i], ytr.to_numpy()[boots[:, i]], ws, Leaves_pr[:, i])\n",
    "    print(tab.shape)\n",
    "    print(tab)\n",
    "\n"
   ]
  },
  {
   "cell_type": "code",
   "execution_count": null,
   "metadata": {},
   "outputs": [],
   "source": [
    "if debug:\n",
    "    def DebugGetTreeProbs(Leaves_tr, boots, ytr, ws, Leaves_pr, i):\n",
    "        return getTreeProbs(Leaves_tr[boots[:, i], i], ytr.to_numpy()[boots[:, i]], ws, Leaves_pr[:, i])\n",
    "\n",
    "\n",
    "    forestProbs_tr = [DebugGetTreeProbs(Leaves_tr, boots, ytr, ws, Leaves_pr, i) for i in range(Leaves_tr.shape[1])]\n",
    "\n",
    "    probPred = predProbRF(forestProbs_tr, Leaves_pr)"
   ]
  },
  {
   "cell_type": "code",
   "execution_count": null,
   "metadata": {},
   "outputs": [],
   "source": [
    "if debug: \n",
    "    ty = \"AN-s\"\n",
    "    y_resp = (df[\"type\"] == ty) * 1\n",
    "    probRF = applyRF(mod, X.iloc[smpl], X, y_resp.iloc[smpl], boots)\n",
    "    print(ty, balanced_accuracy_score(y_resp, (probRF > 0.5) * 1))"
   ]
  },
  {
   "cell_type": "code",
   "execution_count": null,
   "metadata": {},
   "outputs": [],
   "source": [
    "if debug:\n",
    "    # can we use these features to identify the LS-s class? (or other types)... this wd be dangerous because then\n",
    "    # our model is kinda just first identifying the class then building separate assumption conditions for each one\n",
    "    # and we wont be able to extrapolate out of these classes. Quite likely.\n",
    "    print(\"accuracy of simple logistic model using score of log model above in predicting type\")\n",
    "\n",
    "\n",
    "    for ty in [\"AN\", \"AN-s\", \"LS\", \"LS-s\", \"MN-U\", \"SIM\", \"SIMG\", \"SIMln\", \"SIMc\", \"tcep\"]:\n",
    "        y_resp = (df[\"type\"] == ty) * 1\n",
    "        probRF = applyRF(mod, X.iloc[smpl], X, y_resp.iloc[smpl], boots)\n",
    "        print(ty, balanced_accuracy_score(y_resp, (probRF > 0.5) * 1))"
   ]
  },
  {
   "cell_type": "code",
   "execution_count": null,
   "metadata": {},
   "outputs": [],
   "source": [
    "if debug: \n",
    "    mod = getModSimp_RF(modMat_intsc, varsExpl)"
   ]
  },
  {
   "cell_type": "code",
   "execution_count": null,
   "metadata": {},
   "outputs": [],
   "source": [
    "if debug:\n",
    "    x = modMat_intsc.loc[(df_intsc[\"dataset\"]==st+\".\"+ds)]\n",
    "    x.head()"
   ]
  },
  {
   "cell_type": "code",
   "execution_count": null,
   "metadata": {},
   "outputs": [],
   "source": [
    "if debug: \n",
    "    X, mod, var_smpl = getParsModSimp_RFW(x, varsExpl, var_smpl_nm, mod)"
   ]
  },
  {
   "cell_type": "code",
   "execution_count": null,
   "metadata": {},
   "outputs": [],
   "source": [
    "if debug: \n",
    "    print(modMat_intsc.groupby(['type',\"dataset\"]).apply(getWeights, nm=\"w_modSimpRF\", funct=modSimp_RF, getParsFunct=getParsModSimp_RFW, pars=(varsExpl, var_smpl_nm, mod)))"
   ]
  },
  {
   "cell_type": "code",
   "execution_count": null,
   "metadata": {
    "scrolled": false
   },
   "outputs": [],
   "source": [
    "df_intsc = getWeightsWrapper(df_intsc,  getModMat,m, getModSimp_RF, varsExpl,  \"w_modSimpRF\", modSimp_RF, getParsModSimp_RFW, [\"varsExpl\", \"var_smpl_nm\", \"mod\"], var_smpl_nm=var_smpl_nm)"
   ]
  },
  {
   "cell_type": "code",
   "execution_count": null,
   "metadata": {},
   "outputs": [],
   "source": [
    "df_intsc.columns"
   ]
  },
  {
   "cell_type": "markdown",
   "metadata": {},
   "source": [
    "## model-cmplx-fair-logistic : weighting"
   ]
  },
  {
   "cell_type": "code",
   "execution_count": null,
   "metadata": {},
   "outputs": [],
   "source": [
    "varsExpl = [\"dif_err\",\"dif_hsic\",\"dif_hsicc\",\"dif_mmd\",\"dif_hsicz\",\"min_err\",\"min_hsic\",\"min_hsicc\",\"min_mmd\",\"min_hsicz\",\"max_err\",\"max_hsic\",\"max_hsicc\",\"max_mmd\",\"max_hsicz\"]\n",
    "var_smpl_nm = \"smpld\""
   ]
  },
  {
   "cell_type": "code",
   "execution_count": null,
   "metadata": {},
   "outputs": [],
   "source": [
    "debug = True"
   ]
  },
  {
   "cell_type": "code",
   "execution_count": null,
   "metadata": {},
   "outputs": [],
   "source": [
    "if debug: \n",
    "    m =5000\n",
    "    modMat_intsc= getModMat(df_intsc, m)\n",
    "    modMat_intsc.columns"
   ]
  },
  {
   "cell_type": "code",
   "execution_count": null,
   "metadata": {},
   "outputs": [],
   "source": [
    "if debug: \n",
    "    X = modMat_intsc[varsExpl]\n",
    "    minsX = (onp.ones([X.shape[0], 1]) * onp.min(X * onp.logical_not(onp.isinf(X)))[:, None].T)\n",
    "    X = onp.amax(onp.stack([X, minsX], axis=-1), axis=2)\n",
    "    X = pd.DataFrame(X, columns=varsExpl)\n",
    "    maxsX = (onp.ones([X.shape[0], 1]) * onp.max(X * onp.logical_not(onp.isinf(X)))[:, None].T)\n",
    "    X = onp.amin(onp.stack([X, maxsX], axis=-1), axis=2)\n",
    "    X = pd.DataFrame(X, columns=varsExpl)\n",
    "    y = modMat_intsc[\"resp_ent\"]\n",
    "    poly_reg = PolynomialFeatures(degree=4) \n",
    "    X = poly_reg.fit_transform(X)\n",
    "    y = y.to_numpy()\n",
    "    smpl = onp.where(modMat_intsc[\"smpld\"])\n",
    "    smpl_pred = onp.where(modMat_intsc[\"smpld\"]==0)\n",
    "    S = modMat_intsc[\"type\"]"
   ]
  },
  {
   "cell_type": "code",
   "execution_count": null,
   "metadata": {},
   "outputs": [],
   "source": [
    "if debug: \n",
    "    onp.random.seed(0)  # set seed for consistent results with ExponentiatedGradient\n",
    "    mod = LogisticRegression(random_state=0, penalty=\"l2\", solver=\"lbfgs\", class_weight=\"balanced\")\n",
    "    mod.fit(X[smpl], y[smpl])\n",
    "    y_pred = mod.predict(X[smpl_pred])\n"
   ]
  },
  {
   "cell_type": "code",
   "execution_count": null,
   "metadata": {
    "scrolled": true
   },
   "outputs": [],
   "source": [
    "\n",
    "if debug: \n",
    "    onp.random.seed(0)  # set seed for consistent results with ExponentiatedGradient\n",
    "    constraint = DemographicParity(difference_bound=0.0)\n",
    "    #classifier = DecisionTreeClassifier(min_samples_leaf=10, max_depth=4)\n",
    "    classifier = LogisticRegression(random_state=0, penalty=\"l2\", solver=\"lbfgs\", class_weight=\"balanced\")\n",
    "    mitigator = ExponentiatedGradient(classifier, constraint)\n",
    "    mitigator.fit(X[smpl], y[smpl], sensitive_features=S.iloc[smpl])\n",
    "    y_pred_mitigated = mitigator.predict(X[smpl_pred])\n"
   ]
  },
  {
   "cell_type": "code",
   "execution_count": null,
   "metadata": {},
   "outputs": [],
   "source": [
    "if debug: \n",
    "    print(\"UN-mitigated\")\n",
    "    print(\"************************************************************************\")\n",
    "    print(\"************************************************************************\")\n",
    "\n",
    "    sr = MetricFrame(metrics={'selection_rate':selection_rate,\n",
    "                                  'accuracy':skm.accuracy_score,\n",
    "                                        'balanced accuracy':skm.balanced_accuracy_score,\n",
    "                                    'count': count}, y_true=y[smpl_pred], y_pred=y_pred,  sensitive_features=S.iloc[smpl_pred])\n",
    "    print(\"overall\")\n",
    "    print(\"**************\")\n",
    "    print(sr.overall)\n",
    "\n",
    "\n",
    "    print(\"by group\")\n",
    "    print(\"**************\")\n",
    "    print(sr.by_group)\n",
    "\n",
    "\n",
    "    print(\"differences\")\n",
    "    print(\"**************\")\n",
    "    print(sr.difference(method='between_groups'))\n",
    "\n",
    "    print(\"mitigated\")\n",
    "    print(\"************************************************************************\")\n",
    "    print(\"************************************************************************\")\n",
    "\n",
    "    sr_mitigated = MetricFrame(metrics={'selection_rate':selection_rate,\n",
    "                                      'accuracy':skm.accuracy_score,\n",
    "                                        'balanced accuracy':skm.balanced_accuracy_score,\n",
    "                                    'count': count}, y_true=y[smpl_pred], y_pred=y_pred_mitigated, sensitive_features=S.iloc[smpl_pred])\n",
    "    print(\"overall\")\n",
    "    print(\"**************\")\n",
    "    print(sr_mitigated.overall)\n",
    "\n",
    "\n",
    "    print(\"by group\")\n",
    "    print(\"**************\")\n",
    "    print(sr_mitigated.by_group)\n",
    "\n",
    "\n",
    "    print(\"differences\")\n",
    "    print(\"**************\")\n",
    "    print(sr_mitigated.difference(method='between_groups'))"
   ]
  },
  {
   "cell_type": "code",
   "execution_count": null,
   "metadata": {},
   "outputs": [],
   "source": [
    "if debug:\n",
    "    mod = getModCmplx_logis(modMat_intsc, varsExpl)"
   ]
  },
  {
   "cell_type": "code",
   "execution_count": null,
   "metadata": {},
   "outputs": [],
   "source": [
    "if debug: \n",
    "    x = modMat_intsc.loc[(df_intsc[\"dataset\"]==st+\".\"+ds)]\n",
    "    X, mod, var_smpl = getParsModSimpW(x, varsExpl, var_smpl_nm, mod)"
   ]
  },
  {
   "cell_type": "code",
   "execution_count": null,
   "metadata": {},
   "outputs": [],
   "source": [
    "if debug: \n",
    "    modMat_intsc.groupby(['type',\"dataset\"]).apply(getWeights, nm=\"w_modCmplxLogis\", funct=modCmplx_logis, getParsFunct=getParsModCmplx_logisW, pars=(varsExpl, var_smpl_nm, mod))"
   ]
  },
  {
   "cell_type": "code",
   "execution_count": null,
   "metadata": {},
   "outputs": [],
   "source": [
    "df_intsc = getWeightsWrapper(df_intsc,  getModMat,m, getModCmplx_logis, varsExpl,  \"w_modCmplxLogis\", modCmplx_logis, getParsModCmplx_logisW, [\"varsExpl\", \"var_smpl_nm\", \"mod\"], var_smpl_nm=var_smpl_nm)"
   ]
  },
  {
   "cell_type": "code",
   "execution_count": null,
   "metadata": {},
   "outputs": [],
   "source": [
    "df_intsc.columns"
   ]
  },
  {
   "cell_type": "markdown",
   "metadata": {},
   "source": [
    "## model-cmplx-fair-randomForest : weighting"
   ]
  },
  {
   "cell_type": "code",
   "execution_count": null,
   "metadata": {},
   "outputs": [],
   "source": [
    "m =5000\n",
    "modMat_intsc= getModMat(df_intsc, m)\n",
    "modMat_intsc.columns"
   ]
  },
  {
   "cell_type": "code",
   "execution_count": null,
   "metadata": {},
   "outputs": [],
   "source": [
    "varsExpl = [\"dif_err\",\"dif_hsic\",\"dif_hsicc\",\"dif_mmd\",\"dif_hsicz\",\"min_err\",\"min_hsic\",\"min_hsicc\",\"min_mmd\",\"min_hsicz\",\"max_err\",\"max_hsic\",\"max_hsicc\",\"max_mmd\",\"max_hsicz\"]\n",
    "X = modMat_intsc[varsExpl]\n",
    "y = modMat_intsc[\"resp_ent\"]\n",
    "#poly_reg = PolynomialFeatures(degree=1) \n",
    "#X = poly_reg.fit_transform(X)\n",
    "#y = y.to_numpy()\n",
    "smpl = onp.where(modMat_intsc[\"smpld\"])\n",
    "smpl_pred = onp.where(modMat_intsc[\"smpld\"]==0)\n",
    "S = modMat_intsc[\"type\"]"
   ]
  },
  {
   "cell_type": "code",
   "execution_count": null,
   "metadata": {},
   "outputs": [],
   "source": [
    "\n",
    "\n",
    "onp.random.seed(0)  # set seed for consistent results with ExponentiatedGradient\n",
    "\n",
    "\n",
    "num_trees = 100\n",
    "max_depth = 50\n",
    "mod = RandomForestClassifier(max_depth=max_depth, random_state=0,  n_estimators=num_trees, bootstrap=True,class_weight=\"balanced\")#,\n",
    "\n",
    "mod.fit(X.iloc[smpl], y.iloc[smpl])\n",
    "y_pred = mod.predict(X.iloc[smpl_pred])\n"
   ]
  },
  {
   "cell_type": "code",
   "execution_count": null,
   "metadata": {
    "scrolled": false
   },
   "outputs": [],
   "source": [
    "\n",
    "onp.random.seed(0)  # set seed for consistent results with ExponentiatedGradient\n",
    "\n",
    "constraint = DemographicParity(difference_bound=0.0)\n",
    "classifier = RandomForestClassifier(max_depth=max_depth, random_state=0,  n_estimators=num_trees, bootstrap=True,class_weight=\"balanced\")#,\n",
    "mitigator = ExponentiatedGradient(classifier, constraint)\n",
    "mitigator.fit(X.iloc[smpl], y.iloc[smpl], sensitive_features=S.iloc[smpl])\n",
    "y_pred_mitigated = mitigator.predict(X.iloc[smpl_pred])\n"
   ]
  },
  {
   "cell_type": "code",
   "execution_count": null,
   "metadata": {},
   "outputs": [],
   "source": [
    "print(\"UN-mitigated\")\n",
    "print(\"************************************************************************\")\n",
    "print(\"************************************************************************\")\n",
    "\n",
    "sr = MetricFrame(metrics={'selection_rate':selection_rate,\n",
    "                                  'accuracy':skm.accuracy_score,\n",
    "                                    'balanced accuracy':skm.balanced_accuracy_score,\n",
    "                                'count': count}, y_true=y.iloc[smpl_pred], y_pred=y_pred,  sensitive_features=S.iloc[smpl_pred])\n",
    "print(\"overall\")\n",
    "print(\"**************\")\n",
    "print(sr.overall)\n",
    "\n",
    "\n",
    "print(\"by group\")\n",
    "print(\"**************\")\n",
    "print(sr.by_group)\n",
    "\n",
    "\n",
    "print(\"differences\")\n",
    "print(\"**************\")\n",
    "print(sr.difference(method='between_groups'))\n",
    "\n",
    "print(\"mitigated\")\n",
    "print(\"************************************************************************\")\n",
    "print(\"************************************************************************\")\n",
    "\n",
    "sr_mitigated = MetricFrame(metrics={'selection_rate':selection_rate,\n",
    "                                  'accuracy':skm.accuracy_score,\n",
    "                                    'balanced accuracy':skm.balanced_accuracy_score,\n",
    "                                'count': count}, y_true=y.iloc[smpl_pred], y_pred=y_pred_mitigated, sensitive_features=S.iloc[smpl_pred])\n",
    "print(\"overall\")\n",
    "print(\"**************\")\n",
    "print(sr_mitigated.overall)\n",
    "\n",
    "\n",
    "print(\"by group\")\n",
    "print(\"**************\")\n",
    "print(sr_mitigated.by_group)\n",
    "\n",
    "\n",
    "print(\"differences\")\n",
    "print(\"**************\")\n",
    "print(sr_mitigated.difference(method='between_groups'))"
   ]
  },
  {
   "cell_type": "code",
   "execution_count": null,
   "metadata": {},
   "outputs": [],
   "source": [
    "n_samples_bootstrap = onp.sum(modMat_intsc[\"smpld\"])\n",
    "random_instance = check_random_state(0)\n",
    "smpls = onp.array([random_instance.randint(0, n_samples_bootstrap, n_samples_bootstrap) for i in range(num_trees)]).T\n"
   ]
  },
  {
   "cell_type": "code",
   "execution_count": null,
   "metadata": {},
   "outputs": [],
   "source": [
    "for ty in [\"AN\",\"AN-s\",\"LS\",\"LS-s\",\"MN-U\",\"SIM\",\"SIMG\",\"SIMln\",\"SIMc\",\"tcep\"]:\n",
    "        y_resp = (modMat_intsc[\"type\"]==ty)*1\n",
    "        probRF = applyRF(mod, X.iloc[smpl], X, y_resp.iloc[smpl], smpls)\n",
    "        print(ty, balanced_accuracy_score(y_resp, (probRF>0.5)*1))"
   ]
  },
  {
   "cell_type": "code",
   "execution_count": null,
   "metadata": {},
   "outputs": [],
   "source": [
    "for ty in [\"AN\",\"AN-s\",\"LS\", \"LS-s\",\"MN-U\",\"SIM\",\"SIMG\",\"SIMln\",\"SIMc\",\"tcep\"]:\n",
    "        y_resp = (modMat_intsc[\"type\"]==ty)*1\n",
    "        x_score = getProba_mitigator_RF(mitigator, X.iloc[smpl], X, y_resp.iloc[smpl], smpls)\n",
    "        print(ty,balanced_accuracy_score(y_resp, (x_score>0.5)*1))"
   ]
  },
  {
   "cell_type": "code",
   "execution_count": null,
   "metadata": {},
   "outputs": [],
   "source": [
    "varsExpl = [\"dif_err\",\"dif_hsic\",\"dif_hsicc\",\"dif_mmd\",\"dif_hsicz\",\"min_err\",\"min_hsic\",\"min_hsicc\",\"min_mmd\",\"min_hsicz\",\"max_err\",\"max_hsic\",\"max_hsicc\",\"max_mmd\",\"max_hsicz\"]\n",
    "mod = getModCmplx_RF(modMat_intsc, varsExpl)"
   ]
  },
  {
   "cell_type": "code",
   "execution_count": null,
   "metadata": {},
   "outputs": [],
   "source": [
    "varsExpl = [\"dif_err\",\"dif_hsic\",\"dif_hsicc\",\"dif_mmd\",\"dif_hsicz\",\"min_err\",\"min_hsic\",\"min_hsicc\",\"min_mmd\",\"min_hsicz\",\"max_err\",\"max_hsic\",\"max_hsicc\",\"max_mmd\",\"max_hsicz\"]\n",
    "var_smpl_nm = \"smpld\""
   ]
  },
  {
   "cell_type": "code",
   "execution_count": null,
   "metadata": {},
   "outputs": [],
   "source": [
    "x = modMat_intsc.loc[(df_intsc[\"dataset\"]==st+\".\"+ds)]\n",
    "x.head()"
   ]
  },
  {
   "cell_type": "code",
   "execution_count": null,
   "metadata": {},
   "outputs": [],
   "source": [
    "X, mod, var_smpl = getParsModCmplx_RFW(x, varsExpl, var_smpl_nm, mod)"
   ]
  },
  {
   "cell_type": "code",
   "execution_count": null,
   "metadata": {},
   "outputs": [],
   "source": [
    "var_smpl"
   ]
  },
  {
   "cell_type": "code",
   "execution_count": null,
   "metadata": {},
   "outputs": [],
   "source": [
    "onp.sum(var_smpl)"
   ]
  },
  {
   "cell_type": "code",
   "execution_count": null,
   "metadata": {},
   "outputs": [],
   "source": [
    "modMat_intsc.groupby([\"type\",\"dataset\"]).count()"
   ]
  },
  {
   "cell_type": "code",
   "execution_count": null,
   "metadata": {},
   "outputs": [],
   "source": [
    "#start = time.process_time()\n",
    "modMat_intsc.groupby(['type',\"dataset\"]).apply(getWeights, nm=\"w_modCmplxRF\", funct=modCmplx_RF, getParsFunct=getParsModCmplx_RFW, pars=(varsExpl, var_smpl_nm, mod))\n",
    "#print(time.process_time() - start) #518 secs secs\n",
    "\n",
    "\n"
   ]
  },
  {
   "cell_type": "code",
   "execution_count": null,
   "metadata": {},
   "outputs": [],
   "source": [
    "df_intsc = getWeightsWrapper(df_intsc,  getModMat,m, getModCmplx_RF, varsExpl,  \"w_modCmplxRF\", modCmplx_RF, getParsModCmplx_RFW, [\"varsExpl\", \"var_smpl_nm\", \"mod\"], var_smpl_nm=var_smpl_nm)"
   ]
  },
  {
   "cell_type": "code",
   "execution_count": null,
   "metadata": {},
   "outputs": [],
   "source": [
    "df_intsc.columns"
   ]
  },
  {
   "cell_type": "markdown",
   "metadata": {},
   "source": [
    "# Obtain long format"
   ]
  },
  {
   "cell_type": "code",
   "execution_count": null,
   "metadata": {},
   "outputs": [],
   "source": [
    "vars_weights = list(df.columns[list(onp.where([var.split(\"_\")[0]==\"w\" for var in list(df.columns)]))[0]])\n",
    "vars_weights"
   ]
  },
  {
   "cell_type": "code",
   "execution_count": null,
   "metadata": {},
   "outputs": [],
   "source": [
    "indxDel,  = onp.where([len(col.split(\"_\"))>2 for col in list(df.columns)])\n",
    "colsDel = [list(df.columns)[i] for i in indxDel]\n",
    "df.drop(axis=1, columns=colsDel, inplace=True)"
   ]
  },
  {
   "cell_type": "code",
   "execution_count": null,
   "metadata": {},
   "outputs": [],
   "source": [
    "#df_long_full = getLongFormat2(df, ['job', 'rep', 'set', 'lambda', 'eta', 'beta', 'neta', 'nu','lu', 'lr', 'ot', 'dataset', 'num', 'type'])\n",
    "df_parm_long_full = getLongFormat2(df_parm, [\"type\",\"dataset\",\"smpl\"]+vars_weights)\n",
    "#df_rand_long_full = getLongFormat2(df_rand, [\"type\",\"dataset\",\"smpl\"]+vars_weights)\n",
    "#df_intsc_long_full = getLongFormat2(df_intsc, [\"type\",\"dataset\",\"smpl\"]+vars_weights)\n",
    "#df_nn_long_full = getLongFormat2(df_nn, [\"type\",\"dataset\",\"smpl\"]+vars_weights)"
   ]
  },
  {
   "cell_type": "code",
   "execution_count": null,
   "metadata": {},
   "outputs": [],
   "source": [
    "#print(\"parm\",df_parm.shape)\n",
    "print(\"rand\",df_rand.shape)\n",
    "print(\"intsc\",df_intsc.shape)"
   ]
  },
  {
   "cell_type": "markdown",
   "metadata": {},
   "source": [
    "# Voting using weights - by param"
   ]
  },
  {
   "cell_type": "code",
   "execution_count": null,
   "metadata": {},
   "outputs": [],
   "source": [
    "df = df.loc[df[\"ot\"]==\"freeZ\"]"
   ]
  },
  {
   "cell_type": "code",
   "execution_count": null,
   "metadata": {},
   "outputs": [],
   "source": [
    "parsVars = list(pars.keys())\n",
    "parsVars"
   ]
  },
  {
   "cell_type": "code",
   "execution_count": null,
   "metadata": {},
   "outputs": [],
   "source": [
    "df_long_full[\"w_unif\"]=1"
   ]
  },
  {
   "cell_type": "code",
   "execution_count": null,
   "metadata": {},
   "outputs": [],
   "source": [
    "_, tabAcc = getAccuracy(df_long_full, [\"w_unif\",\"w_lowestHsic\",\"w_effFront\"][0], parVars=parsVars)\n",
    "tabAcc\n",
    "pd.pivot_table(tabAcc, index=[\"type\"]+parsVars, columns=[\"variable\"], values=\"value\", aggfunc=onp.sum)"
   ]
  },
  {
   "cell_type": "code",
   "execution_count": null,
   "metadata": {},
   "outputs": [],
   "source": [
    "import numpy as onp\n",
    "import seaborn as sns\n",
    "import jax.numpy as np"
   ]
  },
  {
   "cell_type": "code",
   "execution_count": null,
   "metadata": {},
   "outputs": [],
   "source": [
    "qs = onp.random.choice([0.4,0.5, 0.6,0.7,0.8,0.9, 0.9,0.99, 0.99, 0.999,0.999], size=5)"
   ]
  },
  {
   "cell_type": "code",
   "execution_count": null,
   "metadata": {},
   "outputs": [],
   "source": [
    "x = onp.random.randn(100)\n",
    "1/np.quantile(x ,qs)"
   ]
  },
  {
   "cell_type": "code",
   "execution_count": null,
   "metadata": {},
   "outputs": [],
   "source": [
    "maxSig = 0.999\n",
    "minSig =  0.4\n",
    "x = onp.random.beta(a=50,b=2, size=1000)\n",
    "x = x*(maxSig-minSig)+minSig\n",
    "sns.distplot(x)\n",
    "x[0:4]"
   ]
  },
  {
   "cell_type": "code",
   "execution_count": null,
   "metadata": {},
   "outputs": [],
   "source": [
    "par = \"beta\"\n",
    "res = tabAcc[[\"type\",\"variable\",par,\"value\"]].groupby([\"type\",\"variable\",par]).apply(onp.mean)\n",
    "res.drop(axis=1, columns=par, inplace=True)\n",
    "res = res.reset_index()\n",
    "pd.pivot_table(res, index=[\"type\"],columns=[\"variable\", par], values=\"value\")\n",
    "# lambda 0.01, 0.1\n",
    "# beta 0.1, 1.0\n",
    "# neta  0.01, 0.1\n"
   ]
  },
  {
   "cell_type": "markdown",
   "metadata": {},
   "source": [
    "# plots"
   ]
  },
  {
   "cell_type": "code",
   "execution_count": null,
   "metadata": {},
   "outputs": [],
   "source": [
    "df_plt_bnch = df_long_bnch.loc[[v in [\"hsic_xy\",\"hsic_yx\",\"ent_xy\",\"ent_yx\",\"errs_xy\", \"errs_yx\"] for v in df_long_bnch[\"variable\"]]]\n",
    "df_plt_bnch = pd.pivot_table(df_plt_bnch, index=[\"rep\",\"set\",\"type\",\"dataset\",\"num\",\"job\",\"lambda\",\"dir\",\"smpl\"], columns=[\"var\"], values=[\"value\"])\n",
    "df_plt_bnch.columns = [col[1] for col in df_plt_bnch.columns.values]\n",
    "df_plt_bnch = df_plt_bnch.reset_index()"
   ]
  },
  {
   "cell_type": "code",
   "execution_count": null,
   "metadata": {},
   "outputs": [],
   "source": [
    "df_plt_bnch[\"ln_hsic\"] = onp.log(df_plt_bnch[\"hsic\"])\n",
    "df_plt_bnch[\"ln_errs\"] = onp.log(df_plt_bnch[\"errs\"])"
   ]
  },
  {
   "cell_type": "code",
   "execution_count": null,
   "metadata": {},
   "outputs": [],
   "source": [
    "df_plt_bnch.head()"
   ]
  },
  {
   "cell_type": "code",
   "execution_count": null,
   "metadata": {},
   "outputs": [],
   "source": [
    "varHue = \"dir\"\n",
    "sns.pairplot(df_plt_bnch[[varHue,\"ent\",\"ln_errs\",\"ln_hsic\"]], hue=varHue, plot_kws={'alpha': 0.1})"
   ]
  },
  {
   "cell_type": "code",
   "execution_count": null,
   "metadata": {},
   "outputs": [],
   "source": [
    "varHue = \"dir\"\n",
    "sns.pairplot(df_plt_bnch[[varHue,\"ent\",\"ln_errs\",\"ln_hsic\"]].loc[(df_plt_bnch[\"type\"]==\"AN-s\")|(df_plt_bnch[\"type\"]==\"AN\")], hue=varHue, plot_kws={'alpha': 0.1})"
   ]
  },
  {
   "cell_type": "code",
   "execution_count": null,
   "metadata": {},
   "outputs": [],
   "source": [
    "varHue = \"dir\"\n",
    "sns.pairplot(df_plt_bnch[[varHue,\"ent\",\"ln_errs\",\"ln_hsic\"]].loc[(df_plt_bnch[\"type\"]==\"LS-s\")|(df_plt_bnch[\"type\"]==\"MN-U\")], hue=varHue, plot_kws={'alpha': 0.1})"
   ]
  },
  {
   "cell_type": "code",
   "execution_count": null,
   "metadata": {},
   "outputs": [],
   "source": [
    "df_plt = df_long_full.loc[[v in [\"hsic\",\"hsicc\",\"ent\",\"errs\"] for v in df_long_full[\"var\"]]]\n",
    "df_plt = pd.pivot_table(df_plt, index=[\"rep\",\"set\",\"type\",\"dataset\",\"num\",\"job\",\"lambda\",\"dir\"], columns=[\"var\"], values=[\"value\"])\n",
    "df_plt.columns = [col[1] for col in df_plt.columns.values]\n",
    "df_plt = df_plt.reset_index()"
   ]
  },
  {
   "cell_type": "code",
   "execution_count": null,
   "metadata": {},
   "outputs": [],
   "source": [
    "df_plt[\"ln_hsic\"] = onp.log(df_plt[\"hsic\"])\n",
    "df_plt[\"ln_hsicc\"] = onp.log(df_plt[\"hsicc\"])\n",
    "df_plt[\"ln_errs\"] = onp.log(df_plt[\"errs\"])"
   ]
  },
  {
   "cell_type": "code",
   "execution_count": null,
   "metadata": {},
   "outputs": [],
   "source": [
    "df_plt.head()"
   ]
  },
  {
   "cell_type": "code",
   "execution_count": null,
   "metadata": {},
   "outputs": [],
   "source": [
    "varHue = \"dir\"\n",
    "sns.pairplot(df_plt[[varHue,\"ent\",\"ln_errs\",\"ln_hsic\",\"ln_hsicc\"]], hue=varHue, plot_kws={'alpha': 0.1})"
   ]
  },
  {
   "cell_type": "code",
   "execution_count": null,
   "metadata": {},
   "outputs": [],
   "source": [
    "varHue = \"dir\"\n",
    "sns.pairplot(df_plt[[varHue,\"ent\",\"ln_errs\",\"ln_hsic\",\"ln_hsicc\"]].loc[(df_plt[\"type\"]==\"AN\")|(df_plt[\"type\"]==\"AN-s\")], hue=varHue, plot_kws={'alpha': 0.1})"
   ]
  },
  {
   "cell_type": "code",
   "execution_count": null,
   "metadata": {
    "scrolled": true
   },
   "outputs": [],
   "source": [
    "varHue = \"dir\"\n",
    "sns.pairplot(df_plt[[varHue,\"ent\",\"ln_errs\",\"ln_hsic\",\"ln_hsicc\"]].loc[(df_plt[\"type\"]==\"LS-s\")|(df_plt[\"type\"]==\"MN-U\")], hue=varHue, plot_kws={'alpha': 0.1})"
   ]
  },
  {
   "cell_type": "code",
   "execution_count": null,
   "metadata": {},
   "outputs": [],
   "source": [
    "df_long_full.head()"
   ]
  },
  {
   "cell_type": "code",
   "execution_count": null,
   "metadata": {},
   "outputs": [],
   "source": [
    "df_plt = df_long_full.loc[[v in [\"hsic\",\"hsicc\",\"ent\",\"errs\"] for v in df_long_full[\"var\"]]]\n",
    "df_plt = pd.pivot_table(df_plt, index=[\"rep\",\"set\",\"type\",\"dataset\",\"num\",\"job\",\"lambda\"], columns=[\"variable\"], values=[\"value\"])\n",
    "df_plt.columns = [col[1] for col in df_plt.columns.values]\n",
    "df_plt = df_plt.reset_index()\n",
    "df_plt.head()"
   ]
  },
  {
   "cell_type": "code",
   "execution_count": null,
   "metadata": {},
   "outputs": [],
   "source": [
    "df_plt[\"ln_hsic_xy\"] = onp.log(df_plt[\"hsic_xy\"])\n",
    "df_plt[\"ln_hsicc_xy\"] = onp.log(df_plt[\"hsicc_xy\"])\n",
    "df_plt[\"ln_errs_xy\"] = onp.log(df_plt[\"errs_xy\"])\n",
    "\n",
    "df_plt[\"ln_hsic_yx\"] = onp.log(df_plt[\"hsic_yx\"])\n",
    "df_plt[\"ln_hsicc_yx\"] = onp.log(df_plt[\"hsicc_yx\"])\n",
    "df_plt[\"ln_errs_yx\"] = onp.log(df_plt[\"errs_yx\"])\n",
    "\n",
    "\n",
    "df_plt[\"ln_hsicDif\"] = df_plt[\"ln_hsic_yx\"]- df_plt[\"ln_hsic_xy\"]\n",
    "df_plt[\"ln_hsiccDif\"] = df_plt[\"ln_hsicc_yx\"]- df_plt[\"ln_hsicc_xy\"]\n",
    "df_plt[\"ln_errsDif\"] = df_plt[\"ln_errs_yx\"]- df_plt[\"ln_errs_xy\"]\n",
    "df_plt[\"entDif\"] = df_plt[\"ent_yx\"]- df_plt[\"ent_xy\"]\n",
    "\n"
   ]
  },
  {
   "cell_type": "code",
   "execution_count": null,
   "metadata": {},
   "outputs": [],
   "source": [
    "from scipy.stats import pearsonr\n",
    "\n",
    "\n",
    "def corrfunc(x, y, ax=None, **kws):\n",
    "    \"\"\"Plot the correlation coefficient in the top left hand corner of a plot.\"\"\"\n",
    "    r, _ = pearsonr(x, y)\n",
    "    ax = ax or plt.gca()\n",
    "    ax.annotate(f'ρ = {r:.2f}', xy=(.1, .9), xycoords=ax.transAxes)"
   ]
  },
  {
   "cell_type": "code",
   "execution_count": null,
   "metadata": {},
   "outputs": [],
   "source": [
    "g.axes[0]"
   ]
  },
  {
   "cell_type": "code",
   "execution_count": null,
   "metadata": {},
   "outputs": [],
   "source": [
    "g = sns.pairplot(df_plt[[\"type\",\"entDif\",\"ln_errsDif\",\"ln_hsicDif\",\"ln_hsiccDif\"]].loc[(df_plt[\"type\"]==\"AN\")|(df_plt[\"type\"]==\"AN-s\")], hue=\"type\", plot_kws={'alpha': 0.1})\n",
    "#g.map_lower(corrfunc)\n",
    "ax00, ax01, ax02, ax03 = g.axes[0]\n",
    "ax10, ax11, ax12, ax13 = g.axes[1]\n",
    "ax20, ax21, ax22, ax23 = g.axes[2]\n",
    "ax30, ax31, ax32, ax33 = g.axes[3]\n",
    "\n",
    "#ax00.axhline(0, ls='--')\n",
    "ax01.axhline(0, ls='--')\n",
    "ax02.axhline(0, ls='--')\n",
    "ax03.axhline(0, ls='--')\n",
    "\n",
    "ax10.axhline(0, ls='--')\n",
    "#ax11.axhline(0, ls='--')\n",
    "ax12.axhline(0, ls='--')\n",
    "ax13.axhline(0, ls='--')\n",
    "\n",
    "ax20.axhline(0, ls='--')\n",
    "ax21.axhline(0, ls='--')\n",
    "#ax22.axhline(0, ls='--')\n",
    "ax23.axhline(0, ls='--')\n",
    "\n",
    "ax30.axhline(0, ls='--')\n",
    "ax31.axhline(0, ls='--')\n",
    "ax32.axhline(0, ls='--')\n",
    "#ax33.axhline(0, ls='--')\n",
    "\n",
    "#ax00.axvline(0, ls='--')\n",
    "ax01.axvline(0, ls='--')\n",
    "ax02.axvline(0, ls='--')\n",
    "ax03.axvline(0, ls='--')\n",
    "\n",
    "ax10.axvline(0, ls='--')\n",
    "#ax11.axvline(0, ls='--')\n",
    "ax12.axvline(0, ls='--')\n",
    "ax13.axvline(0, ls='--')\n",
    "\n",
    "ax20.axvline(0, ls='--')\n",
    "ax21.axvline(0, ls='--')\n",
    "#ax22.axvline(0, ls='--')\n",
    "ax23.axvline(0, ls='--')\n",
    "\n",
    "ax30.axvline(0, ls='--')\n",
    "ax31.axvline(0, ls='--')\n",
    "ax32.axvline(0, ls='--')\n",
    "#ax33.axvline(0, ls='--')\n",
    "\n",
    "\n",
    "plt.show()"
   ]
  },
  {
   "cell_type": "code",
   "execution_count": null,
   "metadata": {
    "scrolled": true
   },
   "outputs": [],
   "source": [
    "g=sns.pairplot(df_plt[[\"type\",\"entDif\",\"ln_errsDif\",\"ln_hsicDif\",\"ln_hsiccDif\"]].loc[(df_plt[\"type\"]==\"LS-s\")|(df_plt[\"type\"]==\"MN-U\")], hue=\"type\", plot_kws={'alpha': 0.1})\n",
    "#g.map_lower(corrfunc)\n",
    "\n",
    "ax00, ax01, ax02, ax03 = g.axes[0]\n",
    "ax10, ax11, ax12, ax13 = g.axes[1]\n",
    "ax20, ax21, ax22, ax23 = g.axes[2]\n",
    "ax30, ax31, ax32, ax33 = g.axes[3]\n",
    "\n",
    "#ax00.axhline(0, ls='--')\n",
    "ax01.axhline(0, ls='--')\n",
    "ax02.axhline(0, ls='--')\n",
    "ax03.axhline(0, ls='--')\n",
    "\n",
    "ax10.axhline(0, ls='--')\n",
    "#ax11.axhline(0, ls='--')\n",
    "ax12.axhline(0, ls='--')\n",
    "ax13.axhline(0, ls='--')\n",
    "\n",
    "ax20.axhline(0, ls='--')\n",
    "ax21.axhline(0, ls='--')\n",
    "#ax22.axhline(0, ls='--')\n",
    "ax23.axhline(0, ls='--')\n",
    "\n",
    "ax30.axhline(0, ls='--')\n",
    "ax31.axhline(0, ls='--')\n",
    "ax32.axhline(0, ls='--')\n",
    "#ax33.axhline(0, ls='--')\n",
    "\n",
    "#ax00.axvline(0, ls='--')\n",
    "ax01.axvline(0, ls='--')\n",
    "ax02.axvline(0, ls='--')\n",
    "ax03.axvline(0, ls='--')\n",
    "\n",
    "ax10.axvline(0, ls='--')\n",
    "#ax11.axvline(0, ls='--')\n",
    "ax12.axvline(0, ls='--')\n",
    "ax13.axvline(0, ls='--')\n",
    "\n",
    "ax20.axvline(0, ls='--')\n",
    "ax21.axvline(0, ls='--')\n",
    "#ax22.axvline(0, ls='--')\n",
    "ax23.axvline(0, ls='--')\n",
    "\n",
    "ax30.axvline(0, ls='--')\n",
    "ax31.axvline(0, ls='--')\n",
    "ax32.axvline(0, ls='--')\n",
    "#ax33.axvline(0, ls='--')\n",
    "\n",
    "\n",
    "plt.show()"
   ]
  },
  {
   "cell_type": "markdown",
   "metadata": {},
   "source": [
    "# Voting using weights"
   ]
  },
  {
   "cell_type": "code",
   "execution_count": null,
   "metadata": {},
   "outputs": [],
   "source": [
    "onp.unique(df_parm_long_full.variable)"
   ]
  },
  {
   "cell_type": "code",
   "execution_count": null,
   "metadata": {},
   "outputs": [],
   "source": [
    "_, tabAcc = getAccuracy(df_parm_long_full, \"w_unif\")\n",
    "# df, df_rand, df_intsc, df_nn\n",
    "#\"w_unif\", \"w_lowestHsic\", \"w_effFront\", 'w_modSimpLogis', \"w_modSimpRF\", 'w_modCmplxLogis',\"w_modCmplxRF\"\n",
    "print(type(tabAcc))\n",
    "pd.pivot_table(tabAcc, index=[\"type\"], columns=[\"variable\"], values=\"value\", aggfunc=onp.sum)"
   ]
  },
  {
   "cell_type": "code",
   "execution_count": null,
   "metadata": {},
   "outputs": [],
   "source": [
    "_ , tabAcc = getAccuracy(df_intsc_long_full, \"w_lowestHsic\", mask=\"additive\", sig=0.005, res_bnch=res_bnch, res_bnch2=res_bnch2)\n",
    "# df, df_rand, df_intsc, df_nn\n",
    "#\"w_unif\", \"w_lowestHsic\", \"w_effFront\", 'w_modSimpLogis', \"w_modSimpRF\", 'w_modCmplxLogis',\"w_modCmplxRF\"\n",
    "print(type(tabAcc))\n",
    "pd.pivot_table(tabAcc, index=[\"type\"], columns=[\"variable\"], values=\"value\", aggfunc=onp.sum)"
   ]
  },
  {
   "cell_type": "code",
   "execution_count": null,
   "metadata": {},
   "outputs": [],
   "source": [
    "\n",
    "ws_nm = \"w_lowestHsic\"\n",
    "n_smpls = 10\n",
    "\n",
    "res_rand_long, tabAcc = getAccuracy(df_rand_long_full, \"w_lowestHsic\", conf=True, n_smpls=n_smpls)\n",
    "res_intsc_long, tabAcc = getAccuracy(df_intsc_long_full, \"w_lowestHsic\", conf=True, n_smpls=n_smpls)"
   ]
  },
  {
   "cell_type": "code",
   "execution_count": null,
   "metadata": {},
   "outputs": [],
   "source": [
    "repos = \"/home/emiliano/Documents/ISP/proyectos/causality/latentNoise_krr/data/\"\n",
    "res_rand_long = addWeights(repos, res_rand_long)\n",
    "res_intsc_long = addWeights(repos, res_intsc_long)"
   ]
  },
  {
   "cell_type": "code",
   "execution_count": null,
   "metadata": {},
   "outputs": [],
   "source": [
    "res_rand_long"
   ]
  },
  {
   "cell_type": "code",
   "execution_count": null,
   "metadata": {},
   "outputs": [],
   "source": [
    "varsAcc = [\"type\", 'variable']\n",
    "res_balAcc = res_rand_long.groupby(varsAcc).apply(bal_acc, var=\"value\")\n",
    "res_balAcc"
   ]
  },
  {
   "cell_type": "code",
   "execution_count": null,
   "metadata": {},
   "outputs": [],
   "source": [
    "res_f1 = res_rand_long.groupby(varsAcc).apply(f1, var=\"value\")\n",
    "res_f1"
   ]
  },
  {
   "cell_type": "code",
   "execution_count": null,
   "metadata": {},
   "outputs": [],
   "source": [
    "res_roc = res_rand_long.groupby(varsAcc).apply(roc, var=\"value\")\n",
    "res_roc"
   ]
  },
  {
   "cell_type": "code",
   "execution_count": null,
   "metadata": {},
   "outputs": [],
   "source": []
  },
  {
   "cell_type": "code",
   "execution_count": null,
   "metadata": {},
   "outputs": [],
   "source": []
  },
  {
   "cell_type": "code",
   "execution_count": null,
   "metadata": {},
   "outputs": [],
   "source": []
  },
  {
   "cell_type": "code",
   "execution_count": null,
   "metadata": {},
   "outputs": [],
   "source": [
    "tab, tab_leftMoreconf, tab_acc_combConf, tab_addit, tab_acc_combAdd = combineDecision(res_rand_long, res_intsc_long, res_bnch, res_bnch2, sig)"
   ]
  },
  {
   "cell_type": "code",
   "execution_count": null,
   "metadata": {},
   "outputs": [],
   "source": [
    "tab_acc_combConf"
   ]
  },
  {
   "cell_type": "code",
   "execution_count": null,
   "metadata": {},
   "outputs": [],
   "source": [
    "tab_acc_combAdd"
   ]
  },
  {
   "cell_type": "code",
   "execution_count": null,
   "metadata": {},
   "outputs": [],
   "source": [
    "# now combine with res_bnch_long results\n",
    "tab, tab_leftMoreconf, tab_acc_combConf, tab_addit, tab_acc_combAdd = combineDecision(res_bnch_long, res_intsc_long, res_bnch, res_bnch2, sig)"
   ]
  },
  {
   "cell_type": "code",
   "execution_count": null,
   "metadata": {},
   "outputs": [],
   "source": [
    "tab_acc_combConf"
   ]
  },
  {
   "cell_type": "code",
   "execution_count": null,
   "metadata": {},
   "outputs": [],
   "source": [
    "tab_acc_combAdd"
   ]
  },
  {
   "cell_type": "code",
   "execution_count": null,
   "metadata": {},
   "outputs": [],
   "source": [
    "4536.37184275/60/24"
   ]
  },
  {
   "cell_type": "code",
   "execution_count": null,
   "metadata": {},
   "outputs": [],
   "source": [
    "onp.isinf(1)"
   ]
  },
  {
   "cell_type": "code",
   "execution_count": null,
   "metadata": {},
   "outputs": [],
   "source": [
    "988/60"
   ]
  },
  {
   "cell_type": "markdown",
   "metadata": {},
   "source": [
    "# Analyse assumptions and entropy criteria by type and \"right\": whether the method got it right to see which assumptions are important "
   ]
  },
  {
   "cell_type": "code",
   "execution_count": null,
   "metadata": {},
   "outputs": [],
   "source": [
    "df.columns"
   ]
  },
  {
   "cell_type": "code",
   "execution_count": null,
   "metadata": {},
   "outputs": [],
   "source": [
    "def smplDF(x):\n",
    "    ws = x[\"w_lowestHsic\"]\n",
    "    ws = onp.asarray(ws).astype('float64')\n",
    "    ws = ws/onp.sum(ws)\n",
    "    m = 100\n",
    "    smpl =  onp.random.choice(x.shape[0], size=m, replace=False, p=ws)\n",
    "    return x.iloc[smpl]"
   ]
  },
  {
   "cell_type": "code",
   "execution_count": null,
   "metadata": {},
   "outputs": [],
   "source": [
    "df_nn2 = df_nn.groupby([\"type\",\"dataset\"]).apply(smplDF)\n",
    "print(df_nn.shape)\n",
    "print(df_nn2.shape)"
   ]
  },
  {
   "cell_type": "code",
   "execution_count": null,
   "metadata": {},
   "outputs": [],
   "source": [
    "#df_ch = df_rand\n",
    "df_ch = df_parm\n",
    "#df_ch = df_nn2\n"
   ]
  },
  {
   "cell_type": "code",
   "execution_count": null,
   "metadata": {},
   "outputs": [],
   "source": [
    "df_ch[\"right\"]=df_ch[\"ent_xy\"]<df_ch[\"ent_yx\"]\n",
    "#df_rand[\"right\"]=df_rand[\"ent_xy\"]<df_rand[\"ent_yx\"]"
   ]
  },
  {
   "cell_type": "code",
   "execution_count": null,
   "metadata": {},
   "outputs": [],
   "source": [
    "# hsicc\n",
    "df_ch[\"logHsicc_xy\"] = onp.log10(df_ch[\"hsicc_xy\"])\n",
    "df_ch[\"logHsicc_yx\"] = onp.log10(df_ch[\"hsicc_yx\"])\n",
    "df_ch[\"logHsicc_absDif\"] = onp.abs(df_ch[\"logHsicc_yx\"]-df_ch[\"logHsicc_xy\"])\n",
    "df_ch[\"logHsicc_dif\"] = df_ch[\"logHsicc_yx\"]-df_ch[\"logHsicc_xy\"]\n",
    "\n",
    "#hsic\n",
    "df_ch[\"logHsic_xy\"] = onp.log10(df_ch[\"hsic_xy\"])\n",
    "df_ch[\"logHsic_yx\"] = onp.log10(df_ch[\"hsic_yx\"])\n",
    "df_ch[\"logHsic_absDif\"] = onp.abs(df_ch[\"logHsic_yx\"]-df_ch[\"logHsic_xy\"])\n",
    "df_ch[\"logHsic_dif\"] = df_ch[\"logHsic_yx\"]-df_ch[\"logHsic_xy\"]\n",
    "\n",
    "# mmd\n",
    "df_ch[\"logMmd_xy\"] = onp.log10(df_ch[\"mmd_xy\"])\n",
    "df_ch[\"logMmd_yx\"] = onp.log10(df_ch[\"mmd_yx\"])\n",
    "df_ch[\"logMmd_absDif\"] = onp.abs(df_ch[\"logMmd_yx\"]-df_ch[\"logMmd_xy\"])\n",
    "df_ch[\"logMmd_dif\"] = df_ch[\"logMmd_yx\"]-df_ch[\"logMmd_xy\"]\n",
    "\n",
    "\n",
    "# errs\n",
    "df_ch[\"logErrs_xy\"] = onp.log10(df_ch[\"errs_xy\"])\n",
    "df_ch[\"logErrs_yx\"] = onp.log10(df_ch[\"errs_yx\"])\n",
    "df_ch[\"logErrs_absDif\"] = onp.abs(df_ch[\"logErrs_yx\"]-df_ch[\"logErrs_xy\"])\n",
    "df_ch[\"logErrs_dif\"] = df_ch[\"logErrs_yx\"]-df_ch[\"logErrs_xy\"]\n",
    "\n",
    "# hsicz\n",
    "df_ch[\"logHsicz_xy\"] = onp.log10(df_ch[\"hsicz_xy\"])\n",
    "df_ch[\"logHsicz_yx\"] = onp.log10(df_ch[\"hsicz_yx\"])\n",
    "df_ch[\"logHsicz_absDif\"] = onp.abs(df_ch[\"logHsicz_yx\"]-df_ch[\"logHsicz_xy\"])\n",
    "df_ch[\"logHsicz_dif\"] = df_ch[\"logHsicz_yx\"]-df_ch[\"logHsicz_xy\"]\n",
    "\n",
    "# hsiczz\n",
    "df_ch[\"logHsiczz_xy\"] = onp.log10(df_ch[\"hsiczz_xy\"])\n",
    "df_ch[\"logHsiczz_yx\"] = onp.log10(df_ch[\"hsiczz_yx\"])\n",
    "df_ch[\"logHsiczz_absDif\"] = onp.abs(df_ch[\"logHsiczz_yx\"]-df_ch[\"logHsiczz_xy\"])\n",
    "df_ch[\"logHsiczz_dif\"] = df_ch[\"logHsiczz_yx\"]-df_ch[\"logHsiczz_xy\"]\n",
    "\n",
    "# ent\n",
    "df_ch[\"ent_absDif\"] = onp.abs(df_ch[\"ent_yx\"]-df_ch[\"ent_xy\"])\n",
    "df_ch[\"ent_dif\"] = df_ch[\"ent_yx\"]-df_ch[\"ent_xy\"]\n",
    "\n",
    "\n",
    "\n",
    "#df_ch_rand[\"logHsicc_xy\"] = onp.log10(df_ch_rand[\"hsicc_xy\"])\n",
    "#df_ch_rand[\"logHsicc_yx\"] = onp.log10(df_ch_rand[\"hsicc_yx\"])\n",
    "#df_ch_rand[\"logHsic_xy\"] = onp.log10(df_ch_rand[\"hsic_xy\"])\n",
    "#df_ch_rand[\"logHsic_yx\"] = onp.log10(df_ch_rand[\"hsic_yx\"])"
   ]
  },
  {
   "cell_type": "code",
   "execution_count": null,
   "metadata": {},
   "outputs": [],
   "source": [
    "# hsicc\n",
    "df_ch[\"logHsicc_xy\"] = df_ch[\"hsicc_xy\"]\n",
    "df_ch[\"logHsicc_yx\"] = df_ch[\"hsicc_yx\"]\n",
    "df_ch[\"logHsicc_absDif\"] = onp.abs(df_ch[\"logHsicc_yx\"]-df_ch[\"logHsicc_xy\"])\n",
    "df_ch[\"logHsicc_dif\"] = df_ch[\"logHsicc_yx\"]-df_ch[\"logHsicc_xy\"]\n",
    "\n",
    "#hsic\n",
    "df_ch[\"logHsic_xy\"] = df_ch[\"hsic_xy\"]\n",
    "df_ch[\"logHsic_yx\"] = df_ch[\"hsic_yx\"]\n",
    "df_ch[\"logHsic_absDif\"] = onp.abs(df_ch[\"logHsic_yx\"]-df_ch[\"logHsic_xy\"])\n",
    "df_ch[\"logHsic_dif\"] = df_ch[\"logHsic_yx\"]-df_ch[\"logHsic_xy\"]\n",
    "\n",
    "# mmd\n",
    "df_ch[\"logMmd_xy\"] = df_ch[\"mmd_xy\"]\n",
    "df_ch[\"logMmd_yx\"] = df_ch[\"mmd_yx\"]\n",
    "df_ch[\"logMmd_absDif\"] = onp.abs(df_ch[\"logMmd_yx\"]-df_ch[\"logMmd_xy\"])\n",
    "df_ch[\"logMmd_dif\"] = df_ch[\"logMmd_yx\"]-df_ch[\"logMmd_xy\"]\n",
    "\n",
    "\n",
    "# errs\n",
    "df_ch[\"logErrs_xy\"] = df_ch[\"errs_xy\"]\n",
    "df_ch[\"logErrs_yx\"] = df_ch[\"errs_yx\"]\n",
    "df_ch[\"logErrs_absDif\"] = onp.abs(df_ch[\"logErrs_yx\"]-df_ch[\"logErrs_xy\"])\n",
    "df_ch[\"logErrs_dif\"] = df_ch[\"logErrs_yx\"]-df_ch[\"logErrs_xy\"]\n",
    "\n",
    "# hsicz\n",
    "df_ch[\"logHsicz_xy\"] = df_ch[\"hsicz_xy\"]\n",
    "df_ch[\"logHsicz_yx\"] = df_ch[\"hsicz_yx\"]\n",
    "df_ch[\"logHsicz_absDif\"] = onp.abs(df_ch[\"logHsicz_yx\"]-df_ch[\"logHsicz_xy\"])\n",
    "df_ch[\"logHsicz_dif\"] = df_ch[\"logHsicz_yx\"]-df_ch[\"logHsicz_xy\"]\n",
    "\n",
    "# hsiczz\n",
    "df_ch[\"logHsiczz_xy\"] = df_ch[\"hsiczz_xy\"]\n",
    "df_ch[\"logHsiczz_yx\"] = df_ch[\"hsiczz_yx\"]\n",
    "df_ch[\"logHsiczz_absDif\"] = onp.abs(df_ch[\"logHsiczz_yx\"]-df_ch[\"logHsiczz_xy\"])\n",
    "df_ch[\"logHsiczz_dif\"] = df_ch[\"logHsiczz_yx\"]-df_ch[\"logHsiczz_xy\"]\n",
    "\n",
    "# ent\n",
    "df_ch[\"ent_absDif\"] = onp.abs(df_ch[\"ent_yx\"]-df_ch[\"ent_xy\"])\n",
    "df_ch[\"ent_dif\"] = df_ch[\"ent_yx\"]-df_ch[\"ent_xy\"]\n",
    "\n",
    "\n",
    "\n",
    "#df_ch_rand[\"logHsicc_xy\"] = onp.log10(df_ch_rand[\"hsicc_xy\"])\n",
    "#df_ch_rand[\"logHsicc_yx\"] = onp.log10(df_ch_rand[\"hsicc_yx\"])\n",
    "#df_ch_rand[\"logHsic_xy\"] = onp.log10(df_ch_rand[\"hsic_xy\"])\n",
    "#df_ch_rand[\"logHsic_yx\"] = onp.log10(df_ch_rand[\"hsic_yx\"])"
   ]
  },
  {
   "cell_type": "markdown",
   "metadata": {},
   "source": [
    "HSIC(X, Z_hat)"
   ]
  },
  {
   "cell_type": "code",
   "execution_count": null,
   "metadata": {},
   "outputs": [],
   "source": [
    "typesOrd = [\"SIM\",\"SIMc\",\"SIMln\",\"SIMG\",\"AN\",\"AN-s\",\"LS\",\"LS-s\",\"MN-U\", \"Tub\"]\n",
    "typesOrd = [\"AN\",\"AN-s\",\"LS-s\",\"MN-U\"]\n",
    "#typesOrd = [\"LS\",\"LS-s\",\"MN-U\"]"
   ]
  },
  {
   "cell_type": "code",
   "execution_count": null,
   "metadata": {},
   "outputs": [],
   "source": [
    "df_ch[\"type2\"] = df_ch[\"type\"]\n",
    "df_ch[\"type2\"].loc[df_ch[\"type\"]==\"tcep\"] = \"Tub\""
   ]
  },
  {
   "cell_type": "code",
   "execution_count": null,
   "metadata": {},
   "outputs": [],
   "source": [
    "varsId = [\"type\",\"type2\",\"dataset\",\"right\",\"job\",\"rep\",\"set\",\"lambda\",\"eta\",\"beta\",\"neta\",\"nu\",\"lu\",\"lr\",\"ot\",\"num\"]\n",
    "varsId = [\"type\",\"type2\",\"dataset\",\"smpl\",\"right\"]\n",
    "varsBx = [\"hsicc_xy\",\"hsicc_yx\"] \n",
    "df_long = getLongFormat2(df_ch[varsId+varsBx], varsId)\n",
    "#df_rand_long = getLongFormat2(df_rand, [\"type\",\"dataset\",\"smpl\",\"right\"])"
   ]
  },
  {
   "cell_type": "code",
   "execution_count": null,
   "metadata": {},
   "outputs": [],
   "source": [
    "df_long[\"rightDir\"] = df_long[\"right\"].astype(str)+\"_\"+df_long[\"dir\"]\n",
    "#df_rand_long[\"rightDir\"] = df_rand_long[\"right\"].astype(str)+\"_\"+df_rand_long[\"dir\"]"
   ]
  },
  {
   "cell_type": "code",
   "execution_count": null,
   "metadata": {},
   "outputs": [],
   "source": [
    "g = sns.boxplot(x=\"type\", hue=\"rightDir\",y=\"value\", data=df_long.loc[(df_long[\"dir\"].isin([\"xy\",\"yx\"])) & (df_long[\"type\"].isin([\"AN\",\"AN-s\",\"LS-s\",\"MN-U\"]))])\n",
    "plt.legend(bbox_to_anchor=(1.01, 1),borderaxespad=0)\n"
   ]
  },
  {
   "cell_type": "code",
   "execution_count": null,
   "metadata": {},
   "outputs": [],
   "source": [
    "varsBx = [\"logHsicc_xy\",\"logHsicc_yx\",\"logHsicc_dif\",\"logHsicc_absDif\"] \n",
    "df_long = getLongFormat2(df_ch[varsId+varsBx], varsId)\n",
    "#df_rand_long = getLongFormat2(df_rand, [\"type\",\"dataset\",\"smpl\",\"right\"])"
   ]
  },
  {
   "cell_type": "code",
   "execution_count": null,
   "metadata": {},
   "outputs": [],
   "source": [
    "df_long[\"rightDir\"] = df_long[\"right\"].astype(str)+\"_\"+df_long[\"dir\"]\n",
    "#df_rand_long[\"rightDir\"] = df_rand_long[\"right\"].astype(str)+\"_\"+df_rand_long[\"dir\"]"
   ]
  },
  {
   "cell_type": "code",
   "execution_count": null,
   "metadata": {},
   "outputs": [],
   "source": []
  },
  {
   "cell_type": "code",
   "execution_count": null,
   "metadata": {},
   "outputs": [],
   "source": [
    "repos = \"/home/emiliano/Documents/ISP/proyectos/causality/latentNoise_krr/results/tables_for_R/\"\n",
    "width = 3.5\n",
    "height = plt.rcParamsDefault[\"figure.figsize\"][0]/width*plt.rcParamsDefault[\"figure.figsize\"][1]\n",
    "#plt.rcParams[\"figure.figsize\"] = (width,height)\n",
    "file = \"hsicc_ln_dir_type_entRight_anslsmn.png\"\n",
    "#file = \"hsicc_ln_dir_type_entRight_anslsmn_nn.png\"\n",
    "ax = sns.boxplot(x=\"type2\", hue=\"rightDir\",y=\"value\", data=df_long.loc[(df_long[\"dir\"].isin([\"xy\",\"yx\"])) & (df_long[\"type\"].isin(typesOrd))], order=typesOrd)\n",
    "ax.set(xlabel='', ylabel='')\n",
    "plt.legend(bbox_to_anchor=(1.01, 1),borderaxespad=0)\n",
    "#plt.set_size_inches(width, height)\n",
    "g.set(xlabel='', ylabel='')\n",
    "plt.gcf().subplots_adjust(right=0.78)\n",
    "plt.savefig(repos+file, format='png', dpi=300)\n",
    "#plt.rcParams[\"figure.figsize\"] = plt.rcParamsDefault[\"figure.figsize\"]"
   ]
  },
  {
   "cell_type": "code",
   "execution_count": null,
   "metadata": {},
   "outputs": [],
   "source": [
    "sns.boxplot(x=\"type\", hue=\"right\",y=\"value\", data=df_long.loc[(df_long[\"dir\"]==\"dif\") & (df_long[\"type\"].isin([\"AN\",\"AN-s\",\"LS-s\",\"MN-U\"]))])\n",
    "plt.legend(bbox_to_anchor=(1.01, 1),borderaxespad=0)\n",
    "#plt.ylim(-1, 1)"
   ]
  },
  {
   "cell_type": "code",
   "execution_count": null,
   "metadata": {},
   "outputs": [],
   "source": [
    "file = \"hsicc_ln_absDif_type_entRight_anlsmn.png\"\n",
    "#file = \"hsicc_ln_absDif_type_entRight_anlsmn_nn.png\"\n",
    "ax = sns.boxplot(x=\"type2\", hue=\"right\",y=\"value\", data=df_long.loc[(df_long[\"dir\"]==\"absDif\")&(df_long[\"type\"].isin(typesOrd))], order=typesOrd)\n",
    "plt.legend(bbox_to_anchor=(1.01, 1),borderaxespad=0)\n",
    "g.set(xlabel='', ylabel='')\n",
    "plt.gcf().subplots_adjust(right=0.82)\n",
    "plt.ylim(0, 1)\n",
    "plt.savefig(repos+file, format='png', dpi=300)"
   ]
  },
  {
   "cell_type": "markdown",
   "metadata": {},
   "source": [
    "HSIC(c=(x,z_hat), R)"
   ]
  },
  {
   "cell_type": "code",
   "execution_count": null,
   "metadata": {},
   "outputs": [],
   "source": [
    "varsBx = [\"logHsic_xy\",\"logHsic_yx\",\"logHsic_dif\",\"logHsic_absDif\"] \n",
    "df_long = getLongFormat2(df_ch[varsId+varsBx], varsId)\n",
    "#df_rand_long = getLongFormat2(df_rand, [\"type\",\"dataset\",\"smpl\",\"right\"])"
   ]
  },
  {
   "cell_type": "code",
   "execution_count": null,
   "metadata": {},
   "outputs": [],
   "source": [
    "df_long[\"rightDir\"] = df_long[\"right\"].astype(str)+\"_\"+df_long[\"dir\"]\n",
    "#df_rand_long[\"rightDir\"] = df_rand_long[\"right\"].astype(str)+\"_\"+df_rand_long[\"dir\"]"
   ]
  },
  {
   "cell_type": "code",
   "execution_count": null,
   "metadata": {},
   "outputs": [],
   "source": [
    "file = \"hsic_ln_dir_type_entRight_anlsmn.png\"\n",
    "#file = \"hsic_ln_dir_type_entRight_anlsmn_nn.png\"\n",
    "ax = sns.boxplot(x=\"type2\", hue=\"rightDir\",y=\"value\", data=df_long.loc[(df_long[\"dir\"].isin([\"xy\",\"yx\"])) & (df_long[\"type\"].isin(typesOrd))], order=typesOrd)\n",
    "ax.set(xlabel='', ylabel='')\n",
    "plt.legend(bbox_to_anchor=(1.01, 1),borderaxespad=0)\n",
    "g.set(xlabel='', ylabel='')\n",
    "plt.gcf().subplots_adjust(right=0.78)\n",
    "plt.savefig(repos+file, format='png', dpi=300)"
   ]
  },
  {
   "cell_type": "code",
   "execution_count": null,
   "metadata": {},
   "outputs": [],
   "source": [
    "ax = sns.boxplot(x=\"type2\", hue=\"right\",y=\"value\", data=df_long.loc[(df_long[\"dir\"].isin([\"xy\",\"yx\"]))&(df_long[\"type\"].isin([\"AN\",\"AN-s\",\"LS-s\",\"MN-U\"]))], order=typesOrd)\n",
    "ax.set(xlabel='', ylabel='')\n",
    "plt.legend(bbox_to_anchor=(1.01, 1),borderaxespad=0)"
   ]
  },
  {
   "cell_type": "code",
   "execution_count": null,
   "metadata": {},
   "outputs": [],
   "source": [
    "g=sns.boxplot(x=\"type\", hue=\"right\",y=\"value\", data=df_long.loc[(df_long[\"dir\"]==\"dif\")&(df_long[\"type\"].isin([\"AN\",\"AN-s\",\"LS-s\",\"MN-U\"]))])\n",
    "g.axhline(0.0)\n",
    "plt.legend(bbox_to_anchor=(1.01, 1),borderaxespad=0)\n",
    "plt.show()\n",
    "#plt.ylim(-1, 1)"
   ]
  },
  {
   "cell_type": "code",
   "execution_count": null,
   "metadata": {},
   "outputs": [],
   "source": [
    "file = \"hsic_ln_absDif_type_entRight_anlsmn.png\"\n",
    "#file = \"hsic_ln_absDif_type_entRight_anlsmn_nn.png\"\n",
    "ax = sns.boxplot(x=\"type2\", hue=\"right\",y=\"value\", data=df_long.loc[(df_long[\"dir\"]==\"absDif\")&(df_long[\"type\"].isin(typesOrd))], order=typesOrd)\n",
    "ax.set(xlabel='', ylabel='')\n",
    "plt.gcf().subplots_adjust(right=0.82)\n",
    "plt.legend(bbox_to_anchor=(1.2, 1),borderaxespad=0)\n",
    "#plt.ylim(0, 1)\n",
    "plt.savefig(repos+file, format='png', dpi=300)\n"
   ]
  },
  {
   "cell_type": "markdown",
   "metadata": {},
   "source": [
    "MMDn(z_hat)"
   ]
  },
  {
   "cell_type": "code",
   "execution_count": null,
   "metadata": {},
   "outputs": [],
   "source": [
    "varsBx = [\"logMmd_xy\",\"logMmd_yx\",\"logMmd_dif\",\"logMmd_absDif\"] \n",
    "df_long = getLongFormat2(df_ch[varsId+varsBx], varsId)\n",
    "#df_rand_long = getLongFormat2(df_rand, [\"type\",\"dataset\",\"smpl\",\"right\"])"
   ]
  },
  {
   "cell_type": "code",
   "execution_count": null,
   "metadata": {},
   "outputs": [],
   "source": [
    "df_long[\"rightDir\"] = df_long[\"right\"].astype(str)+\"_\"+df_long[\"dir\"]\n",
    "#df_rand_long[\"rightDir\"] = df_rand_long[\"right\"].astype(str)+\"_\"+df_rand_long[\"dir\"]"
   ]
  },
  {
   "cell_type": "code",
   "execution_count": null,
   "metadata": {},
   "outputs": [],
   "source": [
    "file = \"mmd_ln_dir_type_entRight_anlsmn.png\"\n",
    "#file = \"mmd_ln_dir_type_entRight_anlsmn_nn.png\"\n",
    "ax = sns.boxplot(x=\"type2\", hue=\"rightDir\",y=\"value\", data=df_long.loc[(df_long[\"dir\"].isin([\"xy\",\"yx\"]))&(df_long[\"type\"].isin(typesOrd))], order=typesOrd)\n",
    "ax.set(xlabel='', ylabel='')\n",
    "plt.legend(bbox_to_anchor=(1.01, 1),borderaxespad=0)\n",
    "g.set(xlabel='', ylabel='')\n",
    "plt.gcf().subplots_adjust(right=0.78)\n",
    "plt.savefig(repos+file, format='png', dpi=300)"
   ]
  },
  {
   "cell_type": "code",
   "execution_count": null,
   "metadata": {},
   "outputs": [],
   "source": [
    "g = sns.boxplot(x=\"type\", hue=\"right\",y=\"value\", data=df_long.loc[(df_long[\"dir\"]==\"dif\")&(df_long[\"type\"].isin([\"AN\",\"AN-s\",\"LS-s\",\"MN-U\"]))])\n",
    "g.axhline(0.0)\n",
    "plt.legend(bbox_to_anchor=(1.01, 1),borderaxespad=0)\n",
    "plt.ylim(-0.5, 0.3)\n",
    "plt.show()"
   ]
  },
  {
   "cell_type": "code",
   "execution_count": null,
   "metadata": {},
   "outputs": [],
   "source": [
    "file = \"mmd_ln_absDif_type_entRight_anlsmn.png\"\n",
    "#file = \"mmd_ln_absDif_type_entRight_anlsmn_nn.png\"\n",
    "ax = sns.boxplot(x=\"type2\", hue=\"right\",y=\"value\", data=df_long.loc[(df_long[\"dir\"]==\"absDif\")&(df_long[\"type\"].isin(typesOrd))], order=typesOrd)\n",
    "ax.set(xlabel='', ylabel='')\n",
    "plt.legend(bbox_to_anchor=(1.01, 1),borderaxespad=0)\n",
    "g.set(xlabel='', ylabel='')\n",
    "plt.gcf().subplots_adjust(right=0.82)\n",
    "#plt.ylim(0, 0.9)\n",
    "plt.ylim(0, 0.3)\n",
    "plt.savefig(repos+file, format='png', dpi=300)"
   ]
  },
  {
   "cell_type": "markdown",
   "metadata": {},
   "source": [
    "MSE(y, yhat)"
   ]
  },
  {
   "cell_type": "code",
   "execution_count": null,
   "metadata": {},
   "outputs": [],
   "source": [
    "varsBx = [\"logErrs_xy\",\"logErrs_yx\",\"logErrs_dif\",\"logErrs_absDif\"] \n",
    "df_long = getLongFormat2(df_ch[varsId+varsBx], varsId)\n",
    "#df_rand_long = getLongFormat2(df_rand, [\"type\",\"dataset\",\"smpl\",\"right\"])"
   ]
  },
  {
   "cell_type": "code",
   "execution_count": null,
   "metadata": {},
   "outputs": [],
   "source": [
    "df_long[\"rightDir\"] = df_long[\"right\"].astype(str)+\"_\"+df_long[\"dir\"]\n",
    "#df_rand_long[\"rightDir\"] = df_rand_long[\"right\"].astype(str)+\"_\"+df_rand_long[\"dir\"]"
   ]
  },
  {
   "cell_type": "code",
   "execution_count": null,
   "metadata": {},
   "outputs": [],
   "source": [
    "file = \"mse_ln_dir_type_entRight_anlsmn.png\"\n",
    "#file = \"mse_ln_dir_type_entRight_anlsmn_nn.png\"\n",
    "ax = sns.boxplot(x=\"type2\", hue=\"rightDir\",y=\"value\", data=df_long.loc[(df_long[\"dir\"].isin([\"xy\",\"yx\"]))&(df_long[\"type\"].isin(typesOrd))], order=typesOrd)\n",
    "ax.set(xlabel='', ylabel='')\n",
    "plt.legend(bbox_to_anchor=(1.01, 1),borderaxespad=0)\n",
    "g.set(xlabel='', ylabel='')\n",
    "plt.gcf().subplots_adjust(right=0.78)\n",
    "plt.savefig(repos+file, format='png', dpi=300)"
   ]
  },
  {
   "cell_type": "code",
   "execution_count": null,
   "metadata": {},
   "outputs": [],
   "source": [
    "sns.boxplot(x=\"type\", hue=\"right\",y=\"value\", data=df_long.loc[(df_long[\"dir\"]==\"dif\")&(df_long[\"type\"].isin([\"AN\",\"AN-s\",\"LS-s\",\"MN-U\"]))])\n",
    "plt.legend(bbox_to_anchor=(1.01, 1),borderaxespad=0)\n",
    "plt.ylim(-1, 1)"
   ]
  },
  {
   "cell_type": "code",
   "execution_count": null,
   "metadata": {},
   "outputs": [],
   "source": [
    "file = \"mse_ln_absDif_type_entRight_anlsmn.png\"\n",
    "#file = \"mse_ln_absDif_type_entRight_anlsmn_nn.png\"\n",
    "ax = sns.boxplot(x=\"type2\", hue=\"right\",y=\"value\", data=df_long.loc[(df_long[\"dir\"]==\"absDif\")&(df_long[\"type\"].isin(typesOrd))], order=typesOrd)\n",
    "ax.set(xlabel='', ylabel='')\n",
    "plt.legend(bbox_to_anchor=(1.2, 1),borderaxespad=0)\n",
    "g.set(xlabel='', ylabel='')\n",
    "plt.gcf().subplots_adjust(right=0.82)\n",
    "plt.savefig(repos+file, format='png', dpi=300)"
   ]
  },
  {
   "cell_type": "markdown",
   "metadata": {},
   "source": [
    "HSIC(z_hat)"
   ]
  },
  {
   "cell_type": "code",
   "execution_count": null,
   "metadata": {},
   "outputs": [],
   "source": [
    "varsBx = [\"logHsicz_xy\",\"logHsicz_yx\",\"logHsicz_dif\",\"logHsicz_absDif\"] \n",
    "df_long = getLongFormat2(df_ch[varsId+varsBx], varsId)\n",
    "#df_rand_long = getLongFormat2(df_rand, [\"type\",\"dataset\",\"smpl\",\"right\"])"
   ]
  },
  {
   "cell_type": "code",
   "execution_count": null,
   "metadata": {},
   "outputs": [],
   "source": [
    "df_long[\"rightDir\"] = df_long[\"right\"].astype(str)+\"_\"+df_long[\"dir\"]\n",
    "#df_rand_long[\"rightDir\"] = df_rand_long[\"right\"].astype(str)+\"_\"+df_rand_long[\"dir\"]"
   ]
  },
  {
   "cell_type": "code",
   "execution_count": null,
   "metadata": {},
   "outputs": [],
   "source": [
    "#sns.boxplot(x=\"type\", hue=\"rightDir\",y=\"value\", data=df_long.loc[df_long[\"dir\"].isin([\"xy\",\"yx\"])])\n",
    "#plt.legend(bbox_to_anchor=(1.01, 1),borderaxespad=0)\n",
    "\n",
    "file = \"hsicz_ln_dir_type_entRight_anlsmn_nn.png\"\n",
    "ax = sns.boxplot(x=\"type2\", hue=\"rightDir\",y=\"value\", data=df_long.loc[(df_long[\"dir\"].isin([\"xy\",\"yx\"]))&(df_long[\"type\"].isin(typesOrd))], order=typesOrd)\n",
    "ax.set(xlabel='', ylabel='')\n",
    "plt.legend(bbox_to_anchor=(1.01, 1),borderaxespad=0)\n",
    "g.set(xlabel='', ylabel='')\n",
    "plt.gcf().subplots_adjust(right=0.78)\n",
    "plt.savefig(repos+file, format='png', dpi=300)"
   ]
  },
  {
   "cell_type": "code",
   "execution_count": null,
   "metadata": {},
   "outputs": [],
   "source": [
    "sns.boxplot(x=\"type\", hue=\"right\",y=\"value\", data=df_long.loc[df_long[\"dir\"]==\"dif\"])\n",
    "plt.legend(bbox_to_anchor=(1.01, 1),borderaxespad=0)\n",
    "plt.ylim(-2, 1)"
   ]
  },
  {
   "cell_type": "code",
   "execution_count": null,
   "metadata": {},
   "outputs": [],
   "source": [
    "file = \"hsicz_ln_absDif_type_entRight_anlsmn_nn.png\"\n",
    "ax = sns.boxplot(x=\"type2\", hue=\"right\",y=\"value\", data=df_long.loc[(df_long[\"dir\"]==\"absDif\")&(df_long[\"type\"].isin(typesOrd))], order=typesOrd)\n",
    "ax.set(xlabel='', ylabel='')\n",
    "plt.legend(bbox_to_anchor=(1.2, 1),borderaxespad=0)\n",
    "g.set(xlabel='', ylabel='')\n",
    "plt.gcf().subplots_adjust(right=0.82)\n",
    "plt.savefig(repos+file, format='png', dpi=300)"
   ]
  },
  {
   "cell_type": "markdown",
   "metadata": {},
   "source": [
    "HSIC(z, z_hat)"
   ]
  },
  {
   "cell_type": "code",
   "execution_count": null,
   "metadata": {},
   "outputs": [],
   "source": [
    "varsBx = [\"logHsiczz_xy\",\"logHsiczz_yx\",\"logHsiczz_dif\",\"logHsiczz_absDif\"] \n",
    "df_long = getLongFormat2(df_ch[varsId+varsBx], varsId)\n",
    "#df_rand_long = getLongFormat2(df_rand, [\"type\",\"dataset\",\"smpl\",\"right\"])"
   ]
  },
  {
   "cell_type": "code",
   "execution_count": null,
   "metadata": {},
   "outputs": [],
   "source": [
    "df_long[\"rightDir\"] = df_long[\"right\"].astype(str)+\"_\"+df_long[\"dir\"]\n",
    "#df_rand_long[\"rightDir\"] = df_rand_long[\"right\"].astype(str)+\"_\"+df_rand_long[\"dir\"]"
   ]
  },
  {
   "cell_type": "code",
   "execution_count": null,
   "metadata": {},
   "outputs": [],
   "source": [
    "file = \"hsiczz_ln_dir_type_entRight_anlsmn_nn.png\"\n",
    "ax = sns.boxplot(x=\"type2\", hue=\"rightDir\",y=\"value\", data=df_long.loc[(df_long[\"dir\"].isin([\"xy\",\"yx\"]))&(df_long[\"type\"].isin(typesOrd))], order=typesOrd)\n",
    "ax.set(xlabel='', ylabel='')\n",
    "plt.legend(bbox_to_anchor=(1.01, 1),borderaxespad=0)\n",
    "g.set(xlabel='', ylabel='')\n",
    "plt.gcf().subplots_adjust(right=0.78)\n",
    "plt.savefig(repos+file, format='png', dpi=300)"
   ]
  },
  {
   "cell_type": "code",
   "execution_count": null,
   "metadata": {},
   "outputs": [],
   "source": [
    "sns.boxplot(x=\"type\", hue=\"right\",y=\"value\", data=df_long.loc[df_long[\"dir\"]==\"dif\"])\n",
    "plt.legend(bbox_to_anchor=(1.01, 1),borderaxespad=0)\n",
    "#plt.ylim(-1, 1)"
   ]
  },
  {
   "cell_type": "code",
   "execution_count": null,
   "metadata": {},
   "outputs": [],
   "source": [
    "file = \"hsiczz_ln_absDif_type_entRight_anlsmn_nn.png\"\n",
    "ax = sns.boxplot(x=\"type2\", hue=\"right\",y=\"value\", data=df_long.loc[(df_long[\"dir\"]==\"absDif\")&(df_long[\"type\"].isin(typesOrd))], order=typesOrd)\n",
    "ax.set(xlabel='', ylabel='')\n",
    "plt.legend(bbox_to_anchor=(1.2, 1),borderaxespad=0)\n",
    "g.set(xlabel='', ylabel='')\n",
    "plt.gcf().subplots_adjust(right=0.82)\n",
    "plt.savefig(repos+file, format='png', dpi=300)"
   ]
  },
  {
   "cell_type": "markdown",
   "metadata": {},
   "source": [
    "ent(resids)"
   ]
  },
  {
   "cell_type": "code",
   "execution_count": null,
   "metadata": {},
   "outputs": [],
   "source": [
    "varsBx = [\"ent_xy\",\"ent_yx\",\"ent_dif\",\"ent_absDif\"] \n",
    "df_long = getLongFormat2(df_ch[varsId+varsBx], varsId)\n",
    "#df_rand_long = getLongFormat2(df_rand, [\"type\",\"dataset\",\"smpl\",\"right\"])"
   ]
  },
  {
   "cell_type": "code",
   "execution_count": null,
   "metadata": {},
   "outputs": [],
   "source": [
    "df_long[\"rightDir\"] = df_long[\"right\"].astype(str)+\"_\"+df_long[\"dir\"]\n",
    "#df_rand_long[\"rightDir\"] = df_rand_long[\"right\"].astype(str)+\"_\"+df_rand_long[\"dir\"]"
   ]
  },
  {
   "cell_type": "code",
   "execution_count": null,
   "metadata": {},
   "outputs": [],
   "source": [
    "file = \"ent_ln_dir_type_entRight_anlsmn_nn.png\"\n",
    "ax = sns.boxplot(x=\"type2\", hue=\"rightDir\",y=\"value\", data=df_long.loc[(df_long[\"dir\"].isin([\"xy\",\"yx\"]))&(df_long[\"type\"].isin(typesOrd))], order=typesOrd)\n",
    "ax.set(xlabel='', ylabel='')\n",
    "plt.legend(bbox_to_anchor=(1.01, 1),borderaxespad=0)\n",
    "g.set(xlabel='', ylabel='')\n",
    "plt.gcf().subplots_adjust(right=0.78)\n",
    "plt.savefig(repos+file, format='png', dpi=300)"
   ]
  },
  {
   "cell_type": "code",
   "execution_count": null,
   "metadata": {},
   "outputs": [],
   "source": [
    "sns.boxplot(x=\"type\", hue=\"right\",y=\"value\", data=df_long.loc[df_long[\"dir\"]==\"dif\"])\n",
    "plt.legend(bbox_to_anchor=(1.01, 1),borderaxespad=0)\n",
    "#plt.ylim(-1, 1)"
   ]
  },
  {
   "cell_type": "code",
   "execution_count": null,
   "metadata": {},
   "outputs": [],
   "source": [
    "file = \"ent_ln_absDif_type_entRight_anlsmn_nn.png\"\n",
    "ax = sns.boxplot(x=\"type2\", hue=\"right\",y=\"value\", data=df_long.loc[(df_long[\"dir\"]==\"absDif\")&(df_long[\"type\"].isin(typesOrd))], order=typesOrd)\n",
    "ax.set(xlabel='', ylabel='')\n",
    "plt.legend(bbox_to_anchor=(1.2, 1),borderaxespad=0)\n",
    "g.set(xlabel='', ylabel='')\n",
    "plt.gcf().subplots_adjust(right=0.82)\n",
    "plt.savefig(repos+file, format='png', dpi=300)"
   ]
  },
  {
   "cell_type": "code",
   "execution_count": null,
   "metadata": {},
   "outputs": [],
   "source": []
  },
  {
   "cell_type": "code",
   "execution_count": null,
   "metadata": {},
   "outputs": [],
   "source": [
    "df_test = df_rand"
   ]
  },
  {
   "cell_type": "code",
   "execution_count": null,
   "metadata": {},
   "outputs": [],
   "source": [
    "df_test[\"coincide\"] = (df_test[\"ent_xy\"]<df_test[\"ent_yx\"])#&(df_test[\"errs_xy\"]<df_test[\"errs_yx\"])&(df_test[\"mmd_xy\"]>df_test[\"mmd_yx\"])"
   ]
  },
  {
   "cell_type": "code",
   "execution_count": null,
   "metadata": {},
   "outputs": [],
   "source": [
    "def sumCoinc(x):\n",
    "    return onp.sum(x.coincide)/x.shape[0]\n",
    "df_test[[\"type\",\"coincide\"]].groupby(\"type\").apply(sumCoinc)"
   ]
  },
  {
   "cell_type": "code",
   "execution_count": null,
   "metadata": {},
   "outputs": [],
   "source": []
  },
  {
   "cell_type": "code",
   "execution_count": null,
   "metadata": {},
   "outputs": [],
   "source": []
  },
  {
   "cell_type": "markdown",
   "metadata": {},
   "source": [
    "# Analyse assumptions by univariate parameters to see where we might use different values to achieve better assumption fullfilment"
   ]
  },
  {
   "cell_type": "code",
   "execution_count": null,
   "metadata": {},
   "outputs": [],
   "source": [
    "# opt Type"
   ]
  },
  {
   "cell_type": "code",
   "execution_count": null,
   "metadata": {},
   "outputs": [],
   "source": [
    "varsId = [\"type\",\"dataset\",\"right\",\"job\",\"rep\",\"set\",\"lambda\",\"eta\",\"beta\",\"neta\",\"nu\",\"lu\",\"lr\",\"ot\",\"num\"]\n"
   ]
  },
  {
   "cell_type": "markdown",
   "metadata": {},
   "source": [
    "# optType "
   ]
  },
  {
   "cell_type": "code",
   "execution_count": null,
   "metadata": {},
   "outputs": [],
   "source": [
    "par = \"ot\""
   ]
  },
  {
   "cell_type": "markdown",
   "metadata": {},
   "source": [
    "HSIC(z,x)"
   ]
  },
  {
   "cell_type": "code",
   "execution_count": null,
   "metadata": {},
   "outputs": [],
   "source": [
    "varsBx = [\"logHsicc_xy\",\"logHsicc_yx\",\"logHsicc_dif\",\"logHsicc_absDif\"] \n",
    "df_long = getLongFormat2(df[varsId+varsBx], varsId)\n",
    "#df_rand_long = getLongFormat2(df_rand, [\"type\",\"dataset\",\"smpl\",\"right\"])"
   ]
  },
  {
   "cell_type": "code",
   "execution_count": null,
   "metadata": {},
   "outputs": [],
   "source": [
    "df_long[par+\"Dir\"] = df_long[par].astype(str)+\"_\"+df_long[\"dir\"]\n",
    "#df_rand_long[\"rightDir\"] = df_rand_long[\"right\"].astype(str)+\"_\"+df_rand_long[\"dir\"]"
   ]
  },
  {
   "cell_type": "code",
   "execution_count": null,
   "metadata": {},
   "outputs": [],
   "source": [
    "sns.boxplot(x=\"type\", hue=par+\"Dir\",y=\"value\", data=df_long.loc[df_long[\"dir\"].isin([\"xy\",\"yx\"])])\n",
    "plt.legend(bbox_to_anchor=(1.01, 1),borderaxespad=0)"
   ]
  },
  {
   "cell_type": "code",
   "execution_count": null,
   "metadata": {},
   "outputs": [],
   "source": [
    "sns.boxplot(x=\"type\", hue=par,y=\"value\", data=df_long.loc[df_long[\"dir\"]==\"dif\"])\n",
    "plt.legend(bbox_to_anchor=(1.01, 1),borderaxespad=0)\n",
    "plt.ylim(-1, 1)"
   ]
  },
  {
   "cell_type": "code",
   "execution_count": null,
   "metadata": {},
   "outputs": [],
   "source": [
    "sns.boxplot(x=\"type\", hue=par,y=\"value\", data=df_long.loc[df_long[\"dir\"]==\"absDif\"])\n",
    "plt.legend(bbox_to_anchor=(1.01, 1),borderaxespad=0)\n",
    "plt.ylim(0, 1)"
   ]
  },
  {
   "cell_type": "markdown",
   "metadata": {},
   "source": [
    "HSIC(r,c)"
   ]
  },
  {
   "cell_type": "code",
   "execution_count": null,
   "metadata": {},
   "outputs": [],
   "source": [
    "varsBx = [\"logHsic_xy\",\"logHsic_yx\",\"logHsic_dif\",\"logHsic_absDif\"] \n",
    "df_long = getLongFormat2(df[varsId+varsBx], varsId)\n",
    "#df_rand_long = getLongFormat2(df_rand, [\"type\",\"dataset\",\"smpl\",\"right\"])"
   ]
  },
  {
   "cell_type": "code",
   "execution_count": null,
   "metadata": {},
   "outputs": [],
   "source": [
    "df_long[par+\"Dir\"] = df_long[par].astype(str)+\"_\"+df_long[\"dir\"]\n",
    "#df_rand_long[\"rightDir\"] = df_rand_long[\"right\"].astype(str)+\"_\"+df_rand_long[\"dir\"]"
   ]
  },
  {
   "cell_type": "code",
   "execution_count": null,
   "metadata": {},
   "outputs": [],
   "source": [
    "sns.boxplot(x=\"type\", hue=par+\"Dir\",y=\"value\", data=df_long.loc[df_long[\"dir\"].isin([\"xy\",\"yx\"])])\n",
    "plt.legend(bbox_to_anchor=(1.01, 1),borderaxespad=0)"
   ]
  },
  {
   "cell_type": "code",
   "execution_count": null,
   "metadata": {},
   "outputs": [],
   "source": [
    "sns.boxplot(x=\"type\", hue=par,y=\"value\", data=df_long.loc[df_long[\"dir\"]==\"dif\"])\n",
    "plt.legend(bbox_to_anchor=(1.01, 1),borderaxespad=0)\n",
    "plt.ylim(-1, 1)"
   ]
  },
  {
   "cell_type": "code",
   "execution_count": null,
   "metadata": {},
   "outputs": [],
   "source": [
    "sns.boxplot(x=\"type\", hue=par,y=\"value\", data=df_long.loc[df_long[\"dir\"]==\"absDif\"])\n",
    "plt.legend(bbox_to_anchor=(1.01, 1),borderaxespad=0)\n",
    "plt.ylim(0, 1)"
   ]
  },
  {
   "cell_type": "markdown",
   "metadata": {},
   "source": [
    "MSE(y,yhat)"
   ]
  },
  {
   "cell_type": "code",
   "execution_count": null,
   "metadata": {},
   "outputs": [],
   "source": [
    "varsBx = [\"logErrs_xy\",\"logErrs_yx\",\"logErrs_dif\",\"logErrs_absDif\"] \n",
    "df_long = getLongFormat2(df[varsId+varsBx], varsId)\n",
    "#df_rand_long = getLongFormat2(df_rand, [\"type\",\"dataset\",\"smpl\",\"right\"])"
   ]
  },
  {
   "cell_type": "code",
   "execution_count": null,
   "metadata": {},
   "outputs": [],
   "source": [
    "df_long[par+\"Dir\"] = df_long[par].astype(str)+\"_\"+df_long[\"dir\"]\n",
    "#df_rand_long[\"rightDir\"] = df_rand_long[\"right\"].astype(str)+\"_\"+df_rand_long[\"dir\"]"
   ]
  },
  {
   "cell_type": "code",
   "execution_count": null,
   "metadata": {},
   "outputs": [],
   "source": [
    "sns.boxplot(x=\"type\", hue=par+\"Dir\",y=\"value\", data=df_long.loc[df_long[\"dir\"].isin([\"xy\",\"yx\"])])\n",
    "plt.legend(bbox_to_anchor=(1.01, 1),borderaxespad=0)"
   ]
  },
  {
   "cell_type": "code",
   "execution_count": null,
   "metadata": {},
   "outputs": [],
   "source": [
    "sns.boxplot(x=\"type\", hue=par,y=\"value\", data=df_long.loc[df_long[\"dir\"]==\"dif\"])\n",
    "plt.legend(bbox_to_anchor=(1.01, 1),borderaxespad=0)\n",
    "plt.ylim(-1, 1)"
   ]
  },
  {
   "cell_type": "code",
   "execution_count": null,
   "metadata": {},
   "outputs": [],
   "source": [
    "sns.boxplot(x=\"type\", hue=par,y=\"value\", data=df_long.loc[df_long[\"dir\"]==\"absDif\"])\n",
    "plt.legend(bbox_to_anchor=(1.01, 1),borderaxespad=0)\n",
    "plt.ylim(0, 1)"
   ]
  },
  {
   "cell_type": "markdown",
   "metadata": {},
   "source": [
    "Ent(resids)"
   ]
  },
  {
   "cell_type": "code",
   "execution_count": null,
   "metadata": {},
   "outputs": [],
   "source": [
    "varsBx = [\"ent_xy\",\"ent_yx\",\"ent_dif\",\"ent_absDif\"] \n",
    "df_long = getLongFormat2(df[varsId+varsBx], varsId)\n",
    "#df_rand_long = getLongFormat2(df_rand, [\"type\",\"dataset\",\"smpl\",\"right\"])"
   ]
  },
  {
   "cell_type": "code",
   "execution_count": null,
   "metadata": {},
   "outputs": [],
   "source": [
    "df_long[par+\"Dir\"] = df_long[par].astype(str)+\"_\"+df_long[\"dir\"]\n",
    "#df_rand_long[\"rightDir\"] = df_rand_long[\"right\"].astype(str)+\"_\"+df_rand_long[\"dir\"]"
   ]
  },
  {
   "cell_type": "code",
   "execution_count": null,
   "metadata": {},
   "outputs": [],
   "source": [
    "sns.boxplot(x=\"type\", hue=par+\"Dir\",y=\"value\", data=df_long.loc[df_long[\"dir\"].isin([\"xy\",\"yx\"])])\n",
    "plt.legend(bbox_to_anchor=(1.01, 1),borderaxespad=0)"
   ]
  },
  {
   "cell_type": "code",
   "execution_count": null,
   "metadata": {},
   "outputs": [],
   "source": [
    "g=sns.boxplot(x=\"type\", hue=par,y=\"value\", data=df_long.loc[df_long[\"dir\"]==\"dif\"])\n",
    "g.axhline(0.0)\n",
    "plt.legend(bbox_to_anchor=(1.01, 1),borderaxespad=0)\n",
    "plt.ylim(-1, 1)\n",
    "plt.show()"
   ]
  },
  {
   "cell_type": "code",
   "execution_count": null,
   "metadata": {},
   "outputs": [],
   "source": [
    "sns.boxplot(x=\"type\", hue=par,y=\"value\", data=df_long.loc[df_long[\"dir\"]==\"absDif\"])\n",
    "plt.legend(bbox_to_anchor=(1.01, 1),borderaxespad=0)\n",
    "plt.ylim(0, 1)"
   ]
  },
  {
   "cell_type": "markdown",
   "metadata": {},
   "source": [
    "# lambda "
   ]
  },
  {
   "cell_type": "code",
   "execution_count": null,
   "metadata": {},
   "outputs": [],
   "source": [
    "par = \"lambda\" # beta, neta, lu"
   ]
  },
  {
   "cell_type": "markdown",
   "metadata": {},
   "source": [
    "HSIC(z,x)"
   ]
  },
  {
   "cell_type": "code",
   "execution_count": null,
   "metadata": {},
   "outputs": [],
   "source": [
    "varsBx = [\"logHsicc_xy\",\"logHsicc_yx\",\"logHsicc_dif\",\"logHsicc_absDif\"] \n",
    "df_long = getLongFormat2(df[varsId+varsBx], varsId)\n",
    "#df_rand_long = getLongFormat2(df_rand, [\"type\",\"dataset\",\"smpl\",\"right\"])"
   ]
  },
  {
   "cell_type": "code",
   "execution_count": null,
   "metadata": {},
   "outputs": [],
   "source": [
    "df_long[par+\"Dir\"] = df_long[par].astype(str)+\"_\"+df_long[\"dir\"]\n",
    "#df_rand_long[\"rightDir\"] = df_rand_long[\"right\"].astype(str)+\"_\"+df_rand_long[\"dir\"]"
   ]
  },
  {
   "cell_type": "code",
   "execution_count": null,
   "metadata": {},
   "outputs": [],
   "source": [
    "sns.boxplot(x=\"type\", hue=par+\"Dir\",y=\"value\", data=df_long.loc[df_long[\"dir\"].isin([\"xy\",\"yx\"])])\n",
    "plt.legend(bbox_to_anchor=(1.01, 1),borderaxespad=0)"
   ]
  },
  {
   "cell_type": "code",
   "execution_count": null,
   "metadata": {},
   "outputs": [],
   "source": [
    "sns.boxplot(x=\"type\", hue=par,y=\"value\", data=df_long.loc[df_long[\"dir\"]==\"dif\"])\n",
    "plt.legend(bbox_to_anchor=(1.01, 1),borderaxespad=0)\n",
    "plt.ylim(-1, 1)"
   ]
  },
  {
   "cell_type": "code",
   "execution_count": null,
   "metadata": {},
   "outputs": [],
   "source": [
    "sns.boxplot(x=\"type\", hue=par,y=\"value\", data=df_long.loc[df_long[\"dir\"]==\"absDif\"])\n",
    "plt.legend(bbox_to_anchor=(1.01, 1),borderaxespad=0)\n",
    "plt.ylim(0, 1)"
   ]
  },
  {
   "cell_type": "markdown",
   "metadata": {},
   "source": [
    "HSIC(r,c)"
   ]
  },
  {
   "cell_type": "code",
   "execution_count": null,
   "metadata": {},
   "outputs": [],
   "source": [
    "varsBx = [\"logHsic_xy\",\"logHsic_yx\",\"logHsic_dif\",\"logHsic_absDif\"] \n",
    "df_long = getLongFormat2(df[varsId+varsBx], varsId)\n",
    "#df_rand_long = getLongFormat2(df_rand, [\"type\",\"dataset\",\"smpl\",\"right\"])"
   ]
  },
  {
   "cell_type": "code",
   "execution_count": null,
   "metadata": {},
   "outputs": [],
   "source": [
    "df_long[par+\"Dir\"] = df_long[par].astype(str)+\"_\"+df_long[\"dir\"]\n",
    "#df_rand_long[\"rightDir\"] = df_rand_long[\"right\"].astype(str)+\"_\"+df_rand_long[\"dir\"]"
   ]
  },
  {
   "cell_type": "code",
   "execution_count": null,
   "metadata": {},
   "outputs": [],
   "source": [
    "sns.boxplot(x=\"type\", hue=par+\"Dir\",y=\"value\", data=df_long.loc[df_long[\"dir\"].isin([\"xy\",\"yx\"])])\n",
    "plt.legend(bbox_to_anchor=(1.01, 1),borderaxespad=0)"
   ]
  },
  {
   "cell_type": "code",
   "execution_count": null,
   "metadata": {},
   "outputs": [],
   "source": [
    "sns.boxplot(x=\"type\", hue=par,y=\"value\", data=df_long.loc[df_long[\"dir\"]==\"dif\"])\n",
    "plt.legend(bbox_to_anchor=(1.01, 1),borderaxespad=0)\n",
    "plt.ylim(-1, 1)"
   ]
  },
  {
   "cell_type": "code",
   "execution_count": null,
   "metadata": {},
   "outputs": [],
   "source": [
    "sns.boxplot(x=\"type\", hue=par,y=\"value\", data=df_long.loc[df_long[\"dir\"]==\"absDif\"])\n",
    "plt.legend(bbox_to_anchor=(1.01, 1),borderaxespad=0)\n",
    "plt.ylim(0, 1)"
   ]
  },
  {
   "cell_type": "markdown",
   "metadata": {},
   "source": [
    "MSE(y,yhat)"
   ]
  },
  {
   "cell_type": "code",
   "execution_count": null,
   "metadata": {},
   "outputs": [],
   "source": [
    "varsBx = [\"logErrs_xy\",\"logErrs_yx\",\"logErrs_dif\",\"logErrs_absDif\"] \n",
    "df_long = getLongFormat2(df[varsId+varsBx], varsId)\n",
    "#df_rand_long = getLongFormat2(df_rand, [\"type\",\"dataset\",\"smpl\",\"right\"])"
   ]
  },
  {
   "cell_type": "code",
   "execution_count": null,
   "metadata": {},
   "outputs": [],
   "source": [
    "df_long[par+\"Dir\"] = df_long[par].astype(str)+\"_\"+df_long[\"dir\"]\n",
    "#df_rand_long[\"rightDir\"] = df_rand_long[\"right\"].astype(str)+\"_\"+df_rand_long[\"dir\"]"
   ]
  },
  {
   "cell_type": "code",
   "execution_count": null,
   "metadata": {},
   "outputs": [],
   "source": [
    "sns.boxplot(x=\"type\", hue=par+\"Dir\",y=\"value\", data=df_long.loc[df_long[\"dir\"].isin([\"xy\",\"yx\"])])\n",
    "plt.legend(bbox_to_anchor=(1.01, 1),borderaxespad=0)"
   ]
  },
  {
   "cell_type": "code",
   "execution_count": null,
   "metadata": {},
   "outputs": [],
   "source": [
    "sns.boxplot(x=\"type\", hue=par,y=\"value\", data=df_long.loc[df_long[\"dir\"]==\"dif\"])\n",
    "plt.legend(bbox_to_anchor=(1.01, 1),borderaxespad=0)\n",
    "plt.ylim(-1, 1)"
   ]
  },
  {
   "cell_type": "code",
   "execution_count": null,
   "metadata": {},
   "outputs": [],
   "source": [
    "sns.boxplot(x=\"type\", hue=par,y=\"value\", data=df_long.loc[df_long[\"dir\"]==\"absDif\"])\n",
    "plt.legend(bbox_to_anchor=(1.01, 1),borderaxespad=0)\n",
    "plt.ylim(0, 1)"
   ]
  },
  {
   "cell_type": "markdown",
   "metadata": {},
   "source": [
    "Ent(resids)"
   ]
  },
  {
   "cell_type": "code",
   "execution_count": null,
   "metadata": {},
   "outputs": [],
   "source": [
    "varsBx = [\"ent_xy\",\"ent_yx\",\"ent_dif\",\"ent_absDif\"] \n",
    "df_long = getLongFormat2(df[varsId+varsBx], varsId)\n",
    "#df_rand_long = getLongFormat2(df_rand, [\"type\",\"dataset\",\"smpl\",\"right\"])"
   ]
  },
  {
   "cell_type": "code",
   "execution_count": null,
   "metadata": {},
   "outputs": [],
   "source": [
    "df_long[par+\"Dir\"] = df_long[par].astype(str)+\"_\"+df_long[\"dir\"]\n",
    "#df_rand_long[\"rightDir\"] = df_rand_long[\"right\"].astype(str)+\"_\"+df_rand_long[\"dir\"]"
   ]
  },
  {
   "cell_type": "code",
   "execution_count": null,
   "metadata": {},
   "outputs": [],
   "source": [
    "sns.boxplot(x=\"type\", hue=par+\"Dir\",y=\"value\", data=df_long.loc[df_long[\"dir\"].isin([\"xy\",\"yx\"])])\n",
    "plt.legend(bbox_to_anchor=(1.01, 1),borderaxespad=0)"
   ]
  },
  {
   "cell_type": "code",
   "execution_count": null,
   "metadata": {},
   "outputs": [],
   "source": [
    "g=sns.boxplot(x=\"type\", hue=par,y=\"value\", data=df_long.loc[df_long[\"dir\"]==\"dif\"])\n",
    "g.axhline(0.0)\n",
    "plt.legend(bbox_to_anchor=(1.01, 1),borderaxespad=0)\n",
    "plt.ylim(-1, 1)\n",
    "plt.show()"
   ]
  },
  {
   "cell_type": "code",
   "execution_count": null,
   "metadata": {},
   "outputs": [],
   "source": [
    "sns.boxplot(x=\"type\", hue=par,y=\"value\", data=df_long.loc[df_long[\"dir\"]==\"absDif\"])\n",
    "plt.legend(bbox_to_anchor=(1.01, 1),borderaxespad=0)\n",
    "plt.ylim(0, 1)"
   ]
  },
  {
   "cell_type": "markdown",
   "metadata": {},
   "source": [
    "# beta "
   ]
  },
  {
   "cell_type": "code",
   "execution_count": null,
   "metadata": {},
   "outputs": [],
   "source": [
    "par = \"beta\" # neta, lu"
   ]
  },
  {
   "cell_type": "markdown",
   "metadata": {},
   "source": [
    "HSIC(z,x)"
   ]
  },
  {
   "cell_type": "code",
   "execution_count": null,
   "metadata": {},
   "outputs": [],
   "source": [
    "varsBx = [\"logHsicc_xy\",\"logHsicc_yx\",\"logHsicc_dif\",\"logHsicc_absDif\"] \n",
    "df_long = getLongFormat2(df[varsId+varsBx], varsId)\n",
    "#df_rand_long = getLongFormat2(df_rand, [\"type\",\"dataset\",\"smpl\",\"right\"])"
   ]
  },
  {
   "cell_type": "code",
   "execution_count": null,
   "metadata": {},
   "outputs": [],
   "source": [
    "df_long[par+\"Dir\"] = df_long[par].astype(str)+\"_\"+df_long[\"dir\"]\n",
    "#df_rand_long[\"rightDir\"] = df_rand_long[\"right\"].astype(str)+\"_\"+df_rand_long[\"dir\"]"
   ]
  },
  {
   "cell_type": "code",
   "execution_count": null,
   "metadata": {},
   "outputs": [],
   "source": [
    "sns.boxplot(x=\"type\", hue=par+\"Dir\",y=\"value\", data=df_long.loc[df_long[\"dir\"].isin([\"xy\",\"yx\"])])\n",
    "plt.legend(bbox_to_anchor=(1.01, 1),borderaxespad=0)"
   ]
  },
  {
   "cell_type": "code",
   "execution_count": null,
   "metadata": {},
   "outputs": [],
   "source": [
    "sns.boxplot(x=\"type\", hue=par,y=\"value\", data=df_long.loc[df_long[\"dir\"]==\"dif\"])\n",
    "plt.legend(bbox_to_anchor=(1.01, 1),borderaxespad=0)\n",
    "plt.ylim(-1, 1)"
   ]
  },
  {
   "cell_type": "code",
   "execution_count": null,
   "metadata": {},
   "outputs": [],
   "source": [
    "sns.boxplot(x=\"type\", hue=par,y=\"value\", data=df_long.loc[df_long[\"dir\"]==\"absDif\"])\n",
    "plt.legend(bbox_to_anchor=(1.01, 1),borderaxespad=0)\n",
    "plt.ylim(0, 1)"
   ]
  },
  {
   "cell_type": "markdown",
   "metadata": {},
   "source": [
    "HSIC(r,c)"
   ]
  },
  {
   "cell_type": "code",
   "execution_count": null,
   "metadata": {},
   "outputs": [],
   "source": [
    "varsBx = [\"logHsic_xy\",\"logHsic_yx\",\"logHsic_dif\",\"logHsic_absDif\"] \n",
    "df_long = getLongFormat2(df[varsId+varsBx], varsId)\n",
    "#df_rand_long = getLongFormat2(df_rand, [\"type\",\"dataset\",\"smpl\",\"right\"])"
   ]
  },
  {
   "cell_type": "code",
   "execution_count": null,
   "metadata": {},
   "outputs": [],
   "source": [
    "df_long[par+\"Dir\"] = df_long[par].astype(str)+\"_\"+df_long[\"dir\"]\n",
    "#df_rand_long[\"rightDir\"] = df_rand_long[\"right\"].astype(str)+\"_\"+df_rand_long[\"dir\"]"
   ]
  },
  {
   "cell_type": "code",
   "execution_count": null,
   "metadata": {},
   "outputs": [],
   "source": [
    "sns.boxplot(x=\"type\", hue=par+\"Dir\",y=\"value\", data=df_long.loc[df_long[\"dir\"].isin([\"xy\",\"yx\"])])\n",
    "plt.legend(bbox_to_anchor=(1.01, 1),borderaxespad=0)"
   ]
  },
  {
   "cell_type": "code",
   "execution_count": null,
   "metadata": {},
   "outputs": [],
   "source": [
    "sns.boxplot(x=\"type\", hue=par,y=\"value\", data=df_long.loc[df_long[\"dir\"]==\"dif\"])\n",
    "plt.legend(bbox_to_anchor=(1.01, 1),borderaxespad=0)\n",
    "plt.ylim(-1, 1)"
   ]
  },
  {
   "cell_type": "code",
   "execution_count": null,
   "metadata": {},
   "outputs": [],
   "source": [
    "sns.boxplot(x=\"type\", hue=par,y=\"value\", data=df_long.loc[df_long[\"dir\"]==\"absDif\"])\n",
    "plt.legend(bbox_to_anchor=(1.01, 1),borderaxespad=0)\n",
    "plt.ylim(0, 1)"
   ]
  },
  {
   "cell_type": "markdown",
   "metadata": {},
   "source": [
    "MSE(y,yhat)"
   ]
  },
  {
   "cell_type": "code",
   "execution_count": null,
   "metadata": {},
   "outputs": [],
   "source": [
    "varsBx = [\"logErrs_xy\",\"logErrs_yx\",\"logErrs_dif\",\"logErrs_absDif\"] \n",
    "df_long = getLongFormat2(df[varsId+varsBx], varsId)\n",
    "#df_rand_long = getLongFormat2(df_rand, [\"type\",\"dataset\",\"smpl\",\"right\"])"
   ]
  },
  {
   "cell_type": "code",
   "execution_count": null,
   "metadata": {},
   "outputs": [],
   "source": [
    "df_long[par+\"Dir\"] = df_long[par].astype(str)+\"_\"+df_long[\"dir\"]\n",
    "#df_rand_long[\"rightDir\"] = df_rand_long[\"right\"].astype(str)+\"_\"+df_rand_long[\"dir\"]"
   ]
  },
  {
   "cell_type": "code",
   "execution_count": null,
   "metadata": {},
   "outputs": [],
   "source": [
    "sns.boxplot(x=\"type\", hue=par+\"Dir\",y=\"value\", data=df_long.loc[df_long[\"dir\"].isin([\"xy\",\"yx\"])])\n",
    "plt.legend(bbox_to_anchor=(1.01, 1),borderaxespad=0)"
   ]
  },
  {
   "cell_type": "code",
   "execution_count": null,
   "metadata": {},
   "outputs": [],
   "source": [
    "sns.boxplot(x=\"type\", hue=par,y=\"value\", data=df_long.loc[df_long[\"dir\"]==\"dif\"])\n",
    "plt.legend(bbox_to_anchor=(1.01, 1),borderaxespad=0)\n",
    "plt.ylim(-1, 1)"
   ]
  },
  {
   "cell_type": "code",
   "execution_count": null,
   "metadata": {},
   "outputs": [],
   "source": [
    "sns.boxplot(x=\"type\", hue=par,y=\"value\", data=df_long.loc[df_long[\"dir\"]==\"absDif\"])\n",
    "plt.legend(bbox_to_anchor=(1.01, 1),borderaxespad=0)\n",
    "plt.ylim(0, 1)"
   ]
  },
  {
   "cell_type": "markdown",
   "metadata": {},
   "source": [
    "Ent(resids)"
   ]
  },
  {
   "cell_type": "code",
   "execution_count": null,
   "metadata": {},
   "outputs": [],
   "source": [
    "varsBx = [\"ent_xy\",\"ent_yx\",\"ent_dif\",\"ent_absDif\"] \n",
    "df_long = getLongFormat2(df[varsId+varsBx], varsId)\n",
    "#df_rand_long = getLongFormat2(df_rand, [\"type\",\"dataset\",\"smpl\",\"right\"])"
   ]
  },
  {
   "cell_type": "code",
   "execution_count": null,
   "metadata": {},
   "outputs": [],
   "source": [
    "df_long[par+\"Dir\"] = df_long[par].astype(str)+\"_\"+df_long[\"dir\"]\n",
    "#df_rand_long[\"rightDir\"] = df_rand_long[\"right\"].astype(str)+\"_\"+df_rand_long[\"dir\"]"
   ]
  },
  {
   "cell_type": "code",
   "execution_count": null,
   "metadata": {},
   "outputs": [],
   "source": [
    "sns.boxplot(x=\"type\", hue=par+\"Dir\",y=\"value\", data=df_long.loc[df_long[\"dir\"].isin([\"xy\",\"yx\"])])\n",
    "plt.legend(bbox_to_anchor=(1.01, 1),borderaxespad=0)"
   ]
  },
  {
   "cell_type": "code",
   "execution_count": null,
   "metadata": {},
   "outputs": [],
   "source": [
    "g=sns.boxplot(x=\"type\", hue=par,y=\"value\", data=df_long.loc[df_long[\"dir\"]==\"dif\"])\n",
    "g.axhline(0.0)\n",
    "plt.legend(bbox_to_anchor=(1.01, 1),borderaxespad=0)\n",
    "plt.ylim(-1, 1)\n",
    "plt.show()"
   ]
  },
  {
   "cell_type": "code",
   "execution_count": null,
   "metadata": {},
   "outputs": [],
   "source": [
    "sns.boxplot(x=\"type\", hue=par,y=\"value\", data=df_long.loc[df_long[\"dir\"]==\"absDif\"])\n",
    "plt.legend(bbox_to_anchor=(1.01, 1),borderaxespad=0)\n",
    "plt.ylim(0, 1)"
   ]
  },
  {
   "cell_type": "markdown",
   "metadata": {},
   "source": [
    "# neta "
   ]
  },
  {
   "cell_type": "code",
   "execution_count": null,
   "metadata": {},
   "outputs": [],
   "source": [
    "par = \"neta\" # lu"
   ]
  },
  {
   "cell_type": "markdown",
   "metadata": {},
   "source": [
    "HSIC(z,x)"
   ]
  },
  {
   "cell_type": "code",
   "execution_count": null,
   "metadata": {},
   "outputs": [],
   "source": [
    "varsBx = [\"logHsicc_xy\",\"logHsicc_yx\",\"logHsicc_dif\",\"logHsicc_absDif\"] \n",
    "df_long = getLongFormat2(df[varsId+varsBx], varsId)\n",
    "#df_rand_long = getLongFormat2(df_rand, [\"type\",\"dataset\",\"smpl\",\"right\"])"
   ]
  },
  {
   "cell_type": "code",
   "execution_count": null,
   "metadata": {},
   "outputs": [],
   "source": [
    "df_long[par+\"Dir\"] = df_long[par].astype(str)+\"_\"+df_long[\"dir\"]\n",
    "#df_rand_long[\"rightDir\"] = df_rand_long[\"right\"].astype(str)+\"_\"+df_rand_long[\"dir\"]"
   ]
  },
  {
   "cell_type": "code",
   "execution_count": null,
   "metadata": {},
   "outputs": [],
   "source": [
    "sns.boxplot(x=\"type\", hue=par+\"Dir\",y=\"value\", data=df_long.loc[df_long[\"dir\"].isin([\"xy\",\"yx\"])])\n",
    "plt.legend(bbox_to_anchor=(1.01, 1),borderaxespad=0)"
   ]
  },
  {
   "cell_type": "code",
   "execution_count": null,
   "metadata": {},
   "outputs": [],
   "source": [
    "sns.boxplot(x=\"type\", hue=par,y=\"value\", data=df_long.loc[df_long[\"dir\"]==\"dif\"])\n",
    "plt.legend(bbox_to_anchor=(1.01, 1),borderaxespad=0)\n",
    "plt.ylim(-1, 1)"
   ]
  },
  {
   "cell_type": "code",
   "execution_count": null,
   "metadata": {},
   "outputs": [],
   "source": [
    "sns.boxplot(x=\"type\", hue=par,y=\"value\", data=df_long.loc[df_long[\"dir\"]==\"absDif\"])\n",
    "plt.legend(bbox_to_anchor=(1.01, 1),borderaxespad=0)\n",
    "plt.ylim(0, 1)"
   ]
  },
  {
   "cell_type": "markdown",
   "metadata": {},
   "source": [
    "HSIC(r,c)"
   ]
  },
  {
   "cell_type": "code",
   "execution_count": null,
   "metadata": {},
   "outputs": [],
   "source": [
    "varsBx = [\"logHsic_xy\",\"logHsic_yx\",\"logHsic_dif\",\"logHsic_absDif\"] \n",
    "df_long = getLongFormat2(df[varsId+varsBx], varsId)\n",
    "#df_rand_long = getLongFormat2(df_rand, [\"type\",\"dataset\",\"smpl\",\"right\"])"
   ]
  },
  {
   "cell_type": "code",
   "execution_count": null,
   "metadata": {},
   "outputs": [],
   "source": [
    "df_long[par+\"Dir\"] = df_long[par].astype(str)+\"_\"+df_long[\"dir\"]\n",
    "#df_rand_long[\"rightDir\"] = df_rand_long[\"right\"].astype(str)+\"_\"+df_rand_long[\"dir\"]"
   ]
  },
  {
   "cell_type": "code",
   "execution_count": null,
   "metadata": {},
   "outputs": [],
   "source": [
    "sns.boxplot(x=\"type\", hue=par+\"Dir\",y=\"value\", data=df_long.loc[df_long[\"dir\"].isin([\"xy\",\"yx\"])])\n",
    "plt.legend(bbox_to_anchor=(1.01, 1),borderaxespad=0)"
   ]
  },
  {
   "cell_type": "code",
   "execution_count": null,
   "metadata": {},
   "outputs": [],
   "source": [
    "sns.boxplot(x=\"type\", hue=par,y=\"value\", data=df_long.loc[df_long[\"dir\"]==\"dif\"])\n",
    "plt.legend(bbox_to_anchor=(1.01, 1),borderaxespad=0)\n",
    "plt.ylim(-1, 1)"
   ]
  },
  {
   "cell_type": "code",
   "execution_count": null,
   "metadata": {},
   "outputs": [],
   "source": [
    "sns.boxplot(x=\"type\", hue=par,y=\"value\", data=df_long.loc[df_long[\"dir\"]==\"absDif\"])\n",
    "plt.legend(bbox_to_anchor=(1.01, 1),borderaxespad=0)\n",
    "plt.ylim(0, 1)"
   ]
  },
  {
   "cell_type": "markdown",
   "metadata": {},
   "source": [
    "MSE(y,yhat)"
   ]
  },
  {
   "cell_type": "code",
   "execution_count": null,
   "metadata": {},
   "outputs": [],
   "source": [
    "varsBx = [\"logErrs_xy\",\"logErrs_yx\",\"logErrs_dif\",\"logErrs_absDif\"] \n",
    "df_long = getLongFormat2(df[varsId+varsBx], varsId)\n",
    "#df_rand_long = getLongFormat2(df_rand, [\"type\",\"dataset\",\"smpl\",\"right\"])"
   ]
  },
  {
   "cell_type": "code",
   "execution_count": null,
   "metadata": {},
   "outputs": [],
   "source": [
    "df_long[par+\"Dir\"] = df_long[par].astype(str)+\"_\"+df_long[\"dir\"]\n",
    "#df_rand_long[\"rightDir\"] = df_rand_long[\"right\"].astype(str)+\"_\"+df_rand_long[\"dir\"]"
   ]
  },
  {
   "cell_type": "code",
   "execution_count": null,
   "metadata": {},
   "outputs": [],
   "source": [
    "sns.boxplot(x=\"type\", hue=par+\"Dir\",y=\"value\", data=df_long.loc[df_long[\"dir\"].isin([\"xy\",\"yx\"])])\n",
    "plt.legend(bbox_to_anchor=(1.01, 1),borderaxespad=0)"
   ]
  },
  {
   "cell_type": "code",
   "execution_count": null,
   "metadata": {},
   "outputs": [],
   "source": [
    "sns.boxplot(x=\"type\", hue=par,y=\"value\", data=df_long.loc[df_long[\"dir\"]==\"dif\"])\n",
    "plt.legend(bbox_to_anchor=(1.01, 1),borderaxespad=0)\n",
    "plt.ylim(-1, 1)"
   ]
  },
  {
   "cell_type": "code",
   "execution_count": null,
   "metadata": {},
   "outputs": [],
   "source": [
    "sns.boxplot(x=\"type\", hue=par,y=\"value\", data=df_long.loc[df_long[\"dir\"]==\"absDif\"])\n",
    "plt.legend(bbox_to_anchor=(1.01, 1),borderaxespad=0)\n",
    "plt.ylim(0, 1)"
   ]
  },
  {
   "cell_type": "markdown",
   "metadata": {},
   "source": [
    "Ent(resids)"
   ]
  },
  {
   "cell_type": "code",
   "execution_count": null,
   "metadata": {},
   "outputs": [],
   "source": [
    "varsBx = [\"ent_xy\",\"ent_yx\",\"ent_dif\",\"ent_absDif\"] \n",
    "df_long = getLongFormat2(df[varsId+varsBx], varsId)\n",
    "#df_rand_long = getLongFormat2(df_rand, [\"type\",\"dataset\",\"smpl\",\"right\"])"
   ]
  },
  {
   "cell_type": "code",
   "execution_count": null,
   "metadata": {},
   "outputs": [],
   "source": [
    "df_long[par+\"Dir\"] = df_long[par].astype(str)+\"_\"+df_long[\"dir\"]\n",
    "#df_rand_long[\"rightDir\"] = df_rand_long[\"right\"].astype(str)+\"_\"+df_rand_long[\"dir\"]"
   ]
  },
  {
   "cell_type": "code",
   "execution_count": null,
   "metadata": {},
   "outputs": [],
   "source": [
    "sns.boxplot(x=\"type\", hue=par+\"Dir\",y=\"value\", data=df_long.loc[df_long[\"dir\"].isin([\"xy\",\"yx\"])])\n",
    "plt.legend(bbox_to_anchor=(1.01, 1),borderaxespad=0)"
   ]
  },
  {
   "cell_type": "code",
   "execution_count": null,
   "metadata": {},
   "outputs": [],
   "source": [
    "g=sns.boxplot(x=\"type\", hue=par,y=\"value\", data=df_long.loc[df_long[\"dir\"]==\"dif\"])\n",
    "g.axhline(0.0)\n",
    "plt.legend(bbox_to_anchor=(1.01, 1),borderaxespad=0)\n",
    "plt.ylim(-1, 1)\n",
    "plt.show()"
   ]
  },
  {
   "cell_type": "code",
   "execution_count": null,
   "metadata": {},
   "outputs": [],
   "source": [
    "sns.boxplot(x=\"type\", hue=par,y=\"value\", data=df_long.loc[df_long[\"dir\"]==\"absDif\"])\n",
    "plt.legend(bbox_to_anchor=(1.01, 1),borderaxespad=0)\n",
    "plt.ylim(0, 1)"
   ]
  },
  {
   "cell_type": "markdown",
   "metadata": {},
   "source": [
    "# lu "
   ]
  },
  {
   "cell_type": "code",
   "execution_count": null,
   "metadata": {},
   "outputs": [],
   "source": [
    "par = \"lu\" # lu"
   ]
  },
  {
   "cell_type": "markdown",
   "metadata": {},
   "source": [
    "HSIC(z,x)"
   ]
  },
  {
   "cell_type": "code",
   "execution_count": null,
   "metadata": {},
   "outputs": [],
   "source": [
    "varsBx = [\"logHsicc_xy\",\"logHsicc_yx\",\"logHsicc_dif\",\"logHsicc_absDif\"] \n",
    "df_long = getLongFormat2(df[varsId+varsBx], varsId)\n",
    "#df_rand_long = getLongFormat2(df_rand, [\"type\",\"dataset\",\"smpl\",\"right\"])"
   ]
  },
  {
   "cell_type": "code",
   "execution_count": null,
   "metadata": {},
   "outputs": [],
   "source": [
    "df_long[par+\"Dir\"] = df_long[par].astype(str)+\"_\"+df_long[\"dir\"]\n",
    "#df_rand_long[\"rightDir\"] = df_rand_long[\"right\"].astype(str)+\"_\"+df_rand_long[\"dir\"]"
   ]
  },
  {
   "cell_type": "code",
   "execution_count": null,
   "metadata": {},
   "outputs": [],
   "source": [
    "sns.boxplot(x=\"type\", hue=par+\"Dir\",y=\"value\", data=df_long.loc[df_long[\"dir\"].isin([\"xy\",\"yx\"])])\n",
    "plt.legend(bbox_to_anchor=(1.01, 1),borderaxespad=0)"
   ]
  },
  {
   "cell_type": "code",
   "execution_count": null,
   "metadata": {},
   "outputs": [],
   "source": [
    "sns.boxplot(x=\"type\", hue=par,y=\"value\", data=df_long.loc[df_long[\"dir\"]==\"dif\"])\n",
    "plt.legend(bbox_to_anchor=(1.01, 1),borderaxespad=0)\n",
    "plt.ylim(-1, 1)"
   ]
  },
  {
   "cell_type": "code",
   "execution_count": null,
   "metadata": {},
   "outputs": [],
   "source": [
    "sns.boxplot(x=\"type\", hue=par,y=\"value\", data=df_long.loc[df_long[\"dir\"]==\"absDif\"])\n",
    "plt.legend(bbox_to_anchor=(1.01, 1),borderaxespad=0)\n",
    "plt.ylim(0, 1)"
   ]
  },
  {
   "cell_type": "markdown",
   "metadata": {},
   "source": [
    "HSIC(r,c)"
   ]
  },
  {
   "cell_type": "code",
   "execution_count": null,
   "metadata": {},
   "outputs": [],
   "source": [
    "varsBx = [\"logHsic_xy\",\"logHsic_yx\",\"logHsic_dif\",\"logHsic_absDif\"] \n",
    "df_long = getLongFormat2(df[varsId+varsBx], varsId)\n",
    "#df_rand_long = getLongFormat2(df_rand, [\"type\",\"dataset\",\"smpl\",\"right\"])"
   ]
  },
  {
   "cell_type": "code",
   "execution_count": null,
   "metadata": {},
   "outputs": [],
   "source": [
    "df_long[par+\"Dir\"] = df_long[par].astype(str)+\"_\"+df_long[\"dir\"]\n",
    "#df_rand_long[\"rightDir\"] = df_rand_long[\"right\"].astype(str)+\"_\"+df_rand_long[\"dir\"]"
   ]
  },
  {
   "cell_type": "code",
   "execution_count": null,
   "metadata": {},
   "outputs": [],
   "source": [
    "sns.boxplot(x=\"type\", hue=par+\"Dir\",y=\"value\", data=df_long.loc[df_long[\"dir\"].isin([\"xy\",\"yx\"])])\n",
    "plt.legend(bbox_to_anchor=(1.01, 1),borderaxespad=0)"
   ]
  },
  {
   "cell_type": "code",
   "execution_count": null,
   "metadata": {},
   "outputs": [],
   "source": [
    "sns.boxplot(x=\"type\", hue=par,y=\"value\", data=df_long.loc[df_long[\"dir\"]==\"dif\"])\n",
    "plt.legend(bbox_to_anchor=(1.01, 1),borderaxespad=0)\n",
    "plt.ylim(-1, 1)"
   ]
  },
  {
   "cell_type": "code",
   "execution_count": null,
   "metadata": {},
   "outputs": [],
   "source": [
    "sns.boxplot(x=\"type\", hue=par,y=\"value\", data=df_long.loc[df_long[\"dir\"]==\"absDif\"])\n",
    "plt.legend(bbox_to_anchor=(1.01, 1),borderaxespad=0)\n",
    "plt.ylim(0, 1)"
   ]
  },
  {
   "cell_type": "markdown",
   "metadata": {},
   "source": [
    "MSE(y,yhat)"
   ]
  },
  {
   "cell_type": "code",
   "execution_count": null,
   "metadata": {},
   "outputs": [],
   "source": [
    "varsBx = [\"logErrs_xy\",\"logErrs_yx\",\"logErrs_dif\",\"logErrs_absDif\"] \n",
    "df_long = getLongFormat2(df[varsId+varsBx], varsId)\n",
    "#df_rand_long = getLongFormat2(df_rand, [\"type\",\"dataset\",\"smpl\",\"right\"])"
   ]
  },
  {
   "cell_type": "code",
   "execution_count": null,
   "metadata": {},
   "outputs": [],
   "source": [
    "df_long[par+\"Dir\"] = df_long[par].astype(str)+\"_\"+df_long[\"dir\"]\n",
    "#df_rand_long[\"rightDir\"] = df_rand_long[\"right\"].astype(str)+\"_\"+df_rand_long[\"dir\"]"
   ]
  },
  {
   "cell_type": "code",
   "execution_count": null,
   "metadata": {},
   "outputs": [],
   "source": [
    "sns.boxplot(x=\"type\", hue=par+\"Dir\",y=\"value\", data=df_long.loc[df_long[\"dir\"].isin([\"xy\",\"yx\"])])\n",
    "plt.legend(bbox_to_anchor=(1.01, 1),borderaxespad=0)"
   ]
  },
  {
   "cell_type": "code",
   "execution_count": null,
   "metadata": {},
   "outputs": [],
   "source": [
    "sns.boxplot(x=\"type\", hue=par,y=\"value\", data=df_long.loc[df_long[\"dir\"]==\"dif\"])\n",
    "plt.legend(bbox_to_anchor=(1.01, 1),borderaxespad=0)\n",
    "plt.ylim(-1, 1)"
   ]
  },
  {
   "cell_type": "code",
   "execution_count": null,
   "metadata": {},
   "outputs": [],
   "source": [
    "sns.boxplot(x=\"type\", hue=par,y=\"value\", data=df_long.loc[df_long[\"dir\"]==\"absDif\"])\n",
    "plt.legend(bbox_to_anchor=(1.01, 1),borderaxespad=0)\n",
    "plt.ylim(0, 1)"
   ]
  },
  {
   "cell_type": "markdown",
   "metadata": {},
   "source": [
    "Ent(resids)"
   ]
  },
  {
   "cell_type": "code",
   "execution_count": null,
   "metadata": {},
   "outputs": [],
   "source": [
    "varsBx = [\"ent_xy\",\"ent_yx\",\"ent_dif\",\"ent_absDif\"] \n",
    "df_long = getLongFormat2(df[varsId+varsBx], varsId)\n",
    "#df_rand_long = getLongFormat2(df_rand, [\"type\",\"dataset\",\"smpl\",\"right\"])"
   ]
  },
  {
   "cell_type": "code",
   "execution_count": null,
   "metadata": {},
   "outputs": [],
   "source": [
    "df_long[par+\"Dir\"] = df_long[par].astype(str)+\"_\"+df_long[\"dir\"]\n",
    "#df_rand_long[\"rightDir\"] = df_rand_long[\"right\"].astype(str)+\"_\"+df_rand_long[\"dir\"]"
   ]
  },
  {
   "cell_type": "code",
   "execution_count": null,
   "metadata": {},
   "outputs": [],
   "source": [
    "sns.boxplot(x=\"type\", hue=par+\"Dir\",y=\"value\", data=df_long.loc[df_long[\"dir\"].isin([\"xy\",\"yx\"])])\n",
    "plt.legend(bbox_to_anchor=(1.01, 1),borderaxespad=0)"
   ]
  },
  {
   "cell_type": "code",
   "execution_count": null,
   "metadata": {},
   "outputs": [],
   "source": [
    "g=sns.boxplot(x=\"type\", hue=par,y=\"value\", data=df_long.loc[df_long[\"dir\"]==\"dif\"])\n",
    "g.axhline(0.0)\n",
    "plt.legend(bbox_to_anchor=(1.01, 1),borderaxespad=0)\n",
    "plt.ylim(-1, 1)\n",
    "plt.show()"
   ]
  },
  {
   "cell_type": "code",
   "execution_count": null,
   "metadata": {},
   "outputs": [],
   "source": [
    "sns.boxplot(x=\"type\", hue=par,y=\"value\", data=df_long.loc[df_long[\"dir\"]==\"absDif\"])\n",
    "plt.legend(bbox_to_anchor=(1.01, 1),borderaxespad=0)\n",
    "plt.ylim(0, 1)"
   ]
  },
  {
   "cell_type": "code",
   "execution_count": null,
   "metadata": {},
   "outputs": [],
   "source": []
  },
  {
   "cell_type": "code",
   "execution_count": null,
   "metadata": {},
   "outputs": [],
   "source": []
  },
  {
   "cell_type": "markdown",
   "metadata": {},
   "source": [
    "# lets check by param "
   ]
  },
  {
   "cell_type": "code",
   "execution_count": null,
   "metadata": {},
   "outputs": [],
   "source": [
    "def aggReps(x):\n",
    "    errs_xy =  onp.array(x[\"value\"][(x[\"var\"]==\"errs\")& (x[\"dir\"]==\"xy\")])\n",
    "    errs_yx =  onp.array(x[\"value\"][(x[\"var\"]==\"errs\")& (x[\"dir\"]==\"yx\")])\n",
    "    hsic_xy =  onp.array(x[\"value\"][(x[\"var\"]==\"hsic\")& (x[\"dir\"]==\"xy\")])\n",
    "    hsic_yx =  onp.array(x[\"value\"][(x[\"var\"]==\"hsic\")& (x[\"dir\"]==\"yx\")])\n",
    "    hsicc_xy =  onp.array(x[\"value\"][(x[\"var\"]==\"hsicc\")& (x[\"dir\"]==\"xy\")])\n",
    "    hsicc_yx =  onp.array(x[\"value\"][(x[\"var\"]==\"hsicc\")& (x[\"dir\"]==\"yx\")])\n",
    "    ent_xy =  onp.array(x[\"value\"][(x[\"var\"]==\"ent\")& (x[\"dir\"]==\"xy\")]) \n",
    "    ent_yx =  onp.array(x[\"value\"][(x[\"var\"]==\"ent\")& (x[\"dir\"]==\"yx\")])\n",
    "    slope_xy =  onp.array(x[\"value\"][(x[\"var\"]==\"slopes\")& (x[\"dir\"]==\"xy\")]) \n",
    "    slope_yx =  onp.array(x[\"value\"][(x[\"var\"]==\"slopes\")& (x[\"dir\"]==\"yx\")])\n",
    "    slope_krr_xy =  onp.array(x[\"value\"][(x[\"var\"]==\"slopeskrr\")& (x[\"dir\"]==\"xy\")]) \n",
    "    slope_krr_yx =  onp.array(x[\"value\"][(x[\"var\"]==\"slopeskrr\")& (x[\"dir\"]==\"yx\")])\n",
    "    hsicz_xy =  onp.array(x[\"value\"][(x[\"var\"]==\"hsicz\")& (x[\"dir\"]==\"xy\")]) \n",
    "    hsicz_yx =  onp.array(x[\"value\"][(x[\"var\"]==\"hsicz\")& (x[\"dir\"]==\"yx\")])\n",
    "    \n",
    "    scr_err = (errs_yx<errs_xy)*-1 + (errs_yx>errs_xy)*1\n",
    "    scr_hsic = (hsic_yx<hsic_xy)*-1 + (hsic_yx>hsic_xy)*1\n",
    "    scr_hsicc = (hsicc_yx<hsicc_xy)*-1 + (hsicc_yx>hsicc_xy)*1\n",
    "    scr_ent = (ent_yx<ent_xy)*-1 + (ent_yx>ent_xy)*1\n",
    "    scr_slope = (slope_yx<slope_xy)*-1 + (slope_yx>slope_xy)*1\n",
    "    scr_slope_krr = (slope_krr_yx<slope_krr_xy)*-1 + (slope_krr_yx>slope_krr_xy)*1\n",
    "    hiscz = (hsicz_yx<hsicz_xy)*1 + (hsicz_yx>hsicz_xy)*-1\n",
    "    \n",
    "    \n",
    "    d = {}\n",
    "    d['errs'] =  onp.mean(scr_err)\n",
    "    d['hsic'] =  onp.mean(scr_hsic)\n",
    "    d['hsicc'] =  onp.mean(scr_hsicc)\n",
    "    d['ent'] =  onp.mean(scr_ent)\n",
    "    d['slope'] =  onp.mean(scr_slope)\n",
    "    d['slope_krr'] =  onp.mean(scr_slope_krr)\n",
    "    d['hsicz'] =  onp.mean(hiscz)\n",
    "    \n",
    "    res = pd.Series(d, index=['errs', 'ent', 'hsic', \"hsicc\",'slope',\"slope_krr\",\"hsicz\"])\n",
    "    \n",
    "    \n",
    "    return res\n",
    "\n",
    "res = df_long_full2.groupby([\"lambda\",\"eta\",\"beta\",\"neta\",\"nu\",\"lu\",'type',\"dataset\"]).apply(aggReps)\n",
    "\n",
    "\n",
    "with pd.option_context('display.max_rows', None, 'display.max_columns', None):  # more options can be specified also\n",
    "    print(res)\n"
   ]
  },
  {
   "cell_type": "code",
   "execution_count": null,
   "metadata": {
    "scrolled": false
   },
   "outputs": [],
   "source": [
    "res = res.reset_index()\n",
    "res.head()"
   ]
  },
  {
   "cell_type": "code",
   "execution_count": null,
   "metadata": {},
   "outputs": [],
   "source": [
    "res_long = pd.melt(res, id_vars=[\"lambda\",\"eta\",\"beta\",\"neta\",\"nu\",\"lu\",\"type\",\"dataset\"])\n",
    "res_long.head()"
   ]
  },
  {
   "cell_type": "code",
   "execution_count": null,
   "metadata": {},
   "outputs": [],
   "source": [
    "def accuracy(x):\n",
    "    return np.sum(x.value>0)/len(x.value)\n",
    "\n",
    "res_acc = res_long.groupby([\"lambda\",\"eta\",\"beta\",\"neta\",\"nu\",\"lu\",\"type\",'variable']).apply(accuracy)\n",
    "\n",
    "\n",
    "with pd.option_context('display.max_rows', None, 'display.max_columns', None):  # more options can be specified also\n",
    "    print(res_acc)\n"
   ]
  },
  {
   "cell_type": "code",
   "execution_count": null,
   "metadata": {},
   "outputs": [],
   "source": [
    "tabAcc = pd.DataFrame(res_acc)\n",
    "tabAcc = tabAcc.reset_index()\n",
    "tabAcc.columns\n",
    "tabAcc = tabAcc.rename(columns={0:\"value\"}, errors=\"raise\")\n",
    "tabAcc.head()"
   ]
  },
  {
   "cell_type": "code",
   "execution_count": null,
   "metadata": {
    "scrolled": false
   },
   "outputs": [],
   "source": [
    "with pd.option_context('display.max_rows', None, 'display.max_columns', None):  # more options can be specified also\n",
    "    print(pd.pivot_table(tabAcc, index=[\"type\", \"lambda\",\"eta\",\"beta\",\"neta\",\"nu\",\"lu\"], columns=[\"variable\"], values=\"value\", aggfunc=onp.sum))\n",
    "\n"
   ]
  }
 ],
 "metadata": {
  "kernelspec": {
   "display_name": "Python 3 (ipykernel)",
   "language": "python",
   "name": "python3"
  },
  "language_info": {
   "codemirror_mode": {
    "name": "ipython",
    "version": 3
   },
   "file_extension": ".py",
   "mimetype": "text/x-python",
   "name": "python",
   "nbconvert_exporter": "python",
   "pygments_lexer": "ipython3",
   "version": "3.7.4"
  }
 },
 "nbformat": 4,
 "nbformat_minor": 2
}
