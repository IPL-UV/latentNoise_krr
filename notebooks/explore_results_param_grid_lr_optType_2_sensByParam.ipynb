{
 "cells": [
  {
   "cell_type": "code",
   "execution_count": null,
   "metadata": {},
   "outputs": [],
   "source": [
    "102*36"
   ]
  },
  {
   "cell_type": "code",
   "execution_count": 1,
   "metadata": {},
   "outputs": [
    {
     "name": "stdout",
     "output_type": "stream",
     "text": [
      "['/home/emiliano/Documents/ISP/proyectos/causality/latentNoise_krr/notebooks', '/home/emiliano/anaconda3/lib/python37.zip', '/home/emiliano/anaconda3/lib/python3.7', '/home/emiliano/anaconda3/lib/python3.7/lib-dynload', '', '/home/emiliano/anaconda3/lib/python3.7/site-packages', '/home/emiliano/anaconda3/lib/python3.7/site-packages/locket-0.2.1-py3.7.egg', '/home/emiliano/anaconda3/lib/python3.7/site-packages/IPython/extensions', '/home/emiliano/.ipython']\n",
      "bla\n",
      "[1] \"in func_entropy_v1.R\"\n",
      "2022-02-28 15:38:48,313:WARNING:R[write to console]: Loading required package: spam\n",
      "\n",
      "2022-02-28 15:38:48,317:WARNING:R[write to console]: Loading required package: dotCall64\n",
      "\n",
      "2022-02-28 15:38:48,324:WARNING:R[write to console]: Loading required package: grid\n",
      "\n",
      "2022-02-28 15:38:48,634:WARNING:R[write to console]: Spam version 2.3-0 (2019-09-13) is loaded.\n",
      "Type 'help( Spam)' or 'demo( spam)' for a short introduction \n",
      "and overview of this package.\n",
      "Help for individual functions is also obtained by adding the\n",
      "suffix '.spam' to the function name, e.g. 'help( chol.spam)'.\n",
      "\n",
      "2022-02-28 15:38:48,636:WARNING:R[write to console]: \n",
      "Attaching package: ‘spam’\n",
      "\n",
      "\n",
      "2022-02-28 15:38:48,638:WARNING:R[write to console]: The following objects are masked from ‘package:base’:\n",
      "\n",
      "    backsolve, forwardsolve\n",
      "\n",
      "\n",
      "2022-02-28 15:38:48,640:WARNING:R[write to console]: Loading required package: maps\n",
      "\n",
      "2022-02-28 15:38:48,660:WARNING:R[write to console]: See https://github.com/NCAR/Fields for\n",
      " an extensive vignette, other supplements and source code \n",
      "\n",
      "2022-02-28 15:38:48,662:WARNING:R[write to console]: \n",
      "Attaching package: ‘fields’\n",
      "\n",
      "\n",
      "2022-02-28 15:38:48,663:WARNING:R[write to console]: The following object is masked from ‘package:plotrix’:\n",
      "\n",
      "    color.scale\n",
      "\n",
      "\n",
      "2022-02-28 15:38:48,696:WARNING:R[write to console]: Registered S3 method overwritten by 'R.oo':\n",
      "  method        from       \n",
      "  throw.default R.methodsS3\n",
      "\n",
      "2022-02-28 15:38:48,746:WARNING:R[write to console]: R.matlab v3.6.2 (2018-09-26) successfully loaded. See ?R.matlab for help.\n",
      "\n",
      "2022-02-28 15:38:48,748:WARNING:R[write to console]: \n",
      "Attaching package: ‘R.matlab’\n",
      "\n",
      "\n",
      "2022-02-28 15:38:48,749:WARNING:R[write to console]: The following objects are masked from ‘package:base’:\n",
      "\n",
      "    getOption, isOpen\n",
      "\n",
      "\n",
      "enters latentNoise_funcs_gen.py\n",
      "enters processResults\n",
      "here\n"
     ]
    }
   ],
   "source": [
    "import sys\n",
    "print(sys.path)\n",
    "sys.path.insert(1,'/home/emiliano/Documents/ISP/proyectos/causality/latentNoise_krr/src/ITE-1.1_code')\n",
    "sys.path.insert(1,'/home/emiliano/Documents/ISP/proyectos/causality/latentNoise_krr/src/')\n",
    "from latentNoise_funcs_gen import *\n",
    "from ANLSMN_genfuncs import *\n",
    "from processResults import *\n",
    "\n",
    "\n",
    "\n",
    "\n",
    "%load_ext autoreload\n",
    "%autoreload 2\n"
   ]
  },
  {
   "cell_type": "code",
   "execution_count": 2,
   "metadata": {},
   "outputs": [
    {
     "name": "stdout",
     "output_type": "stream",
     "text": [
      "[1] \"in func_entropy_v1.R\"\n"
     ]
    },
    {
     "data": {
      "text/html": [
       "\n",
       "        <span>ListVector with 2 elements.</span>\n",
       "        <table>\n",
       "        <tbody>\n",
       "        \n",
       "          <tr>\n",
       "            <th>\n",
       "            value\n",
       "            </th>\n",
       "            <td>\n",
       "            <rpy2.rinterface.SexpClosure object at 0x7f358142caa0> [RTYPES.CLOSXP]\n",
       "            </td>\n",
       "          </tr>\n",
       "        \n",
       "          <tr>\n",
       "            <th>\n",
       "            visible\n",
       "            </th>\n",
       "            <td>\n",
       "            <rpy2.rinterface.BoolSexpVector object at 0x7f358142cfa0> [RTYPES.LGLSXP]\n",
       "            </td>\n",
       "          </tr>\n",
       "        \n",
       "        </tbody>\n",
       "        </table>\n",
       "        "
      ],
      "text/plain": [
       "<rpy2.robjects.vectors.ListVector object at 0x7f35814207d0> [RTYPES.VECSXP]\n",
       "R classes: ('list',)\n",
       "[SexpClosure, BoolSexpVector]\n",
       "  value: <class 'rpy2.rinterface.SexpClosure'>\n",
       "  <rpy2.rinterface.SexpClosure object at 0x7f358142c870> [RTYPES.CLOSXP]\n",
       "  visible: <class 'rpy2.rinterface.BoolSexpVector'>\n",
       "  <rpy2.rinterface.BoolSexpVector object at 0x7f358142cc30> [RTYPES.LGLSXP]"
      ]
     },
     "execution_count": 2,
     "metadata": {},
     "output_type": "execute_result"
    }
   ],
   "source": [
    "r[\"source\"](\"func_entropy_v1.R\")"
   ]
  },
  {
   "cell_type": "code",
   "execution_count": 3,
   "metadata": {},
   "outputs": [],
   "source": [
    "funcs_r = robjects.globalenv"
   ]
  },
  {
   "cell_type": "code",
   "execution_count": 4,
   "metadata": {},
   "outputs": [],
   "source": [
    "import jax.numpy as np\n",
    "import numpy as onp \n",
    "import pandas as pd\n",
    "import pickle5 as pickle5\n",
    "import pickle \n",
    "import time\n",
    "import json\n",
    "from sklearn import metrics\n",
    "import matplotlib.pyplot as plt\n",
    "import seaborn as sns\n",
    "import bisect\n",
    "import itertools\n",
    "from scipy.spatial import distance\n",
    "\n",
    "from sklearn.preprocessing import PolynomialFeatures\n",
    "from sklearn.linear_model import LogisticRegression\n",
    "from sklearn.ensemble import RandomForestClassifier\n",
    "from sklearn.metrics import balanced_accuracy_score\n",
    "\n",
    "from fairlearn.reductions import ExponentiatedGradient, DemographicParity \n",
    "from sklearn.tree import DecisionTreeClassifier\n",
    "from fairlearn.metrics import MetricFrame, selection_rate, count\n",
    "import sklearn.metrics as skm\n",
    "\n",
    "from sklearn.utils import check_random_state\n",
    "\n"
   ]
  },
  {
   "cell_type": "code",
   "execution_count": 5,
   "metadata": {},
   "outputs": [
    {
     "data": {
      "text/plain": [
       "'0.24.1'"
      ]
     },
     "execution_count": 5,
     "metadata": {},
     "output_type": "execute_result"
    }
   ],
   "source": [
    "import sklearn as sk\n",
    "sk.__version__"
   ]
  },
  {
   "cell_type": "code",
   "execution_count": 6,
   "metadata": {},
   "outputs": [
    {
     "data": {
      "text/plain": [
       "'1.1.0'"
      ]
     },
     "execution_count": 6,
     "metadata": {},
     "output_type": "execute_result"
    }
   ],
   "source": [
    "pd.__version__"
   ]
  },
  {
   "cell_type": "markdown",
   "metadata": {},
   "source": [
    "# Read in Experiments"
   ]
  },
  {
   "cell_type": "code",
   "execution_count": 7,
   "metadata": {},
   "outputs": [],
   "source": [
    "readIn = True\n",
    "correctMse = False"
   ]
  },
  {
   "cell_type": "code",
   "execution_count": 8,
   "metadata": {},
   "outputs": [],
   "source": [
    "file =  \"latent_noise\"\n",
    "\n",
    "\n",
    "num_data = 100\n",
    "\n",
    "\n",
    "num_data = 300\n",
    "num_data = 1002\n",
    "num_data = 302\n",
    "num_data = 100\n",
    "\n",
    "reposData = \"/home/emiliano/Documents/ISP/proyectos/causality/causaLearner_R_pkg/causaLearner/data/\"\n",
    "fileDict = {\"SIM-1000_withZ\":['SIMc'], \"ANLSMN_withZ\":['AN', 'LS-s']}\n",
    "fileDict = {\"TCEP-all\":['tcep'], \"SIM-1000_withZ\":['SIM', 'SIMc', 'SIMG', 'SIMln'], \"ANLSMN_withZ\":['AN', 'AN-s', 'LS', 'LS-s',\n",
    "       'MN-U']}\n",
    "fileDict = {\"ANLSMN_withZ\":['LS-s']}\n",
    "\n",
    "\n",
    "#fileDict = {\"ANLSMN_withZ\":['LS-s']}\n",
    "\n",
    "fileDict = {\"TCEP-all\":['tcep'], \"SIM-1000_withZ\":['SIM', 'SIMc', 'SIMG', 'SIMln'], \"ANLSMN_withZ\":['AN', 'AN-s', 'LS', 'LS-s',\n",
    "       'MN-U']}\n",
    "fileDict = {\"TCEP-all\":['tcep'], \"ANLSMN_withZ\":['LS-s','MN-U']}\n",
    "fileDict = {\"ANLSMN_withZ\":['LS-s']}\n",
    "\n",
    "\n",
    "#fileDict = {\"SIM-1000_withZ\":['SIM'], \"ANLSMN_withZ\":['LS-s','MN-U']}"
   ]
  },
  {
   "cell_type": "code",
   "execution_count": 9,
   "metadata": {},
   "outputs": [],
   "source": [
    "\n",
    "\n",
    "\n",
    "version = \"v3_optType\"\n",
    "version = \"res_sens_hyperpars_v0\"\n",
    "version = \"res_sens_logPlus1_v0\"\n",
    "version = \"res_sens_noLog_v0\"\n",
    "version = \"res_sens_sigz_v0\"\n",
    "version = \"res_sens_sigx_v0\"\n",
    "version = \"res_sens_sigxz_v0\"\n",
    "version = \"res_sens_optSigz_v0\"\n",
    "version = \"res_sens_optSigx_v0\"\n",
    "version = \"res_sens_optSigxz_v0\"\n",
    "\n",
    "version = \"res_sens_crossKernel_v0\"\n",
    "version = \"res_sens_optSigxz_divorced_v0\"\n",
    "version = \"res_sens_optSigx_divorced_v0\"\n",
    "version = \"res_sens_optSigz_divorced_v0\"\n",
    "\n",
    "version = \"res_sens_algoDep_v0\"\n",
    "version = \"res_sens_batchSize_v0\"\n",
    "version = \"res_sens_reps_v0\"\n",
    "version = \"res_sens_epochs_v0\"\n",
    "\n",
    "\n",
    "version = \"res_sens_learningRate_v0\"\n",
    "version = \"res_sens_eta_v0\"\n",
    "version = \"res_sens_nu_v0\"\n",
    "version = \"res_sens_batchSize_v1\"\n",
    "version = \"res_sens_optSigxz_noEtaBeta_v0\"\n",
    "\n",
    "\n",
    "version = \"res_sens_optSigz_objFunc_v0\"\n",
    "version = \"res_sens_optSigxz_objFunc_v0\"\n",
    "\n",
    "\n",
    "version = \"res_sens_optSigx_objFunc_v0\"\n",
    "version = \"res_sens_batchSize_v2\"\n",
    "\n",
    "\n",
    "version = \"res_sens_learningRate_v1\"\n",
    "version = \"res_sens_eta_v1\"\n",
    "\n",
    "version = \"res_sens_smplNoSeed_v0\"\n",
    "\n",
    "version = \"res_sens_noRescale_v0\"\n",
    "version = \"res_sens_noRescale_v1\"\n",
    "version = \"res_sens_noRescale_v2\"\n",
    "\n",
    "version = \"res_sens_smplNoReplace_v0\"\n",
    "\n",
    "version = \"res_sens_sigx_divorced_v0\"\n",
    "version = \"res_sens_sigz_divorced_v0\"\n",
    "version = \"res_sens_sigxz_divorced_v0\"\n",
    "\n",
    "version = \"res_sens_sigx_objFunc_v0\"\n",
    "version = \"res_sens_sigz_objFunc_v0\"\n",
    "version = \"res_sens_sigxz_objFunc_v0\"\n",
    "\n",
    "version = \"res_sens_sigr_objFunc_v0\"\n",
    "version = \"res_sens_sigr_objFunc_v1\"\n",
    "\n",
    "version = \"res_sens_optSigr_objFunc_v0\"\n",
    "\n",
    "\n",
    "version = \"res_sens_crossKernel_withOpt_v0\"\n",
    "version = \"res_sens_crossKernel_withOpt_v1\"\n",
    "version = \"res_sens_crossKernel_withOpt_v2\"\n",
    "version = \"res_sens_crossKernel_withOpt_v3\"\n",
    "\n",
    "\n",
    "version = \"res_sens_myKernel2_withOpt_v0\"\n",
    "version = \"res_sens_myKernel3_withOpt_v0\"\n",
    "\n",
    "\n",
    "version = \"greedy_search_v1\"\n",
    "version = \"greedy_search_v0\"\n",
    "version = \"greedy_search_v2\"\n",
    "version = \"greedy_search_v0b\"\n",
    "version = \"greedy_search_v0c\"\n",
    "version = \"greedy_search_v0d\"\n",
    "version = \"greedy_search_v3b\"\n",
    "version = \"greedy_search_v0e\"\n",
    "version = \"greedy_search_v0f\"\n",
    "version = \"greedy_search_v0g\"\n",
    "version = \"greedy_search_v5g\"\n",
    "version = \"greedy_search_v4g\"\n",
    "version = \"greedy_search_v7g\"\n",
    "version = \"greedy_search_v8g\"\n",
    "version = \"greedy_search_v9g\"\n",
    "version = \"greedy_search_v10g\"\n",
    "version = \"greedy_search_v11g\"\n",
    "version = \"greedy_search_v7g\"\n",
    "version = \"greedy_search_v12g\"\n",
    "version = \"greedy_search_v6g\"\n",
    "version = \"greedy_search_v13g\"\n",
    "version = \"greedy_search_v14g\"\n",
    "version = \"greedy_search_v7g_b\"\n",
    "\n",
    "version = \"greedy_search_v15g\"\n",
    "version = \"greedy_search_v16g\"\n",
    "version = \"greedy_search_v17g\"\n",
    "\n",
    "version = \"greedy_search_v7g_c\"\n",
    "version = \"greedy_search_v7g_d\"\n",
    "\n",
    "version = \"greedy_search_tcep_v0\"\n",
    "version = \"greedy_search_tcep_v1\"\n",
    "version = \"greedy_search_tcep_v2\"\n",
    "version = \"greedy_search_tcep_v3\"\n",
    "version = \"greedy_search_tcep_v4\"\n",
    "version = \"greedy_search_tcep_v5\"\n",
    "version = \"greedy_search_tcep_v6\"\n",
    "version = \"greedy_search_tcep_v9\"\n",
    "\n",
    "version = \"greedy_search_tcep_v10\"\n",
    "version = \"greedy_search_tcep_v11\"\n",
    "\n",
    "version = \"v3_optType\"\n",
    "version = \"greedy_search_tcep_v12\"\n",
    "version = \"greedy_search_tcep_v13\"\n",
    "\n",
    "version = \"greedy_search_tcep_v8\"\n",
    "version = \"greedy_search_tcep_v7\"\n",
    "\n",
    "version = \"greedy_search_tcep_v14\"\n",
    "\n",
    "version = \"greedy_search_tcep_v16\"\n",
    "version = \"greedy_search_tcep_v17a\"\n",
    "version = \"greedy_search_tcep_v18\"\n",
    "version = \"greedy_search_tcep_v15\"\n",
    "version = \"greedy_search_tcep_v19\"\n",
    "version = \"greedy_search_tcep_v20\"\n",
    "version = \"greedy_search_tcep_v21\"\n",
    "version = \"greedy_search_tcep_v22\"\n",
    "\n",
    "# parrs version = \"v3_optType\"\n",
    "pars= {\"lambda\":[0.01, 0.1, 1],\n",
    "           \"eta\":[0.01],\n",
    "    \"beta\":[0.1, 1.0, 10.0],\n",
    "       \"neta\":[0.001, 0.01, 0.1],\n",
    "        \"nu\":[10.0],\n",
    "        \"lu\":[0.0, 1.0],\n",
    "        \"lr\":[0.1],\n",
    "        \"ot\":[\"freeZ\"]}\n",
    "\n",
    "\n",
    "# pars version = \"res_sens_logPlus1_v0\"\n",
    "pars = {\"lambda\": [0.0001, 0.001, 0.01, 0.1],\n",
    "            \"eta\": [0.01],\n",
    "            \"beta\": [0.001, 0.01, 0.1],\n",
    "            \"neta\": [0.01],\n",
    "            \"nu\": [10.0],\n",
    "            \"lu\": [0.0],\n",
    "            \"lr\": [0.1],\n",
    "            \"ot\": [\"freeZ\"]}\n",
    "\n",
    "\n",
    "# pars version = \"res_sens_noLog_v0\"\n",
    "pars = {\"lambda\": [0.0001, 0.001, 0.01, 0.1],\n",
    "            \"eta\": [0.01],\n",
    "            \"beta\": [0.001, 0.01, 0.1],\n",
    "            \"neta\": [0.01],\n",
    "            \"nu\": [10.0],\n",
    "            \"lu\": [0.0],\n",
    "            \"lr\": [0.1],\n",
    "            \"ot\": [\"freeZ\"]}\n",
    "\n",
    "\n",
    "\n",
    "# pars version = \"res_sens_batchSize_v0\"\n",
    "pars = {\"lambda\": [0.0001, 0.001, 0.01, 0.1],\n",
    "            \"sig\":[0.5],\n",
    "            \"eta\": [0.01],\n",
    "            \"beta\": [0.1],\n",
    "            \"neta\": [0.01],\n",
    "            \"nu\": [10.0],\n",
    "            \"lu\": [0.0],\n",
    "            \"lr\": [0.1],\n",
    "            \"ot\": [\"freeZ\"],\n",
    "            \"epchs\": [500],\n",
    "            \"bs\":[75, 100, 200],\n",
    "            \"reps\":[5]}\n",
    "\n",
    "\n",
    "\n",
    "# pars version = \"res_sens_reps_v0\"\n",
    "pars = {\"lambda\": [0.0001, 0.001, 0.01, 0.1],\n",
    "            \"sig\":[0.5],\n",
    "            \"eta\": [0.01],\n",
    "            \"beta\": [0.1],\n",
    "            \"neta\": [0.01],\n",
    "            \"nu\": [10.0],\n",
    "            \"lu\": [0.0],\n",
    "            \"lr\": [0.1],\n",
    "            \"ot\": [\"freeZ\"],\n",
    "            \"epchs\": [500],\n",
    "            \"bs\":[100],\n",
    "            \"reps\":[3, 10, 20]}\n",
    "\n",
    "# pars version = \"res_sens_epochs_v0\"\n",
    "pars = {\"lambda\": [0.0001, 0.001, 0.01, 0.1],\n",
    "            \"sig\":[0.5],\n",
    "            \"eta\": [0.01],\n",
    "            \"beta\": [0.1],\n",
    "            \"neta\": [0.01],\n",
    "            \"nu\": [10.0],\n",
    "            \"lu\": [0.0],\n",
    "            \"lr\": [0.1],\n",
    "            \"ot\": [\"freeZ\"],\n",
    "            \"epchs\": [250, 500, 1000],\n",
    "            \"bs\":[100],\n",
    "            \"reps\":[5]}\n",
    "\n",
    "# pars version = \"res_sens_learningRate_v0\"\n",
    "pars = {\"lambda\": [0.0001, 0.001, 0.01, 0.1],\n",
    "            \"sig\":[0.5],\n",
    "            \"eta\": [0.01],\n",
    "            \"beta\": [0.1],\n",
    "            \"neta\": [0.01],\n",
    "            \"nu\": [10.0],\n",
    "            \"lu\": [0.0],\n",
    "            \"lr\": [0.05,0.2,0.5],\n",
    "            \"ot\": [\"freeZ\"],\n",
    "            \"epchs\": [500],\n",
    "            \"bs\":[100],\n",
    "            \"reps\":[5]}\n",
    "\n",
    "# pars version = \"res_sens_eta_v0\"\n",
    "pars = {\"lambda\": [0.0001, 0.001, 0.01, 0.1],\n",
    "            \"sig\":[0.5],\n",
    "            \"eta\": [0.0, 0.1, 1.0],\n",
    "            \"beta\": [0.1],\n",
    "            \"neta\": [0.01],\n",
    "            \"nu\": [10.0],\n",
    "            \"lu\": [0.0],\n",
    "            \"lr\": [0.1],\n",
    "            \"ot\": [\"freeZ\"],\n",
    "            \"epchs\": [500],\n",
    "            \"bs\":[100],\n",
    "            \"reps\":[5]}\n",
    "\n",
    "# pars version = \"res_sens_nu_v0\"\n",
    "pars = {\"lambda\": [0.0001, 0.001, 0.01, 0.1],\n",
    "            \"sig\":[0.5],\n",
    "            \"eta\": [0.01],\n",
    "            \"beta\": [0.1],\n",
    "            \"neta\": [0.01],\n",
    "            \"nu\": [0.0, 0.1, 1],\n",
    "            \"lu\": [0.0],\n",
    "            \"lr\": [0.1],\n",
    "            \"ot\": [\"freeZ\"],\n",
    "            \"epchs\": [500],\n",
    "            \"bs\":[100],\n",
    "            \"reps\":[5]}\n",
    "\n",
    "# pars version = \"res_sens_batchSize_v1\"\n",
    "pars = {\"lambda\": [0.0001, 0.001, 0.01, 0.1],\n",
    "            \"sig\":[0.5],\n",
    "            \"eta\": [0.01],\n",
    "            \"beta\": [0.1],\n",
    "            \"neta\": [0.01],\n",
    "            \"nu\": [10.0],\n",
    "            \"lu\": [0.0],\n",
    "            \"lr\": [0.1],\n",
    "            \"ot\": [\"freeZ\"],\n",
    "            \"epchs\": [500],\n",
    "            \"bs\":[300, 400, 500],\n",
    "            \"reps\":[5]}\n",
    "\n",
    "# pars version = \"res_sens_optSigxz_noEtaBeta_v0\"\n",
    "pars = {\"lambda\": [0.0001, 0.001, 0.01, 0.1],\n",
    "            \"sig\":[0.5],\n",
    "            \"eta\": [0.0],\n",
    "            \"beta\": [0.0],\n",
    "            \"neta\": [0.001, 0.01, 0.1],\n",
    "            \"nu\": [10.0],\n",
    "            \"lu\": [0.0],\n",
    "            \"lr\": [0.1],\n",
    "            \"ot\": [\"freeZ\"],\n",
    "            \"epchs\": [500],\n",
    "            \"bs\":[100],\n",
    "            \"reps\":[5]}\n",
    "\n",
    "\n",
    "\n",
    "\n",
    "\n",
    "# pars version = \"res_sens_optSigz_v0\",\"res_sens_optSigx_v0\", \"res_sens_optSigxz_v0\", \n",
    "#\"res_sens_crossKernel_v0\", \"res_sens_crossKernel_withOpt_v0\"\n",
    "pars = {\"lambda\": [0.0001, 0.001, 0.01, 0.1],\n",
    "            \"sig\":[0.5],\n",
    "            \"eta\": [0.01],\n",
    "            \"beta\": [0.001, 0.01, 0.1],\n",
    "            \"neta\": [0.01],\n",
    "            \"nu\": [10.0],\n",
    "            \"lu\": [0.0],\n",
    "            \"lr\": [0.1],\n",
    "            \"ot\": [\"freeZ\"]}\n",
    "\n",
    "\n",
    "# pars version = \"res_sens_batchSize_v2\"\n",
    "pars = {\"lambda\": [0.0001, 0.001, 0.01, 0.1],\n",
    "            \"sig\":[0.5],\n",
    "            \"eta\": [0.01],\n",
    "            \"beta\": [0.1],\n",
    "            \"neta\": [0.01],\n",
    "            \"nu\": [10.0],\n",
    "            \"lu\": [0.0],\n",
    "            \"lr\": [0.1],\n",
    "            \"ot\": [\"freeZ\"],\n",
    "            \"epchs\": [500],\n",
    "            \"bs\":[750, 1000],\n",
    "            \"reps\":[5]}\n",
    "\n",
    "# pars version = \"res_sens_learningRate_v0\"\n",
    "pars = {\"lambda\": [0.0001, 0.001, 0.01, 0.1],\n",
    "            \"sig\":[0.5],\n",
    "            \"eta\": [0.01],\n",
    "            \"beta\": [0.1],\n",
    "            \"neta\": [0.01],\n",
    "            \"nu\": [10.0],\n",
    "            \"lu\": [0.0],\n",
    "            \"lr\": [0.1,0.2,0.3],\n",
    "            \"ot\": [\"freeZ\"],\n",
    "            \"epchs\": [500],\n",
    "            \"bs\":[100],\n",
    "            \"reps\":[5]}\n",
    "\n",
    "# pars version = \"res_sens_eta_v1\"\n",
    "pars = {\"lambda\": [0.0001, 0.001, 0.01, 0.1],\n",
    "            \"sig\":[0.5],\n",
    "            \"eta\": [0.0, 0.01, 0.1],\n",
    "            \"beta\": [0.1],\n",
    "            \"neta\": [0.01],\n",
    "            \"nu\": [10.0],\n",
    "            \"lu\": [0.0],\n",
    "            \"lr\": [0.1],\n",
    "            \"ot\": [\"freeZ\"],\n",
    "            \"epchs\": [500],\n",
    "            \"bs\":[100],\n",
    "            \"reps\":[5]}\n",
    "\n",
    "\n",
    "\n",
    "# pars version = \"res_sens_hyperpars_v0\", \"res_sens_noRescale_v0,1,2\"\n",
    "pars = {\"lambda\": [0.0001, 0.001, 0.01, 0.1],\n",
    "        \"sig\":[0.5],\n",
    "            \"eta\": [0.01],\n",
    "            \"beta\": [0.001, 0.01, 0.1],\n",
    "            \"neta\": [0.01],\n",
    "            \"nu\": [10.0],\n",
    "            \"lu\": [0.0],\n",
    "            \"lr\": [0.1],\n",
    "            \"ot\": [\"freeZ\"]}\n",
    "\n",
    "\n",
    "# pars version = \"res_sens_smplNoReplace_v0\"\n",
    "pars = {\"lambda\": [0.0001, 0.001, 0.01, 0.1],\n",
    "            \"sig\":[0.5],\n",
    "            \"eta\": [0.01],\n",
    "            \"beta\": [0.1],\n",
    "            \"neta\": [0.01],\n",
    "            \"nu\": [10.0],\n",
    "            \"lu\": [0.0],\n",
    "            \"lr\": [0.1],\n",
    "            \"ot\": [\"freeZ\"],\n",
    "            \"epchs\": [500],\n",
    "            \"bs\":[100, 200, 300],\n",
    "            \"reps\":[5]}\n",
    "\n",
    "# pars version = \"res_sens_sigz_v0\", \"res_sens_sigx_v0\", \"res_sens_sigxz_v0\"\n",
    "pars = {\"lambda\": [0.001, 0.01, 0.1],\n",
    "            \"sig\": [0.01, 0.1, 0.3, 0.7, 0.9, 0.99],\n",
    "            \"eta\": [0.01],\n",
    "            \"beta\": [0.01],\n",
    "            \"neta\": [0.01],\n",
    "            \"nu\": [10.0],\n",
    "            \"lu\": [0.0],\n",
    "            \"lr\": [0.1],\n",
    "            \"ot\": [\"freeZ\"]}\n",
    "\n",
    "# pars version = \"res_sens_sigr_v1\"\n",
    "pars = {\"lambda\": [0.001, 0.01, 0.1],\n",
    "            \"sig\": [0.3, 0.7, 0.9, 0.99],\n",
    "            \"eta\": [0.01],\n",
    "            \"beta\": [0.01],\n",
    "            \"neta\": [0.01],\n",
    "            \"nu\": [10.0],\n",
    "            \"lu\": [0.0],\n",
    "            \"lr\": [0.1],\n",
    "            \"ot\": [\"freeZ\"]}\n",
    "\n",
    "# pars version = \"res_sens_hyperpars_v0\", \"res_sens_smplNoSeed_v0\"\n",
    "pars = {\"lambda\": [0.0001, 0.001, 0.01, 0.1],\n",
    "            \"eta\": [0.01],\n",
    "            \"beta\": [0.001, 0.01, 0.1],\n",
    "            \"neta\": [0.01],\n",
    "            \"nu\": [10.0],\n",
    "            \"lu\": [0.0],\n",
    "            \"lr\": [0.1],\n",
    "            \"ot\": [\"freeZ\"]}\n",
    "\n",
    "# pars version = \"greedy_search_v0\"\n",
    "pars = {\"lambda\": [0.01],\n",
    "            \"eta\": [0.01],\n",
    "            \"beta\": [0.1, 1.0, 10.0],\n",
    "            \"neta\": [0.01, 0.1],\n",
    "            \"nu\": [10.0],\n",
    "            \"lu\": [0.0],\n",
    "            \"lr\": [0.1],\n",
    "            \"ot\": [\"freeZ\"]}\n",
    "\n",
    "# pars version = \"greedy_search_v0b\"\n",
    "pars = {\"lambda\": [0.01],\n",
    "            \"eta\": [0.01],\n",
    "            \"beta\": [0.01, 0.1, 1.0],\n",
    "            \"neta\": [0.01, 0.1, 1.0],\n",
    "            \"nu\": [10.0],\n",
    "            \"lu\": [0.0],\n",
    "            \"lr\": [0.1],\n",
    "            \"ot\": [\"freeZ\"]}\n",
    "\n",
    "# pars version = \"greedy_search_v0c\"\n",
    "pars = {\"lambda\": [0.01],\n",
    "            \"eta\": [0.01],\n",
    "            \"beta\": [0.01, 0.1],\n",
    "            \"neta\": [0.001, 0.01, 0.1, 1.0, 10.0],\n",
    "            \"nu\": [10.0],\n",
    "            \"lu\": [0.0],\n",
    "            \"lr\": [0.1],\n",
    "            \"ot\": [\"freeZ\"]}\n",
    "\n",
    "# pars version = \"greedy_search_v0d\"\n",
    "pars = {\"lambda\": [0.01],\n",
    "            \"eta\": [0.01],\n",
    "            \"beta\": [0.01, 0.1],\n",
    "            \"neta\": [0.01, 0.025, 0.05, 0.075, 0.1],\n",
    "            \"nu\": [10.0],\n",
    "            \"lu\": [0.0],\n",
    "            \"lr\": [0.1],\n",
    "            \"ot\": [\"freeZ\"]}\n",
    "\n",
    "# pars version = \"greedy_search_v3b\"\n",
    "pars = {\"lambda\": [0.01],\n",
    "            \"eta\": [0.01],\n",
    "            \"beta\": [0.01, 0.1, 1.0],\n",
    "            \"neta\": [0.01, 0.1, 1.0],\n",
    "            \"nu\": [10.0],\n",
    "            \"lu\": [0.0],\n",
    "            \"lr\": [0.1],\n",
    "            \"ot\": [\"freeZ\"]}\n",
    "\n",
    "# pars version = \"greedy_search_v0e\"\n",
    "pars = {\"lambda\": [0.01],\n",
    "            \"eta\": [0.01],\n",
    "            \"beta\": [0.01, 0.1, 1.0, 10.0],\n",
    "            \"neta\": [0.01, 0.1],\n",
    "            \"nu\": [10.0],\n",
    "            \"lu\": [0.0],\n",
    "            \"lr\": [0.1],\n",
    "            \"ot\": [\"freeZ\"]}\n",
    "\n",
    "# pars version = \"greedy_search_v0f\"\n",
    "pars = {\"lambda\": [0.01],\n",
    "            \"eta\": [0.01],\n",
    "            \"beta\": [0.1, 1.0, 10.0, 100.0],\n",
    "            \"neta\": [0.01, 0.1, 0.5],\n",
    "            \"nu\": [10.0],\n",
    "            \"lu\": [0.0],\n",
    "            \"lr\": [0.1],\n",
    "            \"ot\": [\"freeZ\"]}\n",
    "\n",
    "\n",
    "# pars version = \"greedy_search_v8g\"\n",
    "pars = {\"lambda\": [0.001, 0.01, 0.1, 1.0],\n",
    "            \"eta\": [0.01],\n",
    "            \"beta\": [0.1, 1.0, 10.0],\n",
    "            \"neta\": [0.01, 0.1],\n",
    "            \"nu\": [0.0],\n",
    "            \"lu\": [0.0],\n",
    "            \"lr\": [0.1],\n",
    "            \"ot\": [\"freeZ\"]}\n",
    "\n",
    "# pars version = \"greedy_search_v9g\"\n",
    "pars = {\"lambda\": [0.001, 0.01, 0.1, 1.0],\n",
    "            \"eta\": [0.1],\n",
    "            \"beta\": [0.1, 1.0, 10.0],\n",
    "            \"neta\": [0.01, 0.1],\n",
    "            \"nu\": [10.0],\n",
    "            \"lu\": [0.0],\n",
    "            \"lr\": [0.1],\n",
    "            \"ot\": [\"freeZ\"]}\n",
    "\n",
    "# pars version = \"greedy_search_v10g\"\n",
    "pars = {\"lambda\": [0.001, 0.01, 0.1, 1.0],\n",
    "            \"eta\": [0.0],\n",
    "            \"beta\": [0.1, 1.0, 10.0],\n",
    "            \"neta\": [0.01, 0.1],\n",
    "            \"nu\": [10.0],\n",
    "            \"lu\": [0.0],\n",
    "            \"lr\": [0.1],\n",
    "            \"ot\": [\"freeZ\"]}\n",
    "\n",
    "\n",
    "\n",
    "# pars version = \"greedy_search_v12g\"\n",
    "pars = {\"lambda\": [0.001, 0.01, 0.1, 1.0],\n",
    "            \"eta\": [0.01],\n",
    "            \"beta\": [0.1, 1.0, 10.0],\n",
    "            \"neta\": [0.01, 0.05, 0.1],\n",
    "            \"nu\": [10.0],\n",
    "            \"lu\": [0.0],\n",
    "            \"lr\": [0.1],\n",
    "            \"ot\": [\"freeZ\"]}\n",
    "\n",
    "# pars version = \"greedy_search_v0g\"\n",
    "pars = {\"lambda\": [0.001, 0.01, 0.1, 1.0],\n",
    "            \"eta\": [0.01],\n",
    "            \"beta\": [0.1, 1.0, 10.0],\n",
    "            \"neta\": [0.01, 0.1],\n",
    "            \"nu\": [10.0],\n",
    "            \"lu\": [0.0],\n",
    "            \"lr\": [0.1],\n",
    "            \"ot\": [\"freeZ\"]}\n",
    "\n",
    "\n",
    "# pars version = \"greedy_search_v7g_b\"\n",
    "pars = {\"lambda\": [0.00001, 0.0001, 0.001, 0.01],\n",
    "            \"eta\": [1.0],\n",
    "            \"beta\": [0.1, 1.0, 10.0],\n",
    "            \"neta\": [1.0, 10.0],\n",
    "            \"nu\": [1000.0],\n",
    "            \"lu\": [0.0],\n",
    "            \"lr\": [0.1],\n",
    "            \"ot\": [\"freeZ\"]}\n",
    "\n",
    "    \n",
    "\n",
    "\n",
    "# pars version = \"greedy_search_v15g\"\n",
    "pars = {\"lambda\": [0.0001, 0.001, 0.01, 0.1],\n",
    "            \"eta\": [1.0],\n",
    "            \"beta\": [0.1],\n",
    "            \"neta\": [1.0],\n",
    "            \"nu\": [1000.0],\n",
    "            \"lu\": [0.0],\n",
    "            \"ot\": [\"freeZ\"],\n",
    "            \"bs\":[100, 200, 300]}\n",
    "    \n",
    "# pars version = \"greedy_search_v7g_c\"\n",
    "pars = {\"lambda\": [0.001, 0.01, 0.1, 1.0],\n",
    "            \"eta\": [1.0],\n",
    "            \"beta\": [0.1, 1.0, 10.0],\n",
    "            \"neta\": [1.0, 10.0],\n",
    "            \"nu\": [1000.0],\n",
    "            \"lu\": [0.0],\n",
    "            \"lr\": [0.1],\n",
    "            \"ot\": [\"freeZ\"]}\n",
    "\n",
    "\n",
    "\n",
    "\n",
    "# parrs version = \"v3_optType\"\n",
    "pars= {\"lambda\":[0.01, 0.1, 1],\n",
    "           \"eta\":[0.01],\n",
    "    \"beta\":[0.1, 1.0, 10.0],\n",
    "       \"neta\":[0.001, 0.01, 0.1],\n",
    "        \"nu\":[10.0],\n",
    "        \"lu\":[0.0, 1.0],\n",
    "        \"lr\":[0.1],\n",
    "        \"ot\":[\"freeZ\"]}\n",
    "\n",
    "# pars version = \"greedy_search_tcep_v11\"\n",
    "pars = {\"lambda\": [0.001, 0.01, 0.1, 1.0],\n",
    "            \"eta\": [10.0],\n",
    "            \"beta\": [0.1, 1.0, 10.0],\n",
    "            \"neta\": [1.0, 10.0,100.0],\n",
    "            \"nu\": [10000.0],\n",
    "            \"lu\": [0.0],\n",
    "            \"lr\": [0.1],\n",
    "            \"ot\": [\"freeZ\"]}\n",
    "\n",
    "\n",
    "pars = {\"lambda\": [0.001, 0.01, 0.1, 1.0],\n",
    "            \"sig\":[0.5],\n",
    "            \"eta\": [0.001],\n",
    "            \"beta\": [0.1, 1.0, 10.0],\n",
    "            \"neta\": [0.001,0.01, 0.1],\n",
    "            \"nu\": [10.0],\n",
    "            \"lu\": [0.0],\n",
    "            \"lr\": [0.1],\n",
    "            \"ot\": [\"freeZ\"],\n",
    "            \"epchs\": [500],\n",
    "            \"bs\":[100],\n",
    "            \"reps\":[7]}\n",
    "\n",
    "\n",
    "# pars version = \"greedy_search_tcep_v8\"\n",
    "pars = {\"lambda\": [0.001, 0.01, 0.1, 1.0],\n",
    "            \"eta\": [10.0],\n",
    "            \"beta\": [0.1, 1.0, 10.0],\n",
    "            \"neta\": [1.0, 10.0,100.0],\n",
    "            \"nu\": [1000.0],\n",
    "            \"lu\": [0.0],\n",
    "            \"lr\": [0.1],\n",
    "            \"ot\": [\"freeZ\"]}\n",
    "\n",
    "# pars version = \"greedy_search_tcep_v7\"\n",
    "pars = {\"lambda\": [0.001, 0.01, 0.1, 1.0],\n",
    "            \"eta\": [1.0],\n",
    "            \"beta\": [0.1, 1.0, 10.0],\n",
    "            \"neta\": [1.0, 10.0,100.0],\n",
    "            \"nu\": [1000.0],\n",
    "            \"lu\": [0.0],\n",
    "            \"lr\": [0.1],\n",
    "            \"ot\": [\"freeZ\"]}\n",
    "\n",
    "# pars version = \"greedy_search_tcep_v14\"\n",
    "pars = {\"lambda\": [0.001, 0.01, 0.1, 1.0],\n",
    "            \"sig\":[0.5],\n",
    "            \"eta\": [1.0],\n",
    "            \"beta\": [0.1, 1.0, 10.0],\n",
    "            \"neta\": [1.0,10.0, 100.0],\n",
    "            \"nu\": [10000.0],\n",
    "            \"lu\": [0.0],\n",
    "            \"lr\": [0.1],\n",
    "            \"ot\": [\"freeZ\"],\n",
    "            \"epchs\": [500],\n",
    "            \"bs\":[100],\n",
    "            \"reps\":[7]}\n",
    "\n",
    "\n",
    "\n",
    "\n",
    "\n",
    "# pars version = \"greedy_search_tcep_v17\"\n",
    "pars = {\"lambda\": [0.001, 0.01, 0.1, 1.0],\n",
    "            \"sig\":[0.5],\n",
    "            \"eta\": [0.1],\n",
    "            \"beta\": [0.1, 1.0, 10.0],\n",
    "            \"neta\": [0.1, 1.0, 10.0],\n",
    "            \"nu\": [1000.0],\n",
    "            \"lu\": [0.0],\n",
    "            \"lr\": [0.1],\n",
    "            \"ot\": [\"freeZ\"],\n",
    "            \"epchs\": [500],\n",
    "            \"bs\":[100],\n",
    "            \"reps\":[10]}\n",
    "\n",
    "# pars version = \"greedy_search_tcep_v15\"\n",
    "pars = {\"lambda\": [0.001, 0.01, 0.1, 1.0],\n",
    "            \"sig\":[0.5],\n",
    "            \"eta\": [0.1],\n",
    "            \"beta\": [0.1, 1.0, 10.0],\n",
    "            \"neta\": [0.1, 1.0, 10.0],\n",
    "            \"nu\": [1000.0],\n",
    "            \"lu\": [0.0],\n",
    "            \"lr\": [0.1],\n",
    "            \"ot\": [\"freeZ\"],\n",
    "            \"epchs\": [500],\n",
    "            \"bs\":[100],\n",
    "            \"reps\":[7]}"
   ]
  },
  {
   "cell_type": "code",
   "execution_count": 10,
   "metadata": {},
   "outputs": [
    {
     "data": {
      "text/plain": [
       "36"
      ]
     },
     "execution_count": 10,
     "metadata": {},
     "output_type": "execute_result"
    }
   ],
   "source": [
    "gridSize(pars)"
   ]
  },
  {
   "cell_type": "code",
   "execution_count": 11,
   "metadata": {},
   "outputs": [
    {
     "name": "stdout",
     "output_type": "stream",
     "text": [
      "num_files 3600\n",
      "folder:  /home/emiliano/Documents/ISP/proyectos/causality/latentNoise_krr/results/greedy_search_tcep_v22/\n",
      "41.732597646\n",
      "create datasetTab\n",
      "2022-02-21 16:48:11,876:INFO:NumExpr defaulting to 8 threads.\n",
      "Index(['errs_xy', 'hsic_xy', 'hsicc_xy', 'ent_xy', 'entx_xy', 'hsicx_xy',\n",
      "       'hsicz_xy', 'hsiczz_xy', 'mmd_xy', 'errs_yx', 'hsic_yx', 'hsicc_yx',\n",
      "       'ent_yx', 'entx_yx', 'hsicx_yx', 'hsicz_yx', 'hsiczz_yx', 'mmd_yx',\n",
      "       'job', 'rep', 'lambda', 'sig', 'eta', 'beta', 'neta', 'nu', 'lu', 'lr',\n",
      "       'ot', 'epchs', 'bs', 'reps', 'type', 'dataset'],\n",
      "      dtype='object')\n",
      "get df2\n"
     ]
    },
    {
     "name": "stderr",
     "output_type": "stream",
     "text": [
      "/home/emiliano/Documents/ISP/proyectos/causality/latentNoise_krr/src/processResults.py:373: FutureWarning: Support for multi-dimensional indexing (e.g. `obj[:, None]`) is deprecated and will be removed in a future version.  Convert to a numpy array before indexing instead.\n",
      "  df[\"set\"] = datasetTab[\"fileNms\"][indxDT][:, None][:, 0]\n",
      "/home/emiliano/Documents/ISP/proyectos/causality/latentNoise_krr/src/processResults.py:378: FutureWarning: Support for multi-dimensional indexing (e.g. `obj[:, None]`) is deprecated and will be removed in a future version.  Convert to a numpy array before indexing instead.\n",
      "  matchMat = datasetTab[\"fileNames\"][:, None] == datasetTab[\"fileNames\"].unique()[:, None].T\n"
     ]
    }
   ],
   "source": [
    "if readIn:\n",
    "    df1 = get_df_fromFile(readGetMsrs, reposData, version, file,  num_data, fileDict, pars, func_dict)\n",
    "    df = df1"
   ]
  },
  {
   "cell_type": "code",
   "execution_count": null,
   "metadata": {},
   "outputs": [],
   "source": [
    "correctMse=False\n",
    "if readIn & correctMse:\n",
    "    df.loc[df[\"ot\"].isin([\"freeZ\",\"freeZ-iniMani\"]),\"errs_xy\"]=onp.sqrt(df.loc[df[\"ot\"].isin([\"freeZ\",\"freeZ-iniMani\"]),\"errs_xy\"]/df.loc[df[\"ot\"].isin([\"freeZ\",\"freeZ-iniMani\"]),\"num\"])\n",
    "    df.loc[df[\"ot\"].isin([\"freeZ\",\"freeZ-iniMani\"]),\"errs_yx\"]=onp.sqrt(df.loc[df[\"ot\"].isin([\"freeZ\",\"freeZ-iniMani\"]),\"errs_yx\"]/df.loc[df[\"ot\"].isin([\"freeZ\",\"freeZ-iniMani\"]),\"num\"])"
   ]
  },
  {
   "cell_type": "code",
   "execution_count": null,
   "metadata": {},
   "outputs": [],
   "source": [
    "df2 = df"
   ]
  },
  {
   "cell_type": "code",
   "execution_count": null,
   "metadata": {},
   "outputs": [],
   "source": [
    "df = pd.concat([df, df2])"
   ]
  },
  {
   "cell_type": "code",
   "execution_count": null,
   "metadata": {},
   "outputs": [],
   "source": [
    "df=df.loc[df[\"lambda\"]>0.005]"
   ]
  },
  {
   "cell_type": "code",
   "execution_count": null,
   "metadata": {},
   "outputs": [],
   "source": [
    "df = df1"
   ]
  },
  {
   "cell_type": "code",
   "execution_count": null,
   "metadata": {},
   "outputs": [],
   "source": [
    "#df = df.loc[df[\"type\"]==\"LS-s\"]\n",
    "df[[\"set\",\"type\",\"dataset\",\"rep\"]+list(pars.keys())].head(20)"
   ]
  },
  {
   "cell_type": "code",
   "execution_count": null,
   "metadata": {},
   "outputs": [],
   "source": [
    "df.columns"
   ]
  },
  {
   "cell_type": "code",
   "execution_count": null,
   "metadata": {},
   "outputs": [],
   "source": [
    "df = df.loc[df[\"type\"].isin([\"LS-s\",\"MN-U\",\"tcep\"])]\n",
    "df.shape"
   ]
  },
  {
   "cell_type": "code",
   "execution_count": null,
   "metadata": {},
   "outputs": [],
   "source": [
    "df[[\"eta\",\"lambda\"]].groupby(\"eta\").count()"
   ]
  },
  {
   "cell_type": "code",
   "execution_count": 46,
   "metadata": {},
   "outputs": [
    {
     "name": "stdout",
     "output_type": "stream",
     "text": [
      "(75600, 36)\n"
     ]
    }
   ],
   "source": [
    "repos = \"/home/emiliano/Documents/ISP/proyectos/causality/latentNoise_krr/results/\"\n",
    "#filename= \"df_v3-5_optType_vhsicx.pkl\"\n",
    "filename= \"df_v10_UAI.pkl\"\n",
    "if True:\n",
    "    df = pickle5.load( open( repos+filename, \"rb\" ) )\n",
    "    df = df.loc[df[\"type\"].isin([\"LS\",\"LS-s\",\"MN-U\"])]\n",
    "    print(df.shape)"
   ]
  },
  {
   "cell_type": "markdown",
   "metadata": {},
   "source": [
    "## Num reps per dataset"
   ]
  },
  {
   "cell_type": "code",
   "execution_count": 12,
   "metadata": {},
   "outputs": [
    {
     "data": {
      "text/plain": [
       "type\n",
       "AN       7\n",
       "AN-s     7\n",
       "LS       7\n",
       "LS-s     7\n",
       "MN-U     7\n",
       "SIM      7\n",
       "SIMG     7\n",
       "SIMc     7\n",
       "SIMln    7\n",
       "tcep     7\n",
       "dtype: int64"
      ]
     },
     "execution_count": 12,
     "metadata": {},
     "output_type": "execute_result"
    }
   ],
   "source": [
    "def maxRep(x):\n",
    "    return onp.max(x.rep)+1\n",
    "\n",
    "df[[\"type\",\"dataset\",\"rep\"]].groupby([\"type\"]).apply(maxRep)"
   ]
  },
  {
   "cell_type": "markdown",
   "metadata": {},
   "source": [
    "## negative hsics?"
   ]
  },
  {
   "cell_type": "code",
   "execution_count": 13,
   "metadata": {},
   "outputs": [
    {
     "data": {
      "text/plain": [
       "hsic_xy      0.000213\n",
       "hsicc_xy     0.000009\n",
       "hsicx_xy     0.000077\n",
       "hsicz_xy     0.012077\n",
       "hsiczz_xy    0.001627\n",
       "hsic_yx      0.000105\n",
       "hsicc_yx     0.000008\n",
       "hsicx_yx     0.000067\n",
       "hsicz_yx     0.035068\n",
       "hsiczz_yx    0.000655\n",
       "dtype: float64"
      ]
     },
     "execution_count": 13,
     "metadata": {},
     "output_type": "execute_result"
    }
   ],
   "source": [
    "onp.min(df[[\"hsic_xy\",\"hsicc_xy\",\"hsicx_xy\", \"hsicz_xy\",\"hsiczz_xy\",\"hsic_yx\",\"hsicc_yx\",\"hsicx_yx\", \"hsicz_yx\",\"hsiczz_yx\"]])"
   ]
  },
  {
   "cell_type": "code",
   "execution_count": 14,
   "metadata": {},
   "outputs": [
    {
     "data": {
      "text/plain": [
       "hsic_xy      0.000213\n",
       "hsicc_xy     0.000009\n",
       "hsicx_xy     0.000077\n",
       "hsicz_xy     0.012077\n",
       "hsiczz_xy    0.001627\n",
       "hsic_yx      0.000105\n",
       "hsicc_yx     0.000008\n",
       "hsicx_yx     0.000067\n",
       "hsicz_yx     0.035068\n",
       "hsiczz_yx    0.000655\n",
       "dtype: float64"
      ]
     },
     "execution_count": 14,
     "metadata": {},
     "output_type": "execute_result"
    }
   ],
   "source": [
    "onp.min(onp.abs(df[[\"hsic_xy\",\"hsicc_xy\",\"hsicx_xy\", \"hsicz_xy\",\"hsiczz_xy\",\"hsic_yx\",\"hsicc_yx\",\"hsicx_yx\", \"hsicz_yx\",\"hsiczz_yx\"]]))"
   ]
  },
  {
   "cell_type": "code",
   "execution_count": 15,
   "metadata": {},
   "outputs": [
    {
     "name": "stdout",
     "output_type": "stream",
     "text": [
      "2022-02-28 15:40:14,024:INFO:NumExpr defaulting to 8 threads.\n"
     ]
    },
    {
     "data": {
      "text/plain": [
       "0"
      ]
     },
     "execution_count": 15,
     "metadata": {},
     "output_type": "execute_result"
    }
   ],
   "source": [
    "onp.sum((df[\"hsicc_xy\"]<0)|(df[\"hsicc_yx\"]<0))"
   ]
  },
  {
   "cell_type": "code",
   "execution_count": 16,
   "metadata": {},
   "outputs": [
    {
     "name": "stderr",
     "output_type": "stream",
     "text": [
      "/home/emiliano/anaconda3/lib/python3.7/site-packages/seaborn/distributions.py:2619: FutureWarning: `distplot` is a deprecated function and will be removed in a future version. Please adapt your code to use either `displot` (a figure-level function with similar flexibility) or `histplot` (an axes-level function for histograms).\n",
      "  warnings.warn(msg, FutureWarning)\n",
      "/home/emiliano/anaconda3/lib/python3.7/site-packages/matplotlib/cbook/__init__.py:1402: FutureWarning: Support for multi-dimensional indexing (e.g. `obj[:, None]`) is deprecated and will be removed in a future version.  Convert to a numpy array before indexing instead.\n",
      "  x[:, None]\n",
      "/home/emiliano/anaconda3/lib/python3.7/site-packages/matplotlib/axes/_base.py:276: FutureWarning: Support for multi-dimensional indexing (e.g. `obj[:, None]`) is deprecated and will be removed in a future version.  Convert to a numpy array before indexing instead.\n",
      "  x = x[:, np.newaxis]\n",
      "/home/emiliano/anaconda3/lib/python3.7/site-packages/matplotlib/axes/_base.py:278: FutureWarning: Support for multi-dimensional indexing (e.g. `obj[:, None]`) is deprecated and will be removed in a future version.  Convert to a numpy array before indexing instead.\n",
      "  y = y[:, np.newaxis]\n"
     ]
    },
    {
     "data": {
      "text/plain": [
       "<matplotlib.axes._subplots.AxesSubplot at 0x7f3580776690>"
      ]
     },
     "execution_count": 16,
     "metadata": {},
     "output_type": "execute_result"
    },
    {
     "data": {
      "image/png": "[encoded data removed]",
      "text/plain": [
       "<Figure size 432x288 with 1 Axes>"
      ]
     },
     "metadata": {
      "needs_background": "light"
     },
     "output_type": "display_data"
    }
   ],
   "source": [
    "sns.distplot(df[\"hsicc_xy\"].loc[df[\"hsicc_xy\"]<0.01])"
   ]
  },
  {
   "cell_type": "code",
   "execution_count": 17,
   "metadata": {},
   "outputs": [
    {
     "name": "stderr",
     "output_type": "stream",
     "text": [
      "/home/emiliano/anaconda3/lib/python3.7/site-packages/seaborn/distributions.py:2619: FutureWarning: `distplot` is a deprecated function and will be removed in a future version. Please adapt your code to use either `displot` (a figure-level function with similar flexibility) or `histplot` (an axes-level function for histograms).\n",
      "  warnings.warn(msg, FutureWarning)\n",
      "/home/emiliano/anaconda3/lib/python3.7/site-packages/matplotlib/cbook/__init__.py:1402: FutureWarning: Support for multi-dimensional indexing (e.g. `obj[:, None]`) is deprecated and will be removed in a future version.  Convert to a numpy array before indexing instead.\n",
      "  x[:, None]\n",
      "/home/emiliano/anaconda3/lib/python3.7/site-packages/matplotlib/axes/_base.py:276: FutureWarning: Support for multi-dimensional indexing (e.g. `obj[:, None]`) is deprecated and will be removed in a future version.  Convert to a numpy array before indexing instead.\n",
      "  x = x[:, np.newaxis]\n",
      "/home/emiliano/anaconda3/lib/python3.7/site-packages/matplotlib/axes/_base.py:278: FutureWarning: Support for multi-dimensional indexing (e.g. `obj[:, None]`) is deprecated and will be removed in a future version.  Convert to a numpy array before indexing instead.\n",
      "  y = y[:, np.newaxis]\n"
     ]
    },
    {
     "data": {
      "text/plain": [
       "<matplotlib.axes._subplots.AxesSubplot at 0x7f3580b12050>"
      ]
     },
     "execution_count": 17,
     "metadata": {},
     "output_type": "execute_result"
    },
    {
     "data": {
      "image/png": "[encoded data removed]",
      "text/plain": [
       "<Figure size 432x288 with 1 Axes>"
      ]
     },
     "metadata": {
      "needs_background": "light"
     },
     "output_type": "display_data"
    }
   ],
   "source": [
    "sns.distplot(onp.log(df[\"hsicc_xy\"]))"
   ]
  },
  {
   "cell_type": "code",
   "execution_count": 18,
   "metadata": {},
   "outputs": [
    {
     "name": "stderr",
     "output_type": "stream",
     "text": [
      "/home/emiliano/anaconda3/lib/python3.7/site-packages/seaborn/distributions.py:2619: FutureWarning: `distplot` is a deprecated function and will be removed in a future version. Please adapt your code to use either `displot` (a figure-level function with similar flexibility) or `histplot` (an axes-level function for histograms).\n",
      "  warnings.warn(msg, FutureWarning)\n",
      "/home/emiliano/anaconda3/lib/python3.7/site-packages/matplotlib/cbook/__init__.py:1402: FutureWarning: Support for multi-dimensional indexing (e.g. `obj[:, None]`) is deprecated and will be removed in a future version.  Convert to a numpy array before indexing instead.\n",
      "  x[:, None]\n",
      "/home/emiliano/anaconda3/lib/python3.7/site-packages/matplotlib/axes/_base.py:276: FutureWarning: Support for multi-dimensional indexing (e.g. `obj[:, None]`) is deprecated and will be removed in a future version.  Convert to a numpy array before indexing instead.\n",
      "  x = x[:, np.newaxis]\n",
      "/home/emiliano/anaconda3/lib/python3.7/site-packages/matplotlib/axes/_base.py:278: FutureWarning: Support for multi-dimensional indexing (e.g. `obj[:, None]`) is deprecated and will be removed in a future version.  Convert to a numpy array before indexing instead.\n",
      "  y = y[:, np.newaxis]\n"
     ]
    },
    {
     "data": {
      "text/plain": [
       "<matplotlib.axes._subplots.AxesSubplot at 0x7f357cd281d0>"
      ]
     },
     "execution_count": 18,
     "metadata": {},
     "output_type": "execute_result"
    },
    {
     "data": {
      "image/png": "[encoded data removed]",
      "text/plain": [
       "<Figure size 432x288 with 1 Axes>"
      ]
     },
     "metadata": {
      "needs_background": "light"
     },
     "output_type": "display_data"
    }
   ],
   "source": [
    "sns.distplot(onp.log(df[\"hsicc_yx\"]))"
   ]
  },
  {
   "cell_type": "code",
   "execution_count": 19,
   "metadata": {},
   "outputs": [],
   "source": [
    "df[\"negHsicc\"] = (df[\"hsicc_xy\"]<0)|(df[\"hsicc_yx\"]<0)"
   ]
  },
  {
   "cell_type": "code",
   "execution_count": 20,
   "metadata": {},
   "outputs": [
    {
     "data": {
      "text/html": [
       "<div>\n",
       "<style scoped>\n",
       "    .dataframe tbody tr th:only-of-type {\n",
       "        vertical-align: middle;\n",
       "    }\n",
       "\n",
       "    .dataframe tbody tr th {\n",
       "        vertical-align: top;\n",
       "    }\n",
       "\n",
       "    .dataframe thead th {\n",
       "        text-align: right;\n",
       "    }\n",
       "</style>\n",
       "<table border=\"1\" class=\"dataframe\">\n",
       "  <thead>\n",
       "    <tr style=\"text-align: right;\">\n",
       "      <th></th>\n",
       "      <th>rep</th>\n",
       "      <th>type</th>\n",
       "      <th>lambda</th>\n",
       "      <th>sig</th>\n",
       "      <th>eta</th>\n",
       "      <th>beta</th>\n",
       "      <th>neta</th>\n",
       "      <th>nu</th>\n",
       "      <th>lu</th>\n",
       "      <th>lr</th>\n",
       "      <th>ot</th>\n",
       "      <th>epchs</th>\n",
       "      <th>bs</th>\n",
       "      <th>reps</th>\n",
       "      <th>0</th>\n",
       "    </tr>\n",
       "  </thead>\n",
       "  <tbody>\n",
       "    <tr>\n",
       "      <th>0</th>\n",
       "      <td>0</td>\n",
       "      <td>AN</td>\n",
       "      <td>0.001</td>\n",
       "      <td>0.5</td>\n",
       "      <td>0.1</td>\n",
       "      <td>0.1</td>\n",
       "      <td>0.1</td>\n",
       "      <td>1000.0</td>\n",
       "      <td>0.0</td>\n",
       "      <td>0.1</td>\n",
       "      <td>freeZ</td>\n",
       "      <td>500</td>\n",
       "      <td>100</td>\n",
       "      <td>7</td>\n",
       "      <td>0.0</td>\n",
       "    </tr>\n",
       "    <tr>\n",
       "      <th>1</th>\n",
       "      <td>0</td>\n",
       "      <td>AN</td>\n",
       "      <td>0.001</td>\n",
       "      <td>0.5</td>\n",
       "      <td>0.1</td>\n",
       "      <td>0.1</td>\n",
       "      <td>1.0</td>\n",
       "      <td>1000.0</td>\n",
       "      <td>0.0</td>\n",
       "      <td>0.1</td>\n",
       "      <td>freeZ</td>\n",
       "      <td>500</td>\n",
       "      <td>100</td>\n",
       "      <td>7</td>\n",
       "      <td>0.0</td>\n",
       "    </tr>\n",
       "    <tr>\n",
       "      <th>2</th>\n",
       "      <td>0</td>\n",
       "      <td>AN</td>\n",
       "      <td>0.001</td>\n",
       "      <td>0.5</td>\n",
       "      <td>0.1</td>\n",
       "      <td>0.1</td>\n",
       "      <td>10.0</td>\n",
       "      <td>1000.0</td>\n",
       "      <td>0.0</td>\n",
       "      <td>0.1</td>\n",
       "      <td>freeZ</td>\n",
       "      <td>500</td>\n",
       "      <td>100</td>\n",
       "      <td>7</td>\n",
       "      <td>0.0</td>\n",
       "    </tr>\n",
       "    <tr>\n",
       "      <th>3</th>\n",
       "      <td>0</td>\n",
       "      <td>AN</td>\n",
       "      <td>0.001</td>\n",
       "      <td>0.5</td>\n",
       "      <td>0.1</td>\n",
       "      <td>1.0</td>\n",
       "      <td>0.1</td>\n",
       "      <td>1000.0</td>\n",
       "      <td>0.0</td>\n",
       "      <td>0.1</td>\n",
       "      <td>freeZ</td>\n",
       "      <td>500</td>\n",
       "      <td>100</td>\n",
       "      <td>7</td>\n",
       "      <td>0.0</td>\n",
       "    </tr>\n",
       "    <tr>\n",
       "      <th>4</th>\n",
       "      <td>0</td>\n",
       "      <td>AN</td>\n",
       "      <td>0.001</td>\n",
       "      <td>0.5</td>\n",
       "      <td>0.1</td>\n",
       "      <td>1.0</td>\n",
       "      <td>1.0</td>\n",
       "      <td>1000.0</td>\n",
       "      <td>0.0</td>\n",
       "      <td>0.1</td>\n",
       "      <td>freeZ</td>\n",
       "      <td>500</td>\n",
       "      <td>100</td>\n",
       "      <td>7</td>\n",
       "      <td>0.0</td>\n",
       "    </tr>\n",
       "    <tr>\n",
       "      <th>...</th>\n",
       "      <td>...</td>\n",
       "      <td>...</td>\n",
       "      <td>...</td>\n",
       "      <td>...</td>\n",
       "      <td>...</td>\n",
       "      <td>...</td>\n",
       "      <td>...</td>\n",
       "      <td>...</td>\n",
       "      <td>...</td>\n",
       "      <td>...</td>\n",
       "      <td>...</td>\n",
       "      <td>...</td>\n",
       "      <td>...</td>\n",
       "      <td>...</td>\n",
       "      <td>...</td>\n",
       "    </tr>\n",
       "    <tr>\n",
       "      <th>3019</th>\n",
       "      <td>6</td>\n",
       "      <td>tcep</td>\n",
       "      <td>1.000</td>\n",
       "      <td>0.5</td>\n",
       "      <td>0.1</td>\n",
       "      <td>10.0</td>\n",
       "      <td>1.0</td>\n",
       "      <td>1000.0</td>\n",
       "      <td>0.0</td>\n",
       "      <td>0.1</td>\n",
       "      <td>freeZ</td>\n",
       "      <td>500</td>\n",
       "      <td>100</td>\n",
       "      <td>7</td>\n",
       "      <td>0.0</td>\n",
       "    </tr>\n",
       "    <tr>\n",
       "      <th>3020</th>\n",
       "      <td>6</td>\n",
       "      <td>tcep</td>\n",
       "      <td>1.000</td>\n",
       "      <td>0.5</td>\n",
       "      <td>0.1</td>\n",
       "      <td>10.0</td>\n",
       "      <td>1.0</td>\n",
       "      <td>1000.0</td>\n",
       "      <td>0.0</td>\n",
       "      <td>0.1</td>\n",
       "      <td>freeZ</td>\n",
       "      <td>503</td>\n",
       "      <td>99</td>\n",
       "      <td>7</td>\n",
       "      <td>0.0</td>\n",
       "    </tr>\n",
       "    <tr>\n",
       "      <th>3021</th>\n",
       "      <td>6</td>\n",
       "      <td>tcep</td>\n",
       "      <td>1.000</td>\n",
       "      <td>0.5</td>\n",
       "      <td>0.1</td>\n",
       "      <td>10.0</td>\n",
       "      <td>10.0</td>\n",
       "      <td>1000.0</td>\n",
       "      <td>0.0</td>\n",
       "      <td>0.1</td>\n",
       "      <td>freeZ</td>\n",
       "      <td>500</td>\n",
       "      <td>90</td>\n",
       "      <td>7</td>\n",
       "      <td>0.0</td>\n",
       "    </tr>\n",
       "    <tr>\n",
       "      <th>3022</th>\n",
       "      <td>6</td>\n",
       "      <td>tcep</td>\n",
       "      <td>1.000</td>\n",
       "      <td>0.5</td>\n",
       "      <td>0.1</td>\n",
       "      <td>10.0</td>\n",
       "      <td>10.0</td>\n",
       "      <td>1000.0</td>\n",
       "      <td>0.0</td>\n",
       "      <td>0.1</td>\n",
       "      <td>freeZ</td>\n",
       "      <td>500</td>\n",
       "      <td>100</td>\n",
       "      <td>7</td>\n",
       "      <td>0.0</td>\n",
       "    </tr>\n",
       "    <tr>\n",
       "      <th>3023</th>\n",
       "      <td>6</td>\n",
       "      <td>tcep</td>\n",
       "      <td>1.000</td>\n",
       "      <td>0.5</td>\n",
       "      <td>0.1</td>\n",
       "      <td>10.0</td>\n",
       "      <td>10.0</td>\n",
       "      <td>1000.0</td>\n",
       "      <td>0.0</td>\n",
       "      <td>0.1</td>\n",
       "      <td>freeZ</td>\n",
       "      <td>503</td>\n",
       "      <td>99</td>\n",
       "      <td>7</td>\n",
       "      <td>0.0</td>\n",
       "    </tr>\n",
       "  </tbody>\n",
       "</table>\n",
       "<p>3024 rows × 15 columns</p>\n",
       "</div>"
      ],
      "text/plain": [
       "      rep  type  lambda  sig  eta  beta  neta      nu   lu   lr     ot  epchs  \\\n",
       "0       0    AN   0.001  0.5  0.1   0.1   0.1  1000.0  0.0  0.1  freeZ    500   \n",
       "1       0    AN   0.001  0.5  0.1   0.1   1.0  1000.0  0.0  0.1  freeZ    500   \n",
       "2       0    AN   0.001  0.5  0.1   0.1  10.0  1000.0  0.0  0.1  freeZ    500   \n",
       "3       0    AN   0.001  0.5  0.1   1.0   0.1  1000.0  0.0  0.1  freeZ    500   \n",
       "4       0    AN   0.001  0.5  0.1   1.0   1.0  1000.0  0.0  0.1  freeZ    500   \n",
       "...   ...   ...     ...  ...  ...   ...   ...     ...  ...  ...    ...    ...   \n",
       "3019    6  tcep   1.000  0.5  0.1  10.0   1.0  1000.0  0.0  0.1  freeZ    500   \n",
       "3020    6  tcep   1.000  0.5  0.1  10.0   1.0  1000.0  0.0  0.1  freeZ    503   \n",
       "3021    6  tcep   1.000  0.5  0.1  10.0  10.0  1000.0  0.0  0.1  freeZ    500   \n",
       "3022    6  tcep   1.000  0.5  0.1  10.0  10.0  1000.0  0.0  0.1  freeZ    500   \n",
       "3023    6  tcep   1.000  0.5  0.1  10.0  10.0  1000.0  0.0  0.1  freeZ    503   \n",
       "\n",
       "       bs  reps    0  \n",
       "0     100     7  0.0  \n",
       "1     100     7  0.0  \n",
       "2     100     7  0.0  \n",
       "3     100     7  0.0  \n",
       "4     100     7  0.0  \n",
       "...   ...   ...  ...  \n",
       "3019  100     7  0.0  \n",
       "3020   99     7  0.0  \n",
       "3021   90     7  0.0  \n",
       "3022  100     7  0.0  \n",
       "3023   99     7  0.0  \n",
       "\n",
       "[3024 rows x 15 columns]"
      ]
     },
     "execution_count": 20,
     "metadata": {},
     "output_type": "execute_result"
    }
   ],
   "source": [
    "parsVars= list(pars.keys())\n",
    "def sumNegHsic(x):\n",
    "    return onp.sum(x.negHsicc)/x.shape[0]\n",
    "\n",
    "dfAux = df[parsVars+[\"rep\",\"type\",\"negHsicc\"]].groupby([\"rep\",\"type\"]+parsVars).apply(sumNegHsic)\n",
    "dfAux = dfAux.reset_index()\n",
    "dfAux"
   ]
  },
  {
   "cell_type": "code",
   "execution_count": 21,
   "metadata": {},
   "outputs": [
    {
     "name": "stderr",
     "output_type": "stream",
     "text": [
      "/home/emiliano/anaconda3/lib/python3.7/site-packages/seaborn/distributions.py:2619: FutureWarning: `distplot` is a deprecated function and will be removed in a future version. Please adapt your code to use either `displot` (a figure-level function with similar flexibility) or `histplot` (an axes-level function for histograms).\n",
      "  warnings.warn(msg, FutureWarning)\n",
      "/home/emiliano/anaconda3/lib/python3.7/site-packages/seaborn/distributions.py:316: UserWarning: Dataset has 0 variance; skipping density estimate. Pass `warn_singular=False` to disable this warning.\n",
      "  warnings.warn(msg, UserWarning)\n"
     ]
    },
    {
     "data": {
      "text/plain": [
       "<matplotlib.axes._subplots.AxesSubplot at 0x7f357ccc6910>"
      ]
     },
     "execution_count": 21,
     "metadata": {},
     "output_type": "execute_result"
    },
    {
     "data": {
      "image/png": "[encoded data removed]",
      "text/plain": [
       "<Figure size 432x288 with 1 Axes>"
      ]
     },
     "metadata": {
      "needs_background": "light"
     },
     "output_type": "display_data"
    }
   ],
   "source": [
    "sns.distplot(dfAux[0])"
   ]
  },
  {
   "cell_type": "markdown",
   "metadata": {},
   "source": [
    "## Infinite Entropy?"
   ]
  },
  {
   "cell_type": "code",
   "execution_count": 22,
   "metadata": {},
   "outputs": [
    {
     "data": {
      "text/plain": [
       "ent_xy    -inf\n",
       "entx_xy   -inf\n",
       "ent_yx    -inf\n",
       "entx_yx   -inf\n",
       "dtype: float64"
      ]
     },
     "execution_count": 22,
     "metadata": {},
     "output_type": "execute_result"
    }
   ],
   "source": [
    "onp.min(df[[\"ent_xy\",\"entx_xy\",\"ent_yx\",\"entx_yx\"]]) #,\"ent2_xy\",\"ent2_yx\""
   ]
  },
  {
   "cell_type": "code",
   "execution_count": 23,
   "metadata": {},
   "outputs": [
    {
     "data": {
      "text/plain": [
       "ent_xy     0.903944\n",
       "entx_xy    0.172599\n",
       "ent_yx     0.865390\n",
       "entx_yx    0.274736\n",
       "dtype: float64"
      ]
     },
     "execution_count": 23,
     "metadata": {},
     "output_type": "execute_result"
    }
   ],
   "source": [
    "onp.min(onp.abs(df[[\"ent_xy\",\"entx_xy\",\"ent_yx\",\"entx_yx\"]])) #,\"ent2_xy\",\"ent2_yx\""
   ]
  },
  {
   "cell_type": "code",
   "execution_count": 24,
   "metadata": {},
   "outputs": [
    {
     "data": {
      "text/plain": [
       "77"
      ]
     },
     "execution_count": 24,
     "metadata": {},
     "output_type": "execute_result"
    }
   ],
   "source": [
    "onp.sum((onp.isinf(df[\"ent_xy\"]))|(onp.isinf(df[\"ent_yx\"])))"
   ]
  },
  {
   "cell_type": "code",
   "execution_count": 25,
   "metadata": {},
   "outputs": [
    {
     "data": {
      "text/plain": [
       "30562"
      ]
     },
     "execution_count": 25,
     "metadata": {},
     "output_type": "execute_result"
    }
   ],
   "source": [
    "onp.sum((onp.isinf(df[\"entx_xy\"]))|(onp.isinf(df[\"entx_yx\"])))"
   ]
  },
  {
   "cell_type": "code",
   "execution_count": 26,
   "metadata": {},
   "outputs": [],
   "source": [
    "#onp.sum((onp.isinf(df[\"ent2_xy\"]))|(onp.isinf(df[\"ent2_yx\"])))"
   ]
  },
  {
   "cell_type": "code",
   "execution_count": 27,
   "metadata": {},
   "outputs": [
    {
     "data": {
      "text/plain": [
       "(252504, 37)"
      ]
     },
     "execution_count": 27,
     "metadata": {},
     "output_type": "execute_result"
    }
   ],
   "source": [
    "df.shape"
   ]
  },
  {
   "cell_type": "code",
   "execution_count": 28,
   "metadata": {},
   "outputs": [],
   "source": [
    "df[\"infEnt\"] = (onp.isinf(df[\"ent_xy\"])|onp.isinf(df[\"ent_yx\"]))\n",
    "#df[\"infEnt2\"] = (onp.isinf(df[\"ent2_xy\"])|onp.isinf(df[\"ent2_yx\"]))\n",
    "df[\"infEntx\"] = (onp.isinf(df[\"entx_xy\"])|onp.isinf(df[\"entx_yx\"]))"
   ]
  },
  {
   "cell_type": "code",
   "execution_count": 29,
   "metadata": {},
   "outputs": [],
   "source": [
    "parsVars= list(pars.keys())\n",
    "def sumInfEnt(x):\n",
    "    return onp.sum(x.infEnt)/x.shape[0]\n",
    "def sumInfEnt2(x):\n",
    "    return onp.sum(x.infEnt2)/x.shape[0]\n",
    "def sumInfEntx(x):\n",
    "    return onp.sum(x.infEntx)/x.shape[0]\n",
    "\n"
   ]
  },
  {
   "cell_type": "code",
   "execution_count": 30,
   "metadata": {},
   "outputs": [
    {
     "data": {
      "text/html": [
       "<div>\n",
       "<style scoped>\n",
       "    .dataframe tbody tr th:only-of-type {\n",
       "        vertical-align: middle;\n",
       "    }\n",
       "\n",
       "    .dataframe tbody tr th {\n",
       "        vertical-align: top;\n",
       "    }\n",
       "\n",
       "    .dataframe thead th {\n",
       "        text-align: right;\n",
       "    }\n",
       "</style>\n",
       "<table border=\"1\" class=\"dataframe\">\n",
       "  <thead>\n",
       "    <tr style=\"text-align: right;\">\n",
       "      <th></th>\n",
       "      <th>type</th>\n",
       "      <th>0</th>\n",
       "    </tr>\n",
       "  </thead>\n",
       "  <tbody>\n",
       "    <tr>\n",
       "      <th>0</th>\n",
       "      <td>AN</td>\n",
       "      <td>0.000000</td>\n",
       "    </tr>\n",
       "    <tr>\n",
       "      <th>1</th>\n",
       "      <td>AN-s</td>\n",
       "      <td>0.000000</td>\n",
       "    </tr>\n",
       "    <tr>\n",
       "      <th>2</th>\n",
       "      <td>LS</td>\n",
       "      <td>0.000000</td>\n",
       "    </tr>\n",
       "    <tr>\n",
       "      <th>3</th>\n",
       "      <td>LS-s</td>\n",
       "      <td>0.000000</td>\n",
       "    </tr>\n",
       "    <tr>\n",
       "      <th>4</th>\n",
       "      <td>MN-U</td>\n",
       "      <td>0.000000</td>\n",
       "    </tr>\n",
       "    <tr>\n",
       "      <th>5</th>\n",
       "      <td>SIM</td>\n",
       "      <td>0.000278</td>\n",
       "    </tr>\n",
       "    <tr>\n",
       "      <th>6</th>\n",
       "      <td>SIMG</td>\n",
       "      <td>0.000000</td>\n",
       "    </tr>\n",
       "    <tr>\n",
       "      <th>7</th>\n",
       "      <td>SIMc</td>\n",
       "      <td>0.000000</td>\n",
       "    </tr>\n",
       "    <tr>\n",
       "      <th>8</th>\n",
       "      <td>SIMln</td>\n",
       "      <td>0.000040</td>\n",
       "    </tr>\n",
       "    <tr>\n",
       "      <th>9</th>\n",
       "      <td>tcep</td>\n",
       "      <td>0.002684</td>\n",
       "    </tr>\n",
       "  </tbody>\n",
       "</table>\n",
       "</div>"
      ],
      "text/plain": [
       "    type         0\n",
       "0     AN  0.000000\n",
       "1   AN-s  0.000000\n",
       "2     LS  0.000000\n",
       "3   LS-s  0.000000\n",
       "4   MN-U  0.000000\n",
       "5    SIM  0.000278\n",
       "6   SIMG  0.000000\n",
       "7   SIMc  0.000000\n",
       "8  SIMln  0.000040\n",
       "9   tcep  0.002684"
      ]
     },
     "execution_count": 30,
     "metadata": {},
     "output_type": "execute_result"
    }
   ],
   "source": [
    "dfAux = df[[\"type\",\"infEnt\"]].groupby([\"type\"]).apply(sumInfEnt)\n",
    "dfAux = dfAux.reset_index()\n",
    "dfAux"
   ]
  },
  {
   "cell_type": "code",
   "execution_count": 31,
   "metadata": {},
   "outputs": [],
   "source": [
    "#dfAux = df[[\"type\",\"infEnt2\"]].groupby([\"type\"]).apply(sumInfEnt2)\n",
    "#dfAux = dfAux.reset_index()\n",
    "#dfAux"
   ]
  },
  {
   "cell_type": "code",
   "execution_count": 32,
   "metadata": {},
   "outputs": [
    {
     "data": {
      "text/plain": [
       "array(['10', '11', '12', '17', '26', '28', '29', '32', '5', '6', '69',\n",
       "       '7', '9', '99', 'SIM.67', 'SIMln.61'], dtype=object)"
      ]
     },
     "execution_count": 32,
     "metadata": {},
     "output_type": "execute_result"
    }
   ],
   "source": [
    "onp.unique(df.loc[df[\"infEnt\"]][\"dataset\"])"
   ]
  },
  {
   "cell_type": "code",
   "execution_count": 33,
   "metadata": {},
   "outputs": [
    {
     "data": {
      "text/html": [
       "<div>\n",
       "<style scoped>\n",
       "    .dataframe tbody tr th:only-of-type {\n",
       "        vertical-align: middle;\n",
       "    }\n",
       "\n",
       "    .dataframe tbody tr th {\n",
       "        vertical-align: top;\n",
       "    }\n",
       "\n",
       "    .dataframe thead th {\n",
       "        text-align: right;\n",
       "    }\n",
       "</style>\n",
       "<table border=\"1\" class=\"dataframe\">\n",
       "  <thead>\n",
       "    <tr style=\"text-align: right;\">\n",
       "      <th></th>\n",
       "      <th>type</th>\n",
       "      <th>0</th>\n",
       "    </tr>\n",
       "  </thead>\n",
       "  <tbody>\n",
       "    <tr>\n",
       "      <th>0</th>\n",
       "      <td>AN</td>\n",
       "      <td>0.000000</td>\n",
       "    </tr>\n",
       "    <tr>\n",
       "      <th>1</th>\n",
       "      <td>AN-s</td>\n",
       "      <td>0.000000</td>\n",
       "    </tr>\n",
       "    <tr>\n",
       "      <th>2</th>\n",
       "      <td>LS</td>\n",
       "      <td>0.000000</td>\n",
       "    </tr>\n",
       "    <tr>\n",
       "      <th>3</th>\n",
       "      <td>LS-s</td>\n",
       "      <td>0.000000</td>\n",
       "    </tr>\n",
       "    <tr>\n",
       "      <th>4</th>\n",
       "      <td>MN-U</td>\n",
       "      <td>0.000000</td>\n",
       "    </tr>\n",
       "    <tr>\n",
       "      <th>5</th>\n",
       "      <td>SIM</td>\n",
       "      <td>0.040278</td>\n",
       "    </tr>\n",
       "    <tr>\n",
       "      <th>6</th>\n",
       "      <td>SIMG</td>\n",
       "      <td>0.000000</td>\n",
       "    </tr>\n",
       "    <tr>\n",
       "      <th>7</th>\n",
       "      <td>SIMc</td>\n",
       "      <td>0.030000</td>\n",
       "    </tr>\n",
       "    <tr>\n",
       "      <th>8</th>\n",
       "      <td>SIMln</td>\n",
       "      <td>0.280000</td>\n",
       "    </tr>\n",
       "    <tr>\n",
       "      <th>9</th>\n",
       "      <td>tcep</td>\n",
       "      <td>0.845588</td>\n",
       "    </tr>\n",
       "  </tbody>\n",
       "</table>\n",
       "</div>"
      ],
      "text/plain": [
       "    type         0\n",
       "0     AN  0.000000\n",
       "1   AN-s  0.000000\n",
       "2     LS  0.000000\n",
       "3   LS-s  0.000000\n",
       "4   MN-U  0.000000\n",
       "5    SIM  0.040278\n",
       "6   SIMG  0.000000\n",
       "7   SIMc  0.030000\n",
       "8  SIMln  0.280000\n",
       "9   tcep  0.845588"
      ]
     },
     "execution_count": 33,
     "metadata": {},
     "output_type": "execute_result"
    }
   ],
   "source": [
    "dfAux = df[[\"type\",\"infEntx\"]].groupby([\"type\"]).apply(sumInfEntx)\n",
    "dfAux = dfAux.reset_index()\n",
    "dfAux"
   ]
  },
  {
   "cell_type": "markdown",
   "metadata": {},
   "source": [
    "# other investigatons"
   ]
  },
  {
   "cell_type": "code",
   "execution_count": 34,
   "metadata": {},
   "outputs": [
    {
     "data": {
      "text/plain": [
       "Index(['errs_xy', 'hsic_xy', 'hsicc_xy', 'ent_xy', 'entx_xy', 'hsicx_xy',\n",
       "       'hsicz_xy', 'hsiczz_xy', 'mmd_xy', 'errs_yx', 'hsic_yx', 'hsicc_yx',\n",
       "       'ent_yx', 'entx_yx', 'hsicx_yx', 'hsicz_yx', 'hsiczz_yx', 'mmd_yx',\n",
       "       'job', 'rep', 'lambda', 'sig', 'eta', 'beta', 'neta', 'nu', 'lu', 'lr',\n",
       "       'ot', 'epchs', 'bs', 'reps', 'type', 'dataset', 'set', 'num',\n",
       "       'negHsicc', 'infEnt', 'infEntx'],\n",
       "      dtype='object')"
      ]
     },
     "execution_count": 34,
     "metadata": {},
     "output_type": "execute_result"
    }
   ],
   "source": [
    "df.columns"
   ]
  },
  {
   "cell_type": "code",
   "execution_count": 35,
   "metadata": {},
   "outputs": [
    {
     "data": {
      "text/plain": [
       "<matplotlib.legend.Legend at 0x7f357cbcc2d0>"
      ]
     },
     "execution_count": 35,
     "metadata": {},
     "output_type": "execute_result"
    },
    {
     "data": {
      "image/png": "[encoded data removed]",
      "text/plain": [
       "<Figure size 432x288 with 1 Axes>"
      ]
     },
     "metadata": {
      "needs_background": "light"
     },
     "output_type": "display_data"
    }
   ],
   "source": [
    "df_plt = df.loc[df[\"type\"]==\"tcep\"]\n",
    "plt.scatter(df_plt.loc[df_plt[\"eta\"]==1.0][\"hsicc_xy\"], df_plt.loc[df_plt[\"eta\"]==1.0][\"hsic_xy\"], c=\"blue\", alpha=0.1, label=1)\n",
    "plt.scatter(df_plt.loc[df_plt[\"eta\"]==10.0][\"hsicc_xy\"], df_plt.loc[df_plt[\"eta\"]==10.0][\"hsic_xy\"], c=\"orange\", alpha=0.1, label=10)\n",
    "plt.legend(bbox_to_anchor=(1.01, 1),borderaxespad=0)"
   ]
  },
  {
   "cell_type": "code",
   "execution_count": 36,
   "metadata": {},
   "outputs": [
    {
     "name": "stderr",
     "output_type": "stream",
     "text": [
      "/home/emiliano/anaconda3/lib/python3.7/site-packages/seaborn/distributions.py:2619: FutureWarning: `distplot` is a deprecated function and will be removed in a future version. Please adapt your code to use either `displot` (a figure-level function with similar flexibility) or `histplot` (an axes-level function for histograms).\n",
      "  warnings.warn(msg, FutureWarning)\n",
      "/home/emiliano/anaconda3/lib/python3.7/site-packages/seaborn/distributions.py:2657: RuntimeWarning: Mean of empty slice.\n",
      "  line, = ax.plot(a.mean(), 0)\n",
      "/home/emiliano/anaconda3/lib/python3.7/site-packages/numpy/core/_methods.py:161: RuntimeWarning: invalid value encountered in double_scalars\n",
      "  ret = ret.dtype.type(ret / rcount)\n",
      "/home/emiliano/anaconda3/lib/python3.7/site-packages/numpy/lib/histograms.py:898: RuntimeWarning: invalid value encountered in true_divide\n",
      "  return n/db/n.sum(), bin_edges\n",
      "/home/emiliano/anaconda3/lib/python3.7/site-packages/seaborn/distributions.py:2619: FutureWarning: `distplot` is a deprecated function and will be removed in a future version. Please adapt your code to use either `displot` (a figure-level function with similar flexibility) or `histplot` (an axes-level function for histograms).\n",
      "  warnings.warn(msg, FutureWarning)\n",
      "/home/emiliano/anaconda3/lib/python3.7/site-packages/seaborn/distributions.py:2657: RuntimeWarning: Mean of empty slice.\n",
      "  line, = ax.plot(a.mean(), 0)\n",
      "/home/emiliano/anaconda3/lib/python3.7/site-packages/numpy/core/_methods.py:161: RuntimeWarning: invalid value encountered in double_scalars\n",
      "  ret = ret.dtype.type(ret / rcount)\n",
      "/home/emiliano/anaconda3/lib/python3.7/site-packages/numpy/lib/histograms.py:898: RuntimeWarning: invalid value encountered in true_divide\n",
      "  return n/db/n.sum(), bin_edges\n"
     ]
    },
    {
     "data": {
      "text/plain": [
       "<matplotlib.axes._subplots.AxesSubplot at 0x7f357ca1a790>"
      ]
     },
     "execution_count": 36,
     "metadata": {},
     "output_type": "execute_result"
    },
    {
     "data": {
      "image/png": "[encoded data removed]",
      "text/plain": [
       "<Figure size 432x288 with 1 Axes>"
      ]
     },
     "metadata": {
      "needs_background": "light"
     },
     "output_type": "display_data"
    }
   ],
   "source": [
    "sns.distplot(df_plt.loc[df_plt[\"eta\"]==1.0][\"hsicz_xy\"])\n",
    "sns.distplot(df_plt.loc[df_plt[\"eta\"]==1.0][\"hsicz_yx\"])"
   ]
  },
  {
   "cell_type": "code",
   "execution_count": 37,
   "metadata": {},
   "outputs": [
    {
     "name": "stderr",
     "output_type": "stream",
     "text": [
      "/home/emiliano/anaconda3/lib/python3.7/site-packages/seaborn/distributions.py:2619: FutureWarning: `distplot` is a deprecated function and will be removed in a future version. Please adapt your code to use either `displot` (a figure-level function with similar flexibility) or `histplot` (an axes-level function for histograms).\n",
      "  warnings.warn(msg, FutureWarning)\n",
      "/home/emiliano/anaconda3/lib/python3.7/site-packages/seaborn/distributions.py:2657: RuntimeWarning: Mean of empty slice.\n",
      "  line, = ax.plot(a.mean(), 0)\n",
      "/home/emiliano/anaconda3/lib/python3.7/site-packages/numpy/core/_methods.py:161: RuntimeWarning: invalid value encountered in double_scalars\n",
      "  ret = ret.dtype.type(ret / rcount)\n",
      "/home/emiliano/anaconda3/lib/python3.7/site-packages/numpy/lib/histograms.py:898: RuntimeWarning: invalid value encountered in true_divide\n",
      "  return n/db/n.sum(), bin_edges\n",
      "/home/emiliano/anaconda3/lib/python3.7/site-packages/seaborn/distributions.py:2619: FutureWarning: `distplot` is a deprecated function and will be removed in a future version. Please adapt your code to use either `displot` (a figure-level function with similar flexibility) or `histplot` (an axes-level function for histograms).\n",
      "  warnings.warn(msg, FutureWarning)\n",
      "/home/emiliano/anaconda3/lib/python3.7/site-packages/seaborn/distributions.py:2657: RuntimeWarning: Mean of empty slice.\n",
      "  line, = ax.plot(a.mean(), 0)\n",
      "/home/emiliano/anaconda3/lib/python3.7/site-packages/numpy/core/_methods.py:161: RuntimeWarning: invalid value encountered in double_scalars\n",
      "  ret = ret.dtype.type(ret / rcount)\n",
      "/home/emiliano/anaconda3/lib/python3.7/site-packages/numpy/lib/histograms.py:898: RuntimeWarning: invalid value encountered in true_divide\n",
      "  return n/db/n.sum(), bin_edges\n"
     ]
    },
    {
     "data": {
      "text/plain": [
       "<matplotlib.axes._subplots.AxesSubplot at 0x7f357c935310>"
      ]
     },
     "execution_count": 37,
     "metadata": {},
     "output_type": "execute_result"
    },
    {
     "data": {
      "image/png": "[encoded data removed]",
      "text/plain": [
       "<Figure size 432x288 with 1 Axes>"
      ]
     },
     "metadata": {
      "needs_background": "light"
     },
     "output_type": "display_data"
    }
   ],
   "source": [
    "sns.distplot(df_plt.loc[df_plt[\"eta\"]==10.0][\"hsicz_xy\"])\n",
    "sns.distplot(df_plt.loc[df_plt[\"eta\"]==10.0][\"hsicz_yx\"])"
   ]
  },
  {
   "cell_type": "code",
   "execution_count": 38,
   "metadata": {},
   "outputs": [
    {
     "name": "stderr",
     "output_type": "stream",
     "text": [
      "/home/emiliano/anaconda3/lib/python3.7/site-packages/seaborn/distributions.py:2619: FutureWarning: `distplot` is a deprecated function and will be removed in a future version. Please adapt your code to use either `displot` (a figure-level function with similar flexibility) or `histplot` (an axes-level function for histograms).\n",
      "  warnings.warn(msg, FutureWarning)\n",
      "/home/emiliano/anaconda3/lib/python3.7/site-packages/seaborn/distributions.py:2657: RuntimeWarning: Mean of empty slice.\n",
      "  line, = ax.plot(a.mean(), 0)\n",
      "/home/emiliano/anaconda3/lib/python3.7/site-packages/numpy/core/_methods.py:161: RuntimeWarning: invalid value encountered in double_scalars\n",
      "  ret = ret.dtype.type(ret / rcount)\n",
      "/home/emiliano/anaconda3/lib/python3.7/site-packages/numpy/lib/histograms.py:898: RuntimeWarning: invalid value encountered in true_divide\n",
      "  return n/db/n.sum(), bin_edges\n",
      "/home/emiliano/anaconda3/lib/python3.7/site-packages/seaborn/distributions.py:2619: FutureWarning: `distplot` is a deprecated function and will be removed in a future version. Please adapt your code to use either `displot` (a figure-level function with similar flexibility) or `histplot` (an axes-level function for histograms).\n",
      "  warnings.warn(msg, FutureWarning)\n",
      "/home/emiliano/anaconda3/lib/python3.7/site-packages/seaborn/distributions.py:2657: RuntimeWarning: Mean of empty slice.\n",
      "  line, = ax.plot(a.mean(), 0)\n",
      "/home/emiliano/anaconda3/lib/python3.7/site-packages/numpy/core/_methods.py:161: RuntimeWarning: invalid value encountered in double_scalars\n",
      "  ret = ret.dtype.type(ret / rcount)\n",
      "/home/emiliano/anaconda3/lib/python3.7/site-packages/numpy/lib/histograms.py:898: RuntimeWarning: invalid value encountered in true_divide\n",
      "  return n/db/n.sum(), bin_edges\n"
     ]
    },
    {
     "data": {
      "text/plain": [
       "<matplotlib.axes._subplots.AxesSubplot at 0x7f357b0e8450>"
      ]
     },
     "execution_count": 38,
     "metadata": {},
     "output_type": "execute_result"
    },
    {
     "data": {
      "image/png": "[encoded data removed]",
      "text/plain": [
       "<Figure size 432x288 with 1 Axes>"
      ]
     },
     "metadata": {
      "needs_background": "light"
     },
     "output_type": "display_data"
    }
   ],
   "source": [
    "sns.distplot(onp.abs(df_plt.loc[df_plt[\"eta\"]==1.0][\"hsicz_xy\"]-df_plt.loc[df_plt[\"eta\"]==1.0][\"hsicz_yx\"]))\n",
    "sns.distplot(onp.abs(df_plt.loc[df_plt[\"eta\"]==10.0][\"hsicz_xy\"]-df_plt.loc[df_plt[\"eta\"]==10.0][\"hsicz_yx\"]))"
   ]
  },
  {
   "cell_type": "code",
   "execution_count": 39,
   "metadata": {},
   "outputs": [
    {
     "name": "stderr",
     "output_type": "stream",
     "text": [
      "/home/emiliano/anaconda3/lib/python3.7/site-packages/matplotlib/cbook/__init__.py:1402: FutureWarning: Support for multi-dimensional indexing (e.g. `obj[:, None]`) is deprecated and will be removed in a future version.  Convert to a numpy array before indexing instead.\n",
      "  x[:, None]\n",
      "/home/emiliano/anaconda3/lib/python3.7/site-packages/matplotlib/axes/_base.py:276: FutureWarning: Support for multi-dimensional indexing (e.g. `obj[:, None]`) is deprecated and will be removed in a future version.  Convert to a numpy array before indexing instead.\n",
      "  x = x[:, np.newaxis]\n",
      "/home/emiliano/anaconda3/lib/python3.7/site-packages/matplotlib/axes/_base.py:278: FutureWarning: Support for multi-dimensional indexing (e.g. `obj[:, None]`) is deprecated and will be removed in a future version.  Convert to a numpy array before indexing instead.\n",
      "  y = y[:, np.newaxis]\n"
     ]
    },
    {
     "data": {
      "text/plain": [
       "0.0023573869839310646"
      ]
     },
     "execution_count": 39,
     "metadata": {},
     "output_type": "execute_result"
    },
    {
     "data": {
      "image/png": "[encoded data removed]",
      "text/plain": [
       "<Figure size 432x288 with 1 Axes>"
      ]
     },
     "metadata": {
      "needs_background": "light"
     },
     "output_type": "display_data"
    }
   ],
   "source": [
    "def minHsicc(x):\n",
    "    return onp.min([x.hsicc_yx, x.hsicc_xy])\n",
    "sns.distplot(df[[\"type\",\"dataset\",\"hsicc_xy\",\"hsicc_yx\"]].groupby(\"dataset\").apply(minHsicc))\n",
    "onp.max(df[[\"type\",\"dataset\",\"hsicc_xy\",\"hsicc_yx\"]].groupby(\"dataset\").apply(minHsicc))"
   ]
  },
  {
   "cell_type": "code",
   "execution_count": 40,
   "metadata": {},
   "outputs": [],
   "source": [
    "df[\"bigHsicc\"]=(df[\"hsicc_xy\"]>0.01) | (df[\"hsicc_yx\"]>0.01) \n",
    "#df[\"lowConv\"]=onp.abs(df[\"hsicz_xy\"]-df[\"hsicz_yx\"])<0.01 \n",
    "df[\"lowConv\"]=(df[\"hsicz_xy\"]<0.2) | (df[\"hsicz_yx\"]<0.2) \n"
   ]
  },
  {
   "cell_type": "code",
   "execution_count": 41,
   "metadata": {},
   "outputs": [
    {
     "data": {
      "text/plain": [
       "1.0"
      ]
     },
     "execution_count": 41,
     "metadata": {},
     "output_type": "execute_result"
    }
   ],
   "source": [
    "def pctBigHsicc(x):\n",
    "    return onp.sum(x.bigHsicc)/x.shape[0]\n",
    "onp.max(df[[\"type\",\"dataset\",\"bigHsicc\"]].groupby(\"dataset\").apply(pctBigHsicc))"
   ]
  },
  {
   "cell_type": "code",
   "execution_count": 42,
   "metadata": {},
   "outputs": [
    {
     "name": "stdout",
     "output_type": "stream",
     "text": [
      "0.3888888888888889\n",
      "0.17944666223109426\n"
     ]
    }
   ],
   "source": [
    "def pctLowConv(x):\n",
    "    return onp.sum(x.lowConv)/x.shape[0]\n",
    "print(onp.max(df[[\"type\",\"dataset\",\"lowConv\"]].groupby(\"dataset\").apply(pctLowConv)))\n",
    "print(onp.mean(df[[\"type\",\"dataset\",\"lowConv\"]].groupby(\"dataset\").apply(pctLowConv)))"
   ]
  },
  {
   "cell_type": "code",
   "execution_count": 43,
   "metadata": {},
   "outputs": [
    {
     "data": {
      "text/plain": [
       "type   eta\n",
       "AN     0.1    0.212222\n",
       "AN-s   0.1    0.173056\n",
       "LS     0.1    0.215000\n",
       "LS-s   0.1    0.137500\n",
       "MN-U   0.1    0.184722\n",
       "SIM    0.1    0.154167\n",
       "SIMG   0.1    0.168333\n",
       "SIMc   0.1    0.172500\n",
       "SIMln  0.1    0.131389\n",
       "tcep   0.1    0.244281\n",
       "dtype: float64"
      ]
     },
     "execution_count": 43,
     "metadata": {},
     "output_type": "execute_result"
    }
   ],
   "source": [
    "df[[\"type\",\"dataset\",\"lowConv\",\"eta\"]].groupby([\"type\",\"eta\"]).apply(pctLowConv)"
   ]
  },
  {
   "cell_type": "code",
   "execution_count": 44,
   "metadata": {},
   "outputs": [
    {
     "data": {
      "text/plain": [
       "(252504, 41)"
      ]
     },
     "execution_count": 44,
     "metadata": {},
     "output_type": "execute_result"
    }
   ],
   "source": [
    "df3 = df\n",
    "df3.shape"
   ]
  },
  {
   "cell_type": "code",
   "execution_count": 45,
   "metadata": {},
   "outputs": [
    {
     "data": {
      "text/plain": [
       "(252504, 41)"
      ]
     },
     "execution_count": 45,
     "metadata": {},
     "output_type": "execute_result"
    }
   ],
   "source": [
    "df = df3\n",
    "df.shape"
   ]
  },
  {
   "cell_type": "code",
   "execution_count": null,
   "metadata": {},
   "outputs": [],
   "source": [
    "df = df.loc[onp.logical_not(df[\"bigHsicc\"])]\n",
    "df.shape"
   ]
  },
  {
   "cell_type": "code",
   "execution_count": null,
   "metadata": {},
   "outputs": [],
   "source": [
    "df = df.loc[onp.logical_not(df[\"lowConv\"])]\n"
   ]
  },
  {
   "cell_type": "code",
   "execution_count": null,
   "metadata": {},
   "outputs": [],
   "source": [
    "df.shape"
   ]
  },
  {
   "cell_type": "markdown",
   "metadata": {},
   "source": [
    "#  Pair up"
   ]
  },
  {
   "cell_type": "markdown",
   "metadata": {},
   "source": [
    "Pair up \n",
    "\n",
    "1. by param: as is - df- DONE\n",
    "2. intersection -  df_intsc - DONE\n",
    "3. NNs - df_nn - DONE\n",
    "4. Random - df_rnd - DONE\n",
    "\n"
   ]
  },
  {
   "cell_type": "markdown",
   "metadata": {},
   "source": [
    "## pair-up: by-param/as-is"
   ]
  },
  {
   "cell_type": "code",
   "execution_count": 12,
   "metadata": {},
   "outputs": [],
   "source": [
    "# as-is"
   ]
  },
  {
   "cell_type": "code",
   "execution_count": 13,
   "metadata": {},
   "outputs": [],
   "source": [
    "ds = \"5\"\n",
    "st = \"LS-s\""
   ]
  },
  {
   "cell_type": "code",
   "execution_count": 14,
   "metadata": {},
   "outputs": [
    {
     "data": {
      "text/html": [
       "<div>\n",
       "<style scoped>\n",
       "    .dataframe tbody tr th:only-of-type {\n",
       "        vertical-align: middle;\n",
       "    }\n",
       "\n",
       "    .dataframe tbody tr th {\n",
       "        vertical-align: top;\n",
       "    }\n",
       "\n",
       "    .dataframe thead th {\n",
       "        text-align: right;\n",
       "    }\n",
       "</style>\n",
       "<table border=\"1\" class=\"dataframe\">\n",
       "  <thead>\n",
       "    <tr style=\"text-align: right;\">\n",
       "      <th></th>\n",
       "      <th>errs_xy</th>\n",
       "      <th>hsic_xy</th>\n",
       "      <th>hsicc_xy</th>\n",
       "      <th>ent_xy</th>\n",
       "      <th>entx_xy</th>\n",
       "      <th>hsicx_xy</th>\n",
       "      <th>hsicz_xy</th>\n",
       "      <th>hsiczz_xy</th>\n",
       "      <th>mmd_xy</th>\n",
       "      <th>errs_yx</th>\n",
       "      <th>...</th>\n",
       "      <th>lu</th>\n",
       "      <th>lr</th>\n",
       "      <th>ot</th>\n",
       "      <th>epchs</th>\n",
       "      <th>bs</th>\n",
       "      <th>reps</th>\n",
       "      <th>type</th>\n",
       "      <th>dataset</th>\n",
       "      <th>set</th>\n",
       "      <th>num</th>\n",
       "    </tr>\n",
       "  </thead>\n",
       "  <tbody>\n",
       "    <tr>\n",
       "      <th>0</th>\n",
       "      <td>0.027083</td>\n",
       "      <td>0.024381</td>\n",
       "      <td>0.780127</td>\n",
       "      <td>-4.564907</td>\n",
       "      <td>-2.718646</td>\n",
       "      <td>0.030328</td>\n",
       "      <td>0.681622</td>\n",
       "      <td>0.063623</td>\n",
       "      <td>0.681622</td>\n",
       "      <td>0.038944</td>\n",
       "      <td>...</td>\n",
       "      <td>0.0</td>\n",
       "      <td>0.1</td>\n",
       "      <td>freeZ</td>\n",
       "      <td>500</td>\n",
       "      <td>100</td>\n",
       "      <td>7</td>\n",
       "      <td>LS-s</td>\n",
       "      <td>LS-s.1</td>\n",
       "      <td>ANLSMN_withZ</td>\n",
       "      <td>1000</td>\n",
       "    </tr>\n",
       "    <tr>\n",
       "      <th>1</th>\n",
       "      <td>0.024802</td>\n",
       "      <td>0.030332</td>\n",
       "      <td>0.484400</td>\n",
       "      <td>-4.624232</td>\n",
       "      <td>-2.762605</td>\n",
       "      <td>0.030340</td>\n",
       "      <td>0.681622</td>\n",
       "      <td>0.061254</td>\n",
       "      <td>0.681622</td>\n",
       "      <td>0.036211</td>\n",
       "      <td>...</td>\n",
       "      <td>0.0</td>\n",
       "      <td>0.1</td>\n",
       "      <td>freeZ</td>\n",
       "      <td>500</td>\n",
       "      <td>100</td>\n",
       "      <td>7</td>\n",
       "      <td>LS-s</td>\n",
       "      <td>LS-s.1</td>\n",
       "      <td>ANLSMN_withZ</td>\n",
       "      <td>1000</td>\n",
       "    </tr>\n",
       "    <tr>\n",
       "      <th>2</th>\n",
       "      <td>0.029882</td>\n",
       "      <td>0.031268</td>\n",
       "      <td>0.728674</td>\n",
       "      <td>-4.589707</td>\n",
       "      <td>-2.718121</td>\n",
       "      <td>0.031429</td>\n",
       "      <td>0.681622</td>\n",
       "      <td>0.055748</td>\n",
       "      <td>0.681622</td>\n",
       "      <td>0.036343</td>\n",
       "      <td>...</td>\n",
       "      <td>0.0</td>\n",
       "      <td>0.1</td>\n",
       "      <td>freeZ</td>\n",
       "      <td>500</td>\n",
       "      <td>100</td>\n",
       "      <td>7</td>\n",
       "      <td>LS-s</td>\n",
       "      <td>LS-s.1</td>\n",
       "      <td>ANLSMN_withZ</td>\n",
       "      <td>1000</td>\n",
       "    </tr>\n",
       "    <tr>\n",
       "      <th>3</th>\n",
       "      <td>0.033075</td>\n",
       "      <td>0.020490</td>\n",
       "      <td>0.605939</td>\n",
       "      <td>-4.330315</td>\n",
       "      <td>-2.593412</td>\n",
       "      <td>0.063710</td>\n",
       "      <td>0.681622</td>\n",
       "      <td>0.051780</td>\n",
       "      <td>0.681622</td>\n",
       "      <td>0.028272</td>\n",
       "      <td>...</td>\n",
       "      <td>0.0</td>\n",
       "      <td>0.1</td>\n",
       "      <td>freeZ</td>\n",
       "      <td>500</td>\n",
       "      <td>100</td>\n",
       "      <td>7</td>\n",
       "      <td>LS-s</td>\n",
       "      <td>LS-s.1</td>\n",
       "      <td>ANLSMN_withZ</td>\n",
       "      <td>1000</td>\n",
       "    </tr>\n",
       "    <tr>\n",
       "      <th>4</th>\n",
       "      <td>0.054311</td>\n",
       "      <td>0.045628</td>\n",
       "      <td>0.289183</td>\n",
       "      <td>-3.795319</td>\n",
       "      <td>-2.212888</td>\n",
       "      <td>0.196346</td>\n",
       "      <td>0.681622</td>\n",
       "      <td>0.042396</td>\n",
       "      <td>0.681622</td>\n",
       "      <td>0.039553</td>\n",
       "      <td>...</td>\n",
       "      <td>0.0</td>\n",
       "      <td>0.1</td>\n",
       "      <td>freeZ</td>\n",
       "      <td>500</td>\n",
       "      <td>100</td>\n",
       "      <td>7</td>\n",
       "      <td>LS-s</td>\n",
       "      <td>LS-s.1</td>\n",
       "      <td>ANLSMN_withZ</td>\n",
       "      <td>1000</td>\n",
       "    </tr>\n",
       "  </tbody>\n",
       "</table>\n",
       "<p>5 rows × 36 columns</p>\n",
       "</div>"
      ],
      "text/plain": [
       "    errs_xy   hsic_xy  hsicc_xy    ent_xy   entx_xy  hsicx_xy  hsicz_xy  \\\n",
       "0  0.027083  0.024381  0.780127 -4.564907 -2.718646  0.030328  0.681622   \n",
       "1  0.024802  0.030332  0.484400 -4.624232 -2.762605  0.030340  0.681622   \n",
       "2  0.029882  0.031268  0.728674 -4.589707 -2.718121  0.031429  0.681622   \n",
       "3  0.033075  0.020490  0.605939 -4.330315 -2.593412  0.063710  0.681622   \n",
       "4  0.054311  0.045628  0.289183 -3.795319 -2.212888  0.196346  0.681622   \n",
       "\n",
       "   hsiczz_xy    mmd_xy   errs_yx  ...   lu   lr     ot  epchs   bs  reps  \\\n",
       "0   0.063623  0.681622  0.038944  ...  0.0  0.1  freeZ    500  100     7   \n",
       "1   0.061254  0.681622  0.036211  ...  0.0  0.1  freeZ    500  100     7   \n",
       "2   0.055748  0.681622  0.036343  ...  0.0  0.1  freeZ    500  100     7   \n",
       "3   0.051780  0.681622  0.028272  ...  0.0  0.1  freeZ    500  100     7   \n",
       "4   0.042396  0.681622  0.039553  ...  0.0  0.1  freeZ    500  100     7   \n",
       "\n",
       "   type  dataset           set   num  \n",
       "0  LS-s   LS-s.1  ANLSMN_withZ  1000  \n",
       "1  LS-s   LS-s.1  ANLSMN_withZ  1000  \n",
       "2  LS-s   LS-s.1  ANLSMN_withZ  1000  \n",
       "3  LS-s   LS-s.1  ANLSMN_withZ  1000  \n",
       "4  LS-s   LS-s.1  ANLSMN_withZ  1000  \n",
       "\n",
       "[5 rows x 36 columns]"
      ]
     },
     "execution_count": 14,
     "metadata": {},
     "output_type": "execute_result"
    }
   ],
   "source": [
    "df.head()"
   ]
  },
  {
   "cell_type": "code",
   "execution_count": 15,
   "metadata": {},
   "outputs": [
    {
     "name": "stdout",
     "output_type": "stream",
     "text": [
      "(252,)\n",
      "(252,)\n"
     ]
    }
   ],
   "source": [
    "hsic_xy =  onp.array(df.loc[(df[\"dataset\"]==st+\".\"+ds), \"hsicx_xy\"])\n",
    "hsic_yx =  onp.array(df.loc[(df[\"dataset\"]==st+\".\"+ds),\"hsicx_yx\"])\n",
    "hsic = onp.hstack([hsic_xy, hsic_yx])\n",
    "hsicc_xy =  onp.array(df.loc[(df[\"dataset\"]==st+\".\"+ds),\"hsicc_xy\"])\n",
    "hsicc_yx =  onp.array(df.loc[(df[\"dataset\"]==st+\".\"+ds), \"hsicc_yx\"])\n",
    "hsicc = onp.hstack([hsicc_xy, hsicc_yx])\n",
    "\n",
    "#hsic_yx= hsic_yx[0:(hsic_yx.shape[0]-1)]\n",
    "#hsicc_yx= hsicc_yx[0:(hsicc_yx.shape[0]-1)]\n",
    "print(hsic_xy.shape)\n",
    "print(hsic_yx.shape)"
   ]
  },
  {
   "cell_type": "code",
   "execution_count": 16,
   "metadata": {},
   "outputs": [
    {
     "data": {
      "text/plain": [
       "<matplotlib.collections.PathCollection at 0x7f4a84f65e90>"
      ]
     },
     "execution_count": 16,
     "metadata": {},
     "output_type": "execute_result"
    },
    {
     "data": {
      "image/png": "[encoded data removed]",
      "text/plain": [
       "<Figure size 432x288 with 1 Axes>"
      ]
     },
     "metadata": {
      "needs_background": "light"
     },
     "output_type": "display_data"
    }
   ],
   "source": [
    "plt.scatter(onp.log10(hsic_xy), onp.log10(hsicc_xy))\n",
    "plt.scatter(onp.log10(hsic_yx), onp.log10(hsicc_yx))"
   ]
  },
  {
   "cell_type": "code",
   "execution_count": 17,
   "metadata": {},
   "outputs": [
    {
     "data": {
      "text/html": [
       "<div>\n",
       "<style scoped>\n",
       "    .dataframe tbody tr th:only-of-type {\n",
       "        vertical-align: middle;\n",
       "    }\n",
       "\n",
       "    .dataframe tbody tr th {\n",
       "        vertical-align: top;\n",
       "    }\n",
       "\n",
       "    .dataframe thead th {\n",
       "        text-align: right;\n",
       "    }\n",
       "</style>\n",
       "<table border=\"1\" class=\"dataframe\">\n",
       "  <thead>\n",
       "    <tr style=\"text-align: right;\">\n",
       "      <th></th>\n",
       "      <th>hsicx</th>\n",
       "      <th>hsicc</th>\n",
       "      <th>dir</th>\n",
       "    </tr>\n",
       "  </thead>\n",
       "  <tbody>\n",
       "    <tr>\n",
       "      <th>0</th>\n",
       "      <td>-2.239587</td>\n",
       "      <td>-0.453558</td>\n",
       "      <td>xy</td>\n",
       "    </tr>\n",
       "    <tr>\n",
       "      <th>1</th>\n",
       "      <td>-2.184362</td>\n",
       "      <td>-0.686239</td>\n",
       "      <td>xy</td>\n",
       "    </tr>\n",
       "    <tr>\n",
       "      <th>2</th>\n",
       "      <td>-2.451799</td>\n",
       "      <td>-0.473232</td>\n",
       "      <td>xy</td>\n",
       "    </tr>\n",
       "    <tr>\n",
       "      <th>3</th>\n",
       "      <td>-2.117083</td>\n",
       "      <td>-0.573076</td>\n",
       "      <td>xy</td>\n",
       "    </tr>\n",
       "    <tr>\n",
       "      <th>4</th>\n",
       "      <td>-2.140675</td>\n",
       "      <td>-0.923054</td>\n",
       "      <td>xy</td>\n",
       "    </tr>\n",
       "    <tr>\n",
       "      <th>...</th>\n",
       "      <td>...</td>\n",
       "      <td>...</td>\n",
       "      <td>...</td>\n",
       "    </tr>\n",
       "    <tr>\n",
       "      <th>247</th>\n",
       "      <td>-1.733765</td>\n",
       "      <td>-2.692932</td>\n",
       "      <td>yx</td>\n",
       "    </tr>\n",
       "    <tr>\n",
       "      <th>248</th>\n",
       "      <td>-2.017574</td>\n",
       "      <td>-3.223229</td>\n",
       "      <td>yx</td>\n",
       "    </tr>\n",
       "    <tr>\n",
       "      <th>249</th>\n",
       "      <td>-2.318862</td>\n",
       "      <td>-3.956831</td>\n",
       "      <td>yx</td>\n",
       "    </tr>\n",
       "    <tr>\n",
       "      <th>250</th>\n",
       "      <td>-1.901588</td>\n",
       "      <td>-3.052793</td>\n",
       "      <td>yx</td>\n",
       "    </tr>\n",
       "    <tr>\n",
       "      <th>251</th>\n",
       "      <td>-1.636257</td>\n",
       "      <td>-3.166962</td>\n",
       "      <td>yx</td>\n",
       "    </tr>\n",
       "  </tbody>\n",
       "</table>\n",
       "<p>504 rows × 3 columns</p>\n",
       "</div>"
      ],
      "text/plain": [
       "        hsicx     hsicc dir\n",
       "0   -2.239587 -0.453558  xy\n",
       "1   -2.184362 -0.686239  xy\n",
       "2   -2.451799 -0.473232  xy\n",
       "3   -2.117083 -0.573076  xy\n",
       "4   -2.140675 -0.923054  xy\n",
       "..        ...       ...  ..\n",
       "247 -1.733765 -2.692932  yx\n",
       "248 -2.017574 -3.223229  yx\n",
       "249 -2.318862 -3.956831  yx\n",
       "250 -1.901588 -3.052793  yx\n",
       "251 -1.636257 -3.166962  yx\n",
       "\n",
       "[504 rows x 3 columns]"
      ]
     },
     "execution_count": 17,
     "metadata": {},
     "output_type": "execute_result"
    }
   ],
   "source": [
    "df_xy = pd.DataFrame(onp.vstack([onp.log10(hsic_xy), onp.log10(hsicc_xy)]).T, columns=[\"hsicx\", \"hsicc\"])\n",
    "df_xy[\"dir\"] = \"xy\"\n",
    "df_yx = pd.DataFrame(onp.vstack([onp.log10(hsic_yx), onp.log10(hsicc_yx)]).T, columns=[\"hsicx\", \"hsicc\"])\n",
    "df_yx[\"dir\"] = \"yx\"\n",
    "\n",
    "df_plt = pd.concat([df_xy, df_yx])\n",
    "df_plt"
   ]
  },
  {
   "cell_type": "code",
   "execution_count": 18,
   "metadata": {},
   "outputs": [
    {
     "data": {
      "text/plain": [
       "<matplotlib.axes._subplots.AxesSubplot at 0x7f4a84e21550>"
      ]
     },
     "execution_count": 18,
     "metadata": {},
     "output_type": "execute_result"
    },
    {
     "data": {
      "image/png": "[encoded data removed]",
      "text/plain": [
       "<Figure size 432x288 with 1 Axes>"
      ]
     },
     "metadata": {
      "needs_background": "light"
     },
     "output_type": "display_data"
    }
   ],
   "source": [
    "sns.scatterplot(data=df_plt, x=\"hsicx\", y=\"hsicc\", hue=\"dir\")"
   ]
  },
  {
   "cell_type": "code",
   "execution_count": 19,
   "metadata": {},
   "outputs": [],
   "source": [
    "#sns.kdeplot(data=df_plt, x=\"hsic\", y=\"hsicc\", hue=\"dir\")\n",
    "#sns.jointplot(data=df_plt, x=\"hsic\", y=\"hsicc\",kind=\"hex\")"
   ]
  },
  {
   "cell_type": "code",
   "execution_count": 20,
   "metadata": {},
   "outputs": [],
   "source": [
    "#sns.jointplot(data=df_plt, x=\"hsic\", y=\"hsicc\", hue=\"dir\",kind=\"kde\")"
   ]
  },
  {
   "cell_type": "code",
   "execution_count": 21,
   "metadata": {},
   "outputs": [],
   "source": [
    "m = 1\n",
    "varss = ['errs',\"hsic\",'hsicc','ent','hsicz','hsiczz','mmd'] #'slopes','slopeskrr',\n",
    "varss = ['errs','hsicx',\"hsic\",'hsicc','ent','entx','hsicz','hsiczz','mmd']\n",
    "varss = ['errs','hsicx',\"hsic\",'hsicc','ent','ent2','entx','hsicz','hsiczz','mmd'] #'slopes','slopeskrr',\n",
    "varss = ['errs','hsicx',\"hsic\",'hsicc','ent','entx','hsicz','hsiczz','mmd'] "
   ]
  },
  {
   "cell_type": "code",
   "execution_count": 22,
   "metadata": {},
   "outputs": [],
   "source": [
    "df_parm = df.groupby(['type',\"dataset\"]).apply(pairup,varss=varss, funct=smplParm, getParsFunct=getParsParm, pars=(m,))"
   ]
  },
  {
   "cell_type": "code",
   "execution_count": 23,
   "metadata": {
    "scrolled": true
   },
   "outputs": [
    {
     "data": {
      "text/html": [
       "<div>\n",
       "<style scoped>\n",
       "    .dataframe tbody tr th:only-of-type {\n",
       "        vertical-align: middle;\n",
       "    }\n",
       "\n",
       "    .dataframe tbody tr th {\n",
       "        vertical-align: top;\n",
       "    }\n",
       "\n",
       "    .dataframe thead th {\n",
       "        text-align: right;\n",
       "    }\n",
       "</style>\n",
       "<table border=\"1\" class=\"dataframe\">\n",
       "  <thead>\n",
       "    <tr style=\"text-align: right;\">\n",
       "      <th></th>\n",
       "      <th>type</th>\n",
       "      <th>dataset</th>\n",
       "      <th>level_2</th>\n",
       "      <th>errs_xy</th>\n",
       "      <th>hsicx_xy</th>\n",
       "      <th>hsic_xy</th>\n",
       "      <th>hsicc_xy</th>\n",
       "      <th>ent_xy</th>\n",
       "      <th>entx_xy</th>\n",
       "      <th>hsicz_xy</th>\n",
       "      <th>...</th>\n",
       "      <th>mmd_xy</th>\n",
       "      <th>errs_yx</th>\n",
       "      <th>hsicx_yx</th>\n",
       "      <th>hsic_yx</th>\n",
       "      <th>hsicc_yx</th>\n",
       "      <th>ent_yx</th>\n",
       "      <th>entx_yx</th>\n",
       "      <th>hsicz_yx</th>\n",
       "      <th>hsiczz_yx</th>\n",
       "      <th>mmd_yx</th>\n",
       "    </tr>\n",
       "  </thead>\n",
       "  <tbody>\n",
       "    <tr>\n",
       "      <th>0</th>\n",
       "      <td>LS-s</td>\n",
       "      <td>LS-s.1</td>\n",
       "      <td>0</td>\n",
       "      <td>0.027083</td>\n",
       "      <td>0.030328</td>\n",
       "      <td>0.024381</td>\n",
       "      <td>0.780127</td>\n",
       "      <td>-4.564907</td>\n",
       "      <td>-2.718646</td>\n",
       "      <td>0.681622</td>\n",
       "      <td>...</td>\n",
       "      <td>0.681622</td>\n",
       "      <td>0.038944</td>\n",
       "      <td>0.005777</td>\n",
       "      <td>0.009578</td>\n",
       "      <td>0.668687</td>\n",
       "      <td>-4.135749</td>\n",
       "      <td>-2.470584</td>\n",
       "      <td>0.612241</td>\n",
       "      <td>0.006965</td>\n",
       "      <td>0.612241</td>\n",
       "    </tr>\n",
       "    <tr>\n",
       "      <th>1</th>\n",
       "      <td>LS-s</td>\n",
       "      <td>LS-s.1</td>\n",
       "      <td>1</td>\n",
       "      <td>0.024802</td>\n",
       "      <td>0.030340</td>\n",
       "      <td>0.030332</td>\n",
       "      <td>0.484400</td>\n",
       "      <td>-4.624232</td>\n",
       "      <td>-2.762605</td>\n",
       "      <td>0.681622</td>\n",
       "      <td>...</td>\n",
       "      <td>0.681622</td>\n",
       "      <td>0.036211</td>\n",
       "      <td>0.001403</td>\n",
       "      <td>0.002559</td>\n",
       "      <td>0.674663</td>\n",
       "      <td>-4.219990</td>\n",
       "      <td>-2.491660</td>\n",
       "      <td>0.612241</td>\n",
       "      <td>0.008296</td>\n",
       "      <td>0.612241</td>\n",
       "    </tr>\n",
       "    <tr>\n",
       "      <th>2</th>\n",
       "      <td>LS-s</td>\n",
       "      <td>LS-s.1</td>\n",
       "      <td>2</td>\n",
       "      <td>0.029882</td>\n",
       "      <td>0.031429</td>\n",
       "      <td>0.031268</td>\n",
       "      <td>0.728674</td>\n",
       "      <td>-4.589707</td>\n",
       "      <td>-2.718121</td>\n",
       "      <td>0.681622</td>\n",
       "      <td>...</td>\n",
       "      <td>0.681622</td>\n",
       "      <td>0.036343</td>\n",
       "      <td>0.019637</td>\n",
       "      <td>0.022145</td>\n",
       "      <td>0.606337</td>\n",
       "      <td>-4.054488</td>\n",
       "      <td>-2.465894</td>\n",
       "      <td>0.612241</td>\n",
       "      <td>0.003347</td>\n",
       "      <td>0.612241</td>\n",
       "    </tr>\n",
       "    <tr>\n",
       "      <th>3</th>\n",
       "      <td>LS-s</td>\n",
       "      <td>LS-s.1</td>\n",
       "      <td>3</td>\n",
       "      <td>0.033075</td>\n",
       "      <td>0.063710</td>\n",
       "      <td>0.020490</td>\n",
       "      <td>0.605939</td>\n",
       "      <td>-4.330315</td>\n",
       "      <td>-2.593412</td>\n",
       "      <td>0.681622</td>\n",
       "      <td>...</td>\n",
       "      <td>0.681622</td>\n",
       "      <td>0.028272</td>\n",
       "      <td>0.010354</td>\n",
       "      <td>0.010393</td>\n",
       "      <td>0.414035</td>\n",
       "      <td>-4.365828</td>\n",
       "      <td>-2.706191</td>\n",
       "      <td>0.612241</td>\n",
       "      <td>0.007228</td>\n",
       "      <td>0.612241</td>\n",
       "    </tr>\n",
       "    <tr>\n",
       "      <th>4</th>\n",
       "      <td>LS-s</td>\n",
       "      <td>LS-s.1</td>\n",
       "      <td>4</td>\n",
       "      <td>0.054311</td>\n",
       "      <td>0.196346</td>\n",
       "      <td>0.045628</td>\n",
       "      <td>0.289183</td>\n",
       "      <td>-3.795319</td>\n",
       "      <td>-2.212888</td>\n",
       "      <td>0.681622</td>\n",
       "      <td>...</td>\n",
       "      <td>0.681622</td>\n",
       "      <td>0.039553</td>\n",
       "      <td>0.001305</td>\n",
       "      <td>0.001460</td>\n",
       "      <td>0.617980</td>\n",
       "      <td>-4.029513</td>\n",
       "      <td>-2.396863</td>\n",
       "      <td>0.612241</td>\n",
       "      <td>0.006399</td>\n",
       "      <td>0.612241</td>\n",
       "    </tr>\n",
       "  </tbody>\n",
       "</table>\n",
       "<p>5 rows × 21 columns</p>\n",
       "</div>"
      ],
      "text/plain": [
       "   type dataset  level_2   errs_xy  hsicx_xy   hsic_xy  hsicc_xy    ent_xy  \\\n",
       "0  LS-s  LS-s.1        0  0.027083  0.030328  0.024381  0.780127 -4.564907   \n",
       "1  LS-s  LS-s.1        1  0.024802  0.030340  0.030332  0.484400 -4.624232   \n",
       "2  LS-s  LS-s.1        2  0.029882  0.031429  0.031268  0.728674 -4.589707   \n",
       "3  LS-s  LS-s.1        3  0.033075  0.063710  0.020490  0.605939 -4.330315   \n",
       "4  LS-s  LS-s.1        4  0.054311  0.196346  0.045628  0.289183 -3.795319   \n",
       "\n",
       "    entx_xy  hsicz_xy  ...    mmd_xy   errs_yx  hsicx_yx   hsic_yx  hsicc_yx  \\\n",
       "0 -2.718646  0.681622  ...  0.681622  0.038944  0.005777  0.009578  0.668687   \n",
       "1 -2.762605  0.681622  ...  0.681622  0.036211  0.001403  0.002559  0.674663   \n",
       "2 -2.718121  0.681622  ...  0.681622  0.036343  0.019637  0.022145  0.606337   \n",
       "3 -2.593412  0.681622  ...  0.681622  0.028272  0.010354  0.010393  0.414035   \n",
       "4 -2.212888  0.681622  ...  0.681622  0.039553  0.001305  0.001460  0.617980   \n",
       "\n",
       "     ent_yx   entx_yx  hsicz_yx  hsiczz_yx    mmd_yx  \n",
       "0 -4.135749 -2.470584  0.612241   0.006965  0.612241  \n",
       "1 -4.219990 -2.491660  0.612241   0.008296  0.612241  \n",
       "2 -4.054488 -2.465894  0.612241   0.003347  0.612241  \n",
       "3 -4.365828 -2.706191  0.612241   0.007228  0.612241  \n",
       "4 -4.029513 -2.396863  0.612241   0.006399  0.612241  \n",
       "\n",
       "[5 rows x 21 columns]"
      ]
     },
     "execution_count": 23,
     "metadata": {},
     "output_type": "execute_result"
    }
   ],
   "source": [
    "df_parm = df_parm.reset_index()\n",
    "df_parm.head()"
   ]
  },
  {
   "cell_type": "code",
   "execution_count": 24,
   "metadata": {},
   "outputs": [],
   "source": [
    "df_parm = df_parm.rename(columns={\"level_2\": \"smpl\"})"
   ]
  },
  {
   "cell_type": "code",
   "execution_count": 25,
   "metadata": {},
   "outputs": [
    {
     "data": {
      "text/plain": [
       "(25200, 21)"
      ]
     },
     "execution_count": 25,
     "metadata": {},
     "output_type": "execute_result"
    }
   ],
   "source": [
    "df.shape\n",
    "df_parm.shape"
   ]
  },
  {
   "cell_type": "markdown",
   "metadata": {},
   "source": [
    "## pair-up: random"
   ]
  },
  {
   "cell_type": "code",
   "execution_count": 26,
   "metadata": {},
   "outputs": [],
   "source": [
    "# random"
   ]
  },
  {
   "cell_type": "code",
   "execution_count": 27,
   "metadata": {},
   "outputs": [],
   "source": [
    "ds = \"5\"\n",
    "st = \"LS-s\""
   ]
  },
  {
   "cell_type": "code",
   "execution_count": 28,
   "metadata": {},
   "outputs": [
    {
     "name": "stdout",
     "output_type": "stream",
     "text": [
      "(252,)\n",
      "(252,)\n"
     ]
    }
   ],
   "source": [
    "hsic_xy =  onp.array(df.loc[(df[\"dataset\"]==st+\".\"+ds), \"hsicx_xy\"])\n",
    "hsic_yx =  onp.array(df.loc[(df[\"dataset\"]==st+\".\"+ds),\"hsicx_yx\"])\n",
    "hsic = onp.hstack([hsic_xy, hsic_yx])\n",
    "hsicc_xy =  onp.array(df.loc[(df[\"dataset\"]==st+\".\"+ds),\"hsicc_xy\"])\n",
    "hsicc_yx =  onp.array(df.loc[(df[\"dataset\"]==st+\".\"+ds), \"hsicc_yx\"])\n",
    "hsicc = onp.hstack([hsicc_xy, hsicc_yx])\n",
    "\n",
    "#hsic_yx= hsic_yx[0:(hsic_yx.shape[0]-1)]\n",
    "#hsicc_yx= hsicc_yx[0:(hsicc_yx.shape[0]-1)]\n",
    "print(hsic_xy.shape)\n",
    "print(hsic_yx.shape)"
   ]
  },
  {
   "cell_type": "code",
   "execution_count": 29,
   "metadata": {},
   "outputs": [
    {
     "data": {
      "text/plain": [
       "<matplotlib.collections.PathCollection at 0x7f4a84e4b4d0>"
      ]
     },
     "execution_count": 29,
     "metadata": {},
     "output_type": "execute_result"
    },
    {
     "data": {
      "image/png": "[encoded data removed]",
      "text/plain": [
       "<Figure size 432x288 with 1 Axes>"
      ]
     },
     "metadata": {
      "needs_background": "light"
     },
     "output_type": "display_data"
    }
   ],
   "source": [
    "plt.scatter(onp.log10(hsic_xy), onp.log10(hsicc_xy))\n",
    "plt.scatter(onp.log10(hsic_yx), onp.log10(hsicc_yx))"
   ]
  },
  {
   "cell_type": "code",
   "execution_count": null,
   "metadata": {},
   "outputs": [],
   "source": []
  },
  {
   "cell_type": "code",
   "execution_count": 30,
   "metadata": {},
   "outputs": [],
   "source": [
    "n = hsic_xy.shape[0]\n",
    "m = 1000\n",
    "indxSmpl_xy, indxSmpl_yx = smplRand(n, m)\n"
   ]
  },
  {
   "cell_type": "code",
   "execution_count": 31,
   "metadata": {},
   "outputs": [],
   "source": [
    "hsic_xy3 = hsic_xy[indxSmpl_xy]\n",
    "hsicc_xy3 = hsicc_xy[indxSmpl_xy]\n",
    "hsic_yx3 = hsic_yx[indxSmpl_yx]\n",
    "hsicc_yx3 = hsicc_yx[indxSmpl_yx]"
   ]
  },
  {
   "cell_type": "code",
   "execution_count": 32,
   "metadata": {},
   "outputs": [
    {
     "data": {
      "text/html": [
       "<div>\n",
       "<style scoped>\n",
       "    .dataframe tbody tr th:only-of-type {\n",
       "        vertical-align: middle;\n",
       "    }\n",
       "\n",
       "    .dataframe tbody tr th {\n",
       "        vertical-align: top;\n",
       "    }\n",
       "\n",
       "    .dataframe thead th {\n",
       "        text-align: right;\n",
       "    }\n",
       "</style>\n",
       "<table border=\"1\" class=\"dataframe\">\n",
       "  <thead>\n",
       "    <tr style=\"text-align: right;\">\n",
       "      <th></th>\n",
       "      <th>hsicx</th>\n",
       "      <th>hsicc</th>\n",
       "      <th>dir</th>\n",
       "    </tr>\n",
       "  </thead>\n",
       "  <tbody>\n",
       "    <tr>\n",
       "      <th>0</th>\n",
       "      <td>-2.239587</td>\n",
       "      <td>-0.453558</td>\n",
       "      <td>xy</td>\n",
       "    </tr>\n",
       "    <tr>\n",
       "      <th>1</th>\n",
       "      <td>-2.184362</td>\n",
       "      <td>-0.686239</td>\n",
       "      <td>xy</td>\n",
       "    </tr>\n",
       "    <tr>\n",
       "      <th>2</th>\n",
       "      <td>-2.451799</td>\n",
       "      <td>-0.473232</td>\n",
       "      <td>xy</td>\n",
       "    </tr>\n",
       "    <tr>\n",
       "      <th>3</th>\n",
       "      <td>-2.117083</td>\n",
       "      <td>-0.573076</td>\n",
       "      <td>xy</td>\n",
       "    </tr>\n",
       "    <tr>\n",
       "      <th>4</th>\n",
       "      <td>-2.140675</td>\n",
       "      <td>-0.923054</td>\n",
       "      <td>xy</td>\n",
       "    </tr>\n",
       "    <tr>\n",
       "      <th>...</th>\n",
       "      <td>...</td>\n",
       "      <td>...</td>\n",
       "      <td>...</td>\n",
       "    </tr>\n",
       "    <tr>\n",
       "      <th>1247</th>\n",
       "      <td>-2.761716</td>\n",
       "      <td>-0.537842</td>\n",
       "      <td>yx</td>\n",
       "    </tr>\n",
       "    <tr>\n",
       "      <th>1248</th>\n",
       "      <td>-2.992216</td>\n",
       "      <td>-0.499741</td>\n",
       "      <td>yx</td>\n",
       "    </tr>\n",
       "    <tr>\n",
       "      <th>1249</th>\n",
       "      <td>-2.302345</td>\n",
       "      <td>-4.038520</td>\n",
       "      <td>yx</td>\n",
       "    </tr>\n",
       "    <tr>\n",
       "      <th>1250</th>\n",
       "      <td>-2.105189</td>\n",
       "      <td>-3.214649</td>\n",
       "      <td>yx</td>\n",
       "    </tr>\n",
       "    <tr>\n",
       "      <th>1251</th>\n",
       "      <td>-2.015947</td>\n",
       "      <td>-2.970251</td>\n",
       "      <td>yx</td>\n",
       "    </tr>\n",
       "  </tbody>\n",
       "</table>\n",
       "<p>2504 rows × 3 columns</p>\n",
       "</div>"
      ],
      "text/plain": [
       "         hsicx     hsicc dir\n",
       "0    -2.239587 -0.453558  xy\n",
       "1    -2.184362 -0.686239  xy\n",
       "2    -2.451799 -0.473232  xy\n",
       "3    -2.117083 -0.573076  xy\n",
       "4    -2.140675 -0.923054  xy\n",
       "...        ...       ...  ..\n",
       "1247 -2.761716 -0.537842  yx\n",
       "1248 -2.992216 -0.499741  yx\n",
       "1249 -2.302345 -4.038520  yx\n",
       "1250 -2.105189 -3.214649  yx\n",
       "1251 -2.015947 -2.970251  yx\n",
       "\n",
       "[2504 rows x 3 columns]"
      ]
     },
     "execution_count": 32,
     "metadata": {},
     "output_type": "execute_result"
    }
   ],
   "source": [
    "df_xy = pd.DataFrame(onp.vstack([onp.log10(hsic_xy3), onp.log10(hsicc_xy3)]).T, columns=[\"hsicx\", \"hsicc\"])\n",
    "df_xy[\"dir\"] = \"xy\"\n",
    "df_yx = pd.DataFrame(onp.vstack([onp.log10(hsic_yx3), onp.log10(hsicc_yx3)]).T, columns=[\"hsicx\", \"hsicc\"])\n",
    "df_yx[\"dir\"] = \"yx\"\n",
    "\n",
    "df_plt = pd.concat([df_xy, df_yx])\n",
    "df_plt"
   ]
  },
  {
   "cell_type": "code",
   "execution_count": 33,
   "metadata": {},
   "outputs": [
    {
     "data": {
      "text/plain": [
       "<matplotlib.axes._subplots.AxesSubplot at 0x7f4a59dc0850>"
      ]
     },
     "execution_count": 33,
     "metadata": {},
     "output_type": "execute_result"
    },
    {
     "data": {
      "image/png": "[encoded data removed]",
      "text/plain": [
       "<Figure size 432x288 with 1 Axes>"
      ]
     },
     "metadata": {
      "needs_background": "light"
     },
     "output_type": "display_data"
    }
   ],
   "source": [
    "sns.scatterplot(data=df_plt, x=\"hsicx\", y=\"hsicc\", hue=\"dir\")"
   ]
  },
  {
   "cell_type": "code",
   "execution_count": 34,
   "metadata": {},
   "outputs": [],
   "source": [
    "#sns.kdeplot(data=df_plt, x=\"hsicx\", y=\"hsicc\", hue=\"dir\")\n",
    "#sns.jointplot(data=df_plt, x=\"hsicx\", y=\"hsicc\",kind=\"hex\")"
   ]
  },
  {
   "cell_type": "code",
   "execution_count": 35,
   "metadata": {},
   "outputs": [],
   "source": [
    "#sns.jointplot(data=df_plt, x=\"hsicx\", y=\"hsicc\", hue=\"dir\",kind=\"kde\")"
   ]
  },
  {
   "cell_type": "code",
   "execution_count": 36,
   "metadata": {},
   "outputs": [
    {
     "data": {
      "text/html": [
       "<div>\n",
       "<style scoped>\n",
       "    .dataframe tbody tr th:only-of-type {\n",
       "        vertical-align: middle;\n",
       "    }\n",
       "\n",
       "    .dataframe tbody tr th {\n",
       "        vertical-align: top;\n",
       "    }\n",
       "\n",
       "    .dataframe thead th {\n",
       "        text-align: right;\n",
       "    }\n",
       "</style>\n",
       "<table border=\"1\" class=\"dataframe\">\n",
       "  <thead>\n",
       "    <tr style=\"text-align: right;\">\n",
       "      <th></th>\n",
       "      <th>errs_xy</th>\n",
       "      <th>hsic_xy</th>\n",
       "      <th>hsicc_xy</th>\n",
       "      <th>ent_xy</th>\n",
       "      <th>entx_xy</th>\n",
       "      <th>hsicx_xy</th>\n",
       "      <th>hsicz_xy</th>\n",
       "      <th>hsiczz_xy</th>\n",
       "      <th>mmd_xy</th>\n",
       "      <th>errs_yx</th>\n",
       "      <th>...</th>\n",
       "      <th>lu</th>\n",
       "      <th>lr</th>\n",
       "      <th>ot</th>\n",
       "      <th>epchs</th>\n",
       "      <th>bs</th>\n",
       "      <th>reps</th>\n",
       "      <th>type</th>\n",
       "      <th>dataset</th>\n",
       "      <th>set</th>\n",
       "      <th>num</th>\n",
       "    </tr>\n",
       "  </thead>\n",
       "  <tbody>\n",
       "    <tr>\n",
       "      <th>0</th>\n",
       "      <td>0.027083</td>\n",
       "      <td>0.024381</td>\n",
       "      <td>0.780127</td>\n",
       "      <td>-4.564907</td>\n",
       "      <td>-2.718646</td>\n",
       "      <td>0.030328</td>\n",
       "      <td>0.681622</td>\n",
       "      <td>0.063623</td>\n",
       "      <td>0.681622</td>\n",
       "      <td>0.038944</td>\n",
       "      <td>...</td>\n",
       "      <td>0.0</td>\n",
       "      <td>0.1</td>\n",
       "      <td>freeZ</td>\n",
       "      <td>500</td>\n",
       "      <td>100</td>\n",
       "      <td>7</td>\n",
       "      <td>LS-s</td>\n",
       "      <td>LS-s.1</td>\n",
       "      <td>ANLSMN_withZ</td>\n",
       "      <td>1000</td>\n",
       "    </tr>\n",
       "    <tr>\n",
       "      <th>1</th>\n",
       "      <td>0.024802</td>\n",
       "      <td>0.030332</td>\n",
       "      <td>0.484400</td>\n",
       "      <td>-4.624232</td>\n",
       "      <td>-2.762605</td>\n",
       "      <td>0.030340</td>\n",
       "      <td>0.681622</td>\n",
       "      <td>0.061254</td>\n",
       "      <td>0.681622</td>\n",
       "      <td>0.036211</td>\n",
       "      <td>...</td>\n",
       "      <td>0.0</td>\n",
       "      <td>0.1</td>\n",
       "      <td>freeZ</td>\n",
       "      <td>500</td>\n",
       "      <td>100</td>\n",
       "      <td>7</td>\n",
       "      <td>LS-s</td>\n",
       "      <td>LS-s.1</td>\n",
       "      <td>ANLSMN_withZ</td>\n",
       "      <td>1000</td>\n",
       "    </tr>\n",
       "    <tr>\n",
       "      <th>2</th>\n",
       "      <td>0.029882</td>\n",
       "      <td>0.031268</td>\n",
       "      <td>0.728674</td>\n",
       "      <td>-4.589707</td>\n",
       "      <td>-2.718121</td>\n",
       "      <td>0.031429</td>\n",
       "      <td>0.681622</td>\n",
       "      <td>0.055748</td>\n",
       "      <td>0.681622</td>\n",
       "      <td>0.036343</td>\n",
       "      <td>...</td>\n",
       "      <td>0.0</td>\n",
       "      <td>0.1</td>\n",
       "      <td>freeZ</td>\n",
       "      <td>500</td>\n",
       "      <td>100</td>\n",
       "      <td>7</td>\n",
       "      <td>LS-s</td>\n",
       "      <td>LS-s.1</td>\n",
       "      <td>ANLSMN_withZ</td>\n",
       "      <td>1000</td>\n",
       "    </tr>\n",
       "    <tr>\n",
       "      <th>3</th>\n",
       "      <td>0.033075</td>\n",
       "      <td>0.020490</td>\n",
       "      <td>0.605939</td>\n",
       "      <td>-4.330315</td>\n",
       "      <td>-2.593412</td>\n",
       "      <td>0.063710</td>\n",
       "      <td>0.681622</td>\n",
       "      <td>0.051780</td>\n",
       "      <td>0.681622</td>\n",
       "      <td>0.028272</td>\n",
       "      <td>...</td>\n",
       "      <td>0.0</td>\n",
       "      <td>0.1</td>\n",
       "      <td>freeZ</td>\n",
       "      <td>500</td>\n",
       "      <td>100</td>\n",
       "      <td>7</td>\n",
       "      <td>LS-s</td>\n",
       "      <td>LS-s.1</td>\n",
       "      <td>ANLSMN_withZ</td>\n",
       "      <td>1000</td>\n",
       "    </tr>\n",
       "    <tr>\n",
       "      <th>4</th>\n",
       "      <td>0.054311</td>\n",
       "      <td>0.045628</td>\n",
       "      <td>0.289183</td>\n",
       "      <td>-3.795319</td>\n",
       "      <td>-2.212888</td>\n",
       "      <td>0.196346</td>\n",
       "      <td>0.681622</td>\n",
       "      <td>0.042396</td>\n",
       "      <td>0.681622</td>\n",
       "      <td>0.039553</td>\n",
       "      <td>...</td>\n",
       "      <td>0.0</td>\n",
       "      <td>0.1</td>\n",
       "      <td>freeZ</td>\n",
       "      <td>500</td>\n",
       "      <td>100</td>\n",
       "      <td>7</td>\n",
       "      <td>LS-s</td>\n",
       "      <td>LS-s.1</td>\n",
       "      <td>ANLSMN_withZ</td>\n",
       "      <td>1000</td>\n",
       "    </tr>\n",
       "    <tr>\n",
       "      <th>...</th>\n",
       "      <td>...</td>\n",
       "      <td>...</td>\n",
       "      <td>...</td>\n",
       "      <td>...</td>\n",
       "      <td>...</td>\n",
       "      <td>...</td>\n",
       "      <td>...</td>\n",
       "      <td>...</td>\n",
       "      <td>...</td>\n",
       "      <td>...</td>\n",
       "      <td>...</td>\n",
       "      <td>...</td>\n",
       "      <td>...</td>\n",
       "      <td>...</td>\n",
       "      <td>...</td>\n",
       "      <td>...</td>\n",
       "      <td>...</td>\n",
       "      <td>...</td>\n",
       "      <td>...</td>\n",
       "      <td>...</td>\n",
       "      <td>...</td>\n",
       "    </tr>\n",
       "    <tr>\n",
       "      <th>2</th>\n",
       "      <td>0.084565</td>\n",
       "      <td>0.014885</td>\n",
       "      <td>0.000172</td>\n",
       "      <td>-2.458002</td>\n",
       "      <td>-1.629917</td>\n",
       "      <td>0.013601</td>\n",
       "      <td>0.283446</td>\n",
       "      <td>0.323871</td>\n",
       "      <td>0.283446</td>\n",
       "      <td>0.036147</td>\n",
       "      <td>...</td>\n",
       "      <td>0.0</td>\n",
       "      <td>0.1</td>\n",
       "      <td>freeZ</td>\n",
       "      <td>500</td>\n",
       "      <td>100</td>\n",
       "      <td>7</td>\n",
       "      <td>LS-s</td>\n",
       "      <td>LS-s.100</td>\n",
       "      <td>ANLSMN_withZ</td>\n",
       "      <td>1000</td>\n",
       "    </tr>\n",
       "    <tr>\n",
       "      <th>3</th>\n",
       "      <td>0.074890</td>\n",
       "      <td>0.009999</td>\n",
       "      <td>0.004105</td>\n",
       "      <td>-2.618244</td>\n",
       "      <td>-1.765126</td>\n",
       "      <td>0.009182</td>\n",
       "      <td>0.283446</td>\n",
       "      <td>0.447061</td>\n",
       "      <td>0.283446</td>\n",
       "      <td>0.060507</td>\n",
       "      <td>...</td>\n",
       "      <td>0.0</td>\n",
       "      <td>0.1</td>\n",
       "      <td>freeZ</td>\n",
       "      <td>500</td>\n",
       "      <td>100</td>\n",
       "      <td>7</td>\n",
       "      <td>LS-s</td>\n",
       "      <td>LS-s.100</td>\n",
       "      <td>ANLSMN_withZ</td>\n",
       "      <td>1000</td>\n",
       "    </tr>\n",
       "    <tr>\n",
       "      <th>4</th>\n",
       "      <td>0.090577</td>\n",
       "      <td>0.014708</td>\n",
       "      <td>0.003175</td>\n",
       "      <td>-2.457047</td>\n",
       "      <td>-1.568637</td>\n",
       "      <td>0.015383</td>\n",
       "      <td>0.283446</td>\n",
       "      <td>0.375642</td>\n",
       "      <td>0.283446</td>\n",
       "      <td>0.095322</td>\n",
       "      <td>...</td>\n",
       "      <td>0.0</td>\n",
       "      <td>0.1</td>\n",
       "      <td>freeZ</td>\n",
       "      <td>500</td>\n",
       "      <td>100</td>\n",
       "      <td>7</td>\n",
       "      <td>LS-s</td>\n",
       "      <td>LS-s.100</td>\n",
       "      <td>ANLSMN_withZ</td>\n",
       "      <td>1000</td>\n",
       "    </tr>\n",
       "    <tr>\n",
       "      <th>5</th>\n",
       "      <td>0.058012</td>\n",
       "      <td>0.008962</td>\n",
       "      <td>0.003926</td>\n",
       "      <td>-2.865269</td>\n",
       "      <td>-1.949303</td>\n",
       "      <td>0.011444</td>\n",
       "      <td>0.283446</td>\n",
       "      <td>0.552042</td>\n",
       "      <td>0.283446</td>\n",
       "      <td>0.060050</td>\n",
       "      <td>...</td>\n",
       "      <td>0.0</td>\n",
       "      <td>0.1</td>\n",
       "      <td>freeZ</td>\n",
       "      <td>500</td>\n",
       "      <td>100</td>\n",
       "      <td>7</td>\n",
       "      <td>LS-s</td>\n",
       "      <td>LS-s.100</td>\n",
       "      <td>ANLSMN_withZ</td>\n",
       "      <td>1000</td>\n",
       "    </tr>\n",
       "    <tr>\n",
       "      <th>6</th>\n",
       "      <td>0.056588</td>\n",
       "      <td>0.012411</td>\n",
       "      <td>0.000311</td>\n",
       "      <td>-2.833694</td>\n",
       "      <td>-2.005229</td>\n",
       "      <td>0.014336</td>\n",
       "      <td>0.283446</td>\n",
       "      <td>0.603931</td>\n",
       "      <td>0.283446</td>\n",
       "      <td>0.081581</td>\n",
       "      <td>...</td>\n",
       "      <td>0.0</td>\n",
       "      <td>0.1</td>\n",
       "      <td>freeZ</td>\n",
       "      <td>500</td>\n",
       "      <td>100</td>\n",
       "      <td>7</td>\n",
       "      <td>LS-s</td>\n",
       "      <td>LS-s.100</td>\n",
       "      <td>ANLSMN_withZ</td>\n",
       "      <td>1000</td>\n",
       "    </tr>\n",
       "  </tbody>\n",
       "</table>\n",
       "<p>25200 rows × 36 columns</p>\n",
       "</div>"
      ],
      "text/plain": [
       "     errs_xy   hsic_xy  hsicc_xy    ent_xy   entx_xy  hsicx_xy  hsicz_xy  \\\n",
       "0   0.027083  0.024381  0.780127 -4.564907 -2.718646  0.030328  0.681622   \n",
       "1   0.024802  0.030332  0.484400 -4.624232 -2.762605  0.030340  0.681622   \n",
       "2   0.029882  0.031268  0.728674 -4.589707 -2.718121  0.031429  0.681622   \n",
       "3   0.033075  0.020490  0.605939 -4.330315 -2.593412  0.063710  0.681622   \n",
       "4   0.054311  0.045628  0.289183 -3.795319 -2.212888  0.196346  0.681622   \n",
       "..       ...       ...       ...       ...       ...       ...       ...   \n",
       "2   0.084565  0.014885  0.000172 -2.458002 -1.629917  0.013601  0.283446   \n",
       "3   0.074890  0.009999  0.004105 -2.618244 -1.765126  0.009182  0.283446   \n",
       "4   0.090577  0.014708  0.003175 -2.457047 -1.568637  0.015383  0.283446   \n",
       "5   0.058012  0.008962  0.003926 -2.865269 -1.949303  0.011444  0.283446   \n",
       "6   0.056588  0.012411  0.000311 -2.833694 -2.005229  0.014336  0.283446   \n",
       "\n",
       "    hsiczz_xy    mmd_xy   errs_yx  ...   lu   lr     ot  epchs   bs  reps  \\\n",
       "0    0.063623  0.681622  0.038944  ...  0.0  0.1  freeZ    500  100     7   \n",
       "1    0.061254  0.681622  0.036211  ...  0.0  0.1  freeZ    500  100     7   \n",
       "2    0.055748  0.681622  0.036343  ...  0.0  0.1  freeZ    500  100     7   \n",
       "3    0.051780  0.681622  0.028272  ...  0.0  0.1  freeZ    500  100     7   \n",
       "4    0.042396  0.681622  0.039553  ...  0.0  0.1  freeZ    500  100     7   \n",
       "..        ...       ...       ...  ...  ...  ...    ...    ...  ...   ...   \n",
       "2    0.323871  0.283446  0.036147  ...  0.0  0.1  freeZ    500  100     7   \n",
       "3    0.447061  0.283446  0.060507  ...  0.0  0.1  freeZ    500  100     7   \n",
       "4    0.375642  0.283446  0.095322  ...  0.0  0.1  freeZ    500  100     7   \n",
       "5    0.552042  0.283446  0.060050  ...  0.0  0.1  freeZ    500  100     7   \n",
       "6    0.603931  0.283446  0.081581  ...  0.0  0.1  freeZ    500  100     7   \n",
       "\n",
       "    type   dataset           set   num  \n",
       "0   LS-s    LS-s.1  ANLSMN_withZ  1000  \n",
       "1   LS-s    LS-s.1  ANLSMN_withZ  1000  \n",
       "2   LS-s    LS-s.1  ANLSMN_withZ  1000  \n",
       "3   LS-s    LS-s.1  ANLSMN_withZ  1000  \n",
       "4   LS-s    LS-s.1  ANLSMN_withZ  1000  \n",
       "..   ...       ...           ...   ...  \n",
       "2   LS-s  LS-s.100  ANLSMN_withZ  1000  \n",
       "3   LS-s  LS-s.100  ANLSMN_withZ  1000  \n",
       "4   LS-s  LS-s.100  ANLSMN_withZ  1000  \n",
       "5   LS-s  LS-s.100  ANLSMN_withZ  1000  \n",
       "6   LS-s  LS-s.100  ANLSMN_withZ  1000  \n",
       "\n",
       "[25200 rows x 36 columns]"
      ]
     },
     "execution_count": 36,
     "metadata": {},
     "output_type": "execute_result"
    }
   ],
   "source": [
    "df"
   ]
  },
  {
   "cell_type": "code",
   "execution_count": 37,
   "metadata": {},
   "outputs": [],
   "source": [
    "varss = ['errs',\"hsic\",'hsicc','ent','hsicz','hsiczz','mmd'] #'slopes','slopeskrr',\n",
    "varss = ['errs','hsicx',\"hsic\",'hsicc','ent','entx','hsicz','hsiczz','mmd']\n",
    "varss = ['errs','hsicx',\"hsic\",'hsicc','ent','ent2','entx','hsicz','hsiczz','mmd'] #'slopes','slopeskrr',\n",
    "varss = ['errs','hsicx',\"hsic\",'hsicc','ent','entx','hsicz','hsiczz','mmd'] "
   ]
  },
  {
   "cell_type": "code",
   "execution_count": 38,
   "metadata": {},
   "outputs": [],
   "source": [
    "m = 100"
   ]
  },
  {
   "cell_type": "code",
   "execution_count": 39,
   "metadata": {},
   "outputs": [],
   "source": [
    "df_rand = df.groupby(['type',\"dataset\"]).apply(pairup,varss=varss, funct=smplRand, getParsFunct=getParsRand, pars=(m,))"
   ]
  },
  {
   "cell_type": "code",
   "execution_count": 40,
   "metadata": {
    "scrolled": true
   },
   "outputs": [
    {
     "data": {
      "text/html": [
       "<div>\n",
       "<style scoped>\n",
       "    .dataframe tbody tr th:only-of-type {\n",
       "        vertical-align: middle;\n",
       "    }\n",
       "\n",
       "    .dataframe tbody tr th {\n",
       "        vertical-align: top;\n",
       "    }\n",
       "\n",
       "    .dataframe thead th {\n",
       "        text-align: right;\n",
       "    }\n",
       "</style>\n",
       "<table border=\"1\" class=\"dataframe\">\n",
       "  <thead>\n",
       "    <tr style=\"text-align: right;\">\n",
       "      <th></th>\n",
       "      <th>type</th>\n",
       "      <th>dataset</th>\n",
       "      <th>level_2</th>\n",
       "      <th>errs_xy</th>\n",
       "      <th>hsicx_xy</th>\n",
       "      <th>hsic_xy</th>\n",
       "      <th>hsicc_xy</th>\n",
       "      <th>ent_xy</th>\n",
       "      <th>entx_xy</th>\n",
       "      <th>hsicz_xy</th>\n",
       "      <th>...</th>\n",
       "      <th>mmd_xy</th>\n",
       "      <th>errs_yx</th>\n",
       "      <th>hsicx_yx</th>\n",
       "      <th>hsic_yx</th>\n",
       "      <th>hsicc_yx</th>\n",
       "      <th>ent_yx</th>\n",
       "      <th>entx_yx</th>\n",
       "      <th>hsicz_yx</th>\n",
       "      <th>hsiczz_yx</th>\n",
       "      <th>mmd_yx</th>\n",
       "    </tr>\n",
       "  </thead>\n",
       "  <tbody>\n",
       "    <tr>\n",
       "      <th>0</th>\n",
       "      <td>LS-s</td>\n",
       "      <td>LS-s.1</td>\n",
       "      <td>0</td>\n",
       "      <td>0.027083</td>\n",
       "      <td>0.030328</td>\n",
       "      <td>0.024381</td>\n",
       "      <td>0.780127</td>\n",
       "      <td>-4.564907</td>\n",
       "      <td>-2.718646</td>\n",
       "      <td>0.681622</td>\n",
       "      <td>...</td>\n",
       "      <td>0.681622</td>\n",
       "      <td>0.038944</td>\n",
       "      <td>0.005777</td>\n",
       "      <td>0.009578</td>\n",
       "      <td>0.668687</td>\n",
       "      <td>-4.135749</td>\n",
       "      <td>-2.470584</td>\n",
       "      <td>0.612241</td>\n",
       "      <td>0.006965</td>\n",
       "      <td>0.612241</td>\n",
       "    </tr>\n",
       "    <tr>\n",
       "      <th>1</th>\n",
       "      <td>LS-s</td>\n",
       "      <td>LS-s.1</td>\n",
       "      <td>1</td>\n",
       "      <td>0.024802</td>\n",
       "      <td>0.030340</td>\n",
       "      <td>0.030332</td>\n",
       "      <td>0.484400</td>\n",
       "      <td>-4.624232</td>\n",
       "      <td>-2.762605</td>\n",
       "      <td>0.681622</td>\n",
       "      <td>...</td>\n",
       "      <td>0.681622</td>\n",
       "      <td>0.036211</td>\n",
       "      <td>0.001403</td>\n",
       "      <td>0.002559</td>\n",
       "      <td>0.674663</td>\n",
       "      <td>-4.219990</td>\n",
       "      <td>-2.491660</td>\n",
       "      <td>0.612241</td>\n",
       "      <td>0.008296</td>\n",
       "      <td>0.612241</td>\n",
       "    </tr>\n",
       "    <tr>\n",
       "      <th>2</th>\n",
       "      <td>LS-s</td>\n",
       "      <td>LS-s.1</td>\n",
       "      <td>2</td>\n",
       "      <td>0.029882</td>\n",
       "      <td>0.031429</td>\n",
       "      <td>0.031268</td>\n",
       "      <td>0.728674</td>\n",
       "      <td>-4.589707</td>\n",
       "      <td>-2.718121</td>\n",
       "      <td>0.681622</td>\n",
       "      <td>...</td>\n",
       "      <td>0.681622</td>\n",
       "      <td>0.036343</td>\n",
       "      <td>0.019637</td>\n",
       "      <td>0.022145</td>\n",
       "      <td>0.606337</td>\n",
       "      <td>-4.054488</td>\n",
       "      <td>-2.465894</td>\n",
       "      <td>0.612241</td>\n",
       "      <td>0.003347</td>\n",
       "      <td>0.612241</td>\n",
       "    </tr>\n",
       "    <tr>\n",
       "      <th>3</th>\n",
       "      <td>LS-s</td>\n",
       "      <td>LS-s.1</td>\n",
       "      <td>3</td>\n",
       "      <td>0.033075</td>\n",
       "      <td>0.063710</td>\n",
       "      <td>0.020490</td>\n",
       "      <td>0.605939</td>\n",
       "      <td>-4.330315</td>\n",
       "      <td>-2.593412</td>\n",
       "      <td>0.681622</td>\n",
       "      <td>...</td>\n",
       "      <td>0.681622</td>\n",
       "      <td>0.028272</td>\n",
       "      <td>0.010354</td>\n",
       "      <td>0.010393</td>\n",
       "      <td>0.414035</td>\n",
       "      <td>-4.365828</td>\n",
       "      <td>-2.706191</td>\n",
       "      <td>0.612241</td>\n",
       "      <td>0.007228</td>\n",
       "      <td>0.612241</td>\n",
       "    </tr>\n",
       "    <tr>\n",
       "      <th>4</th>\n",
       "      <td>LS-s</td>\n",
       "      <td>LS-s.1</td>\n",
       "      <td>4</td>\n",
       "      <td>0.054311</td>\n",
       "      <td>0.196346</td>\n",
       "      <td>0.045628</td>\n",
       "      <td>0.289183</td>\n",
       "      <td>-3.795319</td>\n",
       "      <td>-2.212888</td>\n",
       "      <td>0.681622</td>\n",
       "      <td>...</td>\n",
       "      <td>0.681622</td>\n",
       "      <td>0.039553</td>\n",
       "      <td>0.001305</td>\n",
       "      <td>0.001460</td>\n",
       "      <td>0.617980</td>\n",
       "      <td>-4.029513</td>\n",
       "      <td>-2.396863</td>\n",
       "      <td>0.612241</td>\n",
       "      <td>0.006399</td>\n",
       "      <td>0.612241</td>\n",
       "    </tr>\n",
       "  </tbody>\n",
       "</table>\n",
       "<p>5 rows × 21 columns</p>\n",
       "</div>"
      ],
      "text/plain": [
       "   type dataset  level_2   errs_xy  hsicx_xy   hsic_xy  hsicc_xy    ent_xy  \\\n",
       "0  LS-s  LS-s.1        0  0.027083  0.030328  0.024381  0.780127 -4.564907   \n",
       "1  LS-s  LS-s.1        1  0.024802  0.030340  0.030332  0.484400 -4.624232   \n",
       "2  LS-s  LS-s.1        2  0.029882  0.031429  0.031268  0.728674 -4.589707   \n",
       "3  LS-s  LS-s.1        3  0.033075  0.063710  0.020490  0.605939 -4.330315   \n",
       "4  LS-s  LS-s.1        4  0.054311  0.196346  0.045628  0.289183 -3.795319   \n",
       "\n",
       "    entx_xy  hsicz_xy  ...    mmd_xy   errs_yx  hsicx_yx   hsic_yx  hsicc_yx  \\\n",
       "0 -2.718646  0.681622  ...  0.681622  0.038944  0.005777  0.009578  0.668687   \n",
       "1 -2.762605  0.681622  ...  0.681622  0.036211  0.001403  0.002559  0.674663   \n",
       "2 -2.718121  0.681622  ...  0.681622  0.036343  0.019637  0.022145  0.606337   \n",
       "3 -2.593412  0.681622  ...  0.681622  0.028272  0.010354  0.010393  0.414035   \n",
       "4 -2.212888  0.681622  ...  0.681622  0.039553  0.001305  0.001460  0.617980   \n",
       "\n",
       "     ent_yx   entx_yx  hsicz_yx  hsiczz_yx    mmd_yx  \n",
       "0 -4.135749 -2.470584  0.612241   0.006965  0.612241  \n",
       "1 -4.219990 -2.491660  0.612241   0.008296  0.612241  \n",
       "2 -4.054488 -2.465894  0.612241   0.003347  0.612241  \n",
       "3 -4.365828 -2.706191  0.612241   0.007228  0.612241  \n",
       "4 -4.029513 -2.396863  0.612241   0.006399  0.612241  \n",
       "\n",
       "[5 rows x 21 columns]"
      ]
     },
     "execution_count": 40,
     "metadata": {},
     "output_type": "execute_result"
    }
   ],
   "source": [
    "df_rand = df_rand.reset_index()\n",
    "df_rand.head()"
   ]
  },
  {
   "cell_type": "code",
   "execution_count": 41,
   "metadata": {},
   "outputs": [],
   "source": [
    "df_rand = df_rand.rename(columns={\"level_2\": \"smpl\"})"
   ]
  },
  {
   "cell_type": "code",
   "execution_count": 42,
   "metadata": {},
   "outputs": [],
   "source": [
    "df_rand_long_full = getLongFormat2(df_rand, [\"type\",\"dataset\",\"smpl\"])"
   ]
  },
  {
   "cell_type": "code",
   "execution_count": 43,
   "metadata": {},
   "outputs": [
    {
     "name": "stdout",
     "output_type": "stream",
     "text": [
      "(35200, 21)\n"
     ]
    }
   ],
   "source": [
    "print(df_rand.shape)"
   ]
  },
  {
   "cell_type": "markdown",
   "metadata": {},
   "source": [
    "## pair-up: Intersection"
   ]
  },
  {
   "cell_type": "code",
   "execution_count": 44,
   "metadata": {},
   "outputs": [],
   "source": [
    "# intersection"
   ]
  },
  {
   "cell_type": "code",
   "execution_count": 45,
   "metadata": {},
   "outputs": [],
   "source": [
    "ds = \"2\"\n",
    "st = \"LS-s\""
   ]
  },
  {
   "cell_type": "code",
   "execution_count": 46,
   "metadata": {},
   "outputs": [
    {
     "name": "stdout",
     "output_type": "stream",
     "text": [
      "(252,)\n",
      "(252,)\n"
     ]
    }
   ],
   "source": [
    "hsic_xy =  onp.array(df.loc[(df[\"dataset\"]==st+\".\"+ds), \"hsicx_xy\"])\n",
    "hsic_yx =  onp.array(df.loc[(df[\"dataset\"]==st+\".\"+ds),\"hsicx_yx\"])\n",
    "hsic = onp.hstack([hsic_xy, hsic_yx])\n",
    "hsicc_xy =  onp.array(df.loc[(df[\"dataset\"]==st+\".\"+ds),\"hsicc_xy\"])\n",
    "hsicc_yx =  onp.array(df.loc[(df[\"dataset\"]==st+\".\"+ds), \"hsicc_yx\"])\n",
    "hsicc = onp.hstack([hsicc_xy, hsicc_yx])\n",
    "\n",
    "#hsic_yx= hsic_yx[0:(hsic_yx.shape[0]-1)]\n",
    "#hsicc_yx= hsicc_yx[0:(hsicc_yx.shape[0]-1)]\n",
    "print(hsic_xy.shape)\n",
    "print(hsic_yx.shape)"
   ]
  },
  {
   "cell_type": "code",
   "execution_count": 47,
   "metadata": {},
   "outputs": [
    {
     "data": {
      "text/plain": [
       "<matplotlib.collections.PathCollection at 0x7f4a5076a3d0>"
      ]
     },
     "execution_count": 47,
     "metadata": {},
     "output_type": "execute_result"
    },
    {
     "data": {
      "image/png": "[encoded data removed]",
      "text/plain": [
       "<Figure size 432x288 with 1 Axes>"
      ]
     },
     "metadata": {
      "needs_background": "light"
     },
     "output_type": "display_data"
    }
   ],
   "source": [
    "plt.scatter(onp.log10(hsic_xy), onp.log10(hsicc_xy))\n",
    "plt.scatter(onp.log10(hsic_yx), onp.log10(hsicc_yx))"
   ]
  },
  {
   "cell_type": "code",
   "execution_count": 48,
   "metadata": {},
   "outputs": [],
   "source": [
    "varss = ['errs','hsic','hsicc','ent','hsicz','hsiczz','mmd'] #'slopes','slopeskrr',\n",
    "varss = ['errs','hsicx','hsic','hsicc','ent','entx','hsicz','hsiczz','mmd']\n",
    "varss = ['errs','hsicx','hsic','hsicc','ent','ent2','entx','hsicz','hsiczz','mmd'] #'slopes','slopeskrr',\n",
    "varss = ['errs','hsicx','hsic','hsicc','ent','entx','hsicz','hsiczz','mmd'] "
   ]
  },
  {
   "cell_type": "code",
   "execution_count": 49,
   "metadata": {},
   "outputs": [],
   "source": [
    "sig = 100.0\n",
    "m = 10000"
   ]
  },
  {
   "cell_type": "code",
   "execution_count": 50,
   "metadata": {},
   "outputs": [
    {
     "data": {
      "text/html": [
       "<div>\n",
       "<style scoped>\n",
       "    .dataframe tbody tr th:only-of-type {\n",
       "        vertical-align: middle;\n",
       "    }\n",
       "\n",
       "    .dataframe tbody tr th {\n",
       "        vertical-align: top;\n",
       "    }\n",
       "\n",
       "    .dataframe thead th {\n",
       "        text-align: right;\n",
       "    }\n",
       "</style>\n",
       "<table border=\"1\" class=\"dataframe\">\n",
       "  <thead>\n",
       "    <tr style=\"text-align: right;\">\n",
       "      <th></th>\n",
       "      <th>errs_xy</th>\n",
       "      <th>hsic_xy</th>\n",
       "      <th>hsicc_xy</th>\n",
       "      <th>ent_xy</th>\n",
       "      <th>entx_xy</th>\n",
       "      <th>hsicx_xy</th>\n",
       "      <th>hsicz_xy</th>\n",
       "      <th>hsiczz_xy</th>\n",
       "      <th>mmd_xy</th>\n",
       "      <th>errs_yx</th>\n",
       "      <th>...</th>\n",
       "      <th>lu</th>\n",
       "      <th>lr</th>\n",
       "      <th>ot</th>\n",
       "      <th>epchs</th>\n",
       "      <th>bs</th>\n",
       "      <th>reps</th>\n",
       "      <th>type</th>\n",
       "      <th>dataset</th>\n",
       "      <th>set</th>\n",
       "      <th>num</th>\n",
       "    </tr>\n",
       "  </thead>\n",
       "  <tbody>\n",
       "    <tr>\n",
       "      <th>0</th>\n",
       "      <td>0.029607</td>\n",
       "      <td>0.014793</td>\n",
       "      <td>0.763004</td>\n",
       "      <td>-4.449333</td>\n",
       "      <td>-2.779527</td>\n",
       "      <td>0.019311</td>\n",
       "      <td>0.644735</td>\n",
       "      <td>0.081334</td>\n",
       "      <td>0.644735</td>\n",
       "      <td>0.034350</td>\n",
       "      <td>...</td>\n",
       "      <td>0.0</td>\n",
       "      <td>0.1</td>\n",
       "      <td>freeZ</td>\n",
       "      <td>500</td>\n",
       "      <td>100</td>\n",
       "      <td>7</td>\n",
       "      <td>LS-s</td>\n",
       "      <td>LS-s.2</td>\n",
       "      <td>ANLSMN_withZ</td>\n",
       "      <td>1000</td>\n",
       "    </tr>\n",
       "    <tr>\n",
       "      <th>1</th>\n",
       "      <td>0.027627</td>\n",
       "      <td>0.019408</td>\n",
       "      <td>0.461555</td>\n",
       "      <td>-4.570171</td>\n",
       "      <td>-2.812070</td>\n",
       "      <td>0.019404</td>\n",
       "      <td>0.644735</td>\n",
       "      <td>0.082746</td>\n",
       "      <td>0.644735</td>\n",
       "      <td>0.036480</td>\n",
       "      <td>...</td>\n",
       "      <td>0.0</td>\n",
       "      <td>0.1</td>\n",
       "      <td>freeZ</td>\n",
       "      <td>500</td>\n",
       "      <td>100</td>\n",
       "      <td>7</td>\n",
       "      <td>LS-s</td>\n",
       "      <td>LS-s.2</td>\n",
       "      <td>ANLSMN_withZ</td>\n",
       "      <td>1000</td>\n",
       "    </tr>\n",
       "    <tr>\n",
       "      <th>2</th>\n",
       "      <td>0.029590</td>\n",
       "      <td>0.020149</td>\n",
       "      <td>0.702200</td>\n",
       "      <td>-4.569937</td>\n",
       "      <td>-2.812555</td>\n",
       "      <td>0.020148</td>\n",
       "      <td>0.644735</td>\n",
       "      <td>0.081805</td>\n",
       "      <td>0.644735</td>\n",
       "      <td>0.033090</td>\n",
       "      <td>...</td>\n",
       "      <td>0.0</td>\n",
       "      <td>0.1</td>\n",
       "      <td>freeZ</td>\n",
       "      <td>500</td>\n",
       "      <td>100</td>\n",
       "      <td>7</td>\n",
       "      <td>LS-s</td>\n",
       "      <td>LS-s.2</td>\n",
       "      <td>ANLSMN_withZ</td>\n",
       "      <td>1000</td>\n",
       "    </tr>\n",
       "    <tr>\n",
       "      <th>3</th>\n",
       "      <td>0.037388</td>\n",
       "      <td>0.016091</td>\n",
       "      <td>0.572924</td>\n",
       "      <td>-4.078753</td>\n",
       "      <td>-2.529092</td>\n",
       "      <td>0.049200</td>\n",
       "      <td>0.644735</td>\n",
       "      <td>0.069191</td>\n",
       "      <td>0.644735</td>\n",
       "      <td>0.028872</td>\n",
       "      <td>...</td>\n",
       "      <td>0.0</td>\n",
       "      <td>0.1</td>\n",
       "      <td>freeZ</td>\n",
       "      <td>500</td>\n",
       "      <td>100</td>\n",
       "      <td>7</td>\n",
       "      <td>LS-s</td>\n",
       "      <td>LS-s.2</td>\n",
       "      <td>ANLSMN_withZ</td>\n",
       "      <td>1000</td>\n",
       "    </tr>\n",
       "    <tr>\n",
       "      <th>4</th>\n",
       "      <td>0.047716</td>\n",
       "      <td>0.035490</td>\n",
       "      <td>0.285165</td>\n",
       "      <td>-3.794912</td>\n",
       "      <td>-2.310963</td>\n",
       "      <td>0.163549</td>\n",
       "      <td>0.644735</td>\n",
       "      <td>0.053070</td>\n",
       "      <td>0.644735</td>\n",
       "      <td>0.038181</td>\n",
       "      <td>...</td>\n",
       "      <td>0.0</td>\n",
       "      <td>0.1</td>\n",
       "      <td>freeZ</td>\n",
       "      <td>500</td>\n",
       "      <td>100</td>\n",
       "      <td>7</td>\n",
       "      <td>LS-s</td>\n",
       "      <td>LS-s.2</td>\n",
       "      <td>ANLSMN_withZ</td>\n",
       "      <td>1000</td>\n",
       "    </tr>\n",
       "  </tbody>\n",
       "</table>\n",
       "<p>5 rows × 36 columns</p>\n",
       "</div>"
      ],
      "text/plain": [
       "    errs_xy   hsic_xy  hsicc_xy    ent_xy   entx_xy  hsicx_xy  hsicz_xy  \\\n",
       "0  0.029607  0.014793  0.763004 -4.449333 -2.779527  0.019311  0.644735   \n",
       "1  0.027627  0.019408  0.461555 -4.570171 -2.812070  0.019404  0.644735   \n",
       "2  0.029590  0.020149  0.702200 -4.569937 -2.812555  0.020148  0.644735   \n",
       "3  0.037388  0.016091  0.572924 -4.078753 -2.529092  0.049200  0.644735   \n",
       "4  0.047716  0.035490  0.285165 -3.794912 -2.310963  0.163549  0.644735   \n",
       "\n",
       "   hsiczz_xy    mmd_xy   errs_yx  ...   lu   lr     ot  epchs   bs  reps  \\\n",
       "0   0.081334  0.644735  0.034350  ...  0.0  0.1  freeZ    500  100     7   \n",
       "1   0.082746  0.644735  0.036480  ...  0.0  0.1  freeZ    500  100     7   \n",
       "2   0.081805  0.644735  0.033090  ...  0.0  0.1  freeZ    500  100     7   \n",
       "3   0.069191  0.644735  0.028872  ...  0.0  0.1  freeZ    500  100     7   \n",
       "4   0.053070  0.644735  0.038181  ...  0.0  0.1  freeZ    500  100     7   \n",
       "\n",
       "   type  dataset           set   num  \n",
       "0  LS-s   LS-s.2  ANLSMN_withZ  1000  \n",
       "1  LS-s   LS-s.2  ANLSMN_withZ  1000  \n",
       "2  LS-s   LS-s.2  ANLSMN_withZ  1000  \n",
       "3  LS-s   LS-s.2  ANLSMN_withZ  1000  \n",
       "4  LS-s   LS-s.2  ANLSMN_withZ  1000  \n",
       "\n",
       "[5 rows x 36 columns]"
      ]
     },
     "execution_count": 50,
     "metadata": {},
     "output_type": "execute_result"
    }
   ],
   "source": [
    "x = df.loc[(df[\"dataset\"]==st+\".\"+ds)]\n",
    "x.head()"
   ]
  },
  {
   "cell_type": "code",
   "execution_count": 51,
   "metadata": {},
   "outputs": [],
   "source": [
    "varsss = [\"hsic\", \"hsicc\",\"errs\"]\n",
    "varsss = [\"hsicx\", \"hsicc\",\"errs\"]"
   ]
  },
  {
   "cell_type": "code",
   "execution_count": 52,
   "metadata": {},
   "outputs": [],
   "source": [
    "X_xy, X_yx, sig, m = getParsIntersection(x, varsss, sig, m)"
   ]
  },
  {
   "cell_type": "code",
   "execution_count": 53,
   "metadata": {},
   "outputs": [
    {
     "data": {
      "text/plain": [
       "array([[-1.714, -0.117, -1.529],\n",
       "       [-1.712, -0.336, -1.559],\n",
       "       [-1.696, -0.154, -1.529],\n",
       "       [-1.308, -0.242, -1.427],\n",
       "       [-0.786, -0.545, -1.321],\n",
       "       [-0.813, -0.431, -1.298],\n",
       "       [-1.672, -0.122, -1.519],\n",
       "       [-1.56 , -0.136, -1.559],\n",
       "       [-1.747, -0.36 , -1.565],\n",
       "       [-1.672, -0.173, -1.532],\n",
       "       [-1.366, -0.276, -1.465],\n",
       "       [-0.912, -0.618, -1.311],\n",
       "       [-0.884, -0.556, -1.326],\n",
       "       [-1.718, -0.141, -1.534],\n",
       "       [-1.275, -2.554, -1.473],\n",
       "       [-1.587, -2.011, -1.588],\n",
       "       [-1.571, -2.45 , -1.564],\n",
       "       [-1.092, -2.669, -1.303],\n",
       "       [-0.976, -2.15 , -1.213],\n",
       "       [-0.75 , -2.379, -1.303],\n",
       "       [-1.237, -2.532, -1.473],\n",
       "       [-1.682, -0.146, -1.592],\n",
       "       [-1.844, -0.359, -1.617],\n",
       "       [-1.867, -0.177, -1.597],\n",
       "       [-1.28 , -0.253, -1.51 ],\n",
       "       [-0.964, -0.58 , -1.352],\n",
       "       [-0.873, -0.489, -1.318],\n",
       "       [-1.757, -0.143, -1.596],\n",
       "       [-1.701, -0.169, -1.59 ],\n",
       "       [-1.943, -0.387, -1.626],\n",
       "       [-1.753, -0.197, -1.6  ],\n",
       "       [-1.339, -0.281, -1.516],\n",
       "       [-0.944, -0.631, -1.38 ],\n",
       "       [-0.869, -0.636, -1.341],\n",
       "       [-1.85 , -0.167, -1.565],\n",
       "       [-1.272, -2.192, -1.521],\n",
       "       [-1.625, -2.27 , -1.623],\n",
       "       [-1.391, -2.803, -1.577],\n",
       "       [-1.21 , -2.518, -1.323],\n",
       "       [-0.888, -2.226, -1.242],\n",
       "       [-0.798, -2.396, -1.309],\n",
       "       [-1.166, -2.369, -1.478],\n",
       "       [-1.058, -0.368, -1.655],\n",
       "       [-1.186, -0.579, -1.839],\n",
       "       [-1.307, -0.388, -1.869],\n",
       "       [-1.502, -0.391, -1.643],\n",
       "       [-1.013, -0.687, -1.307],\n",
       "       [-0.601, -0.606, -1.24 ],\n",
       "       [-1.212, -0.366, -1.724],\n",
       "       [-1.038, -0.406, -1.672],\n",
       "       [-1.149, -0.646, -1.868],\n",
       "       [-1.25 , -0.439, -1.78 ],\n",
       "       [-1.291, -0.437, -1.548],\n",
       "       [-0.966, -0.8  , -1.343],\n",
       "       [-0.579, -0.754, -1.234],\n",
       "       [-1.194, -0.409, -1.684],\n",
       "       [-1.144, -2.62 , -1.593],\n",
       "       [-1.607, -3.093, -1.9  ],\n",
       "       [-1.197, -2.838, -1.782],\n",
       "       [-1.283, -2.879, -1.505],\n",
       "       [-1.134, -2.318, -1.306],\n",
       "       [-0.699, -1.711, -1.25 ],\n",
       "       [-1.233, -2.329, -1.594],\n",
       "       [-1.598, -0.118, -1.497],\n",
       "       [-1.814, -0.322, -1.594],\n",
       "       [-1.703, -0.161, -1.527],\n",
       "       [-1.328, -0.24 , -1.436],\n",
       "       [-1.057, -0.529, -1.395],\n",
       "       [-1.108, -0.37 , -1.366],\n",
       "       [-1.842, -0.116, -1.562],\n",
       "       [-1.476, -0.137, -1.524],\n",
       "       [-1.836, -0.34 , -1.583],\n",
       "       [-1.591, -0.179, -1.527],\n",
       "       [-1.273, -0.265, -1.476],\n",
       "       [-1.021, -0.594, -1.364],\n",
       "       [-1.034, -0.483, -1.373],\n",
       "       [-1.846, -0.144, -1.58 ],\n",
       "       [-1.276, -2.109, -1.477],\n",
       "       [-1.805, -1.779, -1.615],\n",
       "       [-1.428, -2.686, -1.535],\n",
       "       [-1.18 , -2.587, -1.299],\n",
       "       [-1.011, -2.25 , -1.213],\n",
       "       [-0.791, -2.358, -1.34 ],\n",
       "       [-1.393, -2.461, -1.519],\n",
       "       [-1.88 , -0.141, -1.605],\n",
       "       [-1.869, -0.348, -1.644],\n",
       "       [-1.662, -0.182, -1.595],\n",
       "       [-1.369, -0.253, -1.524],\n",
       "       [-1.07 , -0.547, -1.44 ],\n",
       "       [-1.273, -0.415, -1.469],\n",
       "       [-1.99 , -0.139, -1.63 ],\n",
       "       [-1.739, -0.161, -1.614],\n",
       "       [-1.954, -0.367, -1.641],\n",
       "       [-1.821, -0.2  , -1.605],\n",
       "       [-1.504, -0.283, -1.526],\n",
       "       [-1.127, -0.607, -1.48 ],\n",
       "       [-1.222, -0.562, -1.497],\n",
       "       [-1.959, -0.163, -1.624],\n",
       "       [-1.236, -1.935, -1.499],\n",
       "       [-1.762, -2.174, -1.642],\n",
       "       [-1.311, -2.828, -1.546],\n",
       "       [-1.234, -2.687, -1.323],\n",
       "       [-1.014, -2.075, -1.28 ],\n",
       "       [-0.843, -2.324, -1.348],\n",
       "       [-1.522, -2.622, -1.608],\n",
       "       [-1.191, -0.312, -1.648],\n",
       "       [-1.025, -0.696, -1.878],\n",
       "       [-1.15 , -0.371, -1.88 ],\n",
       "       [-1.357, -0.359, -1.67 ],\n",
       "       [-1.124, -0.647, -1.521],\n",
       "       [-0.653, -0.596, -1.315],\n",
       "       [-1.333, -0.358, -1.908],\n",
       "       [-1.126, -0.356, -1.633],\n",
       "       [-0.95 , -0.776, -1.86 ],\n",
       "       [-1.197, -0.421, -1.852],\n",
       "       [-1.407, -0.393, -1.722],\n",
       "       [-1.404, -0.707, -1.533],\n",
       "       [-0.622, -0.74 , -1.285],\n",
       "       [-1.176, -0.413, -1.916],\n",
       "       [-1.001, -2.682, -1.567],\n",
       "       [-1.746, -2.996, -1.823],\n",
       "       [-1.189, -2.948, -1.735],\n",
       "       [-1.556, -2.68 , -1.501],\n",
       "       [-1.262, -2.168, -1.31 ],\n",
       "       [-0.715, -1.84 , -1.283],\n",
       "       [-1.359, -2.672, -1.822],\n",
       "       [-1.527, -0.127, -1.524],\n",
       "       [-1.065, -0.284, -1.494],\n",
       "       [-1.64 , -0.153, -1.512],\n",
       "       [-1.471, -0.218, -1.457],\n",
       "       [-1.164, -0.503, -1.407],\n",
       "       [-1.237, -0.315, -1.473],\n",
       "       [-1.498, -0.119, -1.546],\n",
       "       [-1.498, -0.148, -1.539],\n",
       "       [-1.072, -0.296, -1.516],\n",
       "       [-1.747, -0.169, -1.518],\n",
       "       [-1.305, -0.252, -1.453],\n",
       "       [-1.106, -0.544, -1.399],\n",
       "       [-1.179, -0.414, -1.464],\n",
       "       [-1.562, -0.143, -1.564],\n",
       "       [-1.141, -2.471, -1.485],\n",
       "       [-0.96 , -1.447, -1.573],\n",
       "       [-1.463, -2.024, -1.541],\n",
       "       [-1.238, -2.34 , -1.221],\n",
       "       [-1.302, -2.021, -1.227],\n",
       "       [-0.963, -2.374, -1.397],\n",
       "       [-1.223, -2.747, -1.522],\n",
       "       [-1.485, -0.147, -1.57 ],\n",
       "       [-1.114, -0.292, -1.529],\n",
       "       [-1.913, -0.176, -1.584],\n",
       "       [-1.369, -0.228, -1.485],\n",
       "       [-1.211, -0.51 , -1.474],\n",
       "       [-1.369, -0.339, -1.544],\n",
       "       [-1.528, -0.138, -1.601],\n",
       "       [-1.627, -0.176, -1.61 ],\n",
       "       [-1.13 , -0.307, -1.549],\n",
       "       [-1.953, -0.194, -1.586],\n",
       "       [-1.45 , -0.258, -1.513],\n",
       "       [-1.265, -0.544, -1.493],\n",
       "       [-1.427, -0.46 , -1.581],\n",
       "       [-1.652, -0.168, -1.622],\n",
       "       [-1.139, -2.687, -1.531],\n",
       "       [-1.035, -1.627, -1.593],\n",
       "       [-1.357, -2.607, -1.548],\n",
       "       [-1.349, -2.631, -1.255],\n",
       "       [-1.304, -2.064, -1.222],\n",
       "       [-0.998, -2.243, -1.459],\n",
       "       [-1.219, -2.76 , -1.538],\n",
       "       [-1.277, -0.276, -1.985],\n",
       "       [-1.42 , -0.468, -1.653],\n",
       "       [-1.248, -0.398, -1.895],\n",
       "       [-1.618, -0.25 , -1.814],\n",
       "       [-1.439, -0.487, -1.719],\n",
       "       [-1.352, -0.559, -1.787],\n",
       "       [-1.252, -0.269, -1.922],\n",
       "       [-1.227, -0.312, -1.947],\n",
       "       [-1.301, -0.525, -1.655],\n",
       "       [-1.106, -0.448, -1.884],\n",
       "       [-1.738, -0.269, -1.788],\n",
       "       [-1.556, -0.514, -1.69 ],\n",
       "       [-1.186, -0.641, -1.723],\n",
       "       [-1.283, -0.313, -1.983],\n",
       "       [-1.311, -2.413, -1.828],\n",
       "       [-1.212, -2.962, -1.579],\n",
       "       [-1.053, -2.665, -1.69 ],\n",
       "       [-1.929, -2.017, -1.591],\n",
       "       [-1.831, -1.317, -1.601],\n",
       "       [-1.423, -2.375, -1.696],\n",
       "       [-1.253, -2.451, -1.833],\n",
       "       [-1.115, -0.095, -1.399],\n",
       "       [-0.759, -0.285, -1.172],\n",
       "       [-1.048, -0.094, -1.45 ],\n",
       "       [-1.13 , -0.181, -1.394],\n",
       "       [-0.953, -0.48 , -1.378],\n",
       "       [-0.958, -0.219, -1.412],\n",
       "       [-1.202, -0.095, -1.412],\n",
       "       [-1.139, -0.109, -1.407],\n",
       "       [-0.757, -0.297, -1.179],\n",
       "       [-1.043, -0.102, -1.466],\n",
       "       [-1.095, -0.194, -1.402],\n",
       "       [-0.859, -0.515, -1.382],\n",
       "       [-0.908, -0.292, -1.422],\n",
       "       [-1.209, -0.109, -1.417],\n",
       "       [-1.194, -1.921, -1.382],\n",
       "       [-0.751, -1.412, -1.33 ],\n",
       "       [-1.039, -0.63 , -1.54 ],\n",
       "       [-1.507, -1.304, -1.237],\n",
       "       [-1.04 , -2.051, -1.121],\n",
       "       [-0.796, -2.256, -1.319],\n",
       "       [-1.287, -1.933, -1.387],\n",
       "       [-1.192, -0.097, -1.472],\n",
       "       [-0.76 , -0.286, -1.173],\n",
       "       [-1.086, -0.101, -1.48 ],\n",
       "       [-1.182, -0.177, -1.461],\n",
       "       [-1.   , -0.47 , -1.442],\n",
       "       [-1.059, -0.213, -1.466],\n",
       "       [-1.286, -0.096, -1.486],\n",
       "       [-1.203, -0.109, -1.478],\n",
       "       [-0.758, -0.298, -1.181],\n",
       "       [-1.064, -0.111, -1.495],\n",
       "       [-1.091, -0.188, -1.468],\n",
       "       [-0.973, -0.495, -1.442],\n",
       "       [-0.976, -0.282, -1.471],\n",
       "       [-1.311, -0.111, -1.496],\n",
       "       [-1.235, -1.899, -1.431],\n",
       "       [-0.758, -1.437, -1.333],\n",
       "       [-1.099, -0.742, -1.56 ],\n",
       "       [-1.391, -1.081, -1.288],\n",
       "       [-1.069, -1.807, -1.134],\n",
       "       [-0.842, -2.201, -1.316],\n",
       "       [-1.362, -1.908, -1.445],\n",
       "       [-1.45 , -0.133, -1.774],\n",
       "       [-0.77 , -0.294, -1.185],\n",
       "       [-1.261, -0.227, -1.663],\n",
       "       [-1.419, -0.167, -1.686],\n",
       "       [-1.766, -0.434, -1.629],\n",
       "       [-1.974, -0.171, -1.595],\n",
       "       [-1.654, -0.139, -1.775],\n",
       "       [-1.552, -0.152, -1.77 ],\n",
       "       [-0.765, -0.31 , -1.194],\n",
       "       [-1.213, -0.258, -1.664],\n",
       "       [-1.542, -0.17 , -1.686],\n",
       "       [-1.712, -0.444, -1.629],\n",
       "       [-2.014, -0.195, -1.597],\n",
       "       [-1.561, -0.157, -1.778],\n",
       "       [-1.255, -1.843, -1.653],\n",
       "       [-0.804, -1.674, -1.352],\n",
       "       [-1.168, -2.655, -1.541],\n",
       "       [-1.384, -0.259, -1.716],\n",
       "       [-1.184, -0.54 , -1.645],\n",
       "       [-1.041, -1.891, -1.464],\n",
       "       [-1.403, -1.981, -1.69 ]])"
      ]
     },
     "execution_count": 53,
     "metadata": {},
     "output_type": "execute_result"
    }
   ],
   "source": [
    "X_xy"
   ]
  },
  {
   "cell_type": "code",
   "execution_count": 54,
   "metadata": {},
   "outputs": [],
   "source": [
    "indxSmpl_row, indxSmpl_col = smplFromIntersection(X_xy, X_yx, sig, m)"
   ]
  },
  {
   "cell_type": "code",
   "execution_count": 55,
   "metadata": {},
   "outputs": [],
   "source": [
    "hsic_xy3 = hsic_xy[indxSmpl_row]\n",
    "hsicc_xy3 = hsicc_xy[indxSmpl_row]\n",
    "hsic_yx3 = hsic_yx[indxSmpl_col]\n",
    "hsicc_yx3 = hsicc_yx[indxSmpl_col]"
   ]
  },
  {
   "cell_type": "code",
   "execution_count": 56,
   "metadata": {},
   "outputs": [
    {
     "name": "stdout",
     "output_type": "stream",
     "text": [
      "(20000, 3)\n"
     ]
    },
    {
     "data": {
      "text/html": [
       "<div>\n",
       "<style scoped>\n",
       "    .dataframe tbody tr th:only-of-type {\n",
       "        vertical-align: middle;\n",
       "    }\n",
       "\n",
       "    .dataframe tbody tr th {\n",
       "        vertical-align: top;\n",
       "    }\n",
       "\n",
       "    .dataframe thead th {\n",
       "        text-align: right;\n",
       "    }\n",
       "</style>\n",
       "<table border=\"1\" class=\"dataframe\">\n",
       "  <thead>\n",
       "    <tr style=\"text-align: right;\">\n",
       "      <th></th>\n",
       "      <th>hsicx</th>\n",
       "      <th>hsicc</th>\n",
       "      <th>dir</th>\n",
       "    </tr>\n",
       "  </thead>\n",
       "  <tbody>\n",
       "    <tr>\n",
       "      <th>0</th>\n",
       "      <td>-1.338637</td>\n",
       "      <td>-0.280607</td>\n",
       "      <td>xy</td>\n",
       "    </tr>\n",
       "    <tr>\n",
       "      <th>1</th>\n",
       "      <td>-1.752588</td>\n",
       "      <td>-0.196667</td>\n",
       "      <td>xy</td>\n",
       "    </tr>\n",
       "    <tr>\n",
       "      <th>2</th>\n",
       "      <td>-1.237258</td>\n",
       "      <td>-2.532105</td>\n",
       "      <td>xy</td>\n",
       "    </tr>\n",
       "    <tr>\n",
       "      <th>3</th>\n",
       "      <td>-1.273448</td>\n",
       "      <td>-0.265383</td>\n",
       "      <td>xy</td>\n",
       "    </tr>\n",
       "    <tr>\n",
       "      <th>4</th>\n",
       "      <td>-1.868643</td>\n",
       "      <td>-0.347647</td>\n",
       "      <td>xy</td>\n",
       "    </tr>\n",
       "    <tr>\n",
       "      <th>...</th>\n",
       "      <td>...</td>\n",
       "      <td>...</td>\n",
       "      <td>...</td>\n",
       "    </tr>\n",
       "    <tr>\n",
       "      <th>9995</th>\n",
       "      <td>-2.042602</td>\n",
       "      <td>-0.391859</td>\n",
       "      <td>yx</td>\n",
       "    </tr>\n",
       "    <tr>\n",
       "      <th>9996</th>\n",
       "      <td>-1.245258</td>\n",
       "      <td>-0.372283</td>\n",
       "      <td>yx</td>\n",
       "    </tr>\n",
       "    <tr>\n",
       "      <th>9997</th>\n",
       "      <td>-1.694893</td>\n",
       "      <td>-0.126388</td>\n",
       "      <td>yx</td>\n",
       "    </tr>\n",
       "    <tr>\n",
       "      <th>9998</th>\n",
       "      <td>-1.838637</td>\n",
       "      <td>-0.341286</td>\n",
       "      <td>yx</td>\n",
       "    </tr>\n",
       "    <tr>\n",
       "      <th>9999</th>\n",
       "      <td>-1.641699</td>\n",
       "      <td>-0.321579</td>\n",
       "      <td>yx</td>\n",
       "    </tr>\n",
       "  </tbody>\n",
       "</table>\n",
       "<p>20000 rows × 3 columns</p>\n",
       "</div>"
      ],
      "text/plain": [
       "         hsicx     hsicc dir\n",
       "0    -1.338637 -0.280607  xy\n",
       "1    -1.752588 -0.196667  xy\n",
       "2    -1.237258 -2.532105  xy\n",
       "3    -1.273448 -0.265383  xy\n",
       "4    -1.868643 -0.347647  xy\n",
       "...        ...       ...  ..\n",
       "9995 -2.042602 -0.391859  yx\n",
       "9996 -1.245258 -0.372283  yx\n",
       "9997 -1.694893 -0.126388  yx\n",
       "9998 -1.838637 -0.341286  yx\n",
       "9999 -1.641699 -0.321579  yx\n",
       "\n",
       "[20000 rows x 3 columns]"
      ]
     },
     "execution_count": 56,
     "metadata": {},
     "output_type": "execute_result"
    }
   ],
   "source": [
    "df_xy = pd.DataFrame(onp.vstack([onp.log10(hsic_xy3), onp.log10(hsicc_xy3)]).T, columns=[\"hsicx\", \"hsicc\"])\n",
    "df_xy[\"dir\"] = \"xy\"\n",
    "df_yx = pd.DataFrame(onp.vstack([onp.log10(hsic_yx3), onp.log10(hsicc_yx3)]).T, columns=[\"hsicx\", \"hsicc\"])\n",
    "df_yx[\"dir\"] = \"yx\"\n",
    "\n",
    "df_plt = pd.concat([df_xy, df_yx])\n",
    "print(df_plt.shape)\n",
    "df_plt"
   ]
  },
  {
   "cell_type": "code",
   "execution_count": 57,
   "metadata": {},
   "outputs": [
    {
     "data": {
      "text/plain": [
       "<matplotlib.axes._subplots.AxesSubplot at 0x7f4a84e21590>"
      ]
     },
     "execution_count": 57,
     "metadata": {},
     "output_type": "execute_result"
    },
    {
     "data": {
      "image/png": "[encoded data removed]",
      "text/plain": [
       "<Figure size 432x288 with 1 Axes>"
      ]
     },
     "metadata": {
      "needs_background": "light"
     },
     "output_type": "display_data"
    }
   ],
   "source": [
    "sns.scatterplot(data=df_plt, x=\"hsicx\", y=\"hsicc\", hue=\"dir\")"
   ]
  },
  {
   "cell_type": "code",
   "execution_count": 58,
   "metadata": {},
   "outputs": [],
   "source": [
    "#sns.kdeplot(data=df_plt, x=\"hsicx\", y=\"hsicc\", hue=\"dir\")\n",
    "#sns.jointplot(data=df_plt, x=\"hsicx\", y=\"hsicc\",kind=\"hex\")"
   ]
  },
  {
   "cell_type": "code",
   "execution_count": 59,
   "metadata": {},
   "outputs": [],
   "source": [
    "#sns.jointplot(data=df_plt, x=\"hsicx\", y=\"hsicc\", hue=\"dir\",kind=\"kde\")"
   ]
  },
  {
   "cell_type": "code",
   "execution_count": 60,
   "metadata": {},
   "outputs": [],
   "source": [
    "m = 100\n",
    "sig = 10.0"
   ]
  },
  {
   "cell_type": "code",
   "execution_count": 61,
   "metadata": {},
   "outputs": [],
   "source": [
    "def mywhere(x):\n",
    "    res, = onp.where(x)\n",
    "    if res.shape[0] == 0:\n",
    "        res = -1\n",
    "    return res"
   ]
  },
  {
   "cell_type": "code",
   "execution_count": 62,
   "metadata": {
    "scrolled": true
   },
   "outputs": [
    {
     "ename": "TypeError",
     "evalue": "object of type 'int' has no len()",
     "output_type": "error",
     "traceback": [
      "\u001b[0;31m---------------------------------------------------------------------------\u001b[0m",
      "\u001b[0;31mTypeError\u001b[0m                                 Traceback (most recent call last)",
      "\u001b[0;32m/tmp/ipykernel_30632/401674876.py\u001b[0m in \u001b[0;36m<module>\u001b[0;34m\u001b[0m\n\u001b[1;32m      1\u001b[0m \u001b[0mindx\u001b[0m \u001b[0;34m=\u001b[0m \u001b[0mmywhere\u001b[0m\u001b[0;34m(\u001b[0m\u001b[0monp\u001b[0m\u001b[0;34m.\u001b[0m\u001b[0mapply_along_axis\u001b[0m\u001b[0;34m(\u001b[0m\u001b[0monp\u001b[0m\u001b[0;34m.\u001b[0m\u001b[0many\u001b[0m\u001b[0;34m,\u001b[0m \u001b[0;36m1\u001b[0m\u001b[0;34m,\u001b[0m \u001b[0monp\u001b[0m\u001b[0;34m.\u001b[0m\u001b[0misnan\u001b[0m\u001b[0;34m(\u001b[0m\u001b[0monp\u001b[0m\u001b[0;34m.\u001b[0m\u001b[0mlog10\u001b[0m\u001b[0;34m(\u001b[0m\u001b[0mdf\u001b[0m\u001b[0;34m[\u001b[0m\u001b[0;34m[\u001b[0m\u001b[0;34m\"errs_xy\"\u001b[0m\u001b[0;34m,\u001b[0m\u001b[0;34m\"errs_yx\"\u001b[0m\u001b[0;34m,\u001b[0m \u001b[0;34m\"hsicx_xy\"\u001b[0m\u001b[0;34m,\u001b[0m\u001b[0;34m\"hsicx_yx\"\u001b[0m\u001b[0;34m,\u001b[0m\u001b[0;34m\"hsicc_xy\"\u001b[0m\u001b[0;34m,\u001b[0m\u001b[0;34m\"hsicc_yx\"\u001b[0m\u001b[0;34m]\u001b[0m\u001b[0;34m]\u001b[0m\u001b[0;34m)\u001b[0m\u001b[0;34m)\u001b[0m\u001b[0;34m)\u001b[0m\u001b[0;34m)\u001b[0m\u001b[0;34m\u001b[0m\u001b[0;34m\u001b[0m\u001b[0m\n\u001b[0;32m----> 2\u001b[0;31m \u001b[0mlen\u001b[0m\u001b[0;34m(\u001b[0m\u001b[0mindx\u001b[0m\u001b[0;34m)\u001b[0m\u001b[0;34m\u001b[0m\u001b[0;34m\u001b[0m\u001b[0m\n\u001b[0m",
      "\u001b[0;31mTypeError\u001b[0m: object of type 'int' has no len()"
     ]
    }
   ],
   "source": [
    "indx = mywhere(onp.apply_along_axis(onp.any, 1, onp.isnan(onp.log10(df[[\"errs_xy\",\"errs_yx\", \"hsicx_xy\",\"hsicx_yx\",\"hsicc_xy\",\"hsicc_yx\"]]))))\n",
    "len(indx)"
   ]
  },
  {
   "cell_type": "code",
   "execution_count": 63,
   "metadata": {},
   "outputs": [
    {
     "ename": "TypeError",
     "evalue": "object of type 'int' has no len()",
     "output_type": "error",
     "traceback": [
      "\u001b[0;31m---------------------------------------------------------------------------\u001b[0m",
      "\u001b[0;31mTypeError\u001b[0m                                 Traceback (most recent call last)",
      "\u001b[0;32m/tmp/ipykernel_30632/2947326858.py\u001b[0m in \u001b[0;36m<module>\u001b[0;34m\u001b[0m\n\u001b[1;32m      1\u001b[0m \u001b[0mindx2\u001b[0m \u001b[0;34m=\u001b[0m \u001b[0mmywhere\u001b[0m\u001b[0;34m(\u001b[0m\u001b[0monp\u001b[0m\u001b[0;34m.\u001b[0m\u001b[0mapply_along_axis\u001b[0m\u001b[0;34m(\u001b[0m\u001b[0monp\u001b[0m\u001b[0;34m.\u001b[0m\u001b[0many\u001b[0m\u001b[0;34m,\u001b[0m \u001b[0;36m1\u001b[0m\u001b[0;34m,\u001b[0m \u001b[0monp\u001b[0m\u001b[0;34m.\u001b[0m\u001b[0misnan\u001b[0m\u001b[0;34m(\u001b[0m\u001b[0mdf\u001b[0m\u001b[0;34m[\u001b[0m\u001b[0;34m[\u001b[0m\u001b[0;34m\"errs_xy\"\u001b[0m\u001b[0;34m,\u001b[0m\u001b[0;34m\"errs_yx\"\u001b[0m\u001b[0;34m,\u001b[0m \u001b[0;34m\"hsicx_xy\"\u001b[0m\u001b[0;34m,\u001b[0m\u001b[0;34m\"hsicx_yx\"\u001b[0m\u001b[0;34m,\u001b[0m\u001b[0;34m\"hsicc_xy\"\u001b[0m\u001b[0;34m,\u001b[0m\u001b[0;34m\"hsicc_yx\"\u001b[0m\u001b[0;34m]\u001b[0m\u001b[0;34m]\u001b[0m\u001b[0;34m)\u001b[0m\u001b[0;34m)\u001b[0m\u001b[0;34m)\u001b[0m\u001b[0;34m\u001b[0m\u001b[0;34m\u001b[0m\u001b[0m\n\u001b[0;32m----> 2\u001b[0;31m \u001b[0mlen\u001b[0m\u001b[0;34m(\u001b[0m\u001b[0mindx2\u001b[0m\u001b[0;34m)\u001b[0m\u001b[0;34m\u001b[0m\u001b[0;34m\u001b[0m\u001b[0m\n\u001b[0m",
      "\u001b[0;31mTypeError\u001b[0m: object of type 'int' has no len()"
     ]
    }
   ],
   "source": [
    "indx2 = mywhere(onp.apply_along_axis(onp.any, 1, onp.isnan(df[[\"errs_xy\",\"errs_yx\", \"hsicx_xy\",\"hsicx_yx\",\"hsicc_xy\",\"hsicc_yx\"]])))\n",
    "len(indx2)"
   ]
  },
  {
   "cell_type": "code",
   "execution_count": 64,
   "metadata": {},
   "outputs": [
    {
     "data": {
      "text/plain": [
       "(25200, 36)"
      ]
     },
     "execution_count": 64,
     "metadata": {},
     "output_type": "execute_result"
    }
   ],
   "source": [
    "df.shape"
   ]
  },
  {
   "cell_type": "code",
   "execution_count": 65,
   "metadata": {},
   "outputs": [
    {
     "data": {
      "text/plain": [
       "errs_xy     0.056588\n",
       "errs_yx     0.081581\n",
       "hsicx_xy    0.014336\n",
       "hsicx_yx    0.024658\n",
       "hsicc_xy    0.000311\n",
       "hsicc_yx    0.000480\n",
       "Name: 6, dtype: float64"
      ]
     },
     "execution_count": 65,
     "metadata": {},
     "output_type": "execute_result"
    }
   ],
   "source": [
    "df[[\"errs_xy\",\"errs_yx\",\"hsicx_xy\",\"hsicx_yx\",\"hsicc_xy\",\"hsicc_yx\"]].iloc[indx2]"
   ]
  },
  {
   "cell_type": "code",
   "execution_count": 66,
   "metadata": {},
   "outputs": [
    {
     "data": {
      "text/plain": [
       "errs_xy    -1.247274\n",
       "errs_yx    -1.088409\n",
       "hsicx_xy   -1.843571\n",
       "hsicx_yx   -1.608039\n",
       "hsicc_xy   -3.506671\n",
       "hsicc_yx   -3.318906\n",
       "Name: 6, dtype: float64"
      ]
     },
     "execution_count": 66,
     "metadata": {},
     "output_type": "execute_result"
    }
   ],
   "source": [
    "onp.log10(df[[\"errs_xy\",\"errs_yx\",\"hsicx_xy\",\"hsicx_yx\",\"hsicc_xy\",\"hsicc_yx\"]]).iloc[indx2]"
   ]
  },
  {
   "cell_type": "code",
   "execution_count": 67,
   "metadata": {},
   "outputs": [
    {
     "ename": "TypeError",
     "evalue": "'int' object is not subscriptable",
     "output_type": "error",
     "traceback": [
      "\u001b[0;31m---------------------------------------------------------------------------\u001b[0m",
      "\u001b[0;31mTypeError\u001b[0m                                 Traceback (most recent call last)",
      "\u001b[0;32m/tmp/ipykernel_30632/2339897090.py\u001b[0m in \u001b[0;36m<module>\u001b[0;34m\u001b[0m\n\u001b[0;32m----> 1\u001b[0;31m \u001b[0;32mif\u001b[0m \u001b[0mindx2\u001b[0m\u001b[0;34m[\u001b[0m\u001b[0;36m0\u001b[0m\u001b[0;34m]\u001b[0m\u001b[0;34m!=\u001b[0m\u001b[0;34m-\u001b[0m\u001b[0;36m1\u001b[0m\u001b[0;34m:\u001b[0m\u001b[0;34m\u001b[0m\u001b[0;34m\u001b[0m\u001b[0m\n\u001b[0m\u001b[1;32m      2\u001b[0m     \u001b[0;32mif\u001b[0m \u001b[0mindx2\u001b[0m\u001b[0;34m.\u001b[0m\u001b[0mshape\u001b[0m\u001b[0;34m[\u001b[0m\u001b[0;36m0\u001b[0m\u001b[0;34m]\u001b[0m \u001b[0;34m>\u001b[0m \u001b[0;36m0\u001b[0m\u001b[0;34m:\u001b[0m\u001b[0;34m\u001b[0m\u001b[0;34m\u001b[0m\u001b[0m\n\u001b[1;32m      3\u001b[0m         \u001b[0mprint\u001b[0m\u001b[0;34m(\u001b[0m\u001b[0;34m\"drop\"\u001b[0m\u001b[0;34m)\u001b[0m\u001b[0;34m\u001b[0m\u001b[0;34m\u001b[0m\u001b[0m\n\u001b[1;32m      4\u001b[0m         \u001b[0mdf\u001b[0m \u001b[0;34m=\u001b[0m \u001b[0mdf\u001b[0m\u001b[0;34m.\u001b[0m\u001b[0mreset_index\u001b[0m\u001b[0;34m(\u001b[0m\u001b[0;34m)\u001b[0m\u001b[0;34m\u001b[0m\u001b[0;34m\u001b[0m\u001b[0m\n\u001b[1;32m      5\u001b[0m         \u001b[0mdf\u001b[0m\u001b[0;34m.\u001b[0m\u001b[0mdrop\u001b[0m\u001b[0;34m(\u001b[0m\u001b[0mindex\u001b[0m\u001b[0;34m=\u001b[0m\u001b[0mindx2\u001b[0m\u001b[0;34m,\u001b[0m \u001b[0minplace\u001b[0m\u001b[0;34m=\u001b[0m\u001b[0;32mTrue\u001b[0m\u001b[0;34m)\u001b[0m\u001b[0;34m\u001b[0m\u001b[0;34m\u001b[0m\u001b[0m\n",
      "\u001b[0;31mTypeError\u001b[0m: 'int' object is not subscriptable"
     ]
    }
   ],
   "source": [
    "if indx2[0]!=-1:\n",
    "    if indx2.shape[0] > 0:\n",
    "        print(\"drop\")\n",
    "        df = df.reset_index()\n",
    "        df.drop(index=indx2, inplace=True)"
   ]
  },
  {
   "cell_type": "code",
   "execution_count": 68,
   "metadata": {},
   "outputs": [
    {
     "ename": "TypeError",
     "evalue": "'int' object is not subscriptable",
     "output_type": "error",
     "traceback": [
      "\u001b[0;31m---------------------------------------------------------------------------\u001b[0m",
      "\u001b[0;31mTypeError\u001b[0m                                 Traceback (most recent call last)",
      "\u001b[0;32m/tmp/ipykernel_30632/3290664392.py\u001b[0m in \u001b[0;36m<module>\u001b[0;34m\u001b[0m\n\u001b[0;32m----> 1\u001b[0;31m \u001b[0;32mif\u001b[0m \u001b[0mindx\u001b[0m\u001b[0;34m[\u001b[0m\u001b[0;36m0\u001b[0m\u001b[0;34m]\u001b[0m\u001b[0;34m!=\u001b[0m\u001b[0;34m-\u001b[0m\u001b[0;36m1\u001b[0m\u001b[0;34m:\u001b[0m\u001b[0;34m\u001b[0m\u001b[0;34m\u001b[0m\u001b[0m\n\u001b[0m\u001b[1;32m      2\u001b[0m     \u001b[0;32mif\u001b[0m \u001b[0mindx\u001b[0m\u001b[0;34m.\u001b[0m\u001b[0mshape\u001b[0m\u001b[0;34m[\u001b[0m\u001b[0;36m0\u001b[0m\u001b[0;34m]\u001b[0m \u001b[0;34m>\u001b[0m \u001b[0;36m0\u001b[0m\u001b[0;34m:\u001b[0m\u001b[0;34m\u001b[0m\u001b[0;34m\u001b[0m\u001b[0m\n\u001b[1;32m      3\u001b[0m         \u001b[0mprint\u001b[0m\u001b[0;34m(\u001b[0m\u001b[0;34m\"absolute\"\u001b[0m\u001b[0;34m)\u001b[0m\u001b[0;34m\u001b[0m\u001b[0;34m\u001b[0m\u001b[0m\n\u001b[1;32m      4\u001b[0m         \u001b[0;31m#df[[\"errs_xy\",\"errs_yx\",\"hsicx_xy\",\"hsicx_yx\",\"hsicc_xy\",\"hsicc_yx\"]] = onp.abs(df[[\"errs_xy\",\"errs_yx\",\"hsicx_xy\",\"hsicx_yx\",\"hsicc_xy\",\"hsicc_yx\"]])\u001b[0m\u001b[0;34m\u001b[0m\u001b[0;34m\u001b[0m\u001b[0;34m\u001b[0m\u001b[0m\n\u001b[1;32m      5\u001b[0m         \u001b[0mdf\u001b[0m\u001b[0;34m[\u001b[0m\u001b[0;34m\"hsicc_xy\"\u001b[0m\u001b[0;34m]\u001b[0m\u001b[0;34m.\u001b[0m\u001b[0mloc\u001b[0m\u001b[0;34m[\u001b[0m\u001b[0mdf\u001b[0m\u001b[0;34m[\u001b[0m\u001b[0;34m\"hsicc_xy\"\u001b[0m\u001b[0;34m]\u001b[0m\u001b[0;34m<\u001b[0m\u001b[0;36m0\u001b[0m\u001b[0;34m]\u001b[0m \u001b[0;34m=\u001b[0m \u001b[0monp\u001b[0m\u001b[0;34m.\u001b[0m\u001b[0mmin\u001b[0m\u001b[0;34m(\u001b[0m\u001b[0monp\u001b[0m\u001b[0;34m.\u001b[0m\u001b[0mabs\u001b[0m\u001b[0;34m(\u001b[0m\u001b[0mdf\u001b[0m\u001b[0;34m[\u001b[0m\u001b[0;34m\"hsicc_xy\"\u001b[0m\u001b[0;34m]\u001b[0m\u001b[0;34m)\u001b[0m\u001b[0;34m)\u001b[0m\u001b[0;34m\u001b[0m\u001b[0;34m\u001b[0m\u001b[0m\n",
      "\u001b[0;31mTypeError\u001b[0m: 'int' object is not subscriptable"
     ]
    }
   ],
   "source": [
    "if indx[0]!=-1:\n",
    "    if indx.shape[0] > 0:\n",
    "        print(\"absolute\")\n",
    "        #df[[\"errs_xy\",\"errs_yx\",\"hsicx_xy\",\"hsicx_yx\",\"hsicc_xy\",\"hsicc_yx\"]] = onp.abs(df[[\"errs_xy\",\"errs_yx\",\"hsicx_xy\",\"hsicx_yx\",\"hsicc_xy\",\"hsicc_yx\"]])\n",
    "        df[\"hsicc_xy\"].loc[df[\"hsicc_xy\"]<0] = onp.min(onp.abs(df[\"hsicc_xy\"]))\n",
    "        df[\"hsicc_yx\"].loc[df[\"hsicc_yx\"]<0] = onp.min(onp.abs(df[\"hsicc_yx\"]))"
   ]
  },
  {
   "cell_type": "code",
   "execution_count": 69,
   "metadata": {},
   "outputs": [],
   "source": [
    "df_intsc = df.groupby(['type',\"dataset\"]).apply(pairup,varss=varss, funct=smplFromIntersection, getParsFunct=getParsIntersection, pars=(varsss,sig,m))"
   ]
  },
  {
   "cell_type": "code",
   "execution_count": 70,
   "metadata": {
    "scrolled": true
   },
   "outputs": [
    {
     "data": {
      "text/html": [
       "<div>\n",
       "<style scoped>\n",
       "    .dataframe tbody tr th:only-of-type {\n",
       "        vertical-align: middle;\n",
       "    }\n",
       "\n",
       "    .dataframe tbody tr th {\n",
       "        vertical-align: top;\n",
       "    }\n",
       "\n",
       "    .dataframe thead th {\n",
       "        text-align: right;\n",
       "    }\n",
       "</style>\n",
       "<table border=\"1\" class=\"dataframe\">\n",
       "  <thead>\n",
       "    <tr style=\"text-align: right;\">\n",
       "      <th></th>\n",
       "      <th>type</th>\n",
       "      <th>dataset</th>\n",
       "      <th>level_2</th>\n",
       "      <th>errs_xy</th>\n",
       "      <th>hsicx_xy</th>\n",
       "      <th>hsic_xy</th>\n",
       "      <th>hsicc_xy</th>\n",
       "      <th>ent_xy</th>\n",
       "      <th>entx_xy</th>\n",
       "      <th>hsicz_xy</th>\n",
       "      <th>...</th>\n",
       "      <th>mmd_xy</th>\n",
       "      <th>errs_yx</th>\n",
       "      <th>hsicx_yx</th>\n",
       "      <th>hsic_yx</th>\n",
       "      <th>hsicc_yx</th>\n",
       "      <th>ent_yx</th>\n",
       "      <th>entx_yx</th>\n",
       "      <th>hsicz_yx</th>\n",
       "      <th>hsiczz_yx</th>\n",
       "      <th>mmd_yx</th>\n",
       "    </tr>\n",
       "  </thead>\n",
       "  <tbody>\n",
       "    <tr>\n",
       "      <th>0</th>\n",
       "      <td>LS-s</td>\n",
       "      <td>LS-s.1</td>\n",
       "      <td>0</td>\n",
       "      <td>0.026763</td>\n",
       "      <td>0.039134</td>\n",
       "      <td>0.032357</td>\n",
       "      <td>0.781773</td>\n",
       "      <td>-4.669610</td>\n",
       "      <td>-2.756219</td>\n",
       "      <td>0.765690</td>\n",
       "      <td>...</td>\n",
       "      <td>0.765690</td>\n",
       "      <td>0.035235</td>\n",
       "      <td>0.022908</td>\n",
       "      <td>0.023965</td>\n",
       "      <td>0.458470</td>\n",
       "      <td>-4.632234</td>\n",
       "      <td>-2.619437</td>\n",
       "      <td>0.909477</td>\n",
       "      <td>0.001928</td>\n",
       "      <td>0.909477</td>\n",
       "    </tr>\n",
       "    <tr>\n",
       "      <th>1</th>\n",
       "      <td>LS-s</td>\n",
       "      <td>LS-s.1</td>\n",
       "      <td>1</td>\n",
       "      <td>0.022122</td>\n",
       "      <td>0.020918</td>\n",
       "      <td>0.016524</td>\n",
       "      <td>0.703943</td>\n",
       "      <td>-4.558956</td>\n",
       "      <td>-2.903427</td>\n",
       "      <td>0.702010</td>\n",
       "      <td>...</td>\n",
       "      <td>0.702010</td>\n",
       "      <td>0.046628</td>\n",
       "      <td>0.017672</td>\n",
       "      <td>0.017826</td>\n",
       "      <td>0.440862</td>\n",
       "      <td>-4.274912</td>\n",
       "      <td>-2.311724</td>\n",
       "      <td>0.932110</td>\n",
       "      <td>0.001247</td>\n",
       "      <td>0.932110</td>\n",
       "    </tr>\n",
       "    <tr>\n",
       "      <th>2</th>\n",
       "      <td>LS-s</td>\n",
       "      <td>LS-s.1</td>\n",
       "      <td>2</td>\n",
       "      <td>0.029407</td>\n",
       "      <td>0.047026</td>\n",
       "      <td>0.036093</td>\n",
       "      <td>0.784870</td>\n",
       "      <td>-4.465516</td>\n",
       "      <td>-2.652951</td>\n",
       "      <td>0.681622</td>\n",
       "      <td>...</td>\n",
       "      <td>0.681622</td>\n",
       "      <td>0.020868</td>\n",
       "      <td>0.036128</td>\n",
       "      <td>0.050541</td>\n",
       "      <td>0.521382</td>\n",
       "      <td>-4.677516</td>\n",
       "      <td>-3.141747</td>\n",
       "      <td>0.914750</td>\n",
       "      <td>0.043480</td>\n",
       "      <td>0.914750</td>\n",
       "    </tr>\n",
       "    <tr>\n",
       "      <th>3</th>\n",
       "      <td>LS-s</td>\n",
       "      <td>LS-s.1</td>\n",
       "      <td>3</td>\n",
       "      <td>0.020734</td>\n",
       "      <td>0.018178</td>\n",
       "      <td>0.018176</td>\n",
       "      <td>0.434510</td>\n",
       "      <td>-4.769974</td>\n",
       "      <td>-2.984786</td>\n",
       "      <td>0.624656</td>\n",
       "      <td>...</td>\n",
       "      <td>0.624656</td>\n",
       "      <td>0.010975</td>\n",
       "      <td>0.010171</td>\n",
       "      <td>0.015567</td>\n",
       "      <td>0.461619</td>\n",
       "      <td>-5.397553</td>\n",
       "      <td>-4.043555</td>\n",
       "      <td>0.832437</td>\n",
       "      <td>0.047874</td>\n",
       "      <td>0.832437</td>\n",
       "    </tr>\n",
       "    <tr>\n",
       "      <th>4</th>\n",
       "      <td>LS-s</td>\n",
       "      <td>LS-s.1</td>\n",
       "      <td>4</td>\n",
       "      <td>0.022065</td>\n",
       "      <td>0.043188</td>\n",
       "      <td>0.035371</td>\n",
       "      <td>0.719620</td>\n",
       "      <td>-4.701890</td>\n",
       "      <td>-2.887221</td>\n",
       "      <td>0.734734</td>\n",
       "      <td>...</td>\n",
       "      <td>0.734734</td>\n",
       "      <td>0.014001</td>\n",
       "      <td>0.045326</td>\n",
       "      <td>0.045662</td>\n",
       "      <td>0.272815</td>\n",
       "      <td>-5.127568</td>\n",
       "      <td>-3.900652</td>\n",
       "      <td>0.805945</td>\n",
       "      <td>0.076389</td>\n",
       "      <td>0.805945</td>\n",
       "    </tr>\n",
       "  </tbody>\n",
       "</table>\n",
       "<p>5 rows × 21 columns</p>\n",
       "</div>"
      ],
      "text/plain": [
       "   type dataset  level_2   errs_xy  hsicx_xy   hsic_xy  hsicc_xy    ent_xy  \\\n",
       "0  LS-s  LS-s.1        0  0.026763  0.039134  0.032357  0.781773 -4.669610   \n",
       "1  LS-s  LS-s.1        1  0.022122  0.020918  0.016524  0.703943 -4.558956   \n",
       "2  LS-s  LS-s.1        2  0.029407  0.047026  0.036093  0.784870 -4.465516   \n",
       "3  LS-s  LS-s.1        3  0.020734  0.018178  0.018176  0.434510 -4.769974   \n",
       "4  LS-s  LS-s.1        4  0.022065  0.043188  0.035371  0.719620 -4.701890   \n",
       "\n",
       "    entx_xy  hsicz_xy  ...    mmd_xy   errs_yx  hsicx_yx   hsic_yx  hsicc_yx  \\\n",
       "0 -2.756219  0.765690  ...  0.765690  0.035235  0.022908  0.023965  0.458470   \n",
       "1 -2.903427  0.702010  ...  0.702010  0.046628  0.017672  0.017826  0.440862   \n",
       "2 -2.652951  0.681622  ...  0.681622  0.020868  0.036128  0.050541  0.521382   \n",
       "3 -2.984786  0.624656  ...  0.624656  0.010975  0.010171  0.015567  0.461619   \n",
       "4 -2.887221  0.734734  ...  0.734734  0.014001  0.045326  0.045662  0.272815   \n",
       "\n",
       "     ent_yx   entx_yx  hsicz_yx  hsiczz_yx    mmd_yx  \n",
       "0 -4.632234 -2.619437  0.909477   0.001928  0.909477  \n",
       "1 -4.274912 -2.311724  0.932110   0.001247  0.932110  \n",
       "2 -4.677516 -3.141747  0.914750   0.043480  0.914750  \n",
       "3 -5.397553 -4.043555  0.832437   0.047874  0.832437  \n",
       "4 -5.127568 -3.900652  0.805945   0.076389  0.805945  \n",
       "\n",
       "[5 rows x 21 columns]"
      ]
     },
     "execution_count": 70,
     "metadata": {},
     "output_type": "execute_result"
    }
   ],
   "source": [
    "df_intsc = df_intsc.reset_index()\n",
    "df_intsc.head()"
   ]
  },
  {
   "cell_type": "code",
   "execution_count": 71,
   "metadata": {},
   "outputs": [],
   "source": [
    "df_intsc = df_intsc.rename(columns={\"level_2\": \"smpl\"})"
   ]
  },
  {
   "cell_type": "code",
   "execution_count": 72,
   "metadata": {},
   "outputs": [
    {
     "data": {
      "text/plain": [
       "(10000, 21)"
      ]
     },
     "execution_count": 72,
     "metadata": {},
     "output_type": "execute_result"
    }
   ],
   "source": [
    "df_intsc.shape"
   ]
  },
  {
   "cell_type": "markdown",
   "metadata": {},
   "source": [
    "## pair-up: nearest neigbors"
   ]
  },
  {
   "cell_type": "code",
   "execution_count": 47,
   "metadata": {},
   "outputs": [],
   "source": [
    "ds = \"3\"\n",
    "st = \"LS-s\""
   ]
  },
  {
   "cell_type": "code",
   "execution_count": 48,
   "metadata": {},
   "outputs": [
    {
     "name": "stdout",
     "output_type": "stream",
     "text": [
      "(252,)\n",
      "(252,)\n"
     ]
    }
   ],
   "source": [
    "hsic_xy =  onp.array(df.loc[(df[\"dataset\"]==st+\".\"+ds), \"hsicx_xy\"])\n",
    "hsic_yx =  onp.array(df.loc[(df[\"dataset\"]==st+\".\"+ds),\"hsicx_yx\"])\n",
    "hsicc_xy =  onp.array(df.loc[(df[\"dataset\"]==st+\".\"+ds),\"hsicc_xy\"])\n",
    "hsicc_yx =  onp.array(df.loc[(df[\"dataset\"]==st+\".\"+ds), \"hsicc_yx\"])\n",
    "\n",
    "\n",
    "#hsic_yx= hsic_yx[0:(hsic_yx.shape[0]-1)]\n",
    "#hsicc_yx= hsicc_yx[0:(hsicc_yx.shape[0]-1)]\n",
    "print(hsic_xy.shape)\n",
    "print(hsic_yx.shape)\n",
    "\n",
    "\n",
    "    "
   ]
  },
  {
   "cell_type": "code",
   "execution_count": 49,
   "metadata": {},
   "outputs": [
    {
     "data": {
      "text/plain": [
       "<matplotlib.collections.PathCollection at 0x7f354d06ac90>"
      ]
     },
     "execution_count": 49,
     "metadata": {},
     "output_type": "execute_result"
    },
    {
     "data": {
      "image/png": "[encoded data removed]",
      "text/plain": [
       "<Figure size 432x288 with 1 Axes>"
      ]
     },
     "metadata": {
      "needs_background": "light"
     },
     "output_type": "display_data"
    }
   ],
   "source": [
    "plt.scatter(onp.log10(hsic_xy), onp.log10(hsicc_xy))\n",
    "plt.scatter(onp.log10(hsic_yx), onp.log10(hsicc_yx))"
   ]
  },
  {
   "cell_type": "code",
   "execution_count": 50,
   "metadata": {},
   "outputs": [],
   "source": [
    "varss = ['errs','hsic','hsicc','ent','hsicz','hsiczz','mmd']#'slopes','slopeskrr',\n",
    "varss = ['errs','hsicx','hsic','hsicc','ent','entx','hsicz','hsiczz','mmd']\n",
    "varss = ['errs','hsicx','hsic','hsicc','ent','ent2','entx','hsicz','hsiczz','mmd']#'slopes','slopeskrr',\n",
    "varss = ['errs','hsicx','hsic','hsicc','ent','entx','hsicz','hsiczz','mmd']#'slopes','slopeskrr',\n",
    "numPts = 2"
   ]
  },
  {
   "cell_type": "code",
   "execution_count": 51,
   "metadata": {},
   "outputs": [
    {
     "data": {
      "text/html": [
       "<div>\n",
       "<style scoped>\n",
       "    .dataframe tbody tr th:only-of-type {\n",
       "        vertical-align: middle;\n",
       "    }\n",
       "\n",
       "    .dataframe tbody tr th {\n",
       "        vertical-align: top;\n",
       "    }\n",
       "\n",
       "    .dataframe thead th {\n",
       "        text-align: right;\n",
       "    }\n",
       "</style>\n",
       "<table border=\"1\" class=\"dataframe\">\n",
       "  <thead>\n",
       "    <tr style=\"text-align: right;\">\n",
       "      <th></th>\n",
       "      <th>errs_xy</th>\n",
       "      <th>hsic_xy</th>\n",
       "      <th>hsicc_xy</th>\n",
       "      <th>ent_xy</th>\n",
       "      <th>entx_xy</th>\n",
       "      <th>hsicx_xy</th>\n",
       "      <th>hsicz_xy</th>\n",
       "      <th>hsiczz_xy</th>\n",
       "      <th>mmd_xy</th>\n",
       "      <th>errs_yx</th>\n",
       "      <th>...</th>\n",
       "      <th>lu</th>\n",
       "      <th>lr</th>\n",
       "      <th>ot</th>\n",
       "      <th>epchs</th>\n",
       "      <th>bs</th>\n",
       "      <th>reps</th>\n",
       "      <th>type</th>\n",
       "      <th>dataset</th>\n",
       "      <th>set</th>\n",
       "      <th>num</th>\n",
       "    </tr>\n",
       "  </thead>\n",
       "  <tbody>\n",
       "    <tr>\n",
       "      <th>0</th>\n",
       "      <td>0.048330</td>\n",
       "      <td>0.006241</td>\n",
       "      <td>0.264612</td>\n",
       "      <td>-3.263900</td>\n",
       "      <td>-2.147239</td>\n",
       "      <td>0.006992</td>\n",
       "      <td>0.502069</td>\n",
       "      <td>0.407350</td>\n",
       "      <td>0.502069</td>\n",
       "      <td>0.043229</td>\n",
       "      <td>...</td>\n",
       "      <td>0.0</td>\n",
       "      <td>0.1</td>\n",
       "      <td>freeZ</td>\n",
       "      <td>500</td>\n",
       "      <td>100</td>\n",
       "      <td>7</td>\n",
       "      <td>LS-s</td>\n",
       "      <td>LS-s.3</td>\n",
       "      <td>ANLSMN_withZ</td>\n",
       "      <td>1000</td>\n",
       "    </tr>\n",
       "    <tr>\n",
       "      <th>1</th>\n",
       "      <td>0.045368</td>\n",
       "      <td>0.004970</td>\n",
       "      <td>0.175971</td>\n",
       "      <td>-3.321931</td>\n",
       "      <td>-2.183321</td>\n",
       "      <td>0.004937</td>\n",
       "      <td>0.502069</td>\n",
       "      <td>0.430788</td>\n",
       "      <td>0.502069</td>\n",
       "      <td>0.045363</td>\n",
       "      <td>...</td>\n",
       "      <td>0.0</td>\n",
       "      <td>0.1</td>\n",
       "      <td>freeZ</td>\n",
       "      <td>500</td>\n",
       "      <td>100</td>\n",
       "      <td>7</td>\n",
       "      <td>LS-s</td>\n",
       "      <td>LS-s.3</td>\n",
       "      <td>ANLSMN_withZ</td>\n",
       "      <td>1000</td>\n",
       "    </tr>\n",
       "    <tr>\n",
       "      <th>2</th>\n",
       "      <td>0.053448</td>\n",
       "      <td>0.001658</td>\n",
       "      <td>0.255042</td>\n",
       "      <td>-3.098125</td>\n",
       "      <td>-1.984829</td>\n",
       "      <td>0.001475</td>\n",
       "      <td>0.502069</td>\n",
       "      <td>0.386283</td>\n",
       "      <td>0.502069</td>\n",
       "      <td>0.039503</td>\n",
       "      <td>...</td>\n",
       "      <td>0.0</td>\n",
       "      <td>0.1</td>\n",
       "      <td>freeZ</td>\n",
       "      <td>500</td>\n",
       "      <td>100</td>\n",
       "      <td>7</td>\n",
       "      <td>LS-s</td>\n",
       "      <td>LS-s.3</td>\n",
       "      <td>ANLSMN_withZ</td>\n",
       "      <td>1000</td>\n",
       "    </tr>\n",
       "    <tr>\n",
       "      <th>3</th>\n",
       "      <td>0.054447</td>\n",
       "      <td>0.004532</td>\n",
       "      <td>0.183111</td>\n",
       "      <td>-3.095244</td>\n",
       "      <td>-2.021520</td>\n",
       "      <td>0.001918</td>\n",
       "      <td>0.502069</td>\n",
       "      <td>0.393564</td>\n",
       "      <td>0.502069</td>\n",
       "      <td>0.038000</td>\n",
       "      <td>...</td>\n",
       "      <td>0.0</td>\n",
       "      <td>0.1</td>\n",
       "      <td>freeZ</td>\n",
       "      <td>500</td>\n",
       "      <td>100</td>\n",
       "      <td>7</td>\n",
       "      <td>LS-s</td>\n",
       "      <td>LS-s.3</td>\n",
       "      <td>ANLSMN_withZ</td>\n",
       "      <td>1000</td>\n",
       "    </tr>\n",
       "    <tr>\n",
       "      <th>4</th>\n",
       "      <td>0.065070</td>\n",
       "      <td>0.004478</td>\n",
       "      <td>0.078594</td>\n",
       "      <td>-2.895475</td>\n",
       "      <td>-1.846101</td>\n",
       "      <td>0.008357</td>\n",
       "      <td>0.502069</td>\n",
       "      <td>0.322510</td>\n",
       "      <td>0.502069</td>\n",
       "      <td>0.053047</td>\n",
       "      <td>...</td>\n",
       "      <td>0.0</td>\n",
       "      <td>0.1</td>\n",
       "      <td>freeZ</td>\n",
       "      <td>500</td>\n",
       "      <td>100</td>\n",
       "      <td>7</td>\n",
       "      <td>LS-s</td>\n",
       "      <td>LS-s.3</td>\n",
       "      <td>ANLSMN_withZ</td>\n",
       "      <td>1000</td>\n",
       "    </tr>\n",
       "  </tbody>\n",
       "</table>\n",
       "<p>5 rows × 36 columns</p>\n",
       "</div>"
      ],
      "text/plain": [
       "    errs_xy   hsic_xy  hsicc_xy    ent_xy   entx_xy  hsicx_xy  hsicz_xy  \\\n",
       "0  0.048330  0.006241  0.264612 -3.263900 -2.147239  0.006992  0.502069   \n",
       "1  0.045368  0.004970  0.175971 -3.321931 -2.183321  0.004937  0.502069   \n",
       "2  0.053448  0.001658  0.255042 -3.098125 -1.984829  0.001475  0.502069   \n",
       "3  0.054447  0.004532  0.183111 -3.095244 -2.021520  0.001918  0.502069   \n",
       "4  0.065070  0.004478  0.078594 -2.895475 -1.846101  0.008357  0.502069   \n",
       "\n",
       "   hsiczz_xy    mmd_xy   errs_yx  ...   lu   lr     ot  epchs   bs  reps  \\\n",
       "0   0.407350  0.502069  0.043229  ...  0.0  0.1  freeZ    500  100     7   \n",
       "1   0.430788  0.502069  0.045363  ...  0.0  0.1  freeZ    500  100     7   \n",
       "2   0.386283  0.502069  0.039503  ...  0.0  0.1  freeZ    500  100     7   \n",
       "3   0.393564  0.502069  0.038000  ...  0.0  0.1  freeZ    500  100     7   \n",
       "4   0.322510  0.502069  0.053047  ...  0.0  0.1  freeZ    500  100     7   \n",
       "\n",
       "   type  dataset           set   num  \n",
       "0  LS-s   LS-s.3  ANLSMN_withZ  1000  \n",
       "1  LS-s   LS-s.3  ANLSMN_withZ  1000  \n",
       "2  LS-s   LS-s.3  ANLSMN_withZ  1000  \n",
       "3  LS-s   LS-s.3  ANLSMN_withZ  1000  \n",
       "4  LS-s   LS-s.3  ANLSMN_withZ  1000  \n",
       "\n",
       "[5 rows x 36 columns]"
      ]
     },
     "execution_count": 51,
     "metadata": {},
     "output_type": "execute_result"
    }
   ],
   "source": [
    "x = df.loc[(df[\"dataset\"]==st+\".\"+ds)]\n",
    "x.head()"
   ]
  },
  {
   "cell_type": "code",
   "execution_count": 52,
   "metadata": {},
   "outputs": [],
   "source": [
    "#varsss = [\"hsicx\", \"ent\",\"errs\"]\n",
    "varsss = [\"hsic\", \"hsicc\",\"errs\"]\n",
    "varsss = [\"hsicx\", \"hsicc\",\"errs\"]"
   ]
  },
  {
   "cell_type": "code",
   "execution_count": 53,
   "metadata": {},
   "outputs": [],
   "source": [
    "X_xy, X_yx, numPts = getParsNN(x, varsss, numPts)"
   ]
  },
  {
   "cell_type": "code",
   "execution_count": 54,
   "metadata": {},
   "outputs": [],
   "source": [
    "indx_xy2, indx_yx2 = nearestNeighbors(X_xy, X_yx, numPts)"
   ]
  },
  {
   "cell_type": "code",
   "execution_count": 55,
   "metadata": {},
   "outputs": [],
   "source": [
    "hsic_xy3 = hsic_xy[indx_xy2]\n",
    "hsicc_xy3 = hsicc_xy[indx_xy2]\n",
    "hsic_yx3 = hsic_yx[indx_yx2]\n",
    "hsicc_yx3 = hsicc_yx[indx_yx2]\n",
    "\n",
    "hsic3 = onp.hstack([hsic_xy3, hsic_yx3])\n",
    "hsicc3 = onp.hstack([hsicc_xy3, hsicc_yx3])"
   ]
  },
  {
   "cell_type": "code",
   "execution_count": 56,
   "metadata": {},
   "outputs": [
    {
     "data": {
      "text/html": [
       "<div>\n",
       "<style scoped>\n",
       "    .dataframe tbody tr th:only-of-type {\n",
       "        vertical-align: middle;\n",
       "    }\n",
       "\n",
       "    .dataframe tbody tr th {\n",
       "        vertical-align: top;\n",
       "    }\n",
       "\n",
       "    .dataframe thead th {\n",
       "        text-align: right;\n",
       "    }\n",
       "</style>\n",
       "<table border=\"1\" class=\"dataframe\">\n",
       "  <thead>\n",
       "    <tr style=\"text-align: right;\">\n",
       "      <th></th>\n",
       "      <th>hsicx</th>\n",
       "      <th>hsicc</th>\n",
       "      <th>dir</th>\n",
       "    </tr>\n",
       "  </thead>\n",
       "  <tbody>\n",
       "    <tr>\n",
       "      <th>0</th>\n",
       "      <td>-2.155395</td>\n",
       "      <td>-0.577390</td>\n",
       "      <td>xy</td>\n",
       "    </tr>\n",
       "    <tr>\n",
       "      <th>1</th>\n",
       "      <td>-2.155395</td>\n",
       "      <td>-0.577390</td>\n",
       "      <td>xy</td>\n",
       "    </tr>\n",
       "    <tr>\n",
       "      <th>2</th>\n",
       "      <td>-2.306515</td>\n",
       "      <td>-0.754558</td>\n",
       "      <td>xy</td>\n",
       "    </tr>\n",
       "    <tr>\n",
       "      <th>3</th>\n",
       "      <td>-2.306515</td>\n",
       "      <td>-0.754558</td>\n",
       "      <td>xy</td>\n",
       "    </tr>\n",
       "    <tr>\n",
       "      <th>4</th>\n",
       "      <td>-2.831275</td>\n",
       "      <td>-0.593389</td>\n",
       "      <td>xy</td>\n",
       "    </tr>\n",
       "    <tr>\n",
       "      <th>...</th>\n",
       "      <td>...</td>\n",
       "      <td>...</td>\n",
       "      <td>...</td>\n",
       "    </tr>\n",
       "    <tr>\n",
       "      <th>1003</th>\n",
       "      <td>-2.413818</td>\n",
       "      <td>-2.843206</td>\n",
       "      <td>yx</td>\n",
       "    </tr>\n",
       "    <tr>\n",
       "      <th>1004</th>\n",
       "      <td>-1.844694</td>\n",
       "      <td>-2.931306</td>\n",
       "      <td>yx</td>\n",
       "    </tr>\n",
       "    <tr>\n",
       "      <th>1005</th>\n",
       "      <td>-1.844694</td>\n",
       "      <td>-2.931306</td>\n",
       "      <td>yx</td>\n",
       "    </tr>\n",
       "    <tr>\n",
       "      <th>1006</th>\n",
       "      <td>-1.611909</td>\n",
       "      <td>-2.986618</td>\n",
       "      <td>yx</td>\n",
       "    </tr>\n",
       "    <tr>\n",
       "      <th>1007</th>\n",
       "      <td>-1.611909</td>\n",
       "      <td>-2.986618</td>\n",
       "      <td>yx</td>\n",
       "    </tr>\n",
       "  </tbody>\n",
       "</table>\n",
       "<p>2016 rows × 3 columns</p>\n",
       "</div>"
      ],
      "text/plain": [
       "         hsicx     hsicc dir\n",
       "0    -2.155395 -0.577390  xy\n",
       "1    -2.155395 -0.577390  xy\n",
       "2    -2.306515 -0.754558  xy\n",
       "3    -2.306515 -0.754558  xy\n",
       "4    -2.831275 -0.593389  xy\n",
       "...        ...       ...  ..\n",
       "1003 -2.413818 -2.843206  yx\n",
       "1004 -1.844694 -2.931306  yx\n",
       "1005 -1.844694 -2.931306  yx\n",
       "1006 -1.611909 -2.986618  yx\n",
       "1007 -1.611909 -2.986618  yx\n",
       "\n",
       "[2016 rows x 3 columns]"
      ]
     },
     "execution_count": 56,
     "metadata": {},
     "output_type": "execute_result"
    }
   ],
   "source": [
    "df_xy = pd.DataFrame(onp.vstack([onp.log10(hsic_xy3), onp.log10(hsicc_xy3)]).T, columns=[\"hsicx\", \"hsicc\"])\n",
    "df_xy[\"dir\"] = \"xy\"\n",
    "df_yx = pd.DataFrame(onp.vstack([onp.log10(hsic_yx3), onp.log10(hsicc_yx3)]).T, columns=[\"hsicx\", \"hsicc\"])\n",
    "df_yx[\"dir\"] = \"yx\"\n",
    "\n",
    "df_plt = pd.concat([df_xy, df_yx])\n",
    "df_plt"
   ]
  },
  {
   "cell_type": "code",
   "execution_count": 57,
   "metadata": {},
   "outputs": [
    {
     "data": {
      "text/plain": [
       "<matplotlib.collections.PathCollection at 0x7f354d103850>"
      ]
     },
     "execution_count": 57,
     "metadata": {},
     "output_type": "execute_result"
    },
    {
     "data": {
      "image/png": "[encoded data removed]",
      "text/plain": [
       "<Figure size 432x288 with 1 Axes>"
      ]
     },
     "metadata": {
      "needs_background": "light"
     },
     "output_type": "display_data"
    }
   ],
   "source": [
    "plt.scatter(onp.log10(hsic_xy), onp.log10(hsicc_xy))\n",
    "plt.scatter(onp.log10(hsic_yx), onp.log10(hsicc_yx))"
   ]
  },
  {
   "cell_type": "code",
   "execution_count": 58,
   "metadata": {},
   "outputs": [
    {
     "data": {
      "text/plain": [
       "<matplotlib.axes._subplots.AxesSubplot at 0x7f354d15e210>"
      ]
     },
     "execution_count": 58,
     "metadata": {},
     "output_type": "execute_result"
    },
    {
     "data": {
      "image/png": "[encoded data removed]",
      "text/plain": [
       "<Figure size 432x288 with 1 Axes>"
      ]
     },
     "metadata": {
      "needs_background": "light"
     },
     "output_type": "display_data"
    }
   ],
   "source": [
    "sns.scatterplot(data=df_plt, x=\"hsicx\", y=\"hsicc\", hue=\"dir\")"
   ]
  },
  {
   "cell_type": "code",
   "execution_count": 59,
   "metadata": {},
   "outputs": [],
   "source": [
    "#sns.kdeplot(data=df_plt, x=\"hsicx\", y=\"hsicc\", hue=\"dir\")\n",
    "#sns.jointplot(data=df_plt, x=\"hsicx\", y=\"hsicc\",kind=\"hex\")"
   ]
  },
  {
   "cell_type": "code",
   "execution_count": 60,
   "metadata": {},
   "outputs": [],
   "source": [
    "#sns.jointplot(data=df_plt, x=\"hsicx\", y=\"hsicc\", hue=\"dir\",kind=\"kde\")"
   ]
  },
  {
   "cell_type": "code",
   "execution_count": 61,
   "metadata": {},
   "outputs": [],
   "source": [
    "numPts=20"
   ]
  },
  {
   "cell_type": "code",
   "execution_count": 62,
   "metadata": {},
   "outputs": [],
   "source": [
    "df_nn = df.groupby(['type',\"dataset\"]).apply(pairup,varss=varss, funct=nearestNeighbors, getParsFunct=getParsNN, pars=(varsss,numPts,))"
   ]
  },
  {
   "cell_type": "code",
   "execution_count": 63,
   "metadata": {
    "scrolled": true
   },
   "outputs": [
    {
     "data": {
      "text/html": [
       "<div>\n",
       "<style scoped>\n",
       "    .dataframe tbody tr th:only-of-type {\n",
       "        vertical-align: middle;\n",
       "    }\n",
       "\n",
       "    .dataframe tbody tr th {\n",
       "        vertical-align: top;\n",
       "    }\n",
       "\n",
       "    .dataframe thead th {\n",
       "        text-align: right;\n",
       "    }\n",
       "</style>\n",
       "<table border=\"1\" class=\"dataframe\">\n",
       "  <thead>\n",
       "    <tr style=\"text-align: right;\">\n",
       "      <th></th>\n",
       "      <th>type</th>\n",
       "      <th>dataset</th>\n",
       "      <th>level_2</th>\n",
       "      <th>errs_xy</th>\n",
       "      <th>hsicx_xy</th>\n",
       "      <th>hsic_xy</th>\n",
       "      <th>hsicc_xy</th>\n",
       "      <th>ent_xy</th>\n",
       "      <th>entx_xy</th>\n",
       "      <th>hsicz_xy</th>\n",
       "      <th>...</th>\n",
       "      <th>mmd_xy</th>\n",
       "      <th>errs_yx</th>\n",
       "      <th>hsicx_yx</th>\n",
       "      <th>hsic_yx</th>\n",
       "      <th>hsicc_yx</th>\n",
       "      <th>ent_yx</th>\n",
       "      <th>entx_yx</th>\n",
       "      <th>hsicz_yx</th>\n",
       "      <th>hsiczz_yx</th>\n",
       "      <th>mmd_yx</th>\n",
       "    </tr>\n",
       "  </thead>\n",
       "  <tbody>\n",
       "    <tr>\n",
       "      <th>0</th>\n",
       "      <td>LS</td>\n",
       "      <td>LS.1</td>\n",
       "      <td>0</td>\n",
       "      <td>0.047</td>\n",
       "      <td>0.002588</td>\n",
       "      <td>0.003411</td>\n",
       "      <td>0.265298</td>\n",
       "      <td>-3.102163</td>\n",
       "      <td>-1.992497</td>\n",
       "      <td>0.466334</td>\n",
       "      <td>...</td>\n",
       "      <td>0.466334</td>\n",
       "      <td>0.052316</td>\n",
       "      <td>0.002141</td>\n",
       "      <td>0.002272</td>\n",
       "      <td>0.241946</td>\n",
       "      <td>-3.098725</td>\n",
       "      <td>-2.015549</td>\n",
       "      <td>0.747508</td>\n",
       "      <td>0.005712</td>\n",
       "      <td>0.747508</td>\n",
       "    </tr>\n",
       "    <tr>\n",
       "      <th>1</th>\n",
       "      <td>LS</td>\n",
       "      <td>LS.1</td>\n",
       "      <td>1</td>\n",
       "      <td>0.047</td>\n",
       "      <td>0.002588</td>\n",
       "      <td>0.003411</td>\n",
       "      <td>0.265298</td>\n",
       "      <td>-3.102163</td>\n",
       "      <td>-1.992497</td>\n",
       "      <td>0.466334</td>\n",
       "      <td>...</td>\n",
       "      <td>0.466334</td>\n",
       "      <td>0.053455</td>\n",
       "      <td>0.002047</td>\n",
       "      <td>0.007050</td>\n",
       "      <td>0.257238</td>\n",
       "      <td>-3.091018</td>\n",
       "      <td>-2.029290</td>\n",
       "      <td>0.539815</td>\n",
       "      <td>0.006642</td>\n",
       "      <td>0.539815</td>\n",
       "    </tr>\n",
       "    <tr>\n",
       "      <th>2</th>\n",
       "      <td>LS</td>\n",
       "      <td>LS.1</td>\n",
       "      <td>2</td>\n",
       "      <td>0.047</td>\n",
       "      <td>0.002588</td>\n",
       "      <td>0.003411</td>\n",
       "      <td>0.265298</td>\n",
       "      <td>-3.102163</td>\n",
       "      <td>-1.992497</td>\n",
       "      <td>0.466334</td>\n",
       "      <td>...</td>\n",
       "      <td>0.466334</td>\n",
       "      <td>0.058051</td>\n",
       "      <td>0.002061</td>\n",
       "      <td>0.002075</td>\n",
       "      <td>0.210575</td>\n",
       "      <td>-2.930413</td>\n",
       "      <td>-1.913499</td>\n",
       "      <td>0.621169</td>\n",
       "      <td>0.008031</td>\n",
       "      <td>0.621169</td>\n",
       "    </tr>\n",
       "    <tr>\n",
       "      <th>3</th>\n",
       "      <td>LS</td>\n",
       "      <td>LS.1</td>\n",
       "      <td>3</td>\n",
       "      <td>0.047</td>\n",
       "      <td>0.002588</td>\n",
       "      <td>0.003411</td>\n",
       "      <td>0.265298</td>\n",
       "      <td>-3.102163</td>\n",
       "      <td>-1.992497</td>\n",
       "      <td>0.466334</td>\n",
       "      <td>...</td>\n",
       "      <td>0.466334</td>\n",
       "      <td>0.042472</td>\n",
       "      <td>0.003729</td>\n",
       "      <td>0.006402</td>\n",
       "      <td>0.296808</td>\n",
       "      <td>-3.469190</td>\n",
       "      <td>-2.236615</td>\n",
       "      <td>0.853472</td>\n",
       "      <td>0.009408</td>\n",
       "      <td>0.853472</td>\n",
       "    </tr>\n",
       "    <tr>\n",
       "      <th>4</th>\n",
       "      <td>LS</td>\n",
       "      <td>LS.1</td>\n",
       "      <td>4</td>\n",
       "      <td>0.047</td>\n",
       "      <td>0.002588</td>\n",
       "      <td>0.003411</td>\n",
       "      <td>0.265298</td>\n",
       "      <td>-3.102163</td>\n",
       "      <td>-1.992497</td>\n",
       "      <td>0.466334</td>\n",
       "      <td>...</td>\n",
       "      <td>0.466334</td>\n",
       "      <td>0.061113</td>\n",
       "      <td>0.001899</td>\n",
       "      <td>0.003870</td>\n",
       "      <td>0.262861</td>\n",
       "      <td>-2.946111</td>\n",
       "      <td>-1.873499</td>\n",
       "      <td>0.689232</td>\n",
       "      <td>0.005980</td>\n",
       "      <td>0.689232</td>\n",
       "    </tr>\n",
       "  </tbody>\n",
       "</table>\n",
       "<p>5 rows × 21 columns</p>\n",
       "</div>"
      ],
      "text/plain": [
       "  type dataset  level_2  errs_xy  hsicx_xy   hsic_xy  hsicc_xy    ent_xy  \\\n",
       "0   LS    LS.1        0    0.047  0.002588  0.003411  0.265298 -3.102163   \n",
       "1   LS    LS.1        1    0.047  0.002588  0.003411  0.265298 -3.102163   \n",
       "2   LS    LS.1        2    0.047  0.002588  0.003411  0.265298 -3.102163   \n",
       "3   LS    LS.1        3    0.047  0.002588  0.003411  0.265298 -3.102163   \n",
       "4   LS    LS.1        4    0.047  0.002588  0.003411  0.265298 -3.102163   \n",
       "\n",
       "    entx_xy  hsicz_xy  ...    mmd_xy   errs_yx  hsicx_yx   hsic_yx  hsicc_yx  \\\n",
       "0 -1.992497  0.466334  ...  0.466334  0.052316  0.002141  0.002272  0.241946   \n",
       "1 -1.992497  0.466334  ...  0.466334  0.053455  0.002047  0.007050  0.257238   \n",
       "2 -1.992497  0.466334  ...  0.466334  0.058051  0.002061  0.002075  0.210575   \n",
       "3 -1.992497  0.466334  ...  0.466334  0.042472  0.003729  0.006402  0.296808   \n",
       "4 -1.992497  0.466334  ...  0.466334  0.061113  0.001899  0.003870  0.262861   \n",
       "\n",
       "     ent_yx   entx_yx  hsicz_yx  hsiczz_yx    mmd_yx  \n",
       "0 -3.098725 -2.015549  0.747508   0.005712  0.747508  \n",
       "1 -3.091018 -2.029290  0.539815   0.006642  0.539815  \n",
       "2 -2.930413 -1.913499  0.621169   0.008031  0.621169  \n",
       "3 -3.469190 -2.236615  0.853472   0.009408  0.853472  \n",
       "4 -2.946111 -1.873499  0.689232   0.005980  0.689232  \n",
       "\n",
       "[5 rows x 21 columns]"
      ]
     },
     "execution_count": 63,
     "metadata": {},
     "output_type": "execute_result"
    }
   ],
   "source": [
    "df_nn = df_nn.reset_index()\n",
    "df_nn.head()"
   ]
  },
  {
   "cell_type": "code",
   "execution_count": 64,
   "metadata": {},
   "outputs": [
    {
     "name": "stdout",
     "output_type": "stream",
     "text": [
      "(3024000, 21)\n"
     ]
    }
   ],
   "source": [
    "print(df_nn.shape)"
   ]
  },
  {
   "cell_type": "code",
   "execution_count": 65,
   "metadata": {},
   "outputs": [],
   "source": [
    "df_nn = df_nn.rename(columns={\"level_2\": \"smpl\"})"
   ]
  },
  {
   "cell_type": "code",
   "execution_count": 66,
   "metadata": {},
   "outputs": [],
   "source": [
    "#sns.distplot(onp.abs(df_nn[\"hsicz_xy\"]-df_nn[\"hsicz_yx\"]))"
   ]
  },
  {
   "cell_type": "code",
   "execution_count": 67,
   "metadata": {},
   "outputs": [],
   "source": [
    "df_nn[\"lowConv\"]=onp.abs(df_nn[\"hsicz_xy\"]-df_nn[\"hsicz_yx\"])<0.2"
   ]
  },
  {
   "cell_type": "code",
   "execution_count": 94,
   "metadata": {},
   "outputs": [
    {
     "data": {
      "text/html": [
       "<div>\n",
       "<style scoped>\n",
       "    .dataframe tbody tr th:only-of-type {\n",
       "        vertical-align: middle;\n",
       "    }\n",
       "\n",
       "    .dataframe tbody tr th {\n",
       "        vertical-align: top;\n",
       "    }\n",
       "\n",
       "    .dataframe thead th {\n",
       "        text-align: right;\n",
       "    }\n",
       "</style>\n",
       "<table border=\"1\" class=\"dataframe\">\n",
       "  <thead>\n",
       "    <tr style=\"text-align: right;\">\n",
       "      <th></th>\n",
       "      <th>type</th>\n",
       "      <th>dataset</th>\n",
       "      <th>0</th>\n",
       "    </tr>\n",
       "  </thead>\n",
       "  <tbody>\n",
       "    <tr>\n",
       "      <th>0</th>\n",
       "      <td>LS-s</td>\n",
       "      <td>LS-s.1</td>\n",
       "      <td>0.821627</td>\n",
       "    </tr>\n",
       "    <tr>\n",
       "      <th>1</th>\n",
       "      <td>LS-s</td>\n",
       "      <td>LS-s.10</td>\n",
       "      <td>0.814484</td>\n",
       "    </tr>\n",
       "    <tr>\n",
       "      <th>2</th>\n",
       "      <td>LS-s</td>\n",
       "      <td>LS-s.100</td>\n",
       "      <td>0.784722</td>\n",
       "    </tr>\n",
       "    <tr>\n",
       "      <th>3</th>\n",
       "      <td>LS-s</td>\n",
       "      <td>LS-s.11</td>\n",
       "      <td>0.747421</td>\n",
       "    </tr>\n",
       "    <tr>\n",
       "      <th>4</th>\n",
       "      <td>LS-s</td>\n",
       "      <td>LS-s.12</td>\n",
       "      <td>0.780556</td>\n",
       "    </tr>\n",
       "    <tr>\n",
       "      <th>...</th>\n",
       "      <td>...</td>\n",
       "      <td>...</td>\n",
       "      <td>...</td>\n",
       "    </tr>\n",
       "    <tr>\n",
       "      <th>95</th>\n",
       "      <td>LS-s</td>\n",
       "      <td>LS-s.95</td>\n",
       "      <td>0.741865</td>\n",
       "    </tr>\n",
       "    <tr>\n",
       "      <th>96</th>\n",
       "      <td>LS-s</td>\n",
       "      <td>LS-s.96</td>\n",
       "      <td>0.772024</td>\n",
       "    </tr>\n",
       "    <tr>\n",
       "      <th>97</th>\n",
       "      <td>LS-s</td>\n",
       "      <td>LS-s.97</td>\n",
       "      <td>0.754167</td>\n",
       "    </tr>\n",
       "    <tr>\n",
       "      <th>98</th>\n",
       "      <td>LS-s</td>\n",
       "      <td>LS-s.98</td>\n",
       "      <td>0.808532</td>\n",
       "    </tr>\n",
       "    <tr>\n",
       "      <th>99</th>\n",
       "      <td>LS-s</td>\n",
       "      <td>LS-s.99</td>\n",
       "      <td>0.796230</td>\n",
       "    </tr>\n",
       "  </tbody>\n",
       "</table>\n",
       "<p>100 rows × 3 columns</p>\n",
       "</div>"
      ],
      "text/plain": [
       "    type   dataset         0\n",
       "0   LS-s    LS-s.1  0.821627\n",
       "1   LS-s   LS-s.10  0.814484\n",
       "2   LS-s  LS-s.100  0.784722\n",
       "3   LS-s   LS-s.11  0.747421\n",
       "4   LS-s   LS-s.12  0.780556\n",
       "..   ...       ...       ...\n",
       "95  LS-s   LS-s.95  0.741865\n",
       "96  LS-s   LS-s.96  0.772024\n",
       "97  LS-s   LS-s.97  0.754167\n",
       "98  LS-s   LS-s.98  0.808532\n",
       "99  LS-s   LS-s.99  0.796230\n",
       "\n",
       "[100 rows x 3 columns]"
      ]
     },
     "execution_count": 94,
     "metadata": {},
     "output_type": "execute_result"
    }
   ],
   "source": [
    "def lowConv(x):\n",
    "    return onp.sum(x.lowConv)/x.shape[0]\n",
    "tab = df_nn[[\"type\",\"dataset\",\"lowConv\"]].groupby([\"type\",\"dataset\"]).apply(lowConv)\n",
    "tab = tab.reset_index()\n",
    "tab"
   ]
  },
  {
   "cell_type": "code",
   "execution_count": 95,
   "metadata": {},
   "outputs": [
    {
     "data": {
      "text/plain": [
       "0.8498015873015873"
      ]
     },
     "execution_count": 95,
     "metadata": {},
     "output_type": "execute_result"
    }
   ],
   "source": [
    "onp.max(tab[0])"
   ]
  },
  {
   "cell_type": "code",
   "execution_count": 96,
   "metadata": {},
   "outputs": [
    {
     "data": {
      "text/plain": [
       "type\n",
       "LS-s    0.771964\n",
       "dtype: float64"
      ]
     },
     "execution_count": 96,
     "metadata": {},
     "output_type": "execute_result"
    }
   ],
   "source": [
    "\n",
    "def mean0(x):\n",
    "    return onp.mean(x[0])\n",
    "tab.groupby([\"type\"]).apply(mean0)"
   ]
  },
  {
   "cell_type": "code",
   "execution_count": 97,
   "metadata": {},
   "outputs": [
    {
     "name": "stdout",
     "output_type": "stream",
     "text": [
      "(504000, 22)\n",
      "(504000, 22)\n"
     ]
    }
   ],
   "source": [
    "print(df_nn.shape)\n",
    "#df_nn = df_nn.loc[onp.logical_not(df_nn[\"lowConv\"])]\n",
    "print(df_nn.shape)"
   ]
  },
  {
   "cell_type": "markdown",
   "metadata": {},
   "source": [
    "# Filtering/ weighting pairs"
   ]
  },
  {
   "cell_type": "markdown",
   "metadata": {},
   "source": [
    "Filter/weight\n",
    "1. uniform - DONE\n",
    "2. best hsic(r,c) - DONE\n",
    "3. non-domminant efficient frontier - DONE\n",
    "4. model simple- simple logistic regression model \n",
    "5. model complex -  \"fair learning\" where sensitive vars are model classes"
   ]
  },
  {
   "cell_type": "markdown",
   "metadata": {},
   "source": [
    "## uniform: weighting"
   ]
  },
  {
   "cell_type": "code",
   "execution_count": 98,
   "metadata": {},
   "outputs": [],
   "source": [
    "ds = \"5\"\n",
    "st = \"LS-s\""
   ]
  },
  {
   "cell_type": "code",
   "execution_count": 99,
   "metadata": {},
   "outputs": [
    {
     "name": "stdout",
     "output_type": "stream",
     "text": [
      "(252,)\n",
      "(252,)\n"
     ]
    }
   ],
   "source": [
    "hsic_xy =  onp.array(df.loc[(df[\"dataset\"]==st+\".\"+ds), \"hsicx_xy\"])\n",
    "hsic_yx =  onp.array(df.loc[(df[\"dataset\"]==st+\".\"+ds),\"hsicx_yx\"])\n",
    "hsic = onp.hstack([hsic_xy, hsic_yx])\n",
    "hsicc_xy =  onp.array(df.loc[(df[\"dataset\"]==st+\".\"+ds),\"hsicc_xy\"])\n",
    "hsicc_yx =  onp.array(df.loc[(df[\"dataset\"]==st+\".\"+ds), \"hsicc_yx\"])\n",
    "hsicc = onp.hstack([hsicc_xy, hsicc_yx])\n",
    "\n",
    "#hsic_yx= hsic_yx[0:(hsic_yx.shape[0]-1)]\n",
    "#hsicc_yx= hsicc_yx[0:(hsicc_yx.shape[0]-1)]\n",
    "print(hsic_xy.shape)\n",
    "print(hsic_yx.shape)"
   ]
  },
  {
   "cell_type": "code",
   "execution_count": 100,
   "metadata": {},
   "outputs": [
    {
     "data": {
      "text/plain": [
       "<matplotlib.collections.PathCollection at 0x7f4a504aacd0>"
      ]
     },
     "execution_count": 100,
     "metadata": {},
     "output_type": "execute_result"
    },
    {
     "data": {
      "image/png": "[encoded data removed]",
      "text/plain": [
       "<Figure size 432x288 with 1 Axes>"
      ]
     },
     "metadata": {
      "needs_background": "light"
     },
     "output_type": "display_data"
    }
   ],
   "source": [
    "plt.scatter(onp.log10(hsic_xy), onp.log10(hsicc_xy))\n",
    "plt.scatter(onp.log10(hsic_yx), onp.log10(hsicc_yx))"
   ]
  },
  {
   "cell_type": "code",
   "execution_count": 101,
   "metadata": {},
   "outputs": [
    {
     "data": {
      "text/plain": [
       "'LS-s.5'"
      ]
     },
     "execution_count": 101,
     "metadata": {},
     "output_type": "execute_result"
    }
   ],
   "source": [
    "st+\".\"+ds"
   ]
  },
  {
   "cell_type": "code",
   "execution_count": 102,
   "metadata": {},
   "outputs": [
    {
     "data": {
      "text/html": [
       "<div>\n",
       "<style scoped>\n",
       "    .dataframe tbody tr th:only-of-type {\n",
       "        vertical-align: middle;\n",
       "    }\n",
       "\n",
       "    .dataframe tbody tr th {\n",
       "        vertical-align: top;\n",
       "    }\n",
       "\n",
       "    .dataframe thead th {\n",
       "        text-align: right;\n",
       "    }\n",
       "</style>\n",
       "<table border=\"1\" class=\"dataframe\">\n",
       "  <thead>\n",
       "    <tr style=\"text-align: right;\">\n",
       "      <th></th>\n",
       "      <th>errs_xy</th>\n",
       "      <th>hsic_xy</th>\n",
       "      <th>hsicc_xy</th>\n",
       "      <th>ent_xy</th>\n",
       "      <th>entx_xy</th>\n",
       "      <th>hsicx_xy</th>\n",
       "      <th>hsicz_xy</th>\n",
       "      <th>hsiczz_xy</th>\n",
       "      <th>mmd_xy</th>\n",
       "      <th>errs_yx</th>\n",
       "      <th>...</th>\n",
       "      <th>lu</th>\n",
       "      <th>lr</th>\n",
       "      <th>ot</th>\n",
       "      <th>epchs</th>\n",
       "      <th>bs</th>\n",
       "      <th>reps</th>\n",
       "      <th>type</th>\n",
       "      <th>dataset</th>\n",
       "      <th>set</th>\n",
       "      <th>num</th>\n",
       "    </tr>\n",
       "  </thead>\n",
       "  <tbody>\n",
       "    <tr>\n",
       "      <th>0</th>\n",
       "      <td>0.049594</td>\n",
       "      <td>0.006244</td>\n",
       "      <td>0.351918</td>\n",
       "      <td>-3.280004</td>\n",
       "      <td>-2.073914</td>\n",
       "      <td>0.005760</td>\n",
       "      <td>0.504589</td>\n",
       "      <td>0.323300</td>\n",
       "      <td>0.504589</td>\n",
       "      <td>0.045704</td>\n",
       "      <td>...</td>\n",
       "      <td>0.0</td>\n",
       "      <td>0.1</td>\n",
       "      <td>freeZ</td>\n",
       "      <td>500</td>\n",
       "      <td>100</td>\n",
       "      <td>7</td>\n",
       "      <td>LS-s</td>\n",
       "      <td>LS-s.5</td>\n",
       "      <td>ANLSMN_withZ</td>\n",
       "      <td>1000</td>\n",
       "    </tr>\n",
       "    <tr>\n",
       "      <th>1</th>\n",
       "      <td>0.047871</td>\n",
       "      <td>0.006551</td>\n",
       "      <td>0.205950</td>\n",
       "      <td>-3.305885</td>\n",
       "      <td>-2.079945</td>\n",
       "      <td>0.006541</td>\n",
       "      <td>0.504589</td>\n",
       "      <td>0.328589</td>\n",
       "      <td>0.504589</td>\n",
       "      <td>0.047541</td>\n",
       "      <td>...</td>\n",
       "      <td>0.0</td>\n",
       "      <td>0.1</td>\n",
       "      <td>freeZ</td>\n",
       "      <td>500</td>\n",
       "      <td>100</td>\n",
       "      <td>7</td>\n",
       "      <td>LS-s</td>\n",
       "      <td>LS-s.5</td>\n",
       "      <td>ANLSMN_withZ</td>\n",
       "      <td>1000</td>\n",
       "    </tr>\n",
       "    <tr>\n",
       "      <th>2</th>\n",
       "      <td>0.054468</td>\n",
       "      <td>0.003624</td>\n",
       "      <td>0.336332</td>\n",
       "      <td>-3.152627</td>\n",
       "      <td>-1.955868</td>\n",
       "      <td>0.003533</td>\n",
       "      <td>0.504589</td>\n",
       "      <td>0.306425</td>\n",
       "      <td>0.504589</td>\n",
       "      <td>0.043246</td>\n",
       "      <td>...</td>\n",
       "      <td>0.0</td>\n",
       "      <td>0.1</td>\n",
       "      <td>freeZ</td>\n",
       "      <td>500</td>\n",
       "      <td>100</td>\n",
       "      <td>7</td>\n",
       "      <td>LS-s</td>\n",
       "      <td>LS-s.5</td>\n",
       "      <td>ANLSMN_withZ</td>\n",
       "      <td>1000</td>\n",
       "    </tr>\n",
       "    <tr>\n",
       "      <th>3</th>\n",
       "      <td>0.055704</td>\n",
       "      <td>0.007139</td>\n",
       "      <td>0.267254</td>\n",
       "      <td>-3.100752</td>\n",
       "      <td>-1.966189</td>\n",
       "      <td>0.007637</td>\n",
       "      <td>0.504589</td>\n",
       "      <td>0.302648</td>\n",
       "      <td>0.504589</td>\n",
       "      <td>0.041452</td>\n",
       "      <td>...</td>\n",
       "      <td>0.0</td>\n",
       "      <td>0.1</td>\n",
       "      <td>freeZ</td>\n",
       "      <td>500</td>\n",
       "      <td>100</td>\n",
       "      <td>7</td>\n",
       "      <td>LS-s</td>\n",
       "      <td>LS-s.5</td>\n",
       "      <td>ANLSMN_withZ</td>\n",
       "      <td>1000</td>\n",
       "    </tr>\n",
       "    <tr>\n",
       "      <th>4</th>\n",
       "      <td>0.067251</td>\n",
       "      <td>0.009602</td>\n",
       "      <td>0.119384</td>\n",
       "      <td>-2.863776</td>\n",
       "      <td>-1.760179</td>\n",
       "      <td>0.007233</td>\n",
       "      <td>0.504589</td>\n",
       "      <td>0.229064</td>\n",
       "      <td>0.504589</td>\n",
       "      <td>0.052309</td>\n",
       "      <td>...</td>\n",
       "      <td>0.0</td>\n",
       "      <td>0.1</td>\n",
       "      <td>freeZ</td>\n",
       "      <td>500</td>\n",
       "      <td>100</td>\n",
       "      <td>7</td>\n",
       "      <td>LS-s</td>\n",
       "      <td>LS-s.5</td>\n",
       "      <td>ANLSMN_withZ</td>\n",
       "      <td>1000</td>\n",
       "    </tr>\n",
       "  </tbody>\n",
       "</table>\n",
       "<p>5 rows × 36 columns</p>\n",
       "</div>"
      ],
      "text/plain": [
       "    errs_xy   hsic_xy  hsicc_xy    ent_xy   entx_xy  hsicx_xy  hsicz_xy  \\\n",
       "0  0.049594  0.006244  0.351918 -3.280004 -2.073914  0.005760  0.504589   \n",
       "1  0.047871  0.006551  0.205950 -3.305885 -2.079945  0.006541  0.504589   \n",
       "2  0.054468  0.003624  0.336332 -3.152627 -1.955868  0.003533  0.504589   \n",
       "3  0.055704  0.007139  0.267254 -3.100752 -1.966189  0.007637  0.504589   \n",
       "4  0.067251  0.009602  0.119384 -2.863776 -1.760179  0.007233  0.504589   \n",
       "\n",
       "   hsiczz_xy    mmd_xy   errs_yx  ...   lu   lr     ot  epchs   bs  reps  \\\n",
       "0   0.323300  0.504589  0.045704  ...  0.0  0.1  freeZ    500  100     7   \n",
       "1   0.328589  0.504589  0.047541  ...  0.0  0.1  freeZ    500  100     7   \n",
       "2   0.306425  0.504589  0.043246  ...  0.0  0.1  freeZ    500  100     7   \n",
       "3   0.302648  0.504589  0.041452  ...  0.0  0.1  freeZ    500  100     7   \n",
       "4   0.229064  0.504589  0.052309  ...  0.0  0.1  freeZ    500  100     7   \n",
       "\n",
       "   type  dataset           set   num  \n",
       "0  LS-s   LS-s.5  ANLSMN_withZ  1000  \n",
       "1  LS-s   LS-s.5  ANLSMN_withZ  1000  \n",
       "2  LS-s   LS-s.5  ANLSMN_withZ  1000  \n",
       "3  LS-s   LS-s.5  ANLSMN_withZ  1000  \n",
       "4  LS-s   LS-s.5  ANLSMN_withZ  1000  \n",
       "\n",
       "[5 rows x 36 columns]"
      ]
     },
     "execution_count": 102,
     "metadata": {},
     "output_type": "execute_result"
    }
   ],
   "source": [
    "x = df.loc[(df[\"dataset\"]==st+\".\"+ds)]\n",
    "x.head()"
   ]
  },
  {
   "cell_type": "code",
   "execution_count": 103,
   "metadata": {},
   "outputs": [
    {
     "data": {
      "text/plain": [
       "(252, 36)"
      ]
     },
     "execution_count": 103,
     "metadata": {},
     "output_type": "execute_result"
    }
   ],
   "source": [
    "x.shape"
   ]
  },
  {
   "cell_type": "code",
   "execution_count": 104,
   "metadata": {},
   "outputs": [
    {
     "name": "stdout",
     "output_type": "stream",
     "text": [
      "(252,)\n"
     ]
    }
   ],
   "source": [
    "n = getParsUnifW(x)\n",
    "print(n)"
   ]
  },
  {
   "cell_type": "code",
   "execution_count": 105,
   "metadata": {},
   "outputs": [],
   "source": [
    "ws = unifo(n)"
   ]
  },
  {
   "cell_type": "code",
   "execution_count": 106,
   "metadata": {},
   "outputs": [
    {
     "data": {
      "text/plain": [
       "(25200, 36)"
      ]
     },
     "execution_count": 106,
     "metadata": {},
     "output_type": "execute_result"
    }
   ],
   "source": [
    "df.shape"
   ]
  },
  {
   "cell_type": "code",
   "execution_count": 107,
   "metadata": {},
   "outputs": [],
   "source": [
    "df=df.reset_index()"
   ]
  },
  {
   "cell_type": "code",
   "execution_count": 108,
   "metadata": {},
   "outputs": [
    {
     "data": {
      "text/html": [
       "<div>\n",
       "<style scoped>\n",
       "    .dataframe tbody tr th:only-of-type {\n",
       "        vertical-align: middle;\n",
       "    }\n",
       "\n",
       "    .dataframe tbody tr th {\n",
       "        vertical-align: top;\n",
       "    }\n",
       "\n",
       "    .dataframe thead th {\n",
       "        text-align: right;\n",
       "    }\n",
       "</style>\n",
       "<table border=\"1\" class=\"dataframe\">\n",
       "  <thead>\n",
       "    <tr style=\"text-align: right;\">\n",
       "      <th></th>\n",
       "      <th>index</th>\n",
       "      <th>errs_xy</th>\n",
       "      <th>hsic_xy</th>\n",
       "      <th>hsicc_xy</th>\n",
       "      <th>ent_xy</th>\n",
       "      <th>entx_xy</th>\n",
       "      <th>hsicx_xy</th>\n",
       "      <th>hsicz_xy</th>\n",
       "      <th>hsiczz_xy</th>\n",
       "      <th>mmd_xy</th>\n",
       "      <th>...</th>\n",
       "      <th>lr</th>\n",
       "      <th>ot</th>\n",
       "      <th>epchs</th>\n",
       "      <th>bs</th>\n",
       "      <th>reps</th>\n",
       "      <th>type</th>\n",
       "      <th>dataset</th>\n",
       "      <th>set</th>\n",
       "      <th>num</th>\n",
       "      <th>w_unif</th>\n",
       "    </tr>\n",
       "  </thead>\n",
       "  <tbody>\n",
       "    <tr>\n",
       "      <th>0</th>\n",
       "      <td>0</td>\n",
       "      <td>0.027083</td>\n",
       "      <td>0.024381</td>\n",
       "      <td>0.780127</td>\n",
       "      <td>-4.564907</td>\n",
       "      <td>-2.718646</td>\n",
       "      <td>0.030328</td>\n",
       "      <td>0.681622</td>\n",
       "      <td>0.063623</td>\n",
       "      <td>0.681622</td>\n",
       "      <td>...</td>\n",
       "      <td>0.1</td>\n",
       "      <td>freeZ</td>\n",
       "      <td>500</td>\n",
       "      <td>100</td>\n",
       "      <td>7</td>\n",
       "      <td>LS-s</td>\n",
       "      <td>LS-s.1</td>\n",
       "      <td>ANLSMN_withZ</td>\n",
       "      <td>1000</td>\n",
       "      <td>0.003968</td>\n",
       "    </tr>\n",
       "    <tr>\n",
       "      <th>1</th>\n",
       "      <td>1</td>\n",
       "      <td>0.024802</td>\n",
       "      <td>0.030332</td>\n",
       "      <td>0.484400</td>\n",
       "      <td>-4.624232</td>\n",
       "      <td>-2.762605</td>\n",
       "      <td>0.030340</td>\n",
       "      <td>0.681622</td>\n",
       "      <td>0.061254</td>\n",
       "      <td>0.681622</td>\n",
       "      <td>...</td>\n",
       "      <td>0.1</td>\n",
       "      <td>freeZ</td>\n",
       "      <td>500</td>\n",
       "      <td>100</td>\n",
       "      <td>7</td>\n",
       "      <td>LS-s</td>\n",
       "      <td>LS-s.1</td>\n",
       "      <td>ANLSMN_withZ</td>\n",
       "      <td>1000</td>\n",
       "      <td>0.003968</td>\n",
       "    </tr>\n",
       "    <tr>\n",
       "      <th>2</th>\n",
       "      <td>2</td>\n",
       "      <td>0.029882</td>\n",
       "      <td>0.031268</td>\n",
       "      <td>0.728674</td>\n",
       "      <td>-4.589707</td>\n",
       "      <td>-2.718121</td>\n",
       "      <td>0.031429</td>\n",
       "      <td>0.681622</td>\n",
       "      <td>0.055748</td>\n",
       "      <td>0.681622</td>\n",
       "      <td>...</td>\n",
       "      <td>0.1</td>\n",
       "      <td>freeZ</td>\n",
       "      <td>500</td>\n",
       "      <td>100</td>\n",
       "      <td>7</td>\n",
       "      <td>LS-s</td>\n",
       "      <td>LS-s.1</td>\n",
       "      <td>ANLSMN_withZ</td>\n",
       "      <td>1000</td>\n",
       "      <td>0.003968</td>\n",
       "    </tr>\n",
       "    <tr>\n",
       "      <th>3</th>\n",
       "      <td>3</td>\n",
       "      <td>0.033075</td>\n",
       "      <td>0.020490</td>\n",
       "      <td>0.605939</td>\n",
       "      <td>-4.330315</td>\n",
       "      <td>-2.593412</td>\n",
       "      <td>0.063710</td>\n",
       "      <td>0.681622</td>\n",
       "      <td>0.051780</td>\n",
       "      <td>0.681622</td>\n",
       "      <td>...</td>\n",
       "      <td>0.1</td>\n",
       "      <td>freeZ</td>\n",
       "      <td>500</td>\n",
       "      <td>100</td>\n",
       "      <td>7</td>\n",
       "      <td>LS-s</td>\n",
       "      <td>LS-s.1</td>\n",
       "      <td>ANLSMN_withZ</td>\n",
       "      <td>1000</td>\n",
       "      <td>0.003968</td>\n",
       "    </tr>\n",
       "    <tr>\n",
       "      <th>4</th>\n",
       "      <td>4</td>\n",
       "      <td>0.054311</td>\n",
       "      <td>0.045628</td>\n",
       "      <td>0.289183</td>\n",
       "      <td>-3.795319</td>\n",
       "      <td>-2.212888</td>\n",
       "      <td>0.196346</td>\n",
       "      <td>0.681622</td>\n",
       "      <td>0.042396</td>\n",
       "      <td>0.681622</td>\n",
       "      <td>...</td>\n",
       "      <td>0.1</td>\n",
       "      <td>freeZ</td>\n",
       "      <td>500</td>\n",
       "      <td>100</td>\n",
       "      <td>7</td>\n",
       "      <td>LS-s</td>\n",
       "      <td>LS-s.1</td>\n",
       "      <td>ANLSMN_withZ</td>\n",
       "      <td>1000</td>\n",
       "      <td>0.003968</td>\n",
       "    </tr>\n",
       "    <tr>\n",
       "      <th>...</th>\n",
       "      <td>...</td>\n",
       "      <td>...</td>\n",
       "      <td>...</td>\n",
       "      <td>...</td>\n",
       "      <td>...</td>\n",
       "      <td>...</td>\n",
       "      <td>...</td>\n",
       "      <td>...</td>\n",
       "      <td>...</td>\n",
       "      <td>...</td>\n",
       "      <td>...</td>\n",
       "      <td>...</td>\n",
       "      <td>...</td>\n",
       "      <td>...</td>\n",
       "      <td>...</td>\n",
       "      <td>...</td>\n",
       "      <td>...</td>\n",
       "      <td>...</td>\n",
       "      <td>...</td>\n",
       "      <td>...</td>\n",
       "      <td>...</td>\n",
       "    </tr>\n",
       "    <tr>\n",
       "      <th>25195</th>\n",
       "      <td>2</td>\n",
       "      <td>0.084565</td>\n",
       "      <td>0.014885</td>\n",
       "      <td>0.000172</td>\n",
       "      <td>-2.458002</td>\n",
       "      <td>-1.629917</td>\n",
       "      <td>0.013601</td>\n",
       "      <td>0.283446</td>\n",
       "      <td>0.323871</td>\n",
       "      <td>0.283446</td>\n",
       "      <td>...</td>\n",
       "      <td>0.1</td>\n",
       "      <td>freeZ</td>\n",
       "      <td>500</td>\n",
       "      <td>100</td>\n",
       "      <td>7</td>\n",
       "      <td>LS-s</td>\n",
       "      <td>LS-s.100</td>\n",
       "      <td>ANLSMN_withZ</td>\n",
       "      <td>1000</td>\n",
       "      <td>0.003968</td>\n",
       "    </tr>\n",
       "    <tr>\n",
       "      <th>25196</th>\n",
       "      <td>3</td>\n",
       "      <td>0.074890</td>\n",
       "      <td>0.009999</td>\n",
       "      <td>0.004105</td>\n",
       "      <td>-2.618244</td>\n",
       "      <td>-1.765126</td>\n",
       "      <td>0.009182</td>\n",
       "      <td>0.283446</td>\n",
       "      <td>0.447061</td>\n",
       "      <td>0.283446</td>\n",
       "      <td>...</td>\n",
       "      <td>0.1</td>\n",
       "      <td>freeZ</td>\n",
       "      <td>500</td>\n",
       "      <td>100</td>\n",
       "      <td>7</td>\n",
       "      <td>LS-s</td>\n",
       "      <td>LS-s.100</td>\n",
       "      <td>ANLSMN_withZ</td>\n",
       "      <td>1000</td>\n",
       "      <td>0.003968</td>\n",
       "    </tr>\n",
       "    <tr>\n",
       "      <th>25197</th>\n",
       "      <td>4</td>\n",
       "      <td>0.090577</td>\n",
       "      <td>0.014708</td>\n",
       "      <td>0.003175</td>\n",
       "      <td>-2.457047</td>\n",
       "      <td>-1.568637</td>\n",
       "      <td>0.015383</td>\n",
       "      <td>0.283446</td>\n",
       "      <td>0.375642</td>\n",
       "      <td>0.283446</td>\n",
       "      <td>...</td>\n",
       "      <td>0.1</td>\n",
       "      <td>freeZ</td>\n",
       "      <td>500</td>\n",
       "      <td>100</td>\n",
       "      <td>7</td>\n",
       "      <td>LS-s</td>\n",
       "      <td>LS-s.100</td>\n",
       "      <td>ANLSMN_withZ</td>\n",
       "      <td>1000</td>\n",
       "      <td>0.003968</td>\n",
       "    </tr>\n",
       "    <tr>\n",
       "      <th>25198</th>\n",
       "      <td>5</td>\n",
       "      <td>0.058012</td>\n",
       "      <td>0.008962</td>\n",
       "      <td>0.003926</td>\n",
       "      <td>-2.865269</td>\n",
       "      <td>-1.949303</td>\n",
       "      <td>0.011444</td>\n",
       "      <td>0.283446</td>\n",
       "      <td>0.552042</td>\n",
       "      <td>0.283446</td>\n",
       "      <td>...</td>\n",
       "      <td>0.1</td>\n",
       "      <td>freeZ</td>\n",
       "      <td>500</td>\n",
       "      <td>100</td>\n",
       "      <td>7</td>\n",
       "      <td>LS-s</td>\n",
       "      <td>LS-s.100</td>\n",
       "      <td>ANLSMN_withZ</td>\n",
       "      <td>1000</td>\n",
       "      <td>0.003968</td>\n",
       "    </tr>\n",
       "    <tr>\n",
       "      <th>25199</th>\n",
       "      <td>6</td>\n",
       "      <td>0.056588</td>\n",
       "      <td>0.012411</td>\n",
       "      <td>0.000311</td>\n",
       "      <td>-2.833694</td>\n",
       "      <td>-2.005229</td>\n",
       "      <td>0.014336</td>\n",
       "      <td>0.283446</td>\n",
       "      <td>0.603931</td>\n",
       "      <td>0.283446</td>\n",
       "      <td>...</td>\n",
       "      <td>0.1</td>\n",
       "      <td>freeZ</td>\n",
       "      <td>500</td>\n",
       "      <td>100</td>\n",
       "      <td>7</td>\n",
       "      <td>LS-s</td>\n",
       "      <td>LS-s.100</td>\n",
       "      <td>ANLSMN_withZ</td>\n",
       "      <td>1000</td>\n",
       "      <td>0.003968</td>\n",
       "    </tr>\n",
       "  </tbody>\n",
       "</table>\n",
       "<p>25200 rows × 38 columns</p>\n",
       "</div>"
      ],
      "text/plain": [
       "       index   errs_xy   hsic_xy  hsicc_xy    ent_xy   entx_xy  hsicx_xy  \\\n",
       "0          0  0.027083  0.024381  0.780127 -4.564907 -2.718646  0.030328   \n",
       "1          1  0.024802  0.030332  0.484400 -4.624232 -2.762605  0.030340   \n",
       "2          2  0.029882  0.031268  0.728674 -4.589707 -2.718121  0.031429   \n",
       "3          3  0.033075  0.020490  0.605939 -4.330315 -2.593412  0.063710   \n",
       "4          4  0.054311  0.045628  0.289183 -3.795319 -2.212888  0.196346   \n",
       "...      ...       ...       ...       ...       ...       ...       ...   \n",
       "25195      2  0.084565  0.014885  0.000172 -2.458002 -1.629917  0.013601   \n",
       "25196      3  0.074890  0.009999  0.004105 -2.618244 -1.765126  0.009182   \n",
       "25197      4  0.090577  0.014708  0.003175 -2.457047 -1.568637  0.015383   \n",
       "25198      5  0.058012  0.008962  0.003926 -2.865269 -1.949303  0.011444   \n",
       "25199      6  0.056588  0.012411  0.000311 -2.833694 -2.005229  0.014336   \n",
       "\n",
       "       hsicz_xy  hsiczz_xy    mmd_xy  ...   lr     ot  epchs   bs  reps  type  \\\n",
       "0      0.681622   0.063623  0.681622  ...  0.1  freeZ    500  100     7  LS-s   \n",
       "1      0.681622   0.061254  0.681622  ...  0.1  freeZ    500  100     7  LS-s   \n",
       "2      0.681622   0.055748  0.681622  ...  0.1  freeZ    500  100     7  LS-s   \n",
       "3      0.681622   0.051780  0.681622  ...  0.1  freeZ    500  100     7  LS-s   \n",
       "4      0.681622   0.042396  0.681622  ...  0.1  freeZ    500  100     7  LS-s   \n",
       "...         ...        ...       ...  ...  ...    ...    ...  ...   ...   ...   \n",
       "25195  0.283446   0.323871  0.283446  ...  0.1  freeZ    500  100     7  LS-s   \n",
       "25196  0.283446   0.447061  0.283446  ...  0.1  freeZ    500  100     7  LS-s   \n",
       "25197  0.283446   0.375642  0.283446  ...  0.1  freeZ    500  100     7  LS-s   \n",
       "25198  0.283446   0.552042  0.283446  ...  0.1  freeZ    500  100     7  LS-s   \n",
       "25199  0.283446   0.603931  0.283446  ...  0.1  freeZ    500  100     7  LS-s   \n",
       "\n",
       "        dataset           set   num    w_unif  \n",
       "0        LS-s.1  ANLSMN_withZ  1000  0.003968  \n",
       "1        LS-s.1  ANLSMN_withZ  1000  0.003968  \n",
       "2        LS-s.1  ANLSMN_withZ  1000  0.003968  \n",
       "3        LS-s.1  ANLSMN_withZ  1000  0.003968  \n",
       "4        LS-s.1  ANLSMN_withZ  1000  0.003968  \n",
       "...         ...           ...   ...       ...  \n",
       "25195  LS-s.100  ANLSMN_withZ  1000  0.003968  \n",
       "25196  LS-s.100  ANLSMN_withZ  1000  0.003968  \n",
       "25197  LS-s.100  ANLSMN_withZ  1000  0.003968  \n",
       "25198  LS-s.100  ANLSMN_withZ  1000  0.003968  \n",
       "25199  LS-s.100  ANLSMN_withZ  1000  0.003968  \n",
       "\n",
       "[25200 rows x 38 columns]"
      ]
     },
     "execution_count": 108,
     "metadata": {},
     "output_type": "execute_result"
    }
   ],
   "source": [
    "df.groupby(['type',\"dataset\"]).apply(getWeights, nm=\"w_unif\", funct=unifo, getParsFunct=getParsUnifW, pars=())"
   ]
  },
  {
   "cell_type": "code",
   "execution_count": 109,
   "metadata": {},
   "outputs": [],
   "source": [
    "#df = df_rand"
   ]
  },
  {
   "cell_type": "code",
   "execution_count": 110,
   "metadata": {
    "scrolled": false
   },
   "outputs": [
    {
     "name": "stdout",
     "output_type": "stream",
     "text": [
      "get model matrix\n",
      "model matrix time  8.282666667488077e-07  mins\n",
      "get model\n",
      "model fitting time  0.00015922714999992612  mins\n",
      "measure time for one dataset\n",
      "0.005204069000001255\n",
      "estimate for all datasets\n",
      "estimated time for model application: 0.008673448333335424  mins\n",
      "estimated time  0.008673448333335424  mins\n",
      "estimated time  0.00014455747222225706  hours\n",
      "estimated time time  6.0232280092607104e-06  days\n",
      "apply model to each datset\n"
     ]
    },
    {
     "name": "stderr",
     "output_type": "stream",
     "text": [
      "/home/emiliano/Documents/ISP/proyectos/causality/latentNoise_krr/src/processResults.py:661: SettingWithCopyWarning: \n",
      "A value is trying to be set on a copy of a slice from a DataFrame.\n",
      "Try using .loc[row_indexer,col_indexer] = value instead\n",
      "\n",
      "See the caveats in the documentation: https://pandas.pydata.org/pandas-docs/stable/user_guide/indexing.html#returning-a-view-versus-a-copy\n",
      "  res[nm] = ws\n"
     ]
    },
    {
     "name": "stdout",
     "output_type": "stream",
     "text": [
      "actual time  0.00859018400000006  mins\n",
      "get model matrix\n",
      "model matrix time  1.4296166668259502e-06  mins\n",
      "get model\n",
      "model fitting time  0.0001816399000001449  mins\n",
      "measure time for one dataset\n",
      "0.005759784999995077\n",
      "estimate for all datasets\n",
      "estimated time for model application: 0.009599641666658462  mins\n",
      "estimated time  0.009599641666658462  mins\n",
      "estimated time  0.00015999402777764103  hours\n",
      "estimated time time  6.666417824068376e-06  days\n",
      "apply model to each datset\n",
      "actual time  0.011337630383333418  mins\n",
      "get model matrix\n",
      "model matrix time  7.437833334715075e-07  mins\n",
      "get model\n",
      "model fitting time  0.00016880218333336454  mins\n",
      "measure time for one dataset\n",
      "0.0034316340000088985\n",
      "estimate for all datasets\n",
      "estimated time for model application: 0.0057193900000148306  mins\n",
      "estimated time  0.0057193900000148306  mins\n",
      "estimated time  9.532316666691384e-05  hours\n",
      "estimated time time  3.97179861112141e-06  days\n",
      "apply model to each datset\n",
      "actual time  0.012125077066666752  mins\n",
      "get model matrix\n",
      "model matrix time  2.0281666669082672e-07  mins\n",
      "get model\n",
      "model fitting time  5.471926666658078e-05  mins\n",
      "measure time for one dataset\n",
      "0.0037148549999983516\n",
      "estimate for all datasets\n",
      "estimated time for model application: 0.006191424999997253  mins\n",
      "estimated time  0.006191424999997253  mins\n",
      "estimated time  0.00010319041666662088  hours\n",
      "estimated time time  4.299600694442536e-06  days\n",
      "apply model to each datset\n",
      "actual time  0.03648211763333317  mins\n"
     ]
    }
   ],
   "source": [
    "df[\"smpl\"] = 1\n",
    "df = getWeightsWrapper(df, getModMatVan, None, getModVan, None, \"w_unif\", unifo, getParsUnifW, [])\n",
    "df_rand = getWeightsWrapper(df_rand, getModMatVan, None, getModVan, None, \"w_unif\", unifo, getParsUnifW, [])\n",
    "df_intsc = getWeightsWrapper(df_intsc, getModMatVan, None, getModVan, None, \"w_unif\", unifo, getParsUnifW, [])\n",
    "df_nn = getWeightsWrapper(df_nn, getModMatVan, None, getModVan, None, \"w_unif\", unifo, getParsUnifW, [])"
   ]
  },
  {
   "cell_type": "markdown",
   "metadata": {},
   "source": [
    "## best hsic(r,c) : weighting"
   ]
  },
  {
   "cell_type": "code",
   "execution_count": 68,
   "metadata": {},
   "outputs": [],
   "source": [
    "ds = \"2\"\n",
    "st = \"LS-s\""
   ]
  },
  {
   "cell_type": "code",
   "execution_count": 69,
   "metadata": {},
   "outputs": [
    {
     "name": "stdout",
     "output_type": "stream",
     "text": [
      "(252,)\n",
      "(252,)\n"
     ]
    }
   ],
   "source": [
    "hsic_xy =  onp.array(df.loc[(df[\"dataset\"]==st+\".\"+ds), \"hsicx_xy\"])\n",
    "hsic_yx =  onp.array(df.loc[(df[\"dataset\"]==st+\".\"+ds),\"hsicx_yx\"])\n",
    "hsic = onp.hstack([hsic_xy, hsic_yx])\n",
    "hsicc_xy =  onp.array(df.loc[(df[\"dataset\"]==st+\".\"+ds),\"hsicc_xy\"])\n",
    "hsicc_yx =  onp.array(df.loc[(df[\"dataset\"]==st+\".\"+ds), \"hsicc_yx\"])\n",
    "hsicc = onp.hstack([hsicc_xy, hsicc_yx])\n",
    "\n",
    "#hsic_yx= hsic_yx[0:(hsic_yx.shape[0]-1)]\n",
    "#hsicc_yx= hsicc_yx[0:(hsicc_yx.shape[0]-1)]\n",
    "print(hsic_xy.shape)\n",
    "print(hsic_yx.shape)"
   ]
  },
  {
   "cell_type": "code",
   "execution_count": 70,
   "metadata": {},
   "outputs": [
    {
     "data": {
      "text/plain": [
       "<matplotlib.collections.PathCollection at 0x7f354d496750>"
      ]
     },
     "execution_count": 70,
     "metadata": {},
     "output_type": "execute_result"
    },
    {
     "data": {
      "image/png": "[encoded data removed]",
      "text/plain": [
       "<Figure size 432x288 with 1 Axes>"
      ]
     },
     "metadata": {
      "needs_background": "light"
     },
     "output_type": "display_data"
    }
   ],
   "source": [
    "plt.scatter(onp.log10(hsic_xy), onp.log10(hsicc_xy))\n",
    "plt.scatter(onp.log10(hsic_yx), onp.log10(hsicc_yx))"
   ]
  },
  {
   "cell_type": "code",
   "execution_count": 71,
   "metadata": {},
   "outputs": [
    {
     "data": {
      "text/html": [
       "<div>\n",
       "<style scoped>\n",
       "    .dataframe tbody tr th:only-of-type {\n",
       "        vertical-align: middle;\n",
       "    }\n",
       "\n",
       "    .dataframe tbody tr th {\n",
       "        vertical-align: top;\n",
       "    }\n",
       "\n",
       "    .dataframe thead th {\n",
       "        text-align: right;\n",
       "    }\n",
       "</style>\n",
       "<table border=\"1\" class=\"dataframe\">\n",
       "  <thead>\n",
       "    <tr style=\"text-align: right;\">\n",
       "      <th></th>\n",
       "      <th>errs_xy</th>\n",
       "      <th>hsic_xy</th>\n",
       "      <th>hsicc_xy</th>\n",
       "      <th>ent_xy</th>\n",
       "      <th>entx_xy</th>\n",
       "      <th>hsicx_xy</th>\n",
       "      <th>hsicz_xy</th>\n",
       "      <th>hsiczz_xy</th>\n",
       "      <th>mmd_xy</th>\n",
       "      <th>errs_yx</th>\n",
       "      <th>...</th>\n",
       "      <th>lu</th>\n",
       "      <th>lr</th>\n",
       "      <th>ot</th>\n",
       "      <th>epchs</th>\n",
       "      <th>bs</th>\n",
       "      <th>reps</th>\n",
       "      <th>type</th>\n",
       "      <th>dataset</th>\n",
       "      <th>set</th>\n",
       "      <th>num</th>\n",
       "    </tr>\n",
       "  </thead>\n",
       "  <tbody>\n",
       "    <tr>\n",
       "      <th>0</th>\n",
       "      <td>0.029607</td>\n",
       "      <td>0.014793</td>\n",
       "      <td>0.763004</td>\n",
       "      <td>-4.449333</td>\n",
       "      <td>-2.779527</td>\n",
       "      <td>0.019311</td>\n",
       "      <td>0.644735</td>\n",
       "      <td>0.081334</td>\n",
       "      <td>0.644735</td>\n",
       "      <td>0.034350</td>\n",
       "      <td>...</td>\n",
       "      <td>0.0</td>\n",
       "      <td>0.1</td>\n",
       "      <td>freeZ</td>\n",
       "      <td>500</td>\n",
       "      <td>100</td>\n",
       "      <td>7</td>\n",
       "      <td>LS-s</td>\n",
       "      <td>LS-s.2</td>\n",
       "      <td>ANLSMN_withZ</td>\n",
       "      <td>1000</td>\n",
       "    </tr>\n",
       "    <tr>\n",
       "      <th>1</th>\n",
       "      <td>0.027627</td>\n",
       "      <td>0.019408</td>\n",
       "      <td>0.461555</td>\n",
       "      <td>-4.570171</td>\n",
       "      <td>-2.812070</td>\n",
       "      <td>0.019404</td>\n",
       "      <td>0.644735</td>\n",
       "      <td>0.082746</td>\n",
       "      <td>0.644735</td>\n",
       "      <td>0.036480</td>\n",
       "      <td>...</td>\n",
       "      <td>0.0</td>\n",
       "      <td>0.1</td>\n",
       "      <td>freeZ</td>\n",
       "      <td>500</td>\n",
       "      <td>100</td>\n",
       "      <td>7</td>\n",
       "      <td>LS-s</td>\n",
       "      <td>LS-s.2</td>\n",
       "      <td>ANLSMN_withZ</td>\n",
       "      <td>1000</td>\n",
       "    </tr>\n",
       "    <tr>\n",
       "      <th>2</th>\n",
       "      <td>0.029590</td>\n",
       "      <td>0.020149</td>\n",
       "      <td>0.702200</td>\n",
       "      <td>-4.569937</td>\n",
       "      <td>-2.812555</td>\n",
       "      <td>0.020148</td>\n",
       "      <td>0.644735</td>\n",
       "      <td>0.081805</td>\n",
       "      <td>0.644735</td>\n",
       "      <td>0.033090</td>\n",
       "      <td>...</td>\n",
       "      <td>0.0</td>\n",
       "      <td>0.1</td>\n",
       "      <td>freeZ</td>\n",
       "      <td>500</td>\n",
       "      <td>100</td>\n",
       "      <td>7</td>\n",
       "      <td>LS-s</td>\n",
       "      <td>LS-s.2</td>\n",
       "      <td>ANLSMN_withZ</td>\n",
       "      <td>1000</td>\n",
       "    </tr>\n",
       "    <tr>\n",
       "      <th>3</th>\n",
       "      <td>0.037388</td>\n",
       "      <td>0.016091</td>\n",
       "      <td>0.572924</td>\n",
       "      <td>-4.078753</td>\n",
       "      <td>-2.529092</td>\n",
       "      <td>0.049200</td>\n",
       "      <td>0.644735</td>\n",
       "      <td>0.069191</td>\n",
       "      <td>0.644735</td>\n",
       "      <td>0.028872</td>\n",
       "      <td>...</td>\n",
       "      <td>0.0</td>\n",
       "      <td>0.1</td>\n",
       "      <td>freeZ</td>\n",
       "      <td>500</td>\n",
       "      <td>100</td>\n",
       "      <td>7</td>\n",
       "      <td>LS-s</td>\n",
       "      <td>LS-s.2</td>\n",
       "      <td>ANLSMN_withZ</td>\n",
       "      <td>1000</td>\n",
       "    </tr>\n",
       "    <tr>\n",
       "      <th>4</th>\n",
       "      <td>0.047716</td>\n",
       "      <td>0.035490</td>\n",
       "      <td>0.285165</td>\n",
       "      <td>-3.794912</td>\n",
       "      <td>-2.310963</td>\n",
       "      <td>0.163549</td>\n",
       "      <td>0.644735</td>\n",
       "      <td>0.053070</td>\n",
       "      <td>0.644735</td>\n",
       "      <td>0.038181</td>\n",
       "      <td>...</td>\n",
       "      <td>0.0</td>\n",
       "      <td>0.1</td>\n",
       "      <td>freeZ</td>\n",
       "      <td>500</td>\n",
       "      <td>100</td>\n",
       "      <td>7</td>\n",
       "      <td>LS-s</td>\n",
       "      <td>LS-s.2</td>\n",
       "      <td>ANLSMN_withZ</td>\n",
       "      <td>1000</td>\n",
       "    </tr>\n",
       "  </tbody>\n",
       "</table>\n",
       "<p>5 rows × 36 columns</p>\n",
       "</div>"
      ],
      "text/plain": [
       "    errs_xy   hsic_xy  hsicc_xy    ent_xy   entx_xy  hsicx_xy  hsicz_xy  \\\n",
       "0  0.029607  0.014793  0.763004 -4.449333 -2.779527  0.019311  0.644735   \n",
       "1  0.027627  0.019408  0.461555 -4.570171 -2.812070  0.019404  0.644735   \n",
       "2  0.029590  0.020149  0.702200 -4.569937 -2.812555  0.020148  0.644735   \n",
       "3  0.037388  0.016091  0.572924 -4.078753 -2.529092  0.049200  0.644735   \n",
       "4  0.047716  0.035490  0.285165 -3.794912 -2.310963  0.163549  0.644735   \n",
       "\n",
       "   hsiczz_xy    mmd_xy   errs_yx  ...   lu   lr     ot  epchs   bs  reps  \\\n",
       "0   0.081334  0.644735  0.034350  ...  0.0  0.1  freeZ    500  100     7   \n",
       "1   0.082746  0.644735  0.036480  ...  0.0  0.1  freeZ    500  100     7   \n",
       "2   0.081805  0.644735  0.033090  ...  0.0  0.1  freeZ    500  100     7   \n",
       "3   0.069191  0.644735  0.028872  ...  0.0  0.1  freeZ    500  100     7   \n",
       "4   0.053070  0.644735  0.038181  ...  0.0  0.1  freeZ    500  100     7   \n",
       "\n",
       "   type  dataset           set   num  \n",
       "0  LS-s   LS-s.2  ANLSMN_withZ  1000  \n",
       "1  LS-s   LS-s.2  ANLSMN_withZ  1000  \n",
       "2  LS-s   LS-s.2  ANLSMN_withZ  1000  \n",
       "3  LS-s   LS-s.2  ANLSMN_withZ  1000  \n",
       "4  LS-s   LS-s.2  ANLSMN_withZ  1000  \n",
       "\n",
       "[5 rows x 36 columns]"
      ]
     },
     "execution_count": 71,
     "metadata": {},
     "output_type": "execute_result"
    }
   ],
   "source": [
    "x = df.loc[(df[\"dataset\"]==st+\".\"+ds)]\n",
    "x.head()"
   ]
  },
  {
   "cell_type": "code",
   "execution_count": 72,
   "metadata": {},
   "outputs": [],
   "source": [
    "sig = 5\n",
    "var = \"hsic\"\n",
    "var = \"hsicx\"\n"
   ]
  },
  {
   "cell_type": "code",
   "execution_count": 73,
   "metadata": {},
   "outputs": [],
   "source": [
    "X_xy, X_yx, sig = getParsHsicW(x, var, sig)"
   ]
  },
  {
   "cell_type": "code",
   "execution_count": 74,
   "metadata": {},
   "outputs": [],
   "source": [
    "ws = lowestHsic(X_xy, X_yx, sig)"
   ]
  },
  {
   "cell_type": "code",
   "execution_count": 77,
   "metadata": {},
   "outputs": [
    {
     "name": "stdout",
     "output_type": "stream",
     "text": [
      "get model matrix\n",
      "model matrix time  1.6760000107751693e-07  mins\n",
      "get model\n",
      "model fitting time  8.7556850000207e-05  mins\n",
      "measure time for one dataset\n",
      "0.16858618800006298\n",
      "estimate for all datasets\n",
      "estimated time for model application: 0.8429309400003149  mins\n",
      "estimated time  0.8429309400003149  mins\n",
      "estimated time  0.014048849000005248  hours\n",
      "estimated time time  0.000585368708333552  days\n",
      "apply model to each datset\n",
      "actual time  0.9031401465999996  mins\n"
     ]
    }
   ],
   "source": [
    "df[\"smpl\"] = 1\n",
    "#df = getWeightsWrapper(df, getModMatVan, None, getModVan, None, \"w_lowestHsic\", lowestHsic, getParsHsicW, [\"var\",\"sig\"], var=var, sig=sig)\n",
    "#df_rand = getWeightsWrapper(df_rand, getModMatVan, None, getModVan, None, \"w_lowestHsic\", lowestHsic, getParsHsicW, [\"var\",\"sig\"], var=var, sig=sig)\n",
    "#df_intsc = getWeightsWrapper(df_intsc, getModMatVan, None, getModVan, None, \"w_lowestHsic\", lowestHsic, getParsHsicW, [\"var\",\"sig\"], var=var, sig=sig)\n",
    "df_nn = getWeightsWrapper(df_nn, getModMatVan, None, getModVan, None, \"w_lowestHsic\", lowestHsic, getParsHsicW, [\"var\",\"sig\"], var=var, sig=sig)"
   ]
  },
  {
   "cell_type": "code",
   "execution_count": 119,
   "metadata": {},
   "outputs": [
    {
     "name": "stdout",
     "output_type": "stream",
     "text": [
      "0         8.993729e-18\n",
      "1         8.433077e-18\n",
      "2         8.667897e-18\n",
      "3         8.167572e-18\n",
      "4         8.118045e-18\n",
      "              ...     \n",
      "503995    4.201417e-17\n",
      "503996    9.842957e-16\n",
      "503997    4.097029e-17\n",
      "503998    1.481332e-15\n",
      "503999    2.145974e-16\n",
      "Name: w_lowestHsic, Length: 504000, dtype: float32\n"
     ]
    },
    {
     "data": {
      "text/plain": [
       "type\n",
       "LS-s    0.000232\n",
       "dtype: float64"
      ]
     },
     "execution_count": 119,
     "metadata": {},
     "output_type": "execute_result"
    }
   ],
   "source": [
    "print(df_nn[\"w_lowestHsic\"])\n",
    "onp.min(df_nn[\"hsicx_yx\"])\n",
    "def minHsic(x):\n",
    "    return onp.min(onp.vstack([x.hsicx_xy,x.hsicx_xy]))\n",
    "df_nn[[\"type\",\"hsicx_xy\",\"hsicx_yx\"]].groupby(\"type\").apply(minHsic)"
   ]
  },
  {
   "cell_type": "code",
   "execution_count": null,
   "metadata": {},
   "outputs": [],
   "source": []
  },
  {
   "cell_type": "markdown",
   "metadata": {},
   "source": [
    "## efficient-frontier : weighting"
   ]
  },
  {
   "cell_type": "code",
   "execution_count": 120,
   "metadata": {},
   "outputs": [],
   "source": [
    "ds = \"3\"\n",
    "st = \"LS-s\""
   ]
  },
  {
   "cell_type": "code",
   "execution_count": null,
   "metadata": {},
   "outputs": [],
   "source": [
    "hsic_xy =  onp.array(df.loc[(df[\"dataset\"]==st+\".\"+ds), \"hsicx_xy\"])\n",
    "hsic_yx =  onp.array(df.loc[(df[\"dataset\"]==st+\".\"+ds),\"hsicx_yx\"])\n",
    "hsic = onp.hstack([hsic_xy, hsic_yx])\n",
    "hsicc_xy =  onp.array(df.loc[(df[\"dataset\"]==st+\".\"+ds),\"hsicc_xy\"])\n",
    "hsicc_yx =  onp.array(df.loc[(df[\"dataset\"]==st+\".\"+ds), \"hsicc_yx\"])\n",
    "hsicc = onp.hstack([hsicc_xy, hsicc_yx])\n",
    "\n",
    "#hsic_yx= hsic_yx[0:(hsic_yx.shape[0]-1)]\n",
    "#hsicc_yx= hsicc_yx[0:(hsicc_yx.shape[0]-1)]\n",
    "print(hsic_xy.shape)\n",
    "print(hsic_yx.shape)"
   ]
  },
  {
   "cell_type": "code",
   "execution_count": null,
   "metadata": {
    "scrolled": true
   },
   "outputs": [],
   "source": [
    "plt.scatter(onp.log10(hsic_xy), onp.log10(hsicc_xy))\n",
    "plt.scatter(onp.log10(hsic_yx), onp.log10(hsicc_yx))"
   ]
  },
  {
   "cell_type": "code",
   "execution_count": null,
   "metadata": {},
   "outputs": [],
   "source": []
  },
  {
   "cell_type": "code",
   "execution_count": null,
   "metadata": {},
   "outputs": [],
   "source": [
    "x = df.loc[(df[\"dataset\"]==st+\".\"+ds)]\n",
    "x.head()"
   ]
  },
  {
   "cell_type": "code",
   "execution_count": null,
   "metadata": {},
   "outputs": [],
   "source": [
    "sig = 0.1\n",
    "varsss = [\"hsicx\",\"hsicc\"]"
   ]
  },
  {
   "cell_type": "code",
   "execution_count": null,
   "metadata": {},
   "outputs": [],
   "source": [
    "X_xy, X_yx, sig = getParsEffFrontW(x, varsss, sig)"
   ]
  },
  {
   "cell_type": "code",
   "execution_count": null,
   "metadata": {},
   "outputs": [],
   "source": [
    "#df_intsc = df_intsc.groupby(['type',\"dataset\"]).apply(getWeights, nm=\"w_effFront\", funct=effFront, getParsFunct=getParsEffFrontW, pars=(varsss,sig))"
   ]
  },
  {
   "cell_type": "code",
   "execution_count": null,
   "metadata": {},
   "outputs": [],
   "source": [
    "df = getWeightsWrapper(df, getModMatVan, None, getModVan, None, \"w_effFront\", effFront, getParsEffFrontW, [\"varsss\",\"sig\"], varsss=varsss, sig=sig)\n",
    "df_rand = getWeightsWrapper(df_rand, getModMatVan, None, getModVan, None, \"w_effFront\", effFront, getParsEffFrontW, [\"varsss\",\"sig\"], varsss=varsss, sig=sig)\n",
    "df_intsc = getWeightsWrapper(df_intsc, getModMatVan, None, getModVan, None, \"w_effFront\", effFront, getParsEffFrontW, [\"varsss\",\"sig\"], varsss=varsss, sig=sig)\n",
    "df_nn = getWeightsWrapper(df_nn, getModMatVan, None, getModVan, None, \"w_effFront\", effFront, getParsEffFrontW, [\"varsss\",\"sig\"], varsss=varsss, sig=sig)"
   ]
  },
  {
   "cell_type": "markdown",
   "metadata": {},
   "source": [
    "# Obtain long format"
   ]
  },
  {
   "cell_type": "code",
   "execution_count": 78,
   "metadata": {},
   "outputs": [
    {
     "data": {
      "text/plain": [
       "['w_lowestHsic']"
      ]
     },
     "execution_count": 78,
     "metadata": {},
     "output_type": "execute_result"
    }
   ],
   "source": [
    "vars_weights = list(df_nn.columns[list(onp.where([var.split(\"_\")[0]==\"w\" for var in list(df_nn.columns)]))[0]])\n",
    "vars_weights"
   ]
  },
  {
   "cell_type": "code",
   "execution_count": 79,
   "metadata": {},
   "outputs": [
    {
     "data": {
      "text/plain": [
       "{'lambda': [0.001, 0.01, 0.1, 1.0],\n",
       " 'sig': [0.5],\n",
       " 'eta': [0.1],\n",
       " 'beta': [0.1, 1.0, 10.0],\n",
       " 'neta': [0.1, 1.0, 10.0],\n",
       " 'nu': [1000.0],\n",
       " 'lu': [0.0],\n",
       " 'lr': [0.1],\n",
       " 'ot': ['freeZ'],\n",
       " 'epchs': [500],\n",
       " 'bs': [100],\n",
       " 'reps': [7]}"
      ]
     },
     "execution_count": 79,
     "metadata": {},
     "output_type": "execute_result"
    }
   ],
   "source": [
    "pars"
   ]
  },
  {
   "cell_type": "code",
   "execution_count": 80,
   "metadata": {},
   "outputs": [
    {
     "data": {
      "text/plain": [
       "['lambda',\n",
       " 'sig',\n",
       " 'eta',\n",
       " 'beta',\n",
       " 'neta',\n",
       " 'nu',\n",
       " 'lu',\n",
       " 'lr',\n",
       " 'ot',\n",
       " 'epchs',\n",
       " 'bs',\n",
       " 'reps']"
      ]
     },
     "execution_count": 80,
     "metadata": {},
     "output_type": "execute_result"
    }
   ],
   "source": [
    "parsVars = list(pars.keys())\n",
    "parsVars"
   ]
  },
  {
   "cell_type": "code",
   "execution_count": 81,
   "metadata": {},
   "outputs": [],
   "source": [
    "#df_rand_long_full = getLongFormat2(df_rand, [\"type\",\"dataset\"]+vars_weights)\n",
    "#df_long_full = getLongFormat2(df, [\"type\",\"dataset\",\"set\",\"num\",\"rep\",\"job\"]+parsVars+vars_weights)\n",
    "#df_intsc_long_full = getLongFormat2(df_intsc, [\"type\",\"dataset\"]+vars_weights)\n",
    "df_nn_long_full = getLongFormat2(df_nn, [\"type\",\"dataset\"]+vars_weights)"
   ]
  },
  {
   "cell_type": "code",
   "execution_count": 125,
   "metadata": {},
   "outputs": [],
   "source": [
    "#df_long_full = df_rand_long_full"
   ]
  },
  {
   "cell_type": "markdown",
   "metadata": {},
   "source": [
    "# Voting using weights"
   ]
  },
  {
   "cell_type": "code",
   "execution_count": 90,
   "metadata": {},
   "outputs": [],
   "source": [
    "repos = \"/home/emiliano/Documents/ISP/proyectos/causality/latentNoise_krr/results/\"\n",
    "suffix= \"_v6_optType.pkl\"\n",
    "res_bnch = pickle5.load( open( repos+\"res_bnch\"+suffix, \"rb\" ) ) "
   ]
  },
  {
   "cell_type": "code",
   "execution_count": 91,
   "metadata": {},
   "outputs": [],
   "source": [
    "def getTabAcc(i, j):\n",
    "    res_long, tabAcc = getAccuracy([df_long_full, df_rand_long_full, df_intsc_long_full, df_nn_long_full][i], \n",
    "                     [\"w_unif\",\"w_lowestHsic\",\"w_effFront\"][j], res_bnch=res_bnch, sig=0.001)\n",
    "    \n",
    "    # df, df_rand, df_intsc, df_nn\n",
    "    #\"w_unif\", \"w_lowestHsic\", \"w_effFront\", 'w_modSimpLogis', \"w_modSimpRF\", 'w_modCmplxLogis',\"w_modCmplxRF\"\n",
    "    tabAcc[\"pairUp\"] = [\"param\",\"rand\",\"intsc\",\"nn\"][i]\n",
    "    tabAcc[\"weight\"] = [\"w_unif\",\"w_lowestHsic\",\"w_effFront\"][j]\n",
    "    \n",
    "    return tabAcc"
   ]
  },
  {
   "cell_type": "code",
   "execution_count": 96,
   "metadata": {},
   "outputs": [],
   "source": [
    "def getTabAcc(i, j):\n",
    "    res_long, tabAcc = getAccuracy([df_nn_long_full,df_nn_long_full][i], \n",
    "                     [\"w_lowestHsic\",\"w_effFront\"][j], res_bnch=res_bnch, sig=0.001)\n",
    "    \n",
    "    # df, df_rand, df_intsc, df_nn\n",
    "    #\"w_unif\", \"w_lowestHsic\", \"w_effFront\", 'w_modSimpLogis', \"w_modSimpRF\", 'w_modCmplxLogis',\"w_modCmplxRF\"\n",
    "    tabAcc[\"pairUp\"] = [\"nn\",\"nn\"][i]\n",
    "    tabAcc[\"weight\"] = [\"w_lowestHsic\",\"w_effFront\"][j]\n",
    "    \n",
    "    return tabAcc"
   ]
  },
  {
   "cell_type": "code",
   "execution_count": 97,
   "metadata": {},
   "outputs": [
    {
     "data": {
      "text/plain": [
       "range(0, 1)"
      ]
     },
     "execution_count": 97,
     "metadata": {},
     "output_type": "execute_result"
    }
   ],
   "source": [
    "range(0,1)"
   ]
  },
  {
   "cell_type": "code",
   "execution_count": 98,
   "metadata": {},
   "outputs": [
    {
     "name": "stdout",
     "output_type": "stream",
     "text": [
      "varsID2: ['type', 'dataset']\n",
      "n_smpls: 100\n",
      "cols 2: Index(['type', 'dataset', 'errs', 'ent', 'hsic', 'hsicc', 'hsicz', 'mmd',\n",
      "       'smpl_wts', 'difErrsBnch', 'difPvalHsicBnch', 'maxPvalHsicBnch',\n",
      "       'minErrsBnch', 'additive'],\n",
      "      dtype='object')\n"
     ]
    },
    {
     "name": "stderr",
     "output_type": "stream",
     "text": [
      "/home/emiliano/Documents/ISP/proyectos/causality/latentNoise_krr/src/processResults.py:1764: SettingWithCopyWarning: \n",
      "A value is trying to be set on a copy of a slice from a DataFrame.\n",
      "Try using .loc[row_indexer,col_indexer] = value instead\n",
      "\n",
      "See the caveats in the documentation: https://pandas.pydata.org/pandas-docs/stable/user_guide/indexing.html#returning-a-view-versus-a-copy\n",
      "  aux[\"type\"] = grpNm\n",
      "/home/emiliano/Documents/ISP/proyectos/causality/latentNoise_krr/src/processResults.py:1701: SettingWithCopyWarning: \n",
      "A value is trying to be set on a copy of a slice from a DataFrame.\n",
      "Try using .loc[row_indexer,col_indexer] = value instead\n",
      "\n",
      "See the caveats in the documentation: https://pandas.pydata.org/pandas-docs/stable/user_guide/indexing.html#returning-a-view-versus-a-copy\n",
      "  dec_long_tcep[\"type\"] = \"tcep_w\"\n"
     ]
    }
   ],
   "source": [
    "tabAccs = [getTabAcc(i, j) for i in range(0,1) for j in range(0,1)]\n",
    "tabAcc = pd.concat(tabAccs)\n",
    "tabAcc = tabAcc.reset_index()"
   ]
  },
  {
   "cell_type": "code",
   "execution_count": 99,
   "metadata": {
    "scrolled": false
   },
   "outputs": [],
   "source": [
    "pd.set_option('display.max_columns', 100)\n",
    "tab = pd.pivot_table(tabAcc, index=[\"pairUp\",\"weight\"], columns=[\"variable\",\"type\"], values=\"value\", aggfunc=onp.sum)\n"
   ]
  },
  {
   "cell_type": "code",
   "execution_count": 100,
   "metadata": {},
   "outputs": [],
   "source": [
    "def sortCols2(x):\n",
    "    rightOrder = [\"LS-s\", \"MN-U\", \"tcep\", \"tcep_w\", \"tcep_Add\", \"tcep_NonAdd\", \"tcep_GEO\", \"tcep_NONGEO\", \"tcep_Disc\",\n",
    "                  \"tcep_NonDisc\"]\n",
    "    if x.name == \"type\":\n",
    "        indx = [mywhere([xx == r for r in rightOrder])[0] for xx in list(x)]\n",
    "        res = indx\n",
    "    else:\n",
    "        res = x\n",
    "\n",
    "    return res"
   ]
  },
  {
   "cell_type": "code",
   "execution_count": 103,
   "metadata": {},
   "outputs": [
    {
     "data": {
      "text/html": [
       "<div>\n",
       "<style scoped>\n",
       "    .dataframe tbody tr th:only-of-type {\n",
       "        vertical-align: middle;\n",
       "    }\n",
       "\n",
       "    .dataframe tbody tr th {\n",
       "        vertical-align: top;\n",
       "    }\n",
       "\n",
       "    .dataframe thead tr th {\n",
       "        text-align: left;\n",
       "    }\n",
       "\n",
       "    .dataframe thead tr:last-of-type th {\n",
       "        text-align: right;\n",
       "    }\n",
       "</style>\n",
       "<table border=\"1\" class=\"dataframe\">\n",
       "  <thead>\n",
       "    <tr>\n",
       "      <th></th>\n",
       "      <th>variable</th>\n",
       "      <th colspan=\"3\" halign=\"left\">ent</th>\n",
       "      <th colspan=\"3\" halign=\"left\">errs</th>\n",
       "      <th colspan=\"3\" halign=\"left\">hsic</th>\n",
       "      <th colspan=\"3\" halign=\"left\">hsicc</th>\n",
       "      <th colspan=\"3\" halign=\"left\">hsicz</th>\n",
       "      <th colspan=\"3\" halign=\"left\">mmd</th>\n",
       "    </tr>\n",
       "    <tr>\n",
       "      <th></th>\n",
       "      <th>type</th>\n",
       "      <th>LS</th>\n",
       "      <th>LS-s</th>\n",
       "      <th>MN-U</th>\n",
       "      <th>LS</th>\n",
       "      <th>LS-s</th>\n",
       "      <th>MN-U</th>\n",
       "      <th>LS</th>\n",
       "      <th>LS-s</th>\n",
       "      <th>MN-U</th>\n",
       "      <th>LS</th>\n",
       "      <th>LS-s</th>\n",
       "      <th>MN-U</th>\n",
       "      <th>LS</th>\n",
       "      <th>LS-s</th>\n",
       "      <th>MN-U</th>\n",
       "      <th>LS</th>\n",
       "      <th>LS-s</th>\n",
       "      <th>MN-U</th>\n",
       "    </tr>\n",
       "    <tr>\n",
       "      <th>pairUp</th>\n",
       "      <th>weight</th>\n",
       "      <th></th>\n",
       "      <th></th>\n",
       "      <th></th>\n",
       "      <th></th>\n",
       "      <th></th>\n",
       "      <th></th>\n",
       "      <th></th>\n",
       "      <th></th>\n",
       "      <th></th>\n",
       "      <th></th>\n",
       "      <th></th>\n",
       "      <th></th>\n",
       "      <th></th>\n",
       "      <th></th>\n",
       "      <th></th>\n",
       "      <th></th>\n",
       "      <th></th>\n",
       "      <th></th>\n",
       "    </tr>\n",
       "  </thead>\n",
       "  <tbody>\n",
       "    <tr>\n",
       "      <th>nn</th>\n",
       "      <th>w_lowestHsic</th>\n",
       "      <td>1.0</td>\n",
       "      <td>1.0</td>\n",
       "      <td>1.0</td>\n",
       "      <td>0.47</td>\n",
       "      <td>0.74</td>\n",
       "      <td>0.22</td>\n",
       "      <td>0.02</td>\n",
       "      <td>0.05</td>\n",
       "      <td>0.03</td>\n",
       "      <td>0.66</td>\n",
       "      <td>0.76</td>\n",
       "      <td>1.0</td>\n",
       "      <td>0.56</td>\n",
       "      <td>0.61</td>\n",
       "      <td>0.35</td>\n",
       "      <td>0.44</td>\n",
       "      <td>0.39</td>\n",
       "      <td>0.65</td>\n",
       "    </tr>\n",
       "  </tbody>\n",
       "</table>\n",
       "</div>"
      ],
      "text/plain": [
       "variable             ent            errs              hsic             hsicc  \\\n",
       "type                  LS LS-s MN-U    LS  LS-s  MN-U    LS  LS-s  MN-U    LS   \n",
       "pairUp weight                                                                  \n",
       "nn     w_lowestHsic  1.0  1.0  1.0  0.47  0.74  0.22  0.02  0.05  0.03  0.66   \n",
       "\n",
       "variable                       hsicz               mmd              \n",
       "type                 LS-s MN-U    LS  LS-s  MN-U    LS  LS-s  MN-U  \n",
       "pairUp weight                                                       \n",
       "nn     w_lowestHsic  0.76  1.0  0.56  0.61  0.35  0.44  0.39  0.65  "
      ]
     },
     "execution_count": 103,
     "metadata": {},
     "output_type": "execute_result"
    }
   ],
   "source": [
    "tab"
   ]
  },
  {
   "cell_type": "code",
   "execution_count": 102,
   "metadata": {},
   "outputs": [
    {
     "ename": "IndexError",
     "evalue": "index 0 is out of bounds for axis 0 with size 0",
     "output_type": "error",
     "traceback": [
      "\u001b[0;31m---------------------------------------------------------------------------\u001b[0m",
      "\u001b[0;31mIndexError\u001b[0m                                Traceback (most recent call last)",
      "\u001b[0;32m/tmp/ipykernel_12172/1432938690.py\u001b[0m in \u001b[0;36m<module>\u001b[0;34m\u001b[0m\n\u001b[0;32m----> 1\u001b[0;31m \u001b[0mtab\u001b[0m\u001b[0;34m.\u001b[0m\u001b[0msort_index\u001b[0m\u001b[0;34m(\u001b[0m\u001b[0maxis\u001b[0m\u001b[0;34m=\u001b[0m\u001b[0;36m1\u001b[0m\u001b[0;34m,\u001b[0m \u001b[0mkey\u001b[0m\u001b[0;34m=\u001b[0m\u001b[0;32mlambda\u001b[0m \u001b[0mx\u001b[0m\u001b[0;34m:\u001b[0m \u001b[0msortCols2\u001b[0m\u001b[0;34m(\u001b[0m\u001b[0mx\u001b[0m\u001b[0;34m)\u001b[0m\u001b[0;34m)\u001b[0m\u001b[0;34m\u001b[0m\u001b[0;34m\u001b[0m\u001b[0m\n\u001b[0m",
      "\u001b[0;32m~/anaconda3/lib/python3.7/site-packages/pandas/core/frame.py\u001b[0m in \u001b[0;36msort_index\u001b[0;34m(self, axis, level, ascending, inplace, kind, na_position, sort_remaining, ignore_index, key)\u001b[0m\n\u001b[1;32m   5419\u001b[0m         \u001b[0maxis\u001b[0m \u001b[0;34m=\u001b[0m \u001b[0mself\u001b[0m\u001b[0;34m.\u001b[0m\u001b[0m_get_axis_number\u001b[0m\u001b[0;34m(\u001b[0m\u001b[0maxis\u001b[0m\u001b[0;34m)\u001b[0m\u001b[0;34m\u001b[0m\u001b[0;34m\u001b[0m\u001b[0m\n\u001b[1;32m   5420\u001b[0m         \u001b[0mlabels\u001b[0m \u001b[0;34m=\u001b[0m \u001b[0mself\u001b[0m\u001b[0;34m.\u001b[0m\u001b[0m_get_axis\u001b[0m\u001b[0;34m(\u001b[0m\u001b[0maxis\u001b[0m\u001b[0;34m)\u001b[0m\u001b[0;34m\u001b[0m\u001b[0;34m\u001b[0m\u001b[0m\n\u001b[0;32m-> 5421\u001b[0;31m         \u001b[0mlabels\u001b[0m \u001b[0;34m=\u001b[0m \u001b[0mensure_key_mapped\u001b[0m\u001b[0;34m(\u001b[0m\u001b[0mlabels\u001b[0m\u001b[0;34m,\u001b[0m \u001b[0mkey\u001b[0m\u001b[0;34m,\u001b[0m \u001b[0mlevels\u001b[0m\u001b[0;34m=\u001b[0m\u001b[0mlevel\u001b[0m\u001b[0;34m)\u001b[0m\u001b[0;34m\u001b[0m\u001b[0;34m\u001b[0m\u001b[0m\n\u001b[0m\u001b[1;32m   5422\u001b[0m \u001b[0;34m\u001b[0m\u001b[0m\n\u001b[1;32m   5423\u001b[0m         \u001b[0;31m# make sure that the axis is lexsorted to start\u001b[0m\u001b[0;34m\u001b[0m\u001b[0;34m\u001b[0m\u001b[0;34m\u001b[0m\u001b[0m\n",
      "\u001b[0;32m~/anaconda3/lib/python3.7/site-packages/pandas/core/sorting.py\u001b[0m in \u001b[0;36mensure_key_mapped\u001b[0;34m(values, key, levels)\u001b[0m\n\u001b[1;32m    416\u001b[0m \u001b[0;34m\u001b[0m\u001b[0m\n\u001b[1;32m    417\u001b[0m     \u001b[0;32mif\u001b[0m \u001b[0misinstance\u001b[0m\u001b[0;34m(\u001b[0m\u001b[0mvalues\u001b[0m\u001b[0;34m,\u001b[0m \u001b[0mABCMultiIndex\u001b[0m\u001b[0;34m)\u001b[0m\u001b[0;34m:\u001b[0m\u001b[0;34m\u001b[0m\u001b[0;34m\u001b[0m\u001b[0m\n\u001b[0;32m--> 418\u001b[0;31m         \u001b[0;32mreturn\u001b[0m \u001b[0mensure_key_mapped_multiindex\u001b[0m\u001b[0;34m(\u001b[0m\u001b[0mvalues\u001b[0m\u001b[0;34m,\u001b[0m \u001b[0mkey\u001b[0m\u001b[0;34m,\u001b[0m \u001b[0mlevel\u001b[0m\u001b[0;34m=\u001b[0m\u001b[0mlevels\u001b[0m\u001b[0;34m)\u001b[0m\u001b[0;34m\u001b[0m\u001b[0;34m\u001b[0m\u001b[0m\n\u001b[0m\u001b[1;32m    419\u001b[0m \u001b[0;34m\u001b[0m\u001b[0m\n\u001b[1;32m    420\u001b[0m     \u001b[0mresult\u001b[0m \u001b[0;34m=\u001b[0m \u001b[0mkey\u001b[0m\u001b[0;34m(\u001b[0m\u001b[0mvalues\u001b[0m\u001b[0;34m.\u001b[0m\u001b[0mcopy\u001b[0m\u001b[0;34m(\u001b[0m\u001b[0;34m)\u001b[0m\u001b[0;34m)\u001b[0m\u001b[0;34m\u001b[0m\u001b[0;34m\u001b[0m\u001b[0m\n",
      "\u001b[0;32m~/anaconda3/lib/python3.7/site-packages/pandas/core/sorting.py\u001b[0m in \u001b[0;36mensure_key_mapped_multiindex\u001b[0;34m(index, key, level)\u001b[0m\n\u001b[1;32m    389\u001b[0m         \u001b[0;32mif\u001b[0m \u001b[0mlevel\u001b[0m \u001b[0;32min\u001b[0m \u001b[0msort_levels\u001b[0m\u001b[0;34m\u001b[0m\u001b[0;34m\u001b[0m\u001b[0m\n\u001b[1;32m    390\u001b[0m         \u001b[0;32melse\u001b[0m \u001b[0mindex\u001b[0m\u001b[0;34m.\u001b[0m\u001b[0m_get_level_values\u001b[0m\u001b[0;34m(\u001b[0m\u001b[0mlevel\u001b[0m\u001b[0;34m)\u001b[0m\u001b[0;34m\u001b[0m\u001b[0;34m\u001b[0m\u001b[0m\n\u001b[0;32m--> 391\u001b[0;31m         \u001b[0;32mfor\u001b[0m \u001b[0mlevel\u001b[0m \u001b[0;32min\u001b[0m \u001b[0mrange\u001b[0m\u001b[0;34m(\u001b[0m\u001b[0mindex\u001b[0m\u001b[0;34m.\u001b[0m\u001b[0mnlevels\u001b[0m\u001b[0;34m)\u001b[0m\u001b[0;34m\u001b[0m\u001b[0;34m\u001b[0m\u001b[0m\n\u001b[0m\u001b[1;32m    392\u001b[0m     ]\n\u001b[1;32m    393\u001b[0m \u001b[0;34m\u001b[0m\u001b[0m\n",
      "\u001b[0;32m~/anaconda3/lib/python3.7/site-packages/pandas/core/sorting.py\u001b[0m in \u001b[0;36m<listcomp>\u001b[0;34m(.0)\u001b[0m\n\u001b[1;32m    389\u001b[0m         \u001b[0;32mif\u001b[0m \u001b[0mlevel\u001b[0m \u001b[0;32min\u001b[0m \u001b[0msort_levels\u001b[0m\u001b[0;34m\u001b[0m\u001b[0;34m\u001b[0m\u001b[0m\n\u001b[1;32m    390\u001b[0m         \u001b[0;32melse\u001b[0m \u001b[0mindex\u001b[0m\u001b[0;34m.\u001b[0m\u001b[0m_get_level_values\u001b[0m\u001b[0;34m(\u001b[0m\u001b[0mlevel\u001b[0m\u001b[0;34m)\u001b[0m\u001b[0;34m\u001b[0m\u001b[0;34m\u001b[0m\u001b[0m\n\u001b[0;32m--> 391\u001b[0;31m         \u001b[0;32mfor\u001b[0m \u001b[0mlevel\u001b[0m \u001b[0;32min\u001b[0m \u001b[0mrange\u001b[0m\u001b[0;34m(\u001b[0m\u001b[0mindex\u001b[0m\u001b[0;34m.\u001b[0m\u001b[0mnlevels\u001b[0m\u001b[0;34m)\u001b[0m\u001b[0;34m\u001b[0m\u001b[0;34m\u001b[0m\u001b[0m\n\u001b[0m\u001b[1;32m    392\u001b[0m     ]\n\u001b[1;32m    393\u001b[0m \u001b[0;34m\u001b[0m\u001b[0m\n",
      "\u001b[0;32m~/anaconda3/lib/python3.7/site-packages/pandas/core/sorting.py\u001b[0m in \u001b[0;36mensure_key_mapped\u001b[0;34m(values, key, levels)\u001b[0m\n\u001b[1;32m    418\u001b[0m         \u001b[0;32mreturn\u001b[0m \u001b[0mensure_key_mapped_multiindex\u001b[0m\u001b[0;34m(\u001b[0m\u001b[0mvalues\u001b[0m\u001b[0;34m,\u001b[0m \u001b[0mkey\u001b[0m\u001b[0;34m,\u001b[0m \u001b[0mlevel\u001b[0m\u001b[0;34m=\u001b[0m\u001b[0mlevels\u001b[0m\u001b[0;34m)\u001b[0m\u001b[0;34m\u001b[0m\u001b[0;34m\u001b[0m\u001b[0m\n\u001b[1;32m    419\u001b[0m \u001b[0;34m\u001b[0m\u001b[0m\n\u001b[0;32m--> 420\u001b[0;31m     \u001b[0mresult\u001b[0m \u001b[0;34m=\u001b[0m \u001b[0mkey\u001b[0m\u001b[0;34m(\u001b[0m\u001b[0mvalues\u001b[0m\u001b[0;34m.\u001b[0m\u001b[0mcopy\u001b[0m\u001b[0;34m(\u001b[0m\u001b[0;34m)\u001b[0m\u001b[0;34m)\u001b[0m\u001b[0;34m\u001b[0m\u001b[0;34m\u001b[0m\u001b[0m\n\u001b[0m\u001b[1;32m    421\u001b[0m     \u001b[0;32mif\u001b[0m \u001b[0mlen\u001b[0m\u001b[0;34m(\u001b[0m\u001b[0mresult\u001b[0m\u001b[0;34m)\u001b[0m \u001b[0;34m!=\u001b[0m \u001b[0mlen\u001b[0m\u001b[0;34m(\u001b[0m\u001b[0mvalues\u001b[0m\u001b[0;34m)\u001b[0m\u001b[0;34m:\u001b[0m\u001b[0;34m\u001b[0m\u001b[0;34m\u001b[0m\u001b[0m\n\u001b[1;32m    422\u001b[0m         raise ValueError(\n",
      "\u001b[0;32m/tmp/ipykernel_12172/1432938690.py\u001b[0m in \u001b[0;36m<lambda>\u001b[0;34m(x)\u001b[0m\n\u001b[0;32m----> 1\u001b[0;31m \u001b[0mtab\u001b[0m\u001b[0;34m.\u001b[0m\u001b[0msort_index\u001b[0m\u001b[0;34m(\u001b[0m\u001b[0maxis\u001b[0m\u001b[0;34m=\u001b[0m\u001b[0;36m1\u001b[0m\u001b[0;34m,\u001b[0m \u001b[0mkey\u001b[0m\u001b[0;34m=\u001b[0m\u001b[0;32mlambda\u001b[0m \u001b[0mx\u001b[0m\u001b[0;34m:\u001b[0m \u001b[0msortCols2\u001b[0m\u001b[0;34m(\u001b[0m\u001b[0mx\u001b[0m\u001b[0;34m)\u001b[0m\u001b[0;34m)\u001b[0m\u001b[0;34m\u001b[0m\u001b[0;34m\u001b[0m\u001b[0m\n\u001b[0m",
      "\u001b[0;32m/tmp/ipykernel_12172/1562822154.py\u001b[0m in \u001b[0;36msortCols2\u001b[0;34m(x)\u001b[0m\n\u001b[1;32m      3\u001b[0m                   \"tcep_NonDisc\"]\n\u001b[1;32m      4\u001b[0m     \u001b[0;32mif\u001b[0m \u001b[0mx\u001b[0m\u001b[0;34m.\u001b[0m\u001b[0mname\u001b[0m \u001b[0;34m==\u001b[0m \u001b[0;34m\"type\"\u001b[0m\u001b[0;34m:\u001b[0m\u001b[0;34m\u001b[0m\u001b[0;34m\u001b[0m\u001b[0m\n\u001b[0;32m----> 5\u001b[0;31m         \u001b[0mindx\u001b[0m \u001b[0;34m=\u001b[0m \u001b[0;34m[\u001b[0m\u001b[0mmywhere\u001b[0m\u001b[0;34m(\u001b[0m\u001b[0;34m[\u001b[0m\u001b[0mxx\u001b[0m \u001b[0;34m==\u001b[0m \u001b[0mr\u001b[0m \u001b[0;32mfor\u001b[0m \u001b[0mr\u001b[0m \u001b[0;32min\u001b[0m \u001b[0mrightOrder\u001b[0m\u001b[0;34m]\u001b[0m\u001b[0;34m)\u001b[0m\u001b[0;34m[\u001b[0m\u001b[0;36m0\u001b[0m\u001b[0;34m]\u001b[0m \u001b[0;32mfor\u001b[0m \u001b[0mxx\u001b[0m \u001b[0;32min\u001b[0m \u001b[0mlist\u001b[0m\u001b[0;34m(\u001b[0m\u001b[0mx\u001b[0m\u001b[0;34m)\u001b[0m\u001b[0;34m]\u001b[0m\u001b[0;34m\u001b[0m\u001b[0;34m\u001b[0m\u001b[0m\n\u001b[0m\u001b[1;32m      6\u001b[0m         \u001b[0mres\u001b[0m \u001b[0;34m=\u001b[0m \u001b[0mindx\u001b[0m\u001b[0;34m\u001b[0m\u001b[0;34m\u001b[0m\u001b[0m\n\u001b[1;32m      7\u001b[0m     \u001b[0;32melse\u001b[0m\u001b[0;34m:\u001b[0m\u001b[0;34m\u001b[0m\u001b[0;34m\u001b[0m\u001b[0m\n",
      "\u001b[0;32m/tmp/ipykernel_12172/1562822154.py\u001b[0m in \u001b[0;36m<listcomp>\u001b[0;34m(.0)\u001b[0m\n\u001b[1;32m      3\u001b[0m                   \"tcep_NonDisc\"]\n\u001b[1;32m      4\u001b[0m     \u001b[0;32mif\u001b[0m \u001b[0mx\u001b[0m\u001b[0;34m.\u001b[0m\u001b[0mname\u001b[0m \u001b[0;34m==\u001b[0m \u001b[0;34m\"type\"\u001b[0m\u001b[0;34m:\u001b[0m\u001b[0;34m\u001b[0m\u001b[0;34m\u001b[0m\u001b[0m\n\u001b[0;32m----> 5\u001b[0;31m         \u001b[0mindx\u001b[0m \u001b[0;34m=\u001b[0m \u001b[0;34m[\u001b[0m\u001b[0mmywhere\u001b[0m\u001b[0;34m(\u001b[0m\u001b[0;34m[\u001b[0m\u001b[0mxx\u001b[0m \u001b[0;34m==\u001b[0m \u001b[0mr\u001b[0m \u001b[0;32mfor\u001b[0m \u001b[0mr\u001b[0m \u001b[0;32min\u001b[0m \u001b[0mrightOrder\u001b[0m\u001b[0;34m]\u001b[0m\u001b[0;34m)\u001b[0m\u001b[0;34m[\u001b[0m\u001b[0;36m0\u001b[0m\u001b[0;34m]\u001b[0m \u001b[0;32mfor\u001b[0m \u001b[0mxx\u001b[0m \u001b[0;32min\u001b[0m \u001b[0mlist\u001b[0m\u001b[0;34m(\u001b[0m\u001b[0mx\u001b[0m\u001b[0;34m)\u001b[0m\u001b[0;34m]\u001b[0m\u001b[0;34m\u001b[0m\u001b[0;34m\u001b[0m\u001b[0m\n\u001b[0m\u001b[1;32m      6\u001b[0m         \u001b[0mres\u001b[0m \u001b[0;34m=\u001b[0m \u001b[0mindx\u001b[0m\u001b[0;34m\u001b[0m\u001b[0;34m\u001b[0m\u001b[0m\n\u001b[1;32m      7\u001b[0m     \u001b[0;32melse\u001b[0m\u001b[0;34m:\u001b[0m\u001b[0;34m\u001b[0m\u001b[0;34m\u001b[0m\u001b[0m\n",
      "\u001b[0;32m~/Documents/ISP/proyectos/causality/latentNoise_krr/src/processResults.py\u001b[0m in \u001b[0;36mmywhere\u001b[0;34m(x)\u001b[0m\n\u001b[1;32m   1911\u001b[0m \u001b[0;32mdef\u001b[0m \u001b[0mmywhere\u001b[0m\u001b[0;34m(\u001b[0m\u001b[0mx\u001b[0m\u001b[0;34m)\u001b[0m\u001b[0;34m:\u001b[0m\u001b[0;34m\u001b[0m\u001b[0;34m\u001b[0m\u001b[0m\n\u001b[1;32m   1912\u001b[0m     \u001b[0mres\u001b[0m\u001b[0;34m,\u001b[0m \u001b[0;34m=\u001b[0m \u001b[0monp\u001b[0m\u001b[0;34m.\u001b[0m\u001b[0mwhere\u001b[0m\u001b[0;34m(\u001b[0m\u001b[0mx\u001b[0m\u001b[0;34m)\u001b[0m\u001b[0;34m\u001b[0m\u001b[0;34m\u001b[0m\u001b[0m\n\u001b[0;32m-> 1913\u001b[0;31m     \u001b[0;32mreturn\u001b[0m \u001b[0mres\u001b[0m\u001b[0;34m[\u001b[0m\u001b[0;36m0\u001b[0m\u001b[0;34m]\u001b[0m\u001b[0;34m\u001b[0m\u001b[0;34m\u001b[0m\u001b[0m\n\u001b[0m\u001b[1;32m   1914\u001b[0m \u001b[0;34m\u001b[0m\u001b[0m\n\u001b[1;32m   1915\u001b[0m \u001b[0;31m# to add \"smpl\" var to non sampled dfs based on unique parameter combo\u001b[0m\u001b[0;34m\u001b[0m\u001b[0;34m\u001b[0m\u001b[0;34m\u001b[0m\u001b[0m\n",
      "\u001b[0;31mIndexError\u001b[0m: index 0 is out of bounds for axis 0 with size 0"
     ]
    }
   ],
   "source": [
    "tab.sort_index(axis=1, key=lambda x: sortCols2(x))"
   ]
  },
  {
   "cell_type": "code",
   "execution_count": null,
   "metadata": {},
   "outputs": [],
   "source": [
    "def meanNum(x):\n",
    "    return onp.median(x.num)\n",
    "df[[\"type\",\"num\"]].groupby(\"type\").apply(meanNum)"
   ]
  },
  {
   "cell_type": "markdown",
   "metadata": {},
   "source": [
    "# Voting using weights - by param"
   ]
  },
  {
   "cell_type": "code",
   "execution_count": null,
   "metadata": {},
   "outputs": [],
   "source": [
    "df_long_full.head()"
   ]
  },
  {
   "cell_type": "code",
   "execution_count": null,
   "metadata": {},
   "outputs": [],
   "source": [
    "def getTabAccParam(j):\n",
    "    _, tabAcc = getAccuracy(df_long_full, [\"w_unif\",\"w_lowestHsic\",\"w_effFront\"][j], parVars=parsVars)#+[\"rep\"]\n",
    "    tabAcc[\"weight\"] = [\"w_unif\",\"w_lowestHsic\",\"w_effFront\"][j]\n",
    "    return tabAcc\n"
   ]
  },
  {
   "cell_type": "code",
   "execution_count": null,
   "metadata": {},
   "outputs": [],
   "source": [
    "tabAccs = [getTabAccParam(j)for j in range(2)]\n",
    "tabAcc = pd.concat(tabAccs)\n",
    "tabAcc = tabAcc.reset_index()\n",
    "tabAcc.head()"
   ]
  },
  {
   "cell_type": "code",
   "execution_count": null,
   "metadata": {},
   "outputs": [],
   "source": [
    "pd.set_option('display.max_rows', 1000)         #+[\"rep\"]\n",
    "pd.pivot_table(tabAcc, index=[\"weight\"]+parsVars, columns=[\"variable\",\"type\"], values=\"value\", aggfunc=onp.sum)"
   ]
  },
  {
   "cell_type": "code",
   "execution_count": null,
   "metadata": {},
   "outputs": [],
   "source": [
    "res_bnch[[\"dataset\",\"maxPvalHsicBnch\"]]"
   ]
  },
  {
   "cell_type": "code",
   "execution_count": null,
   "metadata": {},
   "outputs": [],
   "source": [
    "df_ch = df.copy()\n",
    "df_ch = df_ch.merge(res_bnch, how=\"left\", on=[\"dataset\",\"type\"])\n",
    "print(df_ch.head())\n",
    "df_ch[\"additive\"] = df_ch[\"maxPvalHsicBnch\"]>0.0001\n",
    "df_ch[\"right\"]=df_ch[\"ent_xy\"]<df_ch[\"ent_yx\"]\n",
    "\n",
    "# hsicc\n",
    "df_ch[\"logHsicc_xy\"] = onp.log10(df_ch[\"hsicc_xy\"])\n",
    "df_ch[\"logHsicc_yx\"] = onp.log10(df_ch[\"hsicc_yx\"])\n",
    "df_ch[\"logHsicc_absDif\"] = onp.abs(df_ch[\"logHsicc_yx\"]-df_ch[\"logHsicc_xy\"])\n",
    "df_ch[\"logHsicc_dif\"] = df_ch[\"logHsicc_yx\"]-df_ch[\"logHsicc_xy\"]\n",
    "\n",
    "#hsic\n",
    "df_ch[\"logHsic_xy\"] = onp.log10(df_ch[\"hsicx_xy\"])\n",
    "df_ch[\"logHsic_yx\"] = onp.log10(df_ch[\"hsicx_yx\"])\n",
    "df_ch[\"logHsic_absDif\"] = onp.abs(df_ch[\"logHsic_yx\"]-df_ch[\"logHsic_xy\"])\n",
    "df_ch[\"logHsic_dif\"] = df_ch[\"logHsic_yx\"]-df_ch[\"logHsic_xy\"]\n",
    "\n",
    "# mmd\n",
    "df_ch[\"logMmd_xy\"] = onp.log10(df_ch[\"mmd_xy\"])\n",
    "df_ch[\"logMmd_yx\"] = onp.log10(df_ch[\"mmd_yx\"])\n",
    "df_ch[\"logMmd_absDif\"] = onp.abs(df_ch[\"logMmd_yx\"]-df_ch[\"logMmd_xy\"])\n",
    "df_ch[\"logMmd_dif\"] = df_ch[\"logMmd_yx\"]-df_ch[\"logMmd_xy\"]\n",
    "\n",
    "\n",
    "# errs\n",
    "df_ch[\"logErrs_xy\"] = onp.log10(df_ch[\"errs_xy\"])\n",
    "df_ch[\"logErrs_yx\"] = onp.log10(df_ch[\"errs_yx\"])\n",
    "df_ch[\"logErrs_absDif\"] = onp.abs(df_ch[\"logErrs_yx\"]-df_ch[\"logErrs_xy\"])\n",
    "df_ch[\"logErrs_dif\"] = df_ch[\"logErrs_yx\"]-df_ch[\"logErrs_xy\"]\n",
    "\n",
    "# hsicz\n",
    "df_ch[\"logHsicz_xy\"] = onp.log10(df_ch[\"hsicz_xy\"])\n",
    "df_ch[\"logHsicz_yx\"] = onp.log10(df_ch[\"hsicz_yx\"])\n",
    "df_ch[\"logHsicz_absDif\"] = onp.abs(df_ch[\"logHsicz_yx\"]-df_ch[\"logHsicz_xy\"])\n",
    "df_ch[\"logHsicz_dif\"] = df_ch[\"logHsicz_xy\"]-df_ch[\"logHsicz_yx\"]\n",
    "\n",
    "# hsiczz\n",
    "df_ch[\"logHsiczz_xy\"] = onp.log10(df_ch[\"hsiczz_xy\"])\n",
    "df_ch[\"logHsiczz_yx\"] = onp.log10(df_ch[\"hsiczz_yx\"])\n",
    "df_ch[\"logHsiczz_absDif\"] = onp.abs(df_ch[\"logHsiczz_yx\"]-df_ch[\"logHsiczz_xy\"])\n",
    "df_ch[\"logHsiczz_dif\"] = df_ch[\"logHsiczz_xy\"]-df_ch[\"logHsiczz_yx\"]\n",
    "\n",
    "# ent\n",
    "df_ch[\"ent_absDif\"] = onp.abs(df_ch[\"ent_yx\"]-df_ch[\"ent_xy\"])\n",
    "df_ch[\"ent_dif\"] = df_ch[\"ent_yx\"]-df_ch[\"ent_xy\"]"
   ]
  },
  {
   "cell_type": "code",
   "execution_count": null,
   "metadata": {},
   "outputs": [],
   "source": [
    "df_ch[\"type2\"] = df_ch[\"type\"]\n",
    "df_ch[\"type2\"].loc[(df_ch[\"type\"]==\"tcep\")&onp.logical_not(df_ch[\"additive\"])] = \"tcep-add\""
   ]
  },
  {
   "cell_type": "code",
   "execution_count": null,
   "metadata": {},
   "outputs": [],
   "source": [
    "# opt Type"
   ]
  },
  {
   "cell_type": "code",
   "execution_count": null,
   "metadata": {},
   "outputs": [],
   "source": [
    "pars.keys()"
   ]
  },
  {
   "cell_type": "code",
   "execution_count": null,
   "metadata": {},
   "outputs": [],
   "source": [
    "varsId = [\"type\",\"dataset\",\"right\",\"job\",\"rep\",\"set\",\"lambda\",\"sig\",\"eta\",\"beta\",\"neta\",\"nu\",\"lu\",\"lr\",\"ot\",\"num\",\"epchs\",\"bs\",\"reps\"]\n",
    "varsId = [\"type\",\"dataset\",\"right\",\"job\",\"rep\",\"set\",\"lambda\",\"sig\",\"eta\",\"beta\",\"neta\",\"nu\",\"lu\",\"lr\",\"ot\",\"num\"]\n",
    "varsId = [\"type\",\"dataset\",\"right\",\"job\",\"rep\",\"set\",\"lambda\",\"eta\",\"beta\",\"neta\",\"nu\",\"lu\",\"bs\",\"ot\",\"num\"]\n",
    "\n",
    "varsId = [\"type\",\"type2\",\"dataset\",\"right\"]\n",
    "varsId = [\"type\",\"type2\",\"dataset\",\"right\",\"job\",\"rep\",\"set\",\"lambda\",\"eta\",\"beta\",\"neta\",\"nu\",\"lu\",\"lr\",\"ot\",\"num\"]"
   ]
  },
  {
   "cell_type": "markdown",
   "metadata": {},
   "source": [
    "# optType "
   ]
  },
  {
   "cell_type": "code",
   "execution_count": null,
   "metadata": {},
   "outputs": [],
   "source": [
    "par = \"ot\""
   ]
  },
  {
   "cell_type": "markdown",
   "metadata": {},
   "source": [
    "HSIC(z,x)"
   ]
  },
  {
   "cell_type": "code",
   "execution_count": null,
   "metadata": {},
   "outputs": [],
   "source": [
    "varsBx = [\"logHsicc_xy\",\"logHsicc_yx\",\"logHsicc_dif\",\"logHsicc_absDif\"] \n",
    "df_long = getLongFormat2(df_ch[varsId+varsBx], varsId)\n",
    "#df_rand_long = getLongFormat2(df_rand, [\"type\",\"dataset\",\"smpl\",\"right\"])"
   ]
  },
  {
   "cell_type": "code",
   "execution_count": null,
   "metadata": {},
   "outputs": [],
   "source": [
    "df_long[par+\"Dir\"] = df_long[par].astype(str)+\"_\"+df_long[\"dir\"]\n",
    "#df_rand_long[\"rightDir\"] = df_rand_long[\"right\"].astype(str)+\"_\"+df_rand_long[\"dir\"]"
   ]
  },
  {
   "cell_type": "code",
   "execution_count": null,
   "metadata": {},
   "outputs": [],
   "source": [
    "sns.boxplot(x=\"type\", hue=par+\"Dir\",y=\"value\", data=df_long.loc[df_long[\"dir\"].isin([\"xy\",\"yx\"])])\n",
    "plt.legend(bbox_to_anchor=(1.01, 1),borderaxespad=0)"
   ]
  },
  {
   "cell_type": "code",
   "execution_count": null,
   "metadata": {},
   "outputs": [],
   "source": [
    "sns.boxplot(x=\"type\", hue=par,y=\"value\", data=df_long.loc[df_long[\"dir\"]==\"dif\"])\n",
    "plt.legend(bbox_to_anchor=(1.01, 1),borderaxespad=0)\n",
    "plt.ylim(-1, 1)"
   ]
  },
  {
   "cell_type": "code",
   "execution_count": null,
   "metadata": {},
   "outputs": [],
   "source": [
    "sns.boxplot(x=\"type\", hue=par,y=\"value\", data=df_long.loc[df_long[\"dir\"]==\"absDif\"])\n",
    "plt.legend(bbox_to_anchor=(1.01, 1),borderaxespad=0)\n",
    "plt.ylim(0, 1)"
   ]
  },
  {
   "cell_type": "markdown",
   "metadata": {},
   "source": [
    "HSIC(r,c)"
   ]
  },
  {
   "cell_type": "code",
   "execution_count": null,
   "metadata": {},
   "outputs": [],
   "source": [
    "varsBx = [\"logHsic_xy\",\"logHsic_yx\",\"logHsic_dif\",\"logHsic_absDif\"] \n",
    "df_long = getLongFormat2(df_ch[varsId+varsBx], varsId)\n",
    "#df_rand_long = getLongFormat2(df_rand, [\"type\",\"dataset\",\"smpl\",\"right\"])"
   ]
  },
  {
   "cell_type": "code",
   "execution_count": null,
   "metadata": {},
   "outputs": [],
   "source": [
    "df_long[par+\"Dir\"] = df_long[par].astype(str)+\"_\"+df_long[\"dir\"]\n",
    "#df_rand_long[\"rightDir\"] = df_rand_long[\"right\"].astype(str)+\"_\"+df_rand_long[\"dir\"]"
   ]
  },
  {
   "cell_type": "code",
   "execution_count": null,
   "metadata": {},
   "outputs": [],
   "source": [
    "sns.boxplot(x=\"type\", hue=par+\"Dir\",y=\"value\", data=df_long.loc[df_long[\"dir\"].isin([\"xy\",\"yx\"])])\n",
    "plt.legend(bbox_to_anchor=(1.01, 1),borderaxespad=0)"
   ]
  },
  {
   "cell_type": "code",
   "execution_count": null,
   "metadata": {},
   "outputs": [],
   "source": [
    "sns.boxplot(x=\"type\", hue=par,y=\"value\", data=df_long.loc[df_long[\"dir\"]==\"dif\"])\n",
    "plt.legend(bbox_to_anchor=(1.01, 1),borderaxespad=0)\n",
    "plt.ylim(-1, 1)"
   ]
  },
  {
   "cell_type": "code",
   "execution_count": null,
   "metadata": {},
   "outputs": [],
   "source": [
    "sns.boxplot(x=\"type\", hue=par,y=\"value\", data=df_long.loc[df_long[\"dir\"]==\"absDif\"])\n",
    "plt.legend(bbox_to_anchor=(1.01, 1),borderaxespad=0)\n",
    "plt.ylim(0, 1)"
   ]
  },
  {
   "cell_type": "markdown",
   "metadata": {},
   "source": [
    "MSE(y,yhat)"
   ]
  },
  {
   "cell_type": "code",
   "execution_count": null,
   "metadata": {},
   "outputs": [],
   "source": [
    "varsBx = [\"logErrs_xy\",\"logErrs_yx\",\"logErrs_dif\",\"logErrs_absDif\"] \n",
    "df_long = getLongFormat2(df_ch[varsId+varsBx], varsId)\n",
    "#df_rand_long = getLongFormat2(df_rand, [\"type\",\"dataset\",\"smpl\",\"right\"])"
   ]
  },
  {
   "cell_type": "code",
   "execution_count": null,
   "metadata": {},
   "outputs": [],
   "source": [
    "df_long[par+\"Dir\"] = df_long[par].astype(str)+\"_\"+df_long[\"dir\"]\n",
    "#df_rand_long[\"rightDir\"] = df_rand_long[\"right\"].astype(str)+\"_\"+df_rand_long[\"dir\"]"
   ]
  },
  {
   "cell_type": "code",
   "execution_count": null,
   "metadata": {},
   "outputs": [],
   "source": [
    "sns.boxplot(x=\"type\", hue=par+\"Dir\",y=\"value\", data=df_long.loc[df_long[\"dir\"].isin([\"xy\",\"yx\"])])\n",
    "plt.legend(bbox_to_anchor=(1.01, 1),borderaxespad=0)"
   ]
  },
  {
   "cell_type": "code",
   "execution_count": null,
   "metadata": {},
   "outputs": [],
   "source": [
    "sns.boxplot(x=\"type\", hue=par,y=\"value\", data=df_long.loc[df_long[\"dir\"]==\"dif\"])\n",
    "plt.legend(bbox_to_anchor=(1.01, 1),borderaxespad=0)\n",
    "plt.ylim(-1, 1)"
   ]
  },
  {
   "cell_type": "code",
   "execution_count": null,
   "metadata": {},
   "outputs": [],
   "source": [
    "sns.boxplot(x=\"type\", hue=par,y=\"value\", data=df_long.loc[df_long[\"dir\"]==\"absDif\"])\n",
    "plt.legend(bbox_to_anchor=(1.01, 1),borderaxespad=0)\n",
    "plt.ylim(0, 1)"
   ]
  },
  {
   "cell_type": "markdown",
   "metadata": {},
   "source": [
    "Ent(resids)"
   ]
  },
  {
   "cell_type": "code",
   "execution_count": null,
   "metadata": {},
   "outputs": [],
   "source": [
    "varsBx = [\"ent_xy\",\"ent_yx\",\"ent_dif\",\"ent_absDif\"] \n",
    "df_long = getLongFormat2(df_ch[varsId+varsBx], varsId)\n",
    "#df_rand_long = getLongFormat2(df_rand, [\"type\",\"dataset\",\"smpl\",\"right\"])"
   ]
  },
  {
   "cell_type": "code",
   "execution_count": null,
   "metadata": {},
   "outputs": [],
   "source": [
    "df_long[par+\"Dir\"] = df_long[par].astype(str)+\"_\"+df_long[\"dir\"]\n",
    "#df_rand_long[\"rightDir\"] = df_rand_long[\"right\"].astype(str)+\"_\"+df_rand_long[\"dir\"]"
   ]
  },
  {
   "cell_type": "code",
   "execution_count": null,
   "metadata": {},
   "outputs": [],
   "source": [
    "sns.boxplot(x=\"type\", hue=par+\"Dir\",y=\"value\", data=df_long.loc[df_long[\"dir\"].isin([\"xy\",\"yx\"])])\n",
    "plt.legend(bbox_to_anchor=(1.01, 1),borderaxespad=0)"
   ]
  },
  {
   "cell_type": "code",
   "execution_count": null,
   "metadata": {},
   "outputs": [],
   "source": [
    "g=sns.boxplot(x=\"type\", hue=par,y=\"value\", data=df_long.loc[df_long[\"dir\"]==\"dif\"])\n",
    "g.axhline(0.0)\n",
    "plt.legend(bbox_to_anchor=(1.01, 1),borderaxespad=0)\n",
    "plt.ylim(-1, 1)\n",
    "plt.show()"
   ]
  },
  {
   "cell_type": "code",
   "execution_count": null,
   "metadata": {},
   "outputs": [],
   "source": [
    "sns.boxplot(x=\"type\", hue=par,y=\"value\", data=df_long.loc[df_long[\"dir\"]==\"absDif\"])\n",
    "plt.legend(bbox_to_anchor=(1.01, 1),borderaxespad=0)\n",
    "plt.ylim(0, 1)"
   ]
  },
  {
   "cell_type": "markdown",
   "metadata": {},
   "source": [
    "# lambda "
   ]
  },
  {
   "cell_type": "code",
   "execution_count": null,
   "metadata": {},
   "outputs": [],
   "source": [
    "par = \"bs\""
   ]
  },
  {
   "cell_type": "code",
   "execution_count": null,
   "metadata": {},
   "outputs": [],
   "source": [
    "par = \"eta\""
   ]
  },
  {
   "cell_type": "code",
   "execution_count": null,
   "metadata": {},
   "outputs": [],
   "source": [
    "par = \"neta\""
   ]
  },
  {
   "cell_type": "code",
   "execution_count": null,
   "metadata": {},
   "outputs": [],
   "source": [
    "par = \"beta\""
   ]
  },
  {
   "cell_type": "code",
   "execution_count": null,
   "metadata": {},
   "outputs": [],
   "source": [
    "par = \"lambda\" # beta, neta, lu"
   ]
  },
  {
   "cell_type": "code",
   "execution_count": null,
   "metadata": {},
   "outputs": [],
   "source": [
    "par"
   ]
  },
  {
   "cell_type": "markdown",
   "metadata": {},
   "source": [
    "HSIC(z,x)"
   ]
  },
  {
   "cell_type": "code",
   "execution_count": null,
   "metadata": {},
   "outputs": [],
   "source": [
    "varsBx = [\"logHsicc_xy\",\"logHsicc_yx\",\"logHsicc_dif\",\"logHsicc_absDif\"] \n",
    "df_long = getLongFormat2(df_ch[varsId+varsBx], varsId)\n",
    "#df_long[\"rightDir\"] = df_long[\"right\"].astype(str)+\"_\"+df_long[par].astype(str)+\"_\"+df_long[\"dir\"]\n",
    "df_long[\"rightDir\"] = df_long[\"right\"].astype(str)+\"_\"+df_long[\"dir\"]\n",
    "#df_rand_long = getLongFormat2(df_rand, [\"type\",\"dataset\",\"smpl\",\"right\"])"
   ]
  },
  {
   "cell_type": "code",
   "execution_count": null,
   "metadata": {},
   "outputs": [],
   "source": [
    "df_long[par+\"Dir\"] = df_long[par].astype(str)+\"_\"+df_long[\"dir\"]\n",
    "#df_rand_long[\"rightDir\"] = df_rand_long[\"right\"].astype(str)+\"_\"+df_rand_long[\"dir\"]"
   ]
  },
  {
   "cell_type": "code",
   "execution_count": null,
   "metadata": {},
   "outputs": [],
   "source": [
    "sns.boxplot(x=\"type\", hue=\"rightDir\",y=\"value\", data=df_long.loc[df_long[\"dir\"].isin([\"xy\",\"yx\"])])\n",
    "plt.legend(bbox_to_anchor=(1.01, 1),borderaxespad=0)"
   ]
  },
  {
   "cell_type": "code",
   "execution_count": null,
   "metadata": {},
   "outputs": [],
   "source": [
    "g = sns.boxplot(x=\"type\", hue=par,y=\"value\", data=df_long.loc[df_long[\"dir\"]==\"dif\"])\n",
    "g.axhline(0.0)\n",
    "plt.legend(bbox_to_anchor=(1.01, 1),borderaxespad=0)\n",
    "#plt.ylim(-1, 1)"
   ]
  },
  {
   "cell_type": "code",
   "execution_count": null,
   "metadata": {},
   "outputs": [],
   "source": [
    "sns.boxplot(x=\"type\", hue=par,y=\"value\", data=df_long.loc[df_long[\"dir\"]==\"absDif\"])\n",
    "plt.legend(bbox_to_anchor=(1.01, 1),borderaxespad=0)\n",
    "#plt.ylim(0, 1)"
   ]
  },
  {
   "cell_type": "markdown",
   "metadata": {},
   "source": [
    "HSIC(r,c)"
   ]
  },
  {
   "cell_type": "code",
   "execution_count": null,
   "metadata": {},
   "outputs": [],
   "source": [
    "varsBx = [\"logHsic_xy\",\"logHsic_yx\",\"logHsic_dif\",\"logHsic_absDif\"] \n",
    "df_long = getLongFormat2(df_ch[varsId+varsBx], varsId)\n",
    "df_long[\"rightDir\"] = df_long[\"right\"].astype(str)+\"_\"+df_long[par].astype(str)+\"_\"+df_long[\"dir\"]\n",
    "#df_rand_long = getLongFormat2(df_rand, [\"type\",\"dataset\",\"smpl\",\"right\"])"
   ]
  },
  {
   "cell_type": "code",
   "execution_count": null,
   "metadata": {},
   "outputs": [],
   "source": [
    "df_long[par+\"Dir\"] = df_long[par].astype(str)+\"_\"+df_long[\"dir\"]\n",
    "#df_rand_long[\"rightDir\"] = df_rand_long[\"right\"].astype(str)+\"_\"+df_rand_long[\"dir\"]"
   ]
  },
  {
   "cell_type": "code",
   "execution_count": null,
   "metadata": {},
   "outputs": [],
   "source": [
    "sns.boxplot(x=\"type\", hue=\"rightDir\",y=\"value\", data=df_long.loc[df_long[\"dir\"].isin([\"xy\",\"yx\"])])\n",
    "plt.legend(bbox_to_anchor=(1.01, 1),borderaxespad=0)"
   ]
  },
  {
   "cell_type": "code",
   "execution_count": null,
   "metadata": {},
   "outputs": [],
   "source": [
    "g = sns.boxplot(x=\"type\", hue=par,y=\"value\", data=df_long.loc[df_long[\"dir\"]==\"dif\"])\n",
    "g.axhline(0.0)\n",
    "plt.legend(bbox_to_anchor=(1.01, 1),borderaxespad=0)\n",
    "#plt.ylim(-1, 1)"
   ]
  },
  {
   "cell_type": "code",
   "execution_count": null,
   "metadata": {},
   "outputs": [],
   "source": [
    "sns.boxplot(x=\"type\", hue=par,y=\"value\", data=df_long.loc[df_long[\"dir\"]==\"absDif\"])\n",
    "plt.legend(bbox_to_anchor=(1.01, 1),borderaxespad=0)\n",
    "#plt.ylim(0, 1)"
   ]
  },
  {
   "cell_type": "markdown",
   "metadata": {},
   "source": [
    "MSE(y,yhat)"
   ]
  },
  {
   "cell_type": "code",
   "execution_count": null,
   "metadata": {},
   "outputs": [],
   "source": [
    "varsBx = [\"logErrs_xy\",\"logErrs_yx\",\"logErrs_dif\",\"logErrs_absDif\"] \n",
    "df_long = getLongFormat2(df_ch[varsId+varsBx], varsId)\n",
    "df_long[\"rightDir\"] = df_long[\"right\"].astype(str)+\"_\"+df_long[par].astype(str)+\"_\"+df_long[\"dir\"]\n",
    "#df_rand_long = getLongFormat2(df_rand, [\"type\",\"dataset\",\"smpl\",\"right\"])"
   ]
  },
  {
   "cell_type": "code",
   "execution_count": null,
   "metadata": {},
   "outputs": [],
   "source": [
    "df_long[par+\"Dir\"] = df_long[par].astype(str)+\"_\"+df_long[\"dir\"]\n",
    "#df_rand_long[\"rightDir\"] = df_rand_long[\"right\"].astype(str)+\"_\"+df_rand_long[\"dir\"]"
   ]
  },
  {
   "cell_type": "code",
   "execution_count": null,
   "metadata": {},
   "outputs": [],
   "source": [
    "sns.boxplot(x=\"type\", hue=\"rightDir\",y=\"value\", data=df_long.loc[df_long[\"dir\"].isin([\"xy\",\"yx\"])])\n",
    "plt.legend(bbox_to_anchor=(1.01, 1),borderaxespad=0)"
   ]
  },
  {
   "cell_type": "code",
   "execution_count": null,
   "metadata": {},
   "outputs": [],
   "source": [
    "g = sns.boxplot(x=\"type\", hue=par,y=\"value\", data=df_long.loc[df_long[\"dir\"]==\"dif\"])\n",
    "g.axhline(0.0)\n",
    "plt.legend(bbox_to_anchor=(1.01, 1),borderaxespad=0)\n",
    "#plt.ylim(-1, 1)"
   ]
  },
  {
   "cell_type": "code",
   "execution_count": null,
   "metadata": {},
   "outputs": [],
   "source": [
    "sns.boxplot(x=\"type\", hue=par,y=\"value\", data=df_long.loc[df_long[\"dir\"]==\"absDif\"])\n",
    "plt.legend(bbox_to_anchor=(1.01, 1),borderaxespad=0)\n",
    "#plt.ylim(0, 1)"
   ]
  },
  {
   "cell_type": "markdown",
   "metadata": {},
   "source": [
    "Ent(resids)"
   ]
  },
  {
   "cell_type": "code",
   "execution_count": null,
   "metadata": {},
   "outputs": [],
   "source": [
    "varsBx = [\"ent_xy\",\"ent_yx\",\"ent_dif\",\"ent_absDif\"] \n",
    "df_long = getLongFormat2(df_ch[varsId+varsBx], varsId)\n",
    "df_long[\"rightDir\"] = df_long[\"right\"].astype(str)+\"_\"+df_long[par].astype(str)+\"_\"+df_long[\"dir\"]\n",
    "#df_rand_long = getLongFormat2(df_rand, [\"type\",\"dataset\",\"smpl\",\"right\"])"
   ]
  },
  {
   "cell_type": "code",
   "execution_count": null,
   "metadata": {},
   "outputs": [],
   "source": [
    "df_long[par+\"Dir\"] = df_long[par].astype(str)+\"_\"+df_long[\"dir\"]\n",
    "#df_rand_long[\"rightDir\"] = df_rand_long[\"right\"].astype(str)+\"_\"+df_rand_long[\"dir\"]"
   ]
  },
  {
   "cell_type": "code",
   "execution_count": null,
   "metadata": {},
   "outputs": [],
   "source": [
    "sns.boxplot(x=\"type\", hue=\"rightDir\",y=\"value\", data=df_long.loc[df_long[\"dir\"].isin([\"xy\",\"yx\"])])\n",
    "plt.legend(bbox_to_anchor=(1.01, 1),borderaxespad=0)"
   ]
  },
  {
   "cell_type": "code",
   "execution_count": null,
   "metadata": {},
   "outputs": [],
   "source": [
    "g=sns.boxplot(x=\"type\", hue=par,y=\"value\", data=df_long.loc[df_long[\"dir\"]==\"dif\"])\n",
    "g.axhline(0.0)\n",
    "plt.legend(bbox_to_anchor=(1.01, 1),borderaxespad=0)\n",
    "#plt.ylim(-1, 1)\n",
    "plt.show()"
   ]
  },
  {
   "cell_type": "code",
   "execution_count": null,
   "metadata": {},
   "outputs": [],
   "source": [
    "sns.boxplot(x=\"type\", hue=par,y=\"value\", data=df_long.loc[df_long[\"dir\"]==\"absDif\"])\n",
    "plt.legend(bbox_to_anchor=(1.01, 1),borderaxespad=0)\n",
    "#plt.ylim(0, 1)"
   ]
  },
  {
   "cell_type": "markdown",
   "metadata": {},
   "source": [
    "hsic(z,zhat)"
   ]
  },
  {
   "cell_type": "code",
   "execution_count": null,
   "metadata": {},
   "outputs": [],
   "source": [
    "varsBx = [\"logHsiczz_xy\",\"logHsiczz_yx\",\"logHsiczz_dif\",\"logHsiczz_absDif\"] \n",
    "df_long = getLongFormat2(df_ch[varsId+varsBx], varsId)\n",
    "df_long[\"rightDir\"] = df_long[\"right\"].astype(str)+\"_\"+df_long[par].astype(str)+\"_\"+df_long[\"dir\"]\n",
    "#df_rand_long = getLongFormat2(df_rand, [\"type\",\"dataset\",\"smpl\",\"right\"])"
   ]
  },
  {
   "cell_type": "code",
   "execution_count": null,
   "metadata": {},
   "outputs": [],
   "source": [
    "df_long[par+\"Dir\"] = df_long[par].astype(str)+\"_\"+df_long[\"dir\"]\n",
    "#df_rand_long[\"rightDir\"] = df_rand_long[\"right\"].astype(str)+\"_\"+df_rand_long[\"dir\"]"
   ]
  },
  {
   "cell_type": "code",
   "execution_count": null,
   "metadata": {},
   "outputs": [],
   "source": [
    "sns.boxplot(x=\"type2\", hue=\"rightDir\",y=\"value\", data=df_long.loc[df_long[\"dir\"].isin([\"xy\",\"yx\"])])\n",
    "plt.legend(bbox_to_anchor=(1.01, 1),borderaxespad=0)"
   ]
  },
  {
   "cell_type": "code",
   "execution_count": null,
   "metadata": {},
   "outputs": [],
   "source": [
    "a = np.ones((5,2))\n",
    "a[:,None].shape"
   ]
  },
  {
   "cell_type": "code",
   "execution_count": null,
   "metadata": {},
   "outputs": [],
   "source": [
    "g=sns.boxplot(x=\"type\", hue=par,y=\"value\", data=df_long.loc[df_long[\"dir\"]==\"dif\"])\n",
    "g.axhline(0.0)\n",
    "plt.legend(bbox_to_anchor=(1.01, 1),borderaxespad=0)\n",
    "#plt.ylim(-1, 1)\n",
    "plt.show()"
   ]
  },
  {
   "cell_type": "code",
   "execution_count": null,
   "metadata": {},
   "outputs": [],
   "source": [
    "sns.boxplot(x=\"type\", hue=par,y=\"value\", data=df_long.loc[df_long[\"dir\"]==\"absDif\"])\n",
    "plt.legend(bbox_to_anchor=(1.01, 1),borderaxespad=0)\n",
    "#plt.ylim(0, 1)"
   ]
  },
  {
   "cell_type": "markdown",
   "metadata": {},
   "source": [
    "hsic(zhat)"
   ]
  },
  {
   "cell_type": "code",
   "execution_count": null,
   "metadata": {},
   "outputs": [],
   "source": [
    "varsBx = [\"logHsicz_xy\",\"logHsicz_yx\",\"logHsicz_dif\",\"logHsicz_absDif\"] \n",
    "df_long = getLongFormat2(df_ch[varsId+varsBx], varsId)\n",
    "#df_long[\"rightDir\"] = df_long[\"right\"].astype(str)+\"_\"+df_long[par].astype(str)+\"_\"+df_long[\"dir\"]\n",
    "df_long[\"rightDir\"] = df_long[\"right\"].astype(str)+\"_\"+df_long[\"dir\"]\n",
    "#df_long[\"rightPar\"] = df_long[\"right\"].astype(str)+\"_\"+df_long[par].astype(str)\n",
    "#df_rand_long = getLongFormat2(df_rand, [\"type\",\"dataset\",\"smpl\",\"right\"])"
   ]
  },
  {
   "cell_type": "code",
   "execution_count": null,
   "metadata": {},
   "outputs": [],
   "source": [
    "df_long[par+\"Dir\"] = df_long[par].astype(str)+\"_\"+df_long[\"dir\"]\n",
    "#df_rand_long[\"rightDir\"] = df_rand_long[\"right\"].astype(str)+\"_\"+df_rand_long[\"dir\"]"
   ]
  },
  {
   "cell_type": "code",
   "execution_count": null,
   "metadata": {},
   "outputs": [],
   "source": [
    "sns.boxplot(x=\"type2\", hue=\"rightDir\",y=\"value\", data=df_long.loc[df_long[\"dir\"].isin([\"xy\",\"yx\"])])\n",
    "plt.legend(bbox_to_anchor=(1.01, 1),borderaxespad=0)"
   ]
  },
  {
   "cell_type": "code",
   "execution_count": null,
   "metadata": {},
   "outputs": [],
   "source": [
    "g=sns.boxplot(x=\"type2\", hue=\"rightDir\",y=\"value\", data=df_long.loc[df_long[\"dir\"]==\"dif\"])\n",
    "g.axhline(0.0)\n",
    "plt.legend(bbox_to_anchor=(1.01, 1),borderaxespad=0)\n",
    "#plt.ylim(-1, 1)\n",
    "plt.show()"
   ]
  },
  {
   "cell_type": "code",
   "execution_count": null,
   "metadata": {},
   "outputs": [],
   "source": [
    "sns.boxplot(x=\"type2\", hue=\"rightDir\",y=\"value\", data=df_long.loc[df_long[\"dir\"]==\"absDif\"])\n",
    "plt.legend(bbox_to_anchor=(1.01, 1),borderaxespad=0)\n",
    "#plt.ylim(0, 0.4)"
   ]
  },
  {
   "cell_type": "code",
   "execution_count": null,
   "metadata": {},
   "outputs": [],
   "source": []
  },
  {
   "cell_type": "markdown",
   "metadata": {},
   "source": [
    "# beta "
   ]
  },
  {
   "cell_type": "code",
   "execution_count": null,
   "metadata": {},
   "outputs": [],
   "source": [
    "par = \"beta\" # neta, lu"
   ]
  },
  {
   "cell_type": "markdown",
   "metadata": {},
   "source": [
    "HSIC(z,x)"
   ]
  },
  {
   "cell_type": "code",
   "execution_count": null,
   "metadata": {},
   "outputs": [],
   "source": [
    "varsBx = [\"logHsicc_xy\",\"logHsicc_yx\",\"logHsicc_dif\",\"logHsicc_absDif\"] \n",
    "df_long = getLongFormat2(df_ch[varsId+varsBx], varsId)\n",
    "#df_rand_long = getLongFormat2(df_rand, [\"type\",\"dataset\",\"smpl\",\"right\"])"
   ]
  },
  {
   "cell_type": "code",
   "execution_count": null,
   "metadata": {},
   "outputs": [],
   "source": [
    "df_long[par+\"Dir\"] = df_long[par].astype(str)+\"_\"+df_long[\"dir\"]\n",
    "#df_rand_long[\"rightDir\"] = df_rand_long[\"right\"].astype(str)+\"_\"+df_rand_long[\"dir\"]"
   ]
  },
  {
   "cell_type": "code",
   "execution_count": null,
   "metadata": {},
   "outputs": [],
   "source": [
    "sns.boxplot(x=\"type\", hue=par+\"Dir\",y=\"value\", data=df_long.loc[df_long[\"dir\"].isin([\"xy\",\"yx\"])])\n",
    "plt.legend(bbox_to_anchor=(1.01, 1),borderaxespad=0)"
   ]
  },
  {
   "cell_type": "code",
   "execution_count": null,
   "metadata": {},
   "outputs": [],
   "source": [
    "sns.boxplot(x=\"type\", hue=par,y=\"value\", data=df_long.loc[df_long[\"dir\"]==\"dif\"])\n",
    "plt.legend(bbox_to_anchor=(1.01, 1),borderaxespad=0)\n",
    "plt.ylim(-1, 1)"
   ]
  },
  {
   "cell_type": "code",
   "execution_count": null,
   "metadata": {},
   "outputs": [],
   "source": [
    "sns.boxplot(x=\"type\", hue=par,y=\"value\", data=df_long.loc[df_long[\"dir\"]==\"absDif\"])\n",
    "plt.legend(bbox_to_anchor=(1.01, 1),borderaxespad=0)\n",
    "plt.ylim(0, 1)"
   ]
  },
  {
   "cell_type": "markdown",
   "metadata": {},
   "source": [
    "HSIC(r,c)"
   ]
  },
  {
   "cell_type": "code",
   "execution_count": null,
   "metadata": {},
   "outputs": [],
   "source": [
    "varsBx = [\"logHsic_xy\",\"logHsic_yx\",\"logHsic_dif\",\"logHsic_absDif\"] \n",
    "df_long = getLongFormat2(df_ch[varsId+varsBx], varsId)\n",
    "#df_rand_long = getLongFormat2(df_rand, [\"type\",\"dataset\",\"smpl\",\"right\"])"
   ]
  },
  {
   "cell_type": "code",
   "execution_count": null,
   "metadata": {},
   "outputs": [],
   "source": [
    "df_long[par+\"Dir\"] = df_long[par].astype(str)+\"_\"+df_long[\"dir\"]\n",
    "#df_rand_long[\"rightDir\"] = df_rand_long[\"right\"].astype(str)+\"_\"+df_rand_long[\"dir\"]"
   ]
  },
  {
   "cell_type": "code",
   "execution_count": null,
   "metadata": {},
   "outputs": [],
   "source": [
    "sns.boxplot(x=\"type\", hue=par+\"Dir\",y=\"value\", data=df_long.loc[df_long[\"dir\"].isin([\"xy\",\"yx\"])])\n",
    "plt.legend(bbox_to_anchor=(1.01, 1),borderaxespad=0)"
   ]
  },
  {
   "cell_type": "code",
   "execution_count": null,
   "metadata": {},
   "outputs": [],
   "source": [
    "sns.boxplot(x=\"type\", hue=par,y=\"value\", data=df_long.loc[df_long[\"dir\"]==\"dif\"])\n",
    "plt.legend(bbox_to_anchor=(1.01, 1),borderaxespad=0)\n",
    "plt.ylim(-1, 1)"
   ]
  },
  {
   "cell_type": "code",
   "execution_count": null,
   "metadata": {},
   "outputs": [],
   "source": [
    "sns.boxplot(x=\"type\", hue=par,y=\"value\", data=df_long.loc[df_long[\"dir\"]==\"absDif\"])\n",
    "plt.legend(bbox_to_anchor=(1.01, 1),borderaxespad=0)\n",
    "plt.ylim(0, 1)"
   ]
  },
  {
   "cell_type": "markdown",
   "metadata": {},
   "source": [
    "MSE(y,yhat)"
   ]
  },
  {
   "cell_type": "code",
   "execution_count": null,
   "metadata": {},
   "outputs": [],
   "source": [
    "varsBx = [\"logErrs_xy\",\"logErrs_yx\",\"logErrs_dif\",\"logErrs_absDif\"] \n",
    "df_long = getLongFormat2(df_ch[varsId+varsBx], varsId)\n",
    "#df_rand_long = getLongFormat2(df_rand, [\"type\",\"dataset\",\"smpl\",\"right\"])"
   ]
  },
  {
   "cell_type": "code",
   "execution_count": null,
   "metadata": {},
   "outputs": [],
   "source": [
    "df_long[par+\"Dir\"] = df_long[par].astype(str)+\"_\"+df_long[\"dir\"]\n",
    "#df_rand_long[\"rightDir\"] = df_rand_long[\"right\"].astype(str)+\"_\"+df_rand_long[\"dir\"]"
   ]
  },
  {
   "cell_type": "code",
   "execution_count": null,
   "metadata": {},
   "outputs": [],
   "source": [
    "sns.boxplot(x=\"type\", hue=par+\"Dir\",y=\"value\", data=df_long.loc[df_long[\"dir\"].isin([\"xy\",\"yx\"])])\n",
    "plt.legend(bbox_to_anchor=(1.01, 1),borderaxespad=0)"
   ]
  },
  {
   "cell_type": "code",
   "execution_count": null,
   "metadata": {},
   "outputs": [],
   "source": [
    "sns.boxplot(x=\"type\", hue=par,y=\"value\", data=df_long.loc[df_long[\"dir\"]==\"dif\"])\n",
    "plt.legend(bbox_to_anchor=(1.01, 1),borderaxespad=0)\n",
    "plt.ylim(-1, 1)"
   ]
  },
  {
   "cell_type": "code",
   "execution_count": null,
   "metadata": {},
   "outputs": [],
   "source": [
    "sns.boxplot(x=\"type\", hue=par,y=\"value\", data=df_long.loc[df_long[\"dir\"]==\"absDif\"])\n",
    "plt.legend(bbox_to_anchor=(1.01, 1),borderaxespad=0)\n",
    "plt.ylim(0, 1)"
   ]
  },
  {
   "cell_type": "markdown",
   "metadata": {},
   "source": [
    "Ent(resids)"
   ]
  },
  {
   "cell_type": "code",
   "execution_count": null,
   "metadata": {},
   "outputs": [],
   "source": [
    "varsBx = [\"ent_xy\",\"ent_yx\",\"ent_dif\",\"ent_absDif\"] \n",
    "df_long = getLongFormat2(df_ch[varsId+varsBx], varsId)\n",
    "#df_rand_long = getLongFormat2(df_rand, [\"type\",\"dataset\",\"smpl\",\"right\"])"
   ]
  },
  {
   "cell_type": "code",
   "execution_count": null,
   "metadata": {},
   "outputs": [],
   "source": [
    "df_long[par+\"Dir\"] = df_long[par].astype(str)+\"_\"+df_long[\"dir\"]\n",
    "#df_rand_long[\"rightDir\"] = df_rand_long[\"right\"].astype(str)+\"_\"+df_rand_long[\"dir\"]"
   ]
  },
  {
   "cell_type": "code",
   "execution_count": null,
   "metadata": {},
   "outputs": [],
   "source": [
    "sns.boxplot(x=\"type\", hue=par+\"Dir\",y=\"value\", data=df_long.loc[df_long[\"dir\"].isin([\"xy\",\"yx\"])])\n",
    "plt.legend(bbox_to_anchor=(1.01, 1),borderaxespad=0)"
   ]
  },
  {
   "cell_type": "code",
   "execution_count": null,
   "metadata": {},
   "outputs": [],
   "source": [
    "g=sns.boxplot(x=\"type\", hue=par,y=\"value\", data=df_long.loc[df_long[\"dir\"]==\"dif\"])\n",
    "g.axhline(0.0)\n",
    "plt.legend(bbox_to_anchor=(1.01, 1),borderaxespad=0)\n",
    "plt.ylim(-1, 1)\n",
    "plt.show()"
   ]
  },
  {
   "cell_type": "code",
   "execution_count": null,
   "metadata": {},
   "outputs": [],
   "source": [
    "sns.boxplot(x=\"type\", hue=par,y=\"value\", data=df_long.loc[df_long[\"dir\"]==\"absDif\"])\n",
    "plt.legend(bbox_to_anchor=(1.01, 1),borderaxespad=0)\n",
    "plt.ylim(0, 1)"
   ]
  },
  {
   "cell_type": "markdown",
   "metadata": {},
   "source": [
    "# neta "
   ]
  },
  {
   "cell_type": "code",
   "execution_count": null,
   "metadata": {},
   "outputs": [],
   "source": [
    "par = \"neta\" # lu"
   ]
  },
  {
   "cell_type": "markdown",
   "metadata": {},
   "source": [
    "HSIC(z,x)"
   ]
  },
  {
   "cell_type": "code",
   "execution_count": null,
   "metadata": {},
   "outputs": [],
   "source": [
    "varsBx = [\"logHsicc_xy\",\"logHsicc_yx\",\"logHsicc_dif\",\"logHsicc_absDif\"] \n",
    "df_long = getLongFormat2(df[varsId+varsBx], varsId)\n",
    "#df_rand_long = getLongFormat2(df_rand, [\"type\",\"dataset\",\"smpl\",\"right\"])"
   ]
  },
  {
   "cell_type": "code",
   "execution_count": null,
   "metadata": {},
   "outputs": [],
   "source": [
    "df_long[par+\"Dir\"] = df_long[par].astype(str)+\"_\"+df_long[\"dir\"]\n",
    "#df_rand_long[\"rightDir\"] = df_rand_long[\"right\"].astype(str)+\"_\"+df_rand_long[\"dir\"]"
   ]
  },
  {
   "cell_type": "code",
   "execution_count": null,
   "metadata": {},
   "outputs": [],
   "source": [
    "sns.boxplot(x=\"type\", hue=par+\"Dir\",y=\"value\", data=df_long.loc[df_long[\"dir\"].isin([\"xy\",\"yx\"])])\n",
    "plt.legend(bbox_to_anchor=(1.01, 1),borderaxespad=0)"
   ]
  },
  {
   "cell_type": "code",
   "execution_count": null,
   "metadata": {},
   "outputs": [],
   "source": [
    "sns.boxplot(x=\"type\", hue=par,y=\"value\", data=df_long.loc[df_long[\"dir\"]==\"dif\"])\n",
    "plt.legend(bbox_to_anchor=(1.01, 1),borderaxespad=0)\n",
    "plt.ylim(-1, 1)"
   ]
  },
  {
   "cell_type": "code",
   "execution_count": null,
   "metadata": {},
   "outputs": [],
   "source": [
    "sns.boxplot(x=\"type\", hue=par,y=\"value\", data=df_long.loc[df_long[\"dir\"]==\"absDif\"])\n",
    "plt.legend(bbox_to_anchor=(1.01, 1),borderaxespad=0)\n",
    "plt.ylim(0, 1)"
   ]
  },
  {
   "cell_type": "markdown",
   "metadata": {},
   "source": [
    "HSIC(r,c)"
   ]
  },
  {
   "cell_type": "code",
   "execution_count": null,
   "metadata": {},
   "outputs": [],
   "source": [
    "varsBx = [\"logHsic_xy\",\"logHsic_yx\",\"logHsic_dif\",\"logHsic_absDif\"] \n",
    "df_long = getLongFormat2(df[varsId+varsBx], varsId)\n",
    "#df_rand_long = getLongFormat2(df_rand, [\"type\",\"dataset\",\"smpl\",\"right\"])"
   ]
  },
  {
   "cell_type": "code",
   "execution_count": null,
   "metadata": {},
   "outputs": [],
   "source": [
    "df_long[par+\"Dir\"] = df_long[par].astype(str)+\"_\"+df_long[\"dir\"]\n",
    "#df_rand_long[\"rightDir\"] = df_rand_long[\"right\"].astype(str)+\"_\"+df_rand_long[\"dir\"]"
   ]
  },
  {
   "cell_type": "code",
   "execution_count": null,
   "metadata": {},
   "outputs": [],
   "source": [
    "sns.boxplot(x=\"type\", hue=par+\"Dir\",y=\"value\", data=df_long.loc[df_long[\"dir\"].isin([\"xy\",\"yx\"])])\n",
    "plt.legend(bbox_to_anchor=(1.01, 1),borderaxespad=0)"
   ]
  },
  {
   "cell_type": "code",
   "execution_count": null,
   "metadata": {},
   "outputs": [],
   "source": [
    "sns.boxplot(x=\"type\", hue=par,y=\"value\", data=df_long.loc[df_long[\"dir\"]==\"dif\"])\n",
    "plt.legend(bbox_to_anchor=(1.01, 1),borderaxespad=0)\n",
    "plt.ylim(-1, 1)"
   ]
  },
  {
   "cell_type": "code",
   "execution_count": null,
   "metadata": {},
   "outputs": [],
   "source": [
    "sns.boxplot(x=\"type\", hue=par,y=\"value\", data=df_long.loc[df_long[\"dir\"]==\"absDif\"])\n",
    "plt.legend(bbox_to_anchor=(1.01, 1),borderaxespad=0)\n",
    "plt.ylim(0, 1)"
   ]
  },
  {
   "cell_type": "markdown",
   "metadata": {},
   "source": [
    "MSE(y,yhat)"
   ]
  },
  {
   "cell_type": "code",
   "execution_count": null,
   "metadata": {},
   "outputs": [],
   "source": [
    "varsBx = [\"logErrs_xy\",\"logErrs_yx\",\"logErrs_dif\",\"logErrs_absDif\"] \n",
    "df_long = getLongFormat2(df[varsId+varsBx], varsId)\n",
    "#df_rand_long = getLongFormat2(df_rand, [\"type\",\"dataset\",\"smpl\",\"right\"])"
   ]
  },
  {
   "cell_type": "code",
   "execution_count": null,
   "metadata": {},
   "outputs": [],
   "source": [
    "df_long[par+\"Dir\"] = df_long[par].astype(str)+\"_\"+df_long[\"dir\"]\n",
    "#df_rand_long[\"rightDir\"] = df_rand_long[\"right\"].astype(str)+\"_\"+df_rand_long[\"dir\"]"
   ]
  },
  {
   "cell_type": "code",
   "execution_count": null,
   "metadata": {},
   "outputs": [],
   "source": [
    "sns.boxplot(x=\"type\", hue=par+\"Dir\",y=\"value\", data=df_long.loc[df_long[\"dir\"].isin([\"xy\",\"yx\"])])\n",
    "plt.legend(bbox_to_anchor=(1.01, 1),borderaxespad=0)"
   ]
  },
  {
   "cell_type": "code",
   "execution_count": null,
   "metadata": {},
   "outputs": [],
   "source": [
    "sns.boxplot(x=\"type\", hue=par,y=\"value\", data=df_long.loc[df_long[\"dir\"]==\"dif\"])\n",
    "plt.legend(bbox_to_anchor=(1.01, 1),borderaxespad=0)\n",
    "plt.ylim(-1, 1)"
   ]
  },
  {
   "cell_type": "code",
   "execution_count": null,
   "metadata": {},
   "outputs": [],
   "source": [
    "sns.boxplot(x=\"type\", hue=par,y=\"value\", data=df_long.loc[df_long[\"dir\"]==\"absDif\"])\n",
    "plt.legend(bbox_to_anchor=(1.01, 1),borderaxespad=0)\n",
    "plt.ylim(0, 1)"
   ]
  },
  {
   "cell_type": "markdown",
   "metadata": {},
   "source": [
    "Ent(resids)"
   ]
  },
  {
   "cell_type": "code",
   "execution_count": null,
   "metadata": {},
   "outputs": [],
   "source": [
    "varsBx = [\"ent_xy\",\"ent_yx\",\"ent_dif\",\"ent_absDif\"] \n",
    "df_long = getLongFormat2(df[varsId+varsBx], varsId)\n",
    "#df_rand_long = getLongFormat2(df_rand, [\"type\",\"dataset\",\"smpl\",\"right\"])"
   ]
  },
  {
   "cell_type": "code",
   "execution_count": null,
   "metadata": {},
   "outputs": [],
   "source": [
    "df_long[par+\"Dir\"] = df_long[par].astype(str)+\"_\"+df_long[\"dir\"]\n",
    "#df_rand_long[\"rightDir\"] = df_rand_long[\"right\"].astype(str)+\"_\"+df_rand_long[\"dir\"]"
   ]
  },
  {
   "cell_type": "code",
   "execution_count": null,
   "metadata": {},
   "outputs": [],
   "source": [
    "sns.boxplot(x=\"type\", hue=par+\"Dir\",y=\"value\", data=df_long.loc[df_long[\"dir\"].isin([\"xy\",\"yx\"])])\n",
    "plt.legend(bbox_to_anchor=(1.01, 1),borderaxespad=0)"
   ]
  },
  {
   "cell_type": "code",
   "execution_count": null,
   "metadata": {},
   "outputs": [],
   "source": [
    "g=sns.boxplot(x=\"type\", hue=par,y=\"value\", data=df_long.loc[df_long[\"dir\"]==\"dif\"])\n",
    "g.axhline(0.0)\n",
    "plt.legend(bbox_to_anchor=(1.01, 1),borderaxespad=0)\n",
    "plt.ylim(-1, 1)\n",
    "plt.show()"
   ]
  },
  {
   "cell_type": "code",
   "execution_count": null,
   "metadata": {},
   "outputs": [],
   "source": [
    "sns.boxplot(x=\"type\", hue=par,y=\"value\", data=df_long.loc[df_long[\"dir\"]==\"absDif\"])\n",
    "plt.legend(bbox_to_anchor=(1.01, 1),borderaxespad=0)\n",
    "plt.ylim(0, 1)"
   ]
  },
  {
   "cell_type": "markdown",
   "metadata": {},
   "source": [
    "# lu "
   ]
  },
  {
   "cell_type": "code",
   "execution_count": null,
   "metadata": {},
   "outputs": [],
   "source": [
    "par = \"lu\" # lu"
   ]
  },
  {
   "cell_type": "markdown",
   "metadata": {},
   "source": [
    "HSIC(z,x)"
   ]
  },
  {
   "cell_type": "code",
   "execution_count": null,
   "metadata": {},
   "outputs": [],
   "source": [
    "varsBx = [\"logHsicc_xy\",\"logHsicc_yx\",\"logHsicc_dif\",\"logHsicc_absDif\"] \n",
    "df_long = getLongFormat2(df[varsId+varsBx], varsId)\n",
    "#df_rand_long = getLongFormat2(df_rand, [\"type\",\"dataset\",\"smpl\",\"right\"])"
   ]
  },
  {
   "cell_type": "code",
   "execution_count": null,
   "metadata": {},
   "outputs": [],
   "source": [
    "df_long[par+\"Dir\"] = df_long[par].astype(str)+\"_\"+df_long[\"dir\"]\n",
    "#df_rand_long[\"rightDir\"] = df_rand_long[\"right\"].astype(str)+\"_\"+df_rand_long[\"dir\"]"
   ]
  },
  {
   "cell_type": "code",
   "execution_count": null,
   "metadata": {},
   "outputs": [],
   "source": [
    "sns.boxplot(x=\"type\", hue=par+\"Dir\",y=\"value\", data=df_long.loc[df_long[\"dir\"].isin([\"xy\",\"yx\"])])\n",
    "plt.legend(bbox_to_anchor=(1.01, 1),borderaxespad=0)"
   ]
  },
  {
   "cell_type": "code",
   "execution_count": null,
   "metadata": {},
   "outputs": [],
   "source": [
    "sns.boxplot(x=\"type\", hue=par,y=\"value\", data=df_long.loc[df_long[\"dir\"]==\"dif\"])\n",
    "plt.legend(bbox_to_anchor=(1.01, 1),borderaxespad=0)\n",
    "plt.ylim(-1, 1)"
   ]
  },
  {
   "cell_type": "code",
   "execution_count": null,
   "metadata": {},
   "outputs": [],
   "source": [
    "sns.boxplot(x=\"type\", hue=par,y=\"value\", data=df_long.loc[df_long[\"dir\"]==\"absDif\"])\n",
    "plt.legend(bbox_to_anchor=(1.01, 1),borderaxespad=0)\n",
    "plt.ylim(0, 1)"
   ]
  },
  {
   "cell_type": "markdown",
   "metadata": {},
   "source": [
    "HSIC(r,c)"
   ]
  },
  {
   "cell_type": "code",
   "execution_count": null,
   "metadata": {},
   "outputs": [],
   "source": [
    "varsBx = [\"logHsic_xy\",\"logHsic_yx\",\"logHsic_dif\",\"logHsic_absDif\"] \n",
    "df_long = getLongFormat2(df[varsId+varsBx], varsId)\n",
    "#df_rand_long = getLongFormat2(df_rand, [\"type\",\"dataset\",\"smpl\",\"right\"])"
   ]
  },
  {
   "cell_type": "code",
   "execution_count": null,
   "metadata": {},
   "outputs": [],
   "source": [
    "df_long[par+\"Dir\"] = df_long[par].astype(str)+\"_\"+df_long[\"dir\"]\n",
    "#df_rand_long[\"rightDir\"] = df_rand_long[\"right\"].astype(str)+\"_\"+df_rand_long[\"dir\"]"
   ]
  },
  {
   "cell_type": "code",
   "execution_count": null,
   "metadata": {},
   "outputs": [],
   "source": [
    "sns.boxplot(x=\"type\", hue=par+\"Dir\",y=\"value\", data=df_long.loc[df_long[\"dir\"].isin([\"xy\",\"yx\"])])\n",
    "plt.legend(bbox_to_anchor=(1.01, 1),borderaxespad=0)"
   ]
  },
  {
   "cell_type": "code",
   "execution_count": null,
   "metadata": {},
   "outputs": [],
   "source": [
    "sns.boxplot(x=\"type\", hue=par,y=\"value\", data=df_long.loc[df_long[\"dir\"]==\"dif\"])\n",
    "plt.legend(bbox_to_anchor=(1.01, 1),borderaxespad=0)\n",
    "plt.ylim(-1, 1)"
   ]
  },
  {
   "cell_type": "code",
   "execution_count": null,
   "metadata": {},
   "outputs": [],
   "source": [
    "sns.boxplot(x=\"type\", hue=par,y=\"value\", data=df_long.loc[df_long[\"dir\"]==\"absDif\"])\n",
    "plt.legend(bbox_to_anchor=(1.01, 1),borderaxespad=0)\n",
    "plt.ylim(0, 1)"
   ]
  },
  {
   "cell_type": "markdown",
   "metadata": {},
   "source": [
    "MSE(y,yhat)"
   ]
  },
  {
   "cell_type": "code",
   "execution_count": null,
   "metadata": {},
   "outputs": [],
   "source": [
    "varsBx = [\"logErrs_xy\",\"logErrs_yx\",\"logErrs_dif\",\"logErrs_absDif\"] \n",
    "df_long = getLongFormat2(df[varsId+varsBx], varsId)\n",
    "#df_rand_long = getLongFormat2(df_rand, [\"type\",\"dataset\",\"smpl\",\"right\"])"
   ]
  },
  {
   "cell_type": "code",
   "execution_count": null,
   "metadata": {},
   "outputs": [],
   "source": [
    "df_long[par+\"Dir\"] = df_long[par].astype(str)+\"_\"+df_long[\"dir\"]\n",
    "#df_rand_long[\"rightDir\"] = df_rand_long[\"right\"].astype(str)+\"_\"+df_rand_long[\"dir\"]"
   ]
  },
  {
   "cell_type": "code",
   "execution_count": null,
   "metadata": {},
   "outputs": [],
   "source": [
    "sns.boxplot(x=\"type\", hue=par+\"Dir\",y=\"value\", data=df_long.loc[df_long[\"dir\"].isin([\"xy\",\"yx\"])])\n",
    "plt.legend(bbox_to_anchor=(1.01, 1),borderaxespad=0)"
   ]
  },
  {
   "cell_type": "code",
   "execution_count": null,
   "metadata": {},
   "outputs": [],
   "source": [
    "sns.boxplot(x=\"type\", hue=par,y=\"value\", data=df_long.loc[df_long[\"dir\"]==\"dif\"])\n",
    "plt.legend(bbox_to_anchor=(1.01, 1),borderaxespad=0)\n",
    "plt.ylim(-1, 1)"
   ]
  },
  {
   "cell_type": "code",
   "execution_count": null,
   "metadata": {},
   "outputs": [],
   "source": [
    "sns.boxplot(x=\"type\", hue=par,y=\"value\", data=df_long.loc[df_long[\"dir\"]==\"absDif\"])\n",
    "plt.legend(bbox_to_anchor=(1.01, 1),borderaxespad=0)\n",
    "plt.ylim(0, 1)"
   ]
  },
  {
   "cell_type": "markdown",
   "metadata": {},
   "source": [
    "Ent(resids)"
   ]
  },
  {
   "cell_type": "code",
   "execution_count": null,
   "metadata": {},
   "outputs": [],
   "source": [
    "varsBx = [\"ent_xy\",\"ent_yx\",\"ent_dif\",\"ent_absDif\"] \n",
    "df_long = getLongFormat2(df[varsId+varsBx], varsId)\n",
    "#df_rand_long = getLongFormat2(df_rand, [\"type\",\"dataset\",\"smpl\",\"right\"])"
   ]
  },
  {
   "cell_type": "code",
   "execution_count": null,
   "metadata": {},
   "outputs": [],
   "source": [
    "df_long[par+\"Dir\"] = df_long[par].astype(str)+\"_\"+df_long[\"dir\"]\n",
    "#df_rand_long[\"rightDir\"] = df_rand_long[\"right\"].astype(str)+\"_\"+df_rand_long[\"dir\"]"
   ]
  },
  {
   "cell_type": "code",
   "execution_count": null,
   "metadata": {},
   "outputs": [],
   "source": [
    "sns.boxplot(x=\"type\", hue=par+\"Dir\",y=\"value\", data=df_long.loc[df_long[\"dir\"].isin([\"xy\",\"yx\"])])\n",
    "plt.legend(bbox_to_anchor=(1.01, 1),borderaxespad=0)"
   ]
  },
  {
   "cell_type": "code",
   "execution_count": null,
   "metadata": {},
   "outputs": [],
   "source": [
    "g=sns.boxplot(x=\"type\", hue=par,y=\"value\", data=df_long.loc[df_long[\"dir\"]==\"dif\"])\n",
    "g.axhline(0.0)\n",
    "plt.legend(bbox_to_anchor=(1.01, 1),borderaxespad=0)\n",
    "plt.ylim(-1, 1)\n",
    "plt.show()"
   ]
  },
  {
   "cell_type": "code",
   "execution_count": null,
   "metadata": {},
   "outputs": [],
   "source": [
    "sns.boxplot(x=\"type\", hue=par,y=\"value\", data=df_long.loc[df_long[\"dir\"]==\"absDif\"])\n",
    "plt.legend(bbox_to_anchor=(1.01, 1),borderaxespad=0)\n",
    "plt.ylim(0, 1)"
   ]
  },
  {
   "cell_type": "code",
   "execution_count": null,
   "metadata": {},
   "outputs": [],
   "source": []
  },
  {
   "cell_type": "code",
   "execution_count": null,
   "metadata": {},
   "outputs": [],
   "source": []
  },
  {
   "cell_type": "markdown",
   "metadata": {},
   "source": [
    "# lets check by param "
   ]
  },
  {
   "cell_type": "code",
   "execution_count": null,
   "metadata": {},
   "outputs": [],
   "source": [
    "def aggReps(x):\n",
    "    errs_xy =  onp.array(x[\"value\"][(x[\"var\"]==\"errs\")& (x[\"dir\"]==\"xy\")])\n",
    "    errs_yx =  onp.array(x[\"value\"][(x[\"var\"]==\"errs\")& (x[\"dir\"]==\"yx\")])\n",
    "    hsic_xy =  onp.array(x[\"value\"][(x[\"var\"]==\"hsic\")& (x[\"dir\"]==\"xy\")])\n",
    "    hsic_yx =  onp.array(x[\"value\"][(x[\"var\"]==\"hsic\")& (x[\"dir\"]==\"yx\")])\n",
    "    hsicc_xy =  onp.array(x[\"value\"][(x[\"var\"]==\"hsicc\")& (x[\"dir\"]==\"xy\")])\n",
    "    hsicc_yx =  onp.array(x[\"value\"][(x[\"var\"]==\"hsicc\")& (x[\"dir\"]==\"yx\")])\n",
    "    ent_xy =  onp.array(x[\"value\"][(x[\"var\"]==\"ent\")& (x[\"dir\"]==\"xy\")]) \n",
    "    ent_yx =  onp.array(x[\"value\"][(x[\"var\"]==\"ent\")& (x[\"dir\"]==\"yx\")])\n",
    "    slope_xy =  onp.array(x[\"value\"][(x[\"var\"]==\"slopes\")& (x[\"dir\"]==\"xy\")]) \n",
    "    slope_yx =  onp.array(x[\"value\"][(x[\"var\"]==\"slopes\")& (x[\"dir\"]==\"yx\")])\n",
    "    slope_krr_xy =  onp.array(x[\"value\"][(x[\"var\"]==\"slopeskrr\")& (x[\"dir\"]==\"xy\")]) \n",
    "    slope_krr_yx =  onp.array(x[\"value\"][(x[\"var\"]==\"slopeskrr\")& (x[\"dir\"]==\"yx\")])\n",
    "    hsicz_xy =  onp.array(x[\"value\"][(x[\"var\"]==\"hsicz\")& (x[\"dir\"]==\"xy\")]) \n",
    "    hsicz_yx =  onp.array(x[\"value\"][(x[\"var\"]==\"hsicz\")& (x[\"dir\"]==\"yx\")])\n",
    "    \n",
    "    scr_err = (errs_yx<errs_xy)*-1 + (errs_yx>errs_xy)*1\n",
    "    scr_hsic = (hsic_yx<hsic_xy)*-1 + (hsic_yx>hsic_xy)*1\n",
    "    scr_hsicc = (hsicc_yx<hsicc_xy)*-1 + (hsicc_yx>hsicc_xy)*1\n",
    "    scr_ent = (ent_yx<ent_xy)*-1 + (ent_yx>ent_xy)*1\n",
    "    scr_slope = (slope_yx<slope_xy)*-1 + (slope_yx>slope_xy)*1\n",
    "    scr_slope_krr = (slope_krr_yx<slope_krr_xy)*-1 + (slope_krr_yx>slope_krr_xy)*1\n",
    "    hiscz = (hsicz_yx<hsicz_xy)*1 + (hsicz_yx>hsicz_xy)*-1\n",
    "    \n",
    "    \n",
    "    d = {}\n",
    "    d['errs'] =  onp.mean(scr_err)\n",
    "    d['hsic'] =  onp.mean(scr_hsic)\n",
    "    d['hsicc'] =  onp.mean(scr_hsicc)\n",
    "    d['ent'] =  onp.mean(scr_ent)\n",
    "    d['slope'] =  onp.mean(scr_slope)\n",
    "    d['slope_krr'] =  onp.mean(scr_slope_krr)\n",
    "    d['hsicz'] =  onp.mean(hiscz)\n",
    "    \n",
    "    res = pd.Series(d, index=['errs', 'ent', 'hsic', \"hsicc\",'slope',\"slope_krr\",\"hsicz\"])\n",
    "    \n",
    "    \n",
    "    return res\n",
    "\n",
    "res = df_long_full2.groupby([\"lambda\",\"eta\",\"beta\",\"neta\",\"nu\",\"lu\",'type',\"dataset\"]).apply(aggReps)\n",
    "\n",
    "\n",
    "with pd.option_context('display.max_rows', None, 'display.max_columns', None):  # more options can be specified also\n",
    "    print(res)\n"
   ]
  },
  {
   "cell_type": "code",
   "execution_count": null,
   "metadata": {
    "scrolled": false
   },
   "outputs": [],
   "source": [
    "res = res.reset_index()\n",
    "res.head()"
   ]
  },
  {
   "cell_type": "code",
   "execution_count": null,
   "metadata": {},
   "outputs": [],
   "source": [
    "res_long = pd.melt(res, id_vars=[\"lambda\",\"eta\",\"beta\",\"neta\",\"nu\",\"lu\",\"type\",\"dataset\"])\n",
    "res_long.head()"
   ]
  },
  {
   "cell_type": "code",
   "execution_count": null,
   "metadata": {},
   "outputs": [],
   "source": [
    "def accuracy(x):\n",
    "    return np.sum(x.value>0)/len(x.value)\n",
    "\n",
    "res_acc = res_long.groupby([\"lambda\",\"eta\",\"beta\",\"neta\",\"nu\",\"lu\",\"type\",'variable']).apply(accuracy)\n",
    "\n",
    "\n",
    "with pd.option_context('display.max_rows', None, 'display.max_columns', None):  # more options can be specified also\n",
    "    print(res_acc)\n"
   ]
  },
  {
   "cell_type": "code",
   "execution_count": null,
   "metadata": {},
   "outputs": [],
   "source": [
    "tabAcc = pd.DataFrame(res_acc)\n",
    "tabAcc = tabAcc.reset_index()\n",
    "tabAcc.columns\n",
    "tabAcc = tabAcc.rename(columns={0:\"value\"}, errors=\"raise\")\n",
    "tabAcc.head()"
   ]
  },
  {
   "cell_type": "code",
   "execution_count": null,
   "metadata": {
    "scrolled": false
   },
   "outputs": [],
   "source": [
    "with pd.option_context('display.max_rows', None, 'display.max_columns', None):  # more options can be specified also\n",
    "    print(pd.pivot_table(tabAcc, index=[\"type\", \"lambda\",\"eta\",\"beta\",\"neta\",\"nu\",\"lu\"], columns=[\"variable\"], values=\"value\", aggfunc=onp.sum))\n",
    "\n"
   ]
  }
 ],
 "metadata": {
  "kernelspec": {
   "display_name": "Python 3 (ipykernel)",
   "language": "python",
   "name": "python3"
  },
  "language_info": {
   "codemirror_mode": {
    "name": "ipython",
    "version": 3
   },
   "file_extension": ".py",
   "mimetype": "text/x-python",
   "name": "python",
   "nbconvert_exporter": "python",
   "pygments_lexer": "ipython3",
   "version": "3.7.4"
  }
 },
 "nbformat": 4,
 "nbformat_minor": 2
}
